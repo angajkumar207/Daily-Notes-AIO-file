{
 "cells": [
  {
   "cell_type": "code",
   "execution_count": 1,
   "id": "15f47c2d-8e01-45e0-87d7-7cee46df22f8",
   "metadata": {},
   "outputs": [
    {
     "name": "stdout",
     "output_type": "stream",
     "text": [
      "hello\n"
     ]
    }
   ],
   "source": [
    "print(\"hello\")"
   ]
  },
  {
   "cell_type": "code",
   "execution_count": 2,
   "id": "9043e0b9-4cc5-427e-949b-ae7624585d53",
   "metadata": {},
   "outputs": [],
   "source": [
    "# this code is my check \n",
    "def voter_id(x):\n",
    "    if x < 18:\n",
    "        print(\"not elegible for viter id card \")\n",
    "    if x >= 10 and x < 25:\n",
    "        print(\" yes this man is elegible for voter id card \")\n",
    "    else:\n",
    "        print(\"please input your age\")"
   ]
  },
  {
   "cell_type": "code",
   "execution_count": 6,
   "id": "d506ecd8-9b10-4581-b5db-51049be583c0",
   "metadata": {},
   "outputs": [
    {
     "name": "stdout",
     "output_type": "stream",
     "text": [
      "please input your age\n"
     ]
    }
   ],
   "source": [
    "voter_id(100)"
   ]
  },
  {
   "cell_type": "code",
   "execution_count": 3,
   "id": "36993dde-b003-4a15-b36e-32e9b68a679a",
   "metadata": {},
   "outputs": [],
   "source": [
    "# lets start now.\n",
    "import pandas as pd"
   ]
  },
  {
   "cell_type": "code",
   "execution_count": 4,
   "id": "59d1449d-4d0e-4ec5-afeb-f2f6f0c59b22",
   "metadata": {},
   "outputs": [],
   "source": [
    "df1 = pd.DataFrame({\n",
    "    \"description\": [\"this channel help your carrear boost so upscable. this resorce of free of cost\"]})"
   ]
  },
  {
   "cell_type": "code",
   "execution_count": 5,
   "id": "a7b2ba66-05b1-482e-bae8-eec0bd714c4f",
   "metadata": {},
   "outputs": [
    {
     "data": {
      "text/html": [
       "<div>\n",
       "<style scoped>\n",
       "    .dataframe tbody tr th:only-of-type {\n",
       "        vertical-align: middle;\n",
       "    }\n",
       "\n",
       "    .dataframe tbody tr th {\n",
       "        vertical-align: top;\n",
       "    }\n",
       "\n",
       "    .dataframe thead th {\n",
       "        text-align: right;\n",
       "    }\n",
       "</style>\n",
       "<table border=\"1\" class=\"dataframe\">\n",
       "  <thead>\n",
       "    <tr style=\"text-align: right;\">\n",
       "      <th></th>\n",
       "      <th>description</th>\n",
       "    </tr>\n",
       "  </thead>\n",
       "  <tbody>\n",
       "    <tr>\n",
       "      <th>0</th>\n",
       "      <td>this channel help your carrear boost so upscab...</td>\n",
       "    </tr>\n",
       "  </tbody>\n",
       "</table>\n",
       "</div>"
      ],
      "text/plain": [
       "                                         description\n",
       "0  this channel help your carrear boost so upscab..."
      ]
     },
     "execution_count": 5,
     "metadata": {},
     "output_type": "execute_result"
    }
   ],
   "source": [
    "df1"
   ]
  },
  {
   "cell_type": "code",
   "execution_count": 6,
   "id": "18046f59-0b72-472c-97cf-32a337653437",
   "metadata": {},
   "outputs": [],
   "source": [
    "df1['char_len'] = df1['description'].apply(len)"
   ]
  },
  {
   "cell_type": "code",
   "execution_count": 7,
   "id": "4f836ac2-abd2-4e22-8f61-e880d25a70a8",
   "metadata": {},
   "outputs": [
    {
     "data": {
      "text/html": [
       "<div>\n",
       "<style scoped>\n",
       "    .dataframe tbody tr th:only-of-type {\n",
       "        vertical-align: middle;\n",
       "    }\n",
       "\n",
       "    .dataframe tbody tr th {\n",
       "        vertical-align: top;\n",
       "    }\n",
       "\n",
       "    .dataframe thead th {\n",
       "        text-align: right;\n",
       "    }\n",
       "</style>\n",
       "<table border=\"1\" class=\"dataframe\">\n",
       "  <thead>\n",
       "    <tr style=\"text-align: right;\">\n",
       "      <th></th>\n",
       "      <th>description</th>\n",
       "      <th>char_len</th>\n",
       "    </tr>\n",
       "  </thead>\n",
       "  <tbody>\n",
       "    <tr>\n",
       "      <th>0</th>\n",
       "      <td>this channel help your carrear boost so upscab...</td>\n",
       "      <td>78</td>\n",
       "    </tr>\n",
       "  </tbody>\n",
       "</table>\n",
       "</div>"
      ],
      "text/plain": [
       "                                         description  char_len\n",
       "0  this channel help your carrear boost so upscab...        78"
      ]
     },
     "execution_count": 7,
     "metadata": {},
     "output_type": "execute_result"
    }
   ],
   "source": [
    "df1"
   ]
  },
  {
   "cell_type": "code",
   "execution_count": 8,
   "id": "1dcdd130-7987-43bc-a00e-e710d0d9ab96",
   "metadata": {},
   "outputs": [
    {
     "ename": "ValueError",
     "evalue": "Must provide an even number of non-keyword arguments",
     "output_type": "error",
     "traceback": [
      "\u001b[31m---------------------------------------------------------------------------\u001b[39m",
      "\u001b[31mValueError\u001b[39m                                Traceback (most recent call last)",
      "\u001b[36mCell\u001b[39m\u001b[36m \u001b[39m\u001b[32mIn[8]\u001b[39m\u001b[32m, line 1\u001b[39m\n\u001b[32m----> \u001b[39m\u001b[32m1\u001b[39m pd.set_option()\n",
      "\u001b[36mFile \u001b[39m\u001b[32mC:\\ProgramData\\anaconda3\\Lib\\site-packages\\pandas\\_config\\config.py:274\u001b[39m, in \u001b[36mCallableDynamicDoc.__call__\u001b[39m\u001b[34m(self, *args, **kwds)\u001b[39m\n\u001b[32m    273\u001b[39m \u001b[38;5;28;01mdef\u001b[39;00m \u001b[34m__call__\u001b[39m(\u001b[38;5;28mself\u001b[39m, *args, **kwds) -> T:\n\u001b[32m--> \u001b[39m\u001b[32m274\u001b[39m     \u001b[38;5;28;01mreturn\u001b[39;00m \u001b[38;5;28mself\u001b[39m.\u001b[34m__func__\u001b[39m(*args, **kwds)\n",
      "\u001b[36mFile \u001b[39m\u001b[32mC:\\ProgramData\\anaconda3\\Lib\\site-packages\\pandas\\_config\\config.py:157\u001b[39m, in \u001b[36m_set_option\u001b[39m\u001b[34m(*args, **kwargs)\u001b[39m\n\u001b[32m    155\u001b[39m nargs = \u001b[38;5;28mlen\u001b[39m(args)\n\u001b[32m    156\u001b[39m \u001b[38;5;28;01mif\u001b[39;00m \u001b[38;5;129;01mnot\u001b[39;00m nargs \u001b[38;5;129;01mor\u001b[39;00m nargs % \u001b[32m2\u001b[39m != \u001b[32m0\u001b[39m:\n\u001b[32m--> \u001b[39m\u001b[32m157\u001b[39m     \u001b[38;5;28;01mraise\u001b[39;00m \u001b[38;5;167;01mValueError\u001b[39;00m(\u001b[33m\"\u001b[39m\u001b[33mMust provide an even number of non-keyword arguments\u001b[39m\u001b[33m\"\u001b[39m)\n\u001b[32m    159\u001b[39m \u001b[38;5;66;03m# default to false\u001b[39;00m\n\u001b[32m    160\u001b[39m silent = kwargs.pop(\u001b[33m\"\u001b[39m\u001b[33msilent\u001b[39m\u001b[33m\"\u001b[39m, \u001b[38;5;28;01mFalse\u001b[39;00m)\n",
      "\u001b[31mValueError\u001b[39m: Must provide an even number of non-keyword arguments"
     ]
    }
   ],
   "source": [
    "pd.set_option()"
   ]
  },
  {
   "cell_type": "code",
   "execution_count": 8,
   "id": "f2295784-3ce7-4310-8e1a-e08ac2d644a8",
   "metadata": {},
   "outputs": [
    {
     "data": {
      "text/plain": [
       "17"
      ]
     },
     "execution_count": 8,
     "metadata": {},
     "output_type": "execute_result"
    }
   ],
   "source": [
    "a = \" I am angaj kumar\"\n",
    "len(a)"
   ]
  },
  {
   "cell_type": "code",
   "execution_count": 10,
   "id": "b11dde5d-9df3-422a-86df-44ab1375003e",
   "metadata": {},
   "outputs": [
    {
     "data": {
      "text/plain": [
       "['I', 'am', 'angaj', 'kumar']"
      ]
     },
     "execution_count": 10,
     "metadata": {},
     "output_type": "execute_result"
    }
   ],
   "source": [
    "a.split() # read word numbers"
   ]
  },
  {
   "cell_type": "code",
   "execution_count": 42,
   "id": "9327a92b-54e3-4b4b-a345-9d128e2e696b",
   "metadata": {},
   "outputs": [
    {
     "data": {
      "text/plain": [
       "4"
      ]
     },
     "execution_count": 42,
     "metadata": {},
     "output_type": "execute_result"
    }
   ],
   "source": [
    "len(a.split())"
   ]
  },
  {
   "cell_type": "code",
   "execution_count": 65,
   "id": "d57b8b09-421f-4f6d-9c6c-4031f60eeb27",
   "metadata": {},
   "outputs": [],
   "source": [
    "df1[\"word_count\"] = df1[\"description\"].apply(lambda x: len(x.split()))"
   ]
  },
  {
   "cell_type": "code",
   "execution_count": 67,
   "id": "1645a02c-5408-464f-bf74-69f0cbd1780d",
   "metadata": {},
   "outputs": [
    {
     "data": {
      "text/html": [
       "<div>\n",
       "<style scoped>\n",
       "    .dataframe tbody tr th:only-of-type {\n",
       "        vertical-align: middle;\n",
       "    }\n",
       "\n",
       "    .dataframe tbody tr th {\n",
       "        vertical-align: top;\n",
       "    }\n",
       "\n",
       "    .dataframe thead th {\n",
       "        text-align: right;\n",
       "    }\n",
       "</style>\n",
       "<table border=\"1\" class=\"dataframe\">\n",
       "  <thead>\n",
       "    <tr style=\"text-align: right;\">\n",
       "      <th></th>\n",
       "      <th>description</th>\n",
       "      <th>char_len</th>\n",
       "      <th>word_count</th>\n",
       "    </tr>\n",
       "  </thead>\n",
       "  <tbody>\n",
       "    <tr>\n",
       "      <th>0</th>\n",
       "      <td>this channel help your carrear boost so upscab...</td>\n",
       "      <td>78</td>\n",
       "      <td>14</td>\n",
       "    </tr>\n",
       "  </tbody>\n",
       "</table>\n",
       "</div>"
      ],
      "text/plain": [
       "                                         description  char_len  word_count\n",
       "0  this channel help your carrear boost so upscab...        78          14"
      ]
     },
     "execution_count": 67,
     "metadata": {},
     "output_type": "execute_result"
    }
   ],
   "source": [
    "df1"
   ]
  },
  {
   "cell_type": "code",
   "execution_count": 10,
   "id": "0fad0d44-b7e6-46aa-beb2-a498fac4db28",
   "metadata": {},
   "outputs": [],
   "source": [
    "Data = {\n",
    "    \"text\": [\"Hello Data science\", \"I LOVE ml\", \"I read ml books\"]\n",
    "}"
   ]
  },
  {
   "cell_type": "code",
   "execution_count": 11,
   "id": "94fc95f3-f7f9-4c5a-9cd3-d2aaaba7e6dc",
   "metadata": {},
   "outputs": [],
   "source": [
    "a = pd.DataFrame(Data)"
   ]
  },
  {
   "cell_type": "code",
   "execution_count": 12,
   "id": "01eb80b9-36a8-4426-97c2-1d2d59cf5e2b",
   "metadata": {},
   "outputs": [
    {
     "data": {
      "text/html": [
       "<div>\n",
       "<style scoped>\n",
       "    .dataframe tbody tr th:only-of-type {\n",
       "        vertical-align: middle;\n",
       "    }\n",
       "\n",
       "    .dataframe tbody tr th {\n",
       "        vertical-align: top;\n",
       "    }\n",
       "\n",
       "    .dataframe thead th {\n",
       "        text-align: right;\n",
       "    }\n",
       "</style>\n",
       "<table border=\"1\" class=\"dataframe\">\n",
       "  <thead>\n",
       "    <tr style=\"text-align: right;\">\n",
       "      <th></th>\n",
       "      <th>text</th>\n",
       "    </tr>\n",
       "  </thead>\n",
       "  <tbody>\n",
       "    <tr>\n",
       "      <th>0</th>\n",
       "      <td>Hello Data science</td>\n",
       "    </tr>\n",
       "    <tr>\n",
       "      <th>1</th>\n",
       "      <td>I LOVE ml</td>\n",
       "    </tr>\n",
       "    <tr>\n",
       "      <th>2</th>\n",
       "      <td>I read ml books</td>\n",
       "    </tr>\n",
       "  </tbody>\n",
       "</table>\n",
       "</div>"
      ],
      "text/plain": [
       "                 text\n",
       "0  Hello Data science\n",
       "1           I LOVE ml\n",
       "2     I read ml books"
      ]
     },
     "execution_count": 12,
     "metadata": {},
     "output_type": "execute_result"
    }
   ],
   "source": [
    "a"
   ]
  },
  {
   "cell_type": "code",
   "execution_count": 13,
   "id": "6dce4bcf-9e87-4dce-8ad2-921f7cc4135b",
   "metadata": {},
   "outputs": [],
   "source": [
    "a['text_lower']  = a['text'].str.lower() #convert capital to small latter all word"
   ]
  },
  {
   "cell_type": "code",
   "execution_count": 14,
   "id": "d2b394d3-d803-498f-a99b-4db80f1c3ef6",
   "metadata": {},
   "outputs": [
    {
     "data": {
      "text/html": [
       "<div>\n",
       "<style scoped>\n",
       "    .dataframe tbody tr th:only-of-type {\n",
       "        vertical-align: middle;\n",
       "    }\n",
       "\n",
       "    .dataframe tbody tr th {\n",
       "        vertical-align: top;\n",
       "    }\n",
       "\n",
       "    .dataframe thead th {\n",
       "        text-align: right;\n",
       "    }\n",
       "</style>\n",
       "<table border=\"1\" class=\"dataframe\">\n",
       "  <thead>\n",
       "    <tr style=\"text-align: right;\">\n",
       "      <th></th>\n",
       "      <th>text</th>\n",
       "      <th>text_lower</th>\n",
       "    </tr>\n",
       "  </thead>\n",
       "  <tbody>\n",
       "    <tr>\n",
       "      <th>0</th>\n",
       "      <td>Hello Data science</td>\n",
       "      <td>hello data science</td>\n",
       "    </tr>\n",
       "    <tr>\n",
       "      <th>1</th>\n",
       "      <td>I LOVE ml</td>\n",
       "      <td>i love ml</td>\n",
       "    </tr>\n",
       "    <tr>\n",
       "      <th>2</th>\n",
       "      <td>I read ml books</td>\n",
       "      <td>i read ml books</td>\n",
       "    </tr>\n",
       "  </tbody>\n",
       "</table>\n",
       "</div>"
      ],
      "text/plain": [
       "                 text          text_lower\n",
       "0  Hello Data science  hello data science\n",
       "1           I LOVE ml           i love ml\n",
       "2     I read ml books     i read ml books"
      ]
     },
     "execution_count": 14,
     "metadata": {},
     "output_type": "execute_result"
    }
   ],
   "source": [
    "a"
   ]
  },
  {
   "cell_type": "code",
   "execution_count": 15,
   "id": "98e145df-72ea-4e7f-816f-c225b5279e5e",
   "metadata": {},
   "outputs": [],
   "source": [
    "a['text_upper']  = a['text'].str.upper() #convert all small latter(word) into the capital word"
   ]
  },
  {
   "cell_type": "code",
   "execution_count": 16,
   "id": "a6f76213-d5c6-41bd-a42f-f2b587035d27",
   "metadata": {},
   "outputs": [
    {
     "data": {
      "text/html": [
       "<div>\n",
       "<style scoped>\n",
       "    .dataframe tbody tr th:only-of-type {\n",
       "        vertical-align: middle;\n",
       "    }\n",
       "\n",
       "    .dataframe tbody tr th {\n",
       "        vertical-align: top;\n",
       "    }\n",
       "\n",
       "    .dataframe thead th {\n",
       "        text-align: right;\n",
       "    }\n",
       "</style>\n",
       "<table border=\"1\" class=\"dataframe\">\n",
       "  <thead>\n",
       "    <tr style=\"text-align: right;\">\n",
       "      <th></th>\n",
       "      <th>text</th>\n",
       "      <th>text_lower</th>\n",
       "      <th>text_upper</th>\n",
       "    </tr>\n",
       "  </thead>\n",
       "  <tbody>\n",
       "    <tr>\n",
       "      <th>0</th>\n",
       "      <td>Hello Data science</td>\n",
       "      <td>hello data science</td>\n",
       "      <td>HELLO DATA SCIENCE</td>\n",
       "    </tr>\n",
       "    <tr>\n",
       "      <th>1</th>\n",
       "      <td>I LOVE ml</td>\n",
       "      <td>i love ml</td>\n",
       "      <td>I LOVE ML</td>\n",
       "    </tr>\n",
       "    <tr>\n",
       "      <th>2</th>\n",
       "      <td>I read ml books</td>\n",
       "      <td>i read ml books</td>\n",
       "      <td>I READ ML BOOKS</td>\n",
       "    </tr>\n",
       "  </tbody>\n",
       "</table>\n",
       "</div>"
      ],
      "text/plain": [
       "                 text          text_lower          text_upper\n",
       "0  Hello Data science  hello data science  HELLO DATA SCIENCE\n",
       "1           I LOVE ml           i love ml           I LOVE ML\n",
       "2     I read ml books     i read ml books     I READ ML BOOKS"
      ]
     },
     "execution_count": 16,
     "metadata": {},
     "output_type": "execute_result"
    }
   ],
   "source": [
    "a"
   ]
  },
  {
   "cell_type": "code",
   "execution_count": 23,
   "id": "ea9be272-b8bb-4817-89ab-86fcf27f7cfc",
   "metadata": {},
   "outputs": [
    {
     "data": {
      "text/plain": [
       "False"
      ]
     },
     "execution_count": 23,
     "metadata": {},
     "output_type": "execute_result"
    }
   ],
   "source": [
    "# True and false\n",
    "a['text'][0].startswith('H')\n",
    "a['text'][0].startswith('h')\n",
    "a['text'][1].startswith('H')"
   ]
  },
  {
   "cell_type": "code",
   "execution_count": 24,
   "id": "df66fd3a-7512-4ac2-bcd0-921d8ef6986a",
   "metadata": {},
   "outputs": [],
   "source": [
    "df1 = pd.DataFrame({\n",
    "    'a': [1, 2, 3, 4],\n",
    "    'b': [5, 6, 6, 8]\n",
    "})"
   ]
  },
  {
   "cell_type": "code",
   "execution_count": 116,
   "id": "63b79909-8f46-4cd2-b31a-eb11c91de822",
   "metadata": {},
   "outputs": [
    {
     "data": {
      "text/html": [
       "<div>\n",
       "<style scoped>\n",
       "    .dataframe tbody tr th:only-of-type {\n",
       "        vertical-align: middle;\n",
       "    }\n",
       "\n",
       "    .dataframe tbody tr th {\n",
       "        vertical-align: top;\n",
       "    }\n",
       "\n",
       "    .dataframe thead th {\n",
       "        text-align: right;\n",
       "    }\n",
       "</style>\n",
       "<table border=\"1\" class=\"dataframe\">\n",
       "  <thead>\n",
       "    <tr style=\"text-align: right;\">\n",
       "      <th></th>\n",
       "      <th>a</th>\n",
       "      <th>b</th>\n",
       "    </tr>\n",
       "  </thead>\n",
       "  <tbody>\n",
       "    <tr>\n",
       "      <th>0</th>\n",
       "      <td>1</td>\n",
       "      <td>5</td>\n",
       "    </tr>\n",
       "    <tr>\n",
       "      <th>1</th>\n",
       "      <td>2</td>\n",
       "      <td>6</td>\n",
       "    </tr>\n",
       "    <tr>\n",
       "      <th>2</th>\n",
       "      <td>3</td>\n",
       "      <td>6</td>\n",
       "    </tr>\n",
       "    <tr>\n",
       "      <th>3</th>\n",
       "      <td>4</td>\n",
       "      <td>8</td>\n",
       "    </tr>\n",
       "  </tbody>\n",
       "</table>\n",
       "</div>"
      ],
      "text/plain": [
       "   a  b\n",
       "0  1  5\n",
       "1  2  6\n",
       "2  3  6\n",
       "3  4  8"
      ]
     },
     "execution_count": 116,
     "metadata": {},
     "output_type": "execute_result"
    }
   ],
   "source": [
    "df1"
   ]
  },
  {
   "cell_type": "code",
   "execution_count": 118,
   "id": "e3d7ba2c-021e-4da8-a867-cbed35e0e2ec",
   "metadata": {},
   "outputs": [
    {
     "data": {
      "text/plain": [
       "0    1\n",
       "1    2\n",
       "2    3\n",
       "3    4\n",
       "Name: a, dtype: int64"
      ]
     },
     "execution_count": 118,
     "metadata": {},
     "output_type": "execute_result"
    }
   ],
   "source": [
    "df1['a']"
   ]
  },
  {
   "cell_type": "code",
   "execution_count": 120,
   "id": "02a71b6b-e595-4c12-b38f-d60646bf81e2",
   "metadata": {},
   "outputs": [
    {
     "data": {
      "text/plain": [
       "0     5\n",
       "1    10\n",
       "2    15\n",
       "3    20\n",
       "Name: a, dtype: int64"
      ]
     },
     "execution_count": 120,
     "metadata": {},
     "output_type": "execute_result"
    }
   ],
   "source": [
    "df1['a'] * 5"
   ]
  },
  {
   "cell_type": "code",
   "execution_count": 121,
   "id": "9fe96419-7770-4e37-8dbb-1980f4d30996",
   "metadata": {},
   "outputs": [],
   "source": [
    "df1['multi_a'] = df1['a'] * 5"
   ]
  },
  {
   "cell_type": "code",
   "execution_count": 122,
   "id": "135f2867-5b33-4e1f-890f-f799815832bb",
   "metadata": {},
   "outputs": [
    {
     "data": {
      "text/html": [
       "<div>\n",
       "<style scoped>\n",
       "    .dataframe tbody tr th:only-of-type {\n",
       "        vertical-align: middle;\n",
       "    }\n",
       "\n",
       "    .dataframe tbody tr th {\n",
       "        vertical-align: top;\n",
       "    }\n",
       "\n",
       "    .dataframe thead th {\n",
       "        text-align: right;\n",
       "    }\n",
       "</style>\n",
       "<table border=\"1\" class=\"dataframe\">\n",
       "  <thead>\n",
       "    <tr style=\"text-align: right;\">\n",
       "      <th></th>\n",
       "      <th>a</th>\n",
       "      <th>b</th>\n",
       "      <th>multi_a</th>\n",
       "    </tr>\n",
       "  </thead>\n",
       "  <tbody>\n",
       "    <tr>\n",
       "      <th>0</th>\n",
       "      <td>1</td>\n",
       "      <td>5</td>\n",
       "      <td>5</td>\n",
       "    </tr>\n",
       "    <tr>\n",
       "      <th>1</th>\n",
       "      <td>2</td>\n",
       "      <td>6</td>\n",
       "      <td>10</td>\n",
       "    </tr>\n",
       "    <tr>\n",
       "      <th>2</th>\n",
       "      <td>3</td>\n",
       "      <td>6</td>\n",
       "      <td>15</td>\n",
       "    </tr>\n",
       "    <tr>\n",
       "      <th>3</th>\n",
       "      <td>4</td>\n",
       "      <td>8</td>\n",
       "      <td>20</td>\n",
       "    </tr>\n",
       "  </tbody>\n",
       "</table>\n",
       "</div>"
      ],
      "text/plain": [
       "   a  b  multi_a\n",
       "0  1  5        5\n",
       "1  2  6       10\n",
       "2  3  6       15\n",
       "3  4  8       20"
      ]
     },
     "execution_count": 122,
     "metadata": {},
     "output_type": "execute_result"
    }
   ],
   "source": [
    "df1"
   ]
  },
  {
   "cell_type": "code",
   "execution_count": 123,
   "id": "0d44562b-f967-4986-9b6d-8fce637debf2",
   "metadata": {},
   "outputs": [
    {
     "data": {
      "text/plain": [
       "2.5"
      ]
     },
     "execution_count": 123,
     "metadata": {},
     "output_type": "execute_result"
    }
   ],
   "source": [
    "df1.a.mean()"
   ]
  },
  {
   "cell_type": "code",
   "execution_count": 124,
   "id": "a0236204-cbc6-42fe-8632-73e9042b7258",
   "metadata": {},
   "outputs": [
    {
     "data": {
      "text/plain": [
       "2.5"
      ]
     },
     "execution_count": 124,
     "metadata": {},
     "output_type": "execute_result"
    }
   ],
   "source": [
    "df1.a.median()"
   ]
  },
  {
   "cell_type": "code",
   "execution_count": 127,
   "id": "aa9f18af-ffc3-4b74-b444-ef1872d5c36b",
   "metadata": {},
   "outputs": [
    {
     "data": {
      "text/plain": [
       "0    1\n",
       "1    2\n",
       "2    3\n",
       "3    4\n",
       "Name: a, dtype: int64"
      ]
     },
     "execution_count": 127,
     "metadata": {},
     "output_type": "execute_result"
    }
   ],
   "source": [
    "df1.a.mode()"
   ]
  },
  {
   "cell_type": "code",
   "execution_count": 129,
   "id": "6dda662b-8e31-4934-aacd-522ca5a1f5db",
   "metadata": {},
   "outputs": [
    {
     "data": {
      "text/plain": [
       "4"
      ]
     },
     "execution_count": 129,
     "metadata": {},
     "output_type": "execute_result"
    }
   ],
   "source": [
    "df1.a.min()\n",
    "df1.a.max()"
   ]
  },
  {
   "cell_type": "code",
   "execution_count": 131,
   "id": "873bc0f5-adb0-4ef0-840e-ed132d5bacfb",
   "metadata": {},
   "outputs": [
    {
     "data": {
      "text/plain": [
       "8"
      ]
     },
     "execution_count": 131,
     "metadata": {},
     "output_type": "execute_result"
    }
   ],
   "source": [
    "df1.b.min()\n",
    "df1.b.max()"
   ]
  },
  {
   "cell_type": "code",
   "execution_count": 132,
   "id": "c2603c3c-50bf-48d1-90fa-ce5242035e1b",
   "metadata": {},
   "outputs": [
    {
     "data": {
      "text/html": [
       "<div>\n",
       "<style scoped>\n",
       "    .dataframe tbody tr th:only-of-type {\n",
       "        vertical-align: middle;\n",
       "    }\n",
       "\n",
       "    .dataframe tbody tr th {\n",
       "        vertical-align: top;\n",
       "    }\n",
       "\n",
       "    .dataframe thead th {\n",
       "        text-align: right;\n",
       "    }\n",
       "</style>\n",
       "<table border=\"1\" class=\"dataframe\">\n",
       "  <thead>\n",
       "    <tr style=\"text-align: right;\">\n",
       "      <th></th>\n",
       "      <th>a</th>\n",
       "      <th>b</th>\n",
       "      <th>multi_a</th>\n",
       "    </tr>\n",
       "  </thead>\n",
       "  <tbody>\n",
       "    <tr>\n",
       "      <th>0</th>\n",
       "      <td>1</td>\n",
       "      <td>5</td>\n",
       "      <td>5</td>\n",
       "    </tr>\n",
       "    <tr>\n",
       "      <th>1</th>\n",
       "      <td>2</td>\n",
       "      <td>6</td>\n",
       "      <td>10</td>\n",
       "    </tr>\n",
       "    <tr>\n",
       "      <th>2</th>\n",
       "      <td>3</td>\n",
       "      <td>6</td>\n",
       "      <td>15</td>\n",
       "    </tr>\n",
       "    <tr>\n",
       "      <th>3</th>\n",
       "      <td>4</td>\n",
       "      <td>8</td>\n",
       "      <td>20</td>\n",
       "    </tr>\n",
       "  </tbody>\n",
       "</table>\n",
       "</div>"
      ],
      "text/plain": [
       "   a  b  multi_a\n",
       "0  1  5        5\n",
       "1  2  6       10\n",
       "2  3  6       15\n",
       "3  4  8       20"
      ]
     },
     "execution_count": 132,
     "metadata": {},
     "output_type": "execute_result"
    }
   ],
   "source": [
    "df1"
   ]
  },
  {
   "cell_type": "code",
   "execution_count": 144,
   "id": "c28bfc79-163e-4b73-b957-cb988c57d3c2",
   "metadata": {},
   "outputs": [
    {
     "data": {
      "text/plain": [
       "50"
      ]
     },
     "execution_count": 144,
     "metadata": {},
     "output_type": "execute_result"
    }
   ],
   "source": [
    "df1.a.sum()\n",
    "df1.b.sum()\n",
    "df1.multi_a.sum()"
   ]
  },
  {
   "cell_type": "code",
   "execution_count": 145,
   "id": "7f074c74-8807-497a-860b-1ac9e5d2ad7b",
   "metadata": {},
   "outputs": [
    {
     "data": {
      "text/plain": [
       "1.6666666666666667"
      ]
     },
     "execution_count": 145,
     "metadata": {},
     "output_type": "execute_result"
    }
   ],
   "source": [
    "df1.a.var()"
   ]
  },
  {
   "cell_type": "code",
   "execution_count": 146,
   "id": "f7215f79-f858-4595-ab31-774ec7154f3b",
   "metadata": {},
   "outputs": [
    {
     "data": {
      "text/plain": [
       "count    4.000000\n",
       "mean     2.500000\n",
       "std      1.290994\n",
       "min      1.000000\n",
       "25%      1.750000\n",
       "50%      2.500000\n",
       "75%      3.250000\n",
       "max      4.000000\n",
       "Name: a, dtype: float64"
      ]
     },
     "execution_count": 146,
     "metadata": {},
     "output_type": "execute_result"
    }
   ],
   "source": [
    "df1.a.describe()"
   ]
  },
  {
   "cell_type": "code",
   "execution_count": 149,
   "id": "1527bc52-4779-4333-8d08-3f4af74f07db",
   "metadata": {},
   "outputs": [],
   "source": [
    "df2 = pd.DataFrame({\n",
    "    'a': [1, 2, 3, 4, 5, 6, 7, 8, 9]\n",
    "})"
   ]
  },
  {
   "cell_type": "code",
   "execution_count": 150,
   "id": "c9a42b93-6073-40f4-9dcb-56a4dbe0af7b",
   "metadata": {},
   "outputs": [
    {
     "data": {
      "text/html": [
       "<div>\n",
       "<style scoped>\n",
       "    .dataframe tbody tr th:only-of-type {\n",
       "        vertical-align: middle;\n",
       "    }\n",
       "\n",
       "    .dataframe tbody tr th {\n",
       "        vertical-align: top;\n",
       "    }\n",
       "\n",
       "    .dataframe thead th {\n",
       "        text-align: right;\n",
       "    }\n",
       "</style>\n",
       "<table border=\"1\" class=\"dataframe\">\n",
       "  <thead>\n",
       "    <tr style=\"text-align: right;\">\n",
       "      <th></th>\n",
       "      <th>a</th>\n",
       "    </tr>\n",
       "  </thead>\n",
       "  <tbody>\n",
       "    <tr>\n",
       "      <th>0</th>\n",
       "      <td>1</td>\n",
       "    </tr>\n",
       "    <tr>\n",
       "      <th>1</th>\n",
       "      <td>2</td>\n",
       "    </tr>\n",
       "    <tr>\n",
       "      <th>2</th>\n",
       "      <td>3</td>\n",
       "    </tr>\n",
       "    <tr>\n",
       "      <th>3</th>\n",
       "      <td>4</td>\n",
       "    </tr>\n",
       "    <tr>\n",
       "      <th>4</th>\n",
       "      <td>5</td>\n",
       "    </tr>\n",
       "    <tr>\n",
       "      <th>5</th>\n",
       "      <td>6</td>\n",
       "    </tr>\n",
       "    <tr>\n",
       "      <th>6</th>\n",
       "      <td>7</td>\n",
       "    </tr>\n",
       "    <tr>\n",
       "      <th>7</th>\n",
       "      <td>8</td>\n",
       "    </tr>\n",
       "    <tr>\n",
       "      <th>8</th>\n",
       "      <td>9</td>\n",
       "    </tr>\n",
       "  </tbody>\n",
       "</table>\n",
       "</div>"
      ],
      "text/plain": [
       "   a\n",
       "0  1\n",
       "1  2\n",
       "2  3\n",
       "3  4\n",
       "4  5\n",
       "5  6\n",
       "6  7\n",
       "7  8\n",
       "8  9"
      ]
     },
     "execution_count": 150,
     "metadata": {},
     "output_type": "execute_result"
    }
   ],
   "source": [
    "df2"
   ]
  },
  {
   "cell_type": "code",
   "execution_count": 152,
   "id": "3d85eef4-2ce0-4fe2-8a49-1862a0f6acff",
   "metadata": {},
   "outputs": [
    {
     "data": {
      "text/plain": [
       "5.0"
      ]
     },
     "execution_count": 152,
     "metadata": {},
     "output_type": "execute_result"
    }
   ],
   "source": [
    "df2.a.mean()"
   ]
  },
  {
   "cell_type": "code",
   "execution_count": 153,
   "id": "6581fba0-3d76-4d98-b7ff-253b26e64e19",
   "metadata": {},
   "outputs": [
    {
     "data": {
      "text/html": [
       "<div>\n",
       "<style scoped>\n",
       "    .dataframe tbody tr th:only-of-type {\n",
       "        vertical-align: middle;\n",
       "    }\n",
       "\n",
       "    .dataframe tbody tr th {\n",
       "        vertical-align: top;\n",
       "    }\n",
       "\n",
       "    .dataframe thead th {\n",
       "        text-align: right;\n",
       "    }\n",
       "</style>\n",
       "<table border=\"1\" class=\"dataframe\">\n",
       "  <thead>\n",
       "    <tr style=\"text-align: right;\">\n",
       "      <th></th>\n",
       "      <th>a</th>\n",
       "    </tr>\n",
       "  </thead>\n",
       "  <tbody>\n",
       "    <tr>\n",
       "      <th>0</th>\n",
       "      <td>1.0</td>\n",
       "    </tr>\n",
       "    <tr>\n",
       "      <th>1</th>\n",
       "      <td>2.0</td>\n",
       "    </tr>\n",
       "    <tr>\n",
       "      <th>2</th>\n",
       "      <td>3.0</td>\n",
       "    </tr>\n",
       "    <tr>\n",
       "      <th>3</th>\n",
       "      <td>4.0</td>\n",
       "    </tr>\n",
       "    <tr>\n",
       "      <th>4</th>\n",
       "      <td>5.0</td>\n",
       "    </tr>\n",
       "    <tr>\n",
       "      <th>5</th>\n",
       "      <td>6.0</td>\n",
       "    </tr>\n",
       "    <tr>\n",
       "      <th>6</th>\n",
       "      <td>7.0</td>\n",
       "    </tr>\n",
       "    <tr>\n",
       "      <th>7</th>\n",
       "      <td>8.0</td>\n",
       "    </tr>\n",
       "    <tr>\n",
       "      <th>8</th>\n",
       "      <td>9.0</td>\n",
       "    </tr>\n",
       "  </tbody>\n",
       "</table>\n",
       "</div>"
      ],
      "text/plain": [
       "     a\n",
       "0  1.0\n",
       "1  2.0\n",
       "2  3.0\n",
       "3  4.0\n",
       "4  5.0\n",
       "5  6.0\n",
       "6  7.0\n",
       "7  8.0\n",
       "8  9.0"
      ]
     },
     "execution_count": 153,
     "metadata": {},
     "output_type": "execute_result"
    }
   ],
   "source": [
    "df2.rolling(window = 1).mean()"
   ]
  },
  {
   "cell_type": "code",
   "execution_count": 154,
   "id": "dd3a0e89-a171-4324-a61a-14dde3ef5c5f",
   "metadata": {},
   "outputs": [
    {
     "data": {
      "text/html": [
       "<div>\n",
       "<style scoped>\n",
       "    .dataframe tbody tr th:only-of-type {\n",
       "        vertical-align: middle;\n",
       "    }\n",
       "\n",
       "    .dataframe tbody tr th {\n",
       "        vertical-align: top;\n",
       "    }\n",
       "\n",
       "    .dataframe thead th {\n",
       "        text-align: right;\n",
       "    }\n",
       "</style>\n",
       "<table border=\"1\" class=\"dataframe\">\n",
       "  <thead>\n",
       "    <tr style=\"text-align: right;\">\n",
       "      <th></th>\n",
       "      <th>a</th>\n",
       "    </tr>\n",
       "  </thead>\n",
       "  <tbody>\n",
       "    <tr>\n",
       "      <th>0</th>\n",
       "      <td>NaN</td>\n",
       "    </tr>\n",
       "    <tr>\n",
       "      <th>1</th>\n",
       "      <td>1.5</td>\n",
       "    </tr>\n",
       "    <tr>\n",
       "      <th>2</th>\n",
       "      <td>2.5</td>\n",
       "    </tr>\n",
       "    <tr>\n",
       "      <th>3</th>\n",
       "      <td>3.5</td>\n",
       "    </tr>\n",
       "    <tr>\n",
       "      <th>4</th>\n",
       "      <td>4.5</td>\n",
       "    </tr>\n",
       "    <tr>\n",
       "      <th>5</th>\n",
       "      <td>5.5</td>\n",
       "    </tr>\n",
       "    <tr>\n",
       "      <th>6</th>\n",
       "      <td>6.5</td>\n",
       "    </tr>\n",
       "    <tr>\n",
       "      <th>7</th>\n",
       "      <td>7.5</td>\n",
       "    </tr>\n",
       "    <tr>\n",
       "      <th>8</th>\n",
       "      <td>8.5</td>\n",
       "    </tr>\n",
       "  </tbody>\n",
       "</table>\n",
       "</div>"
      ],
      "text/plain": [
       "     a\n",
       "0  NaN\n",
       "1  1.5\n",
       "2  2.5\n",
       "3  3.5\n",
       "4  4.5\n",
       "5  5.5\n",
       "6  6.5\n",
       "7  7.5\n",
       "8  8.5"
      ]
     },
     "execution_count": 154,
     "metadata": {},
     "output_type": "execute_result"
    }
   ],
   "source": [
    "df2.rolling(window = 2).mean()"
   ]
  },
  {
   "cell_type": "code",
   "execution_count": 164,
   "id": "8dc8739b-5dc5-4f91-bc2b-e0b15622d895",
   "metadata": {},
   "outputs": [],
   "source": [
    "df3 = df2.rolling(window = 3).mean()"
   ]
  },
  {
   "cell_type": "code",
   "execution_count": 165,
   "id": "49c70f07-e173-468a-8617-e2211487a037",
   "metadata": {},
   "outputs": [
    {
     "data": {
      "text/html": [
       "<div>\n",
       "<style scoped>\n",
       "    .dataframe tbody tr th:only-of-type {\n",
       "        vertical-align: middle;\n",
       "    }\n",
       "\n",
       "    .dataframe tbody tr th {\n",
       "        vertical-align: top;\n",
       "    }\n",
       "\n",
       "    .dataframe thead th {\n",
       "        text-align: right;\n",
       "    }\n",
       "</style>\n",
       "<table border=\"1\" class=\"dataframe\">\n",
       "  <thead>\n",
       "    <tr style=\"text-align: right;\">\n",
       "      <th></th>\n",
       "      <th>a</th>\n",
       "    </tr>\n",
       "  </thead>\n",
       "  <tbody>\n",
       "    <tr>\n",
       "      <th>0</th>\n",
       "      <td>NaN</td>\n",
       "    </tr>\n",
       "    <tr>\n",
       "      <th>1</th>\n",
       "      <td>NaN</td>\n",
       "    </tr>\n",
       "    <tr>\n",
       "      <th>2</th>\n",
       "      <td>2.0</td>\n",
       "    </tr>\n",
       "    <tr>\n",
       "      <th>3</th>\n",
       "      <td>3.0</td>\n",
       "    </tr>\n",
       "    <tr>\n",
       "      <th>4</th>\n",
       "      <td>4.0</td>\n",
       "    </tr>\n",
       "    <tr>\n",
       "      <th>5</th>\n",
       "      <td>5.0</td>\n",
       "    </tr>\n",
       "    <tr>\n",
       "      <th>6</th>\n",
       "      <td>6.0</td>\n",
       "    </tr>\n",
       "    <tr>\n",
       "      <th>7</th>\n",
       "      <td>7.0</td>\n",
       "    </tr>\n",
       "    <tr>\n",
       "      <th>8</th>\n",
       "      <td>8.0</td>\n",
       "    </tr>\n",
       "  </tbody>\n",
       "</table>\n",
       "</div>"
      ],
      "text/plain": [
       "     a\n",
       "0  NaN\n",
       "1  NaN\n",
       "2  2.0\n",
       "3  3.0\n",
       "4  4.0\n",
       "5  5.0\n",
       "6  6.0\n",
       "7  7.0\n",
       "8  8.0"
      ]
     },
     "execution_count": 165,
     "metadata": {},
     "output_type": "execute_result"
    }
   ],
   "source": [
    "df3"
   ]
  },
  {
   "cell_type": "code",
   "execution_count": 167,
   "id": "4f6a79db-beba-42a8-b34e-2834d6db048c",
   "metadata": {},
   "outputs": [],
   "source": [
    "df3.dropna(inplace = True)"
   ]
  },
  {
   "cell_type": "code",
   "execution_count": 168,
   "id": "6ba1759f-d224-46e2-aaba-2d9b0b89e485",
   "metadata": {},
   "outputs": [
    {
     "data": {
      "text/html": [
       "<div>\n",
       "<style scoped>\n",
       "    .dataframe tbody tr th:only-of-type {\n",
       "        vertical-align: middle;\n",
       "    }\n",
       "\n",
       "    .dataframe tbody tr th {\n",
       "        vertical-align: top;\n",
       "    }\n",
       "\n",
       "    .dataframe thead th {\n",
       "        text-align: right;\n",
       "    }\n",
       "</style>\n",
       "<table border=\"1\" class=\"dataframe\">\n",
       "  <thead>\n",
       "    <tr style=\"text-align: right;\">\n",
       "      <th></th>\n",
       "      <th>a</th>\n",
       "    </tr>\n",
       "  </thead>\n",
       "  <tbody>\n",
       "    <tr>\n",
       "      <th>2</th>\n",
       "      <td>2.0</td>\n",
       "    </tr>\n",
       "    <tr>\n",
       "      <th>3</th>\n",
       "      <td>3.0</td>\n",
       "    </tr>\n",
       "    <tr>\n",
       "      <th>4</th>\n",
       "      <td>4.0</td>\n",
       "    </tr>\n",
       "    <tr>\n",
       "      <th>5</th>\n",
       "      <td>5.0</td>\n",
       "    </tr>\n",
       "    <tr>\n",
       "      <th>6</th>\n",
       "      <td>6.0</td>\n",
       "    </tr>\n",
       "    <tr>\n",
       "      <th>7</th>\n",
       "      <td>7.0</td>\n",
       "    </tr>\n",
       "    <tr>\n",
       "      <th>8</th>\n",
       "      <td>8.0</td>\n",
       "    </tr>\n",
       "  </tbody>\n",
       "</table>\n",
       "</div>"
      ],
      "text/plain": [
       "     a\n",
       "2  2.0\n",
       "3  3.0\n",
       "4  4.0\n",
       "5  5.0\n",
       "6  6.0\n",
       "7  7.0\n",
       "8  8.0"
      ]
     },
     "execution_count": 168,
     "metadata": {},
     "output_type": "execute_result"
    }
   ],
   "source": [
    "df3"
   ]
  },
  {
   "cell_type": "code",
   "execution_count": 169,
   "id": "2f47070d-021e-45fa-b410-89609d1a83d2",
   "metadata": {},
   "outputs": [
    {
     "data": {
      "text/plain": [
       "2    2\n",
       "3    3\n",
       "4    4\n",
       "5    5\n",
       "6    6\n",
       "7    7\n",
       "8    8\n",
       "Name: a, dtype: int32"
      ]
     },
     "execution_count": 169,
     "metadata": {},
     "output_type": "execute_result"
    }
   ],
   "source": [
    "# Typecasting\n",
    "df3['a'].astype(int)"
   ]
  },
  {
   "cell_type": "code",
   "execution_count": 170,
   "id": "6af7a35c-b285-4565-9fec-3c64209b7d70",
   "metadata": {},
   "outputs": [],
   "source": [
    "df3[\"a_int\"] = df3['a'].astype(int) # now new create a columns and input int number"
   ]
  },
  {
   "cell_type": "code",
   "execution_count": 171,
   "id": "945adfd6-2439-4941-be18-2dfaa45a0f6d",
   "metadata": {},
   "outputs": [
    {
     "data": {
      "text/html": [
       "<div>\n",
       "<style scoped>\n",
       "    .dataframe tbody tr th:only-of-type {\n",
       "        vertical-align: middle;\n",
       "    }\n",
       "\n",
       "    .dataframe tbody tr th {\n",
       "        vertical-align: top;\n",
       "    }\n",
       "\n",
       "    .dataframe thead th {\n",
       "        text-align: right;\n",
       "    }\n",
       "</style>\n",
       "<table border=\"1\" class=\"dataframe\">\n",
       "  <thead>\n",
       "    <tr style=\"text-align: right;\">\n",
       "      <th></th>\n",
       "      <th>a</th>\n",
       "      <th>a_int</th>\n",
       "    </tr>\n",
       "  </thead>\n",
       "  <tbody>\n",
       "    <tr>\n",
       "      <th>2</th>\n",
       "      <td>2.0</td>\n",
       "      <td>2</td>\n",
       "    </tr>\n",
       "    <tr>\n",
       "      <th>3</th>\n",
       "      <td>3.0</td>\n",
       "      <td>3</td>\n",
       "    </tr>\n",
       "    <tr>\n",
       "      <th>4</th>\n",
       "      <td>4.0</td>\n",
       "      <td>4</td>\n",
       "    </tr>\n",
       "    <tr>\n",
       "      <th>5</th>\n",
       "      <td>5.0</td>\n",
       "      <td>5</td>\n",
       "    </tr>\n",
       "    <tr>\n",
       "      <th>6</th>\n",
       "      <td>6.0</td>\n",
       "      <td>6</td>\n",
       "    </tr>\n",
       "    <tr>\n",
       "      <th>7</th>\n",
       "      <td>7.0</td>\n",
       "      <td>7</td>\n",
       "    </tr>\n",
       "    <tr>\n",
       "      <th>8</th>\n",
       "      <td>8.0</td>\n",
       "      <td>8</td>\n",
       "    </tr>\n",
       "  </tbody>\n",
       "</table>\n",
       "</div>"
      ],
      "text/plain": [
       "     a  a_int\n",
       "2  2.0      2\n",
       "3  3.0      3\n",
       "4  4.0      4\n",
       "5  5.0      5\n",
       "6  6.0      6\n",
       "7  7.0      7\n",
       "8  8.0      8"
      ]
     },
     "execution_count": 171,
     "metadata": {},
     "output_type": "execute_result"
    }
   ],
   "source": [
    "df3"
   ]
  },
  {
   "cell_type": "code",
   "execution_count": 172,
   "id": "5caee176-7303-413e-a680-af04804a9b70",
   "metadata": {},
   "outputs": [
    {
     "data": {
      "text/html": [
       "<div>\n",
       "<style scoped>\n",
       "    .dataframe tbody tr th:only-of-type {\n",
       "        vertical-align: middle;\n",
       "    }\n",
       "\n",
       "    .dataframe tbody tr th {\n",
       "        vertical-align: top;\n",
       "    }\n",
       "\n",
       "    .dataframe thead th {\n",
       "        text-align: right;\n",
       "    }\n",
       "</style>\n",
       "<table border=\"1\" class=\"dataframe\">\n",
       "  <thead>\n",
       "    <tr style=\"text-align: right;\">\n",
       "      <th></th>\n",
       "      <th>a</th>\n",
       "    </tr>\n",
       "  </thead>\n",
       "  <tbody>\n",
       "    <tr>\n",
       "      <th>0</th>\n",
       "      <td>NaN</td>\n",
       "    </tr>\n",
       "    <tr>\n",
       "      <th>1</th>\n",
       "      <td>3.0</td>\n",
       "    </tr>\n",
       "    <tr>\n",
       "      <th>2</th>\n",
       "      <td>5.0</td>\n",
       "    </tr>\n",
       "    <tr>\n",
       "      <th>3</th>\n",
       "      <td>7.0</td>\n",
       "    </tr>\n",
       "    <tr>\n",
       "      <th>4</th>\n",
       "      <td>9.0</td>\n",
       "    </tr>\n",
       "    <tr>\n",
       "      <th>5</th>\n",
       "      <td>11.0</td>\n",
       "    </tr>\n",
       "    <tr>\n",
       "      <th>6</th>\n",
       "      <td>13.0</td>\n",
       "    </tr>\n",
       "    <tr>\n",
       "      <th>7</th>\n",
       "      <td>15.0</td>\n",
       "    </tr>\n",
       "    <tr>\n",
       "      <th>8</th>\n",
       "      <td>17.0</td>\n",
       "    </tr>\n",
       "  </tbody>\n",
       "</table>\n",
       "</div>"
      ],
      "text/plain": [
       "      a\n",
       "0   NaN\n",
       "1   3.0\n",
       "2   5.0\n",
       "3   7.0\n",
       "4   9.0\n",
       "5  11.0\n",
       "6  13.0\n",
       "7  15.0\n",
       "8  17.0"
      ]
     },
     "execution_count": 172,
     "metadata": {},
     "output_type": "execute_result"
    }
   ],
   "source": [
    "df2.rolling(window = 2).sum()"
   ]
  },
  {
   "cell_type": "code",
   "execution_count": 178,
   "id": "892c6f2f-d3ac-48ae-ab47-c6f6b2350dc9",
   "metadata": {},
   "outputs": [
    {
     "data": {
      "text/plain": [
       "'b'"
      ]
     },
     "execution_count": 178,
     "metadata": {},
     "output_type": "execute_result"
    }
   ],
   "source": [
    "import numpy as np\n",
    "np.random.choice(['a', 'b'])"
   ]
  },
  {
   "cell_type": "code",
   "execution_count": 180,
   "id": "484b7174-c043-4f83-aed4-ee6eacd40d38",
   "metadata": {},
   "outputs": [],
   "source": [
    "df2['Group'] = np.random.choice(['a','b'], size = 9)"
   ]
  },
  {
   "cell_type": "code",
   "execution_count": 181,
   "id": "b158202b-3c87-49bb-8820-2cebeefcfe5a",
   "metadata": {},
   "outputs": [
    {
     "data": {
      "text/html": [
       "<div>\n",
       "<style scoped>\n",
       "    .dataframe tbody tr th:only-of-type {\n",
       "        vertical-align: middle;\n",
       "    }\n",
       "\n",
       "    .dataframe tbody tr th {\n",
       "        vertical-align: top;\n",
       "    }\n",
       "\n",
       "    .dataframe thead th {\n",
       "        text-align: right;\n",
       "    }\n",
       "</style>\n",
       "<table border=\"1\" class=\"dataframe\">\n",
       "  <thead>\n",
       "    <tr style=\"text-align: right;\">\n",
       "      <th></th>\n",
       "      <th>a</th>\n",
       "      <th>Group</th>\n",
       "    </tr>\n",
       "  </thead>\n",
       "  <tbody>\n",
       "    <tr>\n",
       "      <th>0</th>\n",
       "      <td>1</td>\n",
       "      <td>b</td>\n",
       "    </tr>\n",
       "    <tr>\n",
       "      <th>1</th>\n",
       "      <td>2</td>\n",
       "      <td>b</td>\n",
       "    </tr>\n",
       "    <tr>\n",
       "      <th>2</th>\n",
       "      <td>3</td>\n",
       "      <td>a</td>\n",
       "    </tr>\n",
       "    <tr>\n",
       "      <th>3</th>\n",
       "      <td>4</td>\n",
       "      <td>b</td>\n",
       "    </tr>\n",
       "    <tr>\n",
       "      <th>4</th>\n",
       "      <td>5</td>\n",
       "      <td>a</td>\n",
       "    </tr>\n",
       "    <tr>\n",
       "      <th>5</th>\n",
       "      <td>6</td>\n",
       "      <td>b</td>\n",
       "    </tr>\n",
       "    <tr>\n",
       "      <th>6</th>\n",
       "      <td>7</td>\n",
       "      <td>a</td>\n",
       "    </tr>\n",
       "    <tr>\n",
       "      <th>7</th>\n",
       "      <td>8</td>\n",
       "      <td>b</td>\n",
       "    </tr>\n",
       "    <tr>\n",
       "      <th>8</th>\n",
       "      <td>9</td>\n",
       "      <td>b</td>\n",
       "    </tr>\n",
       "  </tbody>\n",
       "</table>\n",
       "</div>"
      ],
      "text/plain": [
       "   a Group\n",
       "0  1     b\n",
       "1  2     b\n",
       "2  3     a\n",
       "3  4     b\n",
       "4  5     a\n",
       "5  6     b\n",
       "6  7     a\n",
       "7  8     b\n",
       "8  9     b"
      ]
     },
     "execution_count": 181,
     "metadata": {},
     "output_type": "execute_result"
    }
   ],
   "source": [
    "df2"
   ]
  },
  {
   "cell_type": "code",
   "execution_count": 183,
   "id": "f8d60427-9f9b-43a4-8282-923570039f59",
   "metadata": {},
   "outputs": [
    {
     "data": {
      "text/plain": [
       "Group\n",
       "a    15\n",
       "b    30\n",
       "Name: a, dtype: int64"
      ]
     },
     "execution_count": 183,
     "metadata": {},
     "output_type": "execute_result"
    }
   ],
   "source": [
    "# Groupby with rolling sum >> use for calculator\n",
    "df2.groupby('Group')['a'].sum()"
   ]
  },
  {
   "cell_type": "code",
   "execution_count": 184,
   "id": "4ad36dfd-245c-42c5-b83b-800bdf41fa1f",
   "metadata": {},
   "outputs": [
    {
     "data": {
      "text/plain": [
       "0     1\n",
       "1     3\n",
       "2     6\n",
       "3    10\n",
       "4    15\n",
       "5    21\n",
       "6    28\n",
       "7    36\n",
       "8    45\n",
       "Name: a, dtype: int64"
      ]
     },
     "execution_count": 184,
     "metadata": {},
     "output_type": "execute_result"
    }
   ],
   "source": [
    "df2.a.cumsum() # one by one element add"
   ]
  },
  {
   "cell_type": "code",
   "execution_count": 6,
   "id": "3057aa29-3c0e-4500-a79e-8478badd03b2",
   "metadata": {},
   "outputs": [],
   "source": [
    "df = pd.DataFrame({\n",
    "    'Date': [\"30-05-2025\", \"31-05-2025\", \"1-06-2025\", \"2-06-2025\"]\n",
    "})"
   ]
  },
  {
   "cell_type": "code",
   "execution_count": 7,
   "id": "0f3072a5-3045-4623-9646-e9d9964e7d3f",
   "metadata": {},
   "outputs": [
    {
     "data": {
      "text/html": [
       "<div>\n",
       "<style scoped>\n",
       "    .dataframe tbody tr th:only-of-type {\n",
       "        vertical-align: middle;\n",
       "    }\n",
       "\n",
       "    .dataframe tbody tr th {\n",
       "        vertical-align: top;\n",
       "    }\n",
       "\n",
       "    .dataframe thead th {\n",
       "        text-align: right;\n",
       "    }\n",
       "</style>\n",
       "<table border=\"1\" class=\"dataframe\">\n",
       "  <thead>\n",
       "    <tr style=\"text-align: right;\">\n",
       "      <th></th>\n",
       "      <th>Date</th>\n",
       "    </tr>\n",
       "  </thead>\n",
       "  <tbody>\n",
       "    <tr>\n",
       "      <th>0</th>\n",
       "      <td>30-05-2025</td>\n",
       "    </tr>\n",
       "    <tr>\n",
       "      <th>1</th>\n",
       "      <td>31-05-2025</td>\n",
       "    </tr>\n",
       "    <tr>\n",
       "      <th>2</th>\n",
       "      <td>1-06-2025</td>\n",
       "    </tr>\n",
       "    <tr>\n",
       "      <th>3</th>\n",
       "      <td>2-06-2025</td>\n",
       "    </tr>\n",
       "  </tbody>\n",
       "</table>\n",
       "</div>"
      ],
      "text/plain": [
       "         Date\n",
       "0  30-05-2025\n",
       "1  31-05-2025\n",
       "2   1-06-2025\n",
       "3   2-06-2025"
      ]
     },
     "execution_count": 7,
     "metadata": {},
     "output_type": "execute_result"
    }
   ],
   "source": [
    "df"
   ]
  },
  {
   "cell_type": "code",
   "execution_count": 9,
   "id": "d283397b-a320-41fa-8072-995a7bd3cc06",
   "metadata": {},
   "outputs": [
    {
     "name": "stdout",
     "output_type": "stream",
     "text": [
      "<class 'pandas.core.frame.DataFrame'>\n",
      "RangeIndex: 4 entries, 0 to 3\n",
      "Data columns (total 1 columns):\n",
      " #   Column  Non-Null Count  Dtype \n",
      "---  ------  --------------  ----- \n",
      " 0   Date    4 non-null      object\n",
      "dtypes: object(1)\n",
      "memory usage: 164.0+ bytes\n"
     ]
    }
   ],
   "source": [
    "df.info()"
   ]
  },
  {
   "cell_type": "code",
   "execution_count": 11,
   "id": "ec538845-acdc-42a5-9b03-1fce310d2cef",
   "metadata": {},
   "outputs": [
    {
     "data": {
      "text/plain": [
       "Date    object\n",
       "dtype: object"
      ]
     },
     "execution_count": 11,
     "metadata": {},
     "output_type": "execute_result"
    }
   ],
   "source": [
    "df.dtypes"
   ]
  },
  {
   "cell_type": "code",
   "execution_count": 37,
   "id": "b97a685e-ddea-4e15-addb-0b09b3b0ea62",
   "metadata": {},
   "outputs": [
    {
     "name": "stderr",
     "output_type": "stream",
     "text": [
      "C:\\Users\\angaj\\AppData\\Local\\Temp\\ipykernel_19992\\2958961224.py:1: UserWarning: Parsing dates in %d-%m-%Y format when dayfirst=False (the default) was specified. Pass `dayfirst=True` or specify a format to silence this warning.\n",
      "  pd.to_datetime(df[\"Date\"])\n"
     ]
    },
    {
     "data": {
      "text/plain": [
       "0   2025-05-30\n",
       "1   2025-05-31\n",
       "2   2025-06-01\n",
       "3   2025-06-02\n",
       "Name: Date, dtype: datetime64[ns]"
      ]
     },
     "execution_count": 37,
     "metadata": {},
     "output_type": "execute_result"
    }
   ],
   "source": [
    "pd.to_datetime(df[\"Date\"])"
   ]
  },
  {
   "cell_type": "code",
   "execution_count": 38,
   "id": "377ffe9b-2980-4306-8fb7-6347a62bbf2e",
   "metadata": {},
   "outputs": [
    {
     "name": "stderr",
     "output_type": "stream",
     "text": [
      "C:\\Users\\angaj\\AppData\\Local\\Temp\\ipykernel_19992\\2973439338.py:2: UserWarning: Parsing dates in %d-%m-%Y format when dayfirst=False (the default) was specified. Pass `dayfirst=True` or specify a format to silence this warning.\n",
      "  df[\"updatet_date\"] = pd.to_datetime(df[\"Date\"])\n"
     ]
    }
   ],
   "source": [
    "# add columns\n",
    "df[\"updatet_date\"] = pd.to_datetime(df[\"Date\"])"
   ]
  },
  {
   "cell_type": "code",
   "execution_count": 39,
   "id": "d6c2daa9-acb0-4e8f-adc5-a6a58e9d67ae",
   "metadata": {},
   "outputs": [
    {
     "data": {
      "text/html": [
       "<div>\n",
       "<style scoped>\n",
       "    .dataframe tbody tr th:only-of-type {\n",
       "        vertical-align: middle;\n",
       "    }\n",
       "\n",
       "    .dataframe tbody tr th {\n",
       "        vertical-align: top;\n",
       "    }\n",
       "\n",
       "    .dataframe thead th {\n",
       "        text-align: right;\n",
       "    }\n",
       "</style>\n",
       "<table border=\"1\" class=\"dataframe\">\n",
       "  <thead>\n",
       "    <tr style=\"text-align: right;\">\n",
       "      <th></th>\n",
       "      <th>Date</th>\n",
       "      <th>updatet_date</th>\n",
       "      <th>Year</th>\n",
       "    </tr>\n",
       "  </thead>\n",
       "  <tbody>\n",
       "    <tr>\n",
       "      <th>0</th>\n",
       "      <td>30-05-2025</td>\n",
       "      <td>2025-05-30</td>\n",
       "      <td>2025</td>\n",
       "    </tr>\n",
       "    <tr>\n",
       "      <th>1</th>\n",
       "      <td>31-05-2025</td>\n",
       "      <td>2025-05-31</td>\n",
       "      <td>2025</td>\n",
       "    </tr>\n",
       "    <tr>\n",
       "      <th>2</th>\n",
       "      <td>1-06-2025</td>\n",
       "      <td>2025-06-01</td>\n",
       "      <td>2025</td>\n",
       "    </tr>\n",
       "    <tr>\n",
       "      <th>3</th>\n",
       "      <td>2-06-2025</td>\n",
       "      <td>2025-06-02</td>\n",
       "      <td>2025</td>\n",
       "    </tr>\n",
       "  </tbody>\n",
       "</table>\n",
       "</div>"
      ],
      "text/plain": [
       "         Date updatet_date  Year\n",
       "0  30-05-2025   2025-05-30  2025\n",
       "1  31-05-2025   2025-05-31  2025\n",
       "2   1-06-2025   2025-06-01  2025\n",
       "3   2-06-2025   2025-06-02  2025"
      ]
     },
     "execution_count": 39,
     "metadata": {},
     "output_type": "execute_result"
    }
   ],
   "source": [
    "df"
   ]
  },
  {
   "cell_type": "code",
   "execution_count": 40,
   "id": "f1fccb34-326f-4638-9f29-50625b2e2d2e",
   "metadata": {},
   "outputs": [
    {
     "data": {
      "text/plain": [
       "0    2025\n",
       "1    2025\n",
       "2    2025\n",
       "3    2025\n",
       "Name: updatet_date, dtype: int32"
      ]
     },
     "execution_count": 40,
     "metadata": {},
     "output_type": "execute_result"
    }
   ],
   "source": [
    "df[\"updatet_date\"].dt.year # dt >> is a date and time so if you now change date and time"
   ]
  },
  {
   "cell_type": "code",
   "execution_count": 52,
   "id": "3b51083e-3bf2-4492-8e0e-e60919ebd1d1",
   "metadata": {},
   "outputs": [],
   "source": [
    "df[\"Year\"] = df[\"updatet_date\"].dt.year"
   ]
  },
  {
   "cell_type": "code",
   "execution_count": 53,
   "id": "9c47fd6f-693f-4c7e-93d3-4910d1b984de",
   "metadata": {},
   "outputs": [
    {
     "data": {
      "text/html": [
       "<div>\n",
       "<style scoped>\n",
       "    .dataframe tbody tr th:only-of-type {\n",
       "        vertical-align: middle;\n",
       "    }\n",
       "\n",
       "    .dataframe tbody tr th {\n",
       "        vertical-align: top;\n",
       "    }\n",
       "\n",
       "    .dataframe thead th {\n",
       "        text-align: right;\n",
       "    }\n",
       "</style>\n",
       "<table border=\"1\" class=\"dataframe\">\n",
       "  <thead>\n",
       "    <tr style=\"text-align: right;\">\n",
       "      <th></th>\n",
       "      <th>Date</th>\n",
       "      <th>updatet_date</th>\n",
       "      <th>Year</th>\n",
       "      <th>month</th>\n",
       "    </tr>\n",
       "  </thead>\n",
       "  <tbody>\n",
       "    <tr>\n",
       "      <th>0</th>\n",
       "      <td>30-05-2025</td>\n",
       "      <td>2025-05-30</td>\n",
       "      <td>2025</td>\n",
       "      <td>5</td>\n",
       "    </tr>\n",
       "    <tr>\n",
       "      <th>1</th>\n",
       "      <td>31-05-2025</td>\n",
       "      <td>2025-05-31</td>\n",
       "      <td>2025</td>\n",
       "      <td>5</td>\n",
       "    </tr>\n",
       "    <tr>\n",
       "      <th>2</th>\n",
       "      <td>1-06-2025</td>\n",
       "      <td>2025-06-01</td>\n",
       "      <td>2025</td>\n",
       "      <td>6</td>\n",
       "    </tr>\n",
       "    <tr>\n",
       "      <th>3</th>\n",
       "      <td>2-06-2025</td>\n",
       "      <td>2025-06-02</td>\n",
       "      <td>2025</td>\n",
       "      <td>6</td>\n",
       "    </tr>\n",
       "  </tbody>\n",
       "</table>\n",
       "</div>"
      ],
      "text/plain": [
       "         Date updatet_date  Year  month\n",
       "0  30-05-2025   2025-05-30  2025      5\n",
       "1  31-05-2025   2025-05-31  2025      5\n",
       "2   1-06-2025   2025-06-01  2025      6\n",
       "3   2-06-2025   2025-06-02  2025      6"
      ]
     },
     "execution_count": 53,
     "metadata": {},
     "output_type": "execute_result"
    }
   ],
   "source": [
    "df"
   ]
  },
  {
   "cell_type": "code",
   "execution_count": 54,
   "id": "782e2811-863c-44ce-8abf-84fe5b9610b7",
   "metadata": {},
   "outputs": [
    {
     "data": {
      "text/html": [
       "<div>\n",
       "<style scoped>\n",
       "    .dataframe tbody tr th:only-of-type {\n",
       "        vertical-align: middle;\n",
       "    }\n",
       "\n",
       "    .dataframe tbody tr th {\n",
       "        vertical-align: top;\n",
       "    }\n",
       "\n",
       "    .dataframe thead th {\n",
       "        text-align: right;\n",
       "    }\n",
       "</style>\n",
       "<table border=\"1\" class=\"dataframe\">\n",
       "  <thead>\n",
       "    <tr style=\"text-align: right;\">\n",
       "      <th></th>\n",
       "      <th>Date</th>\n",
       "      <th>updatet_date</th>\n",
       "      <th>Year</th>\n",
       "      <th>month</th>\n",
       "    </tr>\n",
       "  </thead>\n",
       "  <tbody>\n",
       "    <tr>\n",
       "      <th>0</th>\n",
       "      <td>30-05-2025</td>\n",
       "      <td>2025-05-30</td>\n",
       "      <td>2025</td>\n",
       "      <td>5</td>\n",
       "    </tr>\n",
       "    <tr>\n",
       "      <th>1</th>\n",
       "      <td>31-05-2025</td>\n",
       "      <td>2025-05-31</td>\n",
       "      <td>2025</td>\n",
       "      <td>5</td>\n",
       "    </tr>\n",
       "    <tr>\n",
       "      <th>2</th>\n",
       "      <td>1-06-2025</td>\n",
       "      <td>2025-06-01</td>\n",
       "      <td>2025</td>\n",
       "      <td>6</td>\n",
       "    </tr>\n",
       "    <tr>\n",
       "      <th>3</th>\n",
       "      <td>2-06-2025</td>\n",
       "      <td>2025-06-02</td>\n",
       "      <td>2025</td>\n",
       "      <td>6</td>\n",
       "    </tr>\n",
       "  </tbody>\n",
       "</table>\n",
       "</div>"
      ],
      "text/plain": [
       "         Date updatet_date  Year  month\n",
       "0  30-05-2025   2025-05-30  2025      5\n",
       "1  31-05-2025   2025-05-31  2025      5\n",
       "2   1-06-2025   2025-06-01  2025      6\n",
       "3   2-06-2025   2025-06-02  2025      6"
      ]
     },
     "execution_count": 54,
     "metadata": {},
     "output_type": "execute_result"
    }
   ],
   "source": [
    "df"
   ]
  },
  {
   "cell_type": "code",
   "execution_count": null,
   "id": "7eae7f4c-f3f7-4424-a425-fd84cdbb69e7",
   "metadata": {},
   "outputs": [],
   "source": [
    "# you can remove specific columns (by using .drop)\n",
    "df = df.drop('updatet_time', axis=1) # do you remove(drop) update_time in columns"
   ]
  },
  {
   "cell_type": "code",
   "execution_count": 55,
   "id": "1372d325-7fb2-49f1-b4e0-7fed1e4f7d0b",
   "metadata": {},
   "outputs": [],
   "source": [
    "df[\"month\"] =  df[\"updatet_date\"].dt.month"
   ]
  },
  {
   "cell_type": "code",
   "execution_count": 56,
   "id": "b0a8eebc-1b3f-4488-bd5f-00f639c14c2c",
   "metadata": {},
   "outputs": [
    {
     "data": {
      "text/html": [
       "<div>\n",
       "<style scoped>\n",
       "    .dataframe tbody tr th:only-of-type {\n",
       "        vertical-align: middle;\n",
       "    }\n",
       "\n",
       "    .dataframe tbody tr th {\n",
       "        vertical-align: top;\n",
       "    }\n",
       "\n",
       "    .dataframe thead th {\n",
       "        text-align: right;\n",
       "    }\n",
       "</style>\n",
       "<table border=\"1\" class=\"dataframe\">\n",
       "  <thead>\n",
       "    <tr style=\"text-align: right;\">\n",
       "      <th></th>\n",
       "      <th>Date</th>\n",
       "      <th>updatet_date</th>\n",
       "      <th>Year</th>\n",
       "      <th>month</th>\n",
       "    </tr>\n",
       "  </thead>\n",
       "  <tbody>\n",
       "    <tr>\n",
       "      <th>0</th>\n",
       "      <td>30-05-2025</td>\n",
       "      <td>2025-05-30</td>\n",
       "      <td>2025</td>\n",
       "      <td>5</td>\n",
       "    </tr>\n",
       "    <tr>\n",
       "      <th>1</th>\n",
       "      <td>31-05-2025</td>\n",
       "      <td>2025-05-31</td>\n",
       "      <td>2025</td>\n",
       "      <td>5</td>\n",
       "    </tr>\n",
       "    <tr>\n",
       "      <th>2</th>\n",
       "      <td>1-06-2025</td>\n",
       "      <td>2025-06-01</td>\n",
       "      <td>2025</td>\n",
       "      <td>6</td>\n",
       "    </tr>\n",
       "    <tr>\n",
       "      <th>3</th>\n",
       "      <td>2-06-2025</td>\n",
       "      <td>2025-06-02</td>\n",
       "      <td>2025</td>\n",
       "      <td>6</td>\n",
       "    </tr>\n",
       "  </tbody>\n",
       "</table>\n",
       "</div>"
      ],
      "text/plain": [
       "         Date updatet_date  Year  month\n",
       "0  30-05-2025   2025-05-30  2025      5\n",
       "1  31-05-2025   2025-05-31  2025      5\n",
       "2   1-06-2025   2025-06-01  2025      6\n",
       "3   2-06-2025   2025-06-02  2025      6"
      ]
     },
     "execution_count": 56,
     "metadata": {},
     "output_type": "execute_result"
    }
   ],
   "source": [
    "df"
   ]
  },
  {
   "cell_type": "code",
   "execution_count": 71,
   "id": "57552984-1cca-4a61-b820-7dd8e9d378b8",
   "metadata": {},
   "outputs": [],
   "source": [
    "df['month2'] = df[\"updatet_date\"].dt.month"
   ]
  },
  {
   "cell_type": "code",
   "execution_count": 72,
   "id": "1adf2474-0331-4f99-89ea-fc9236981dd4",
   "metadata": {},
   "outputs": [
    {
     "data": {
      "text/html": [
       "<div>\n",
       "<style scoped>\n",
       "    .dataframe tbody tr th:only-of-type {\n",
       "        vertical-align: middle;\n",
       "    }\n",
       "\n",
       "    .dataframe tbody tr th {\n",
       "        vertical-align: top;\n",
       "    }\n",
       "\n",
       "    .dataframe thead th {\n",
       "        text-align: right;\n",
       "    }\n",
       "</style>\n",
       "<table border=\"1\" class=\"dataframe\">\n",
       "  <thead>\n",
       "    <tr style=\"text-align: right;\">\n",
       "      <th></th>\n",
       "      <th>Date</th>\n",
       "      <th>updatet_date</th>\n",
       "      <th>Year</th>\n",
       "      <th>month</th>\n",
       "      <th>Day</th>\n",
       "      <th>month2</th>\n",
       "    </tr>\n",
       "  </thead>\n",
       "  <tbody>\n",
       "    <tr>\n",
       "      <th>0</th>\n",
       "      <td>30-05-2025</td>\n",
       "      <td>2025-05-30</td>\n",
       "      <td>2025</td>\n",
       "      <td>5</td>\n",
       "      <td>30</td>\n",
       "      <td>5</td>\n",
       "    </tr>\n",
       "    <tr>\n",
       "      <th>1</th>\n",
       "      <td>31-05-2025</td>\n",
       "      <td>2025-05-31</td>\n",
       "      <td>2025</td>\n",
       "      <td>5</td>\n",
       "      <td>31</td>\n",
       "      <td>5</td>\n",
       "    </tr>\n",
       "    <tr>\n",
       "      <th>2</th>\n",
       "      <td>1-06-2025</td>\n",
       "      <td>2025-06-01</td>\n",
       "      <td>2025</td>\n",
       "      <td>6</td>\n",
       "      <td>1</td>\n",
       "      <td>6</td>\n",
       "    </tr>\n",
       "    <tr>\n",
       "      <th>3</th>\n",
       "      <td>2-06-2025</td>\n",
       "      <td>2025-06-02</td>\n",
       "      <td>2025</td>\n",
       "      <td>6</td>\n",
       "      <td>2</td>\n",
       "      <td>6</td>\n",
       "    </tr>\n",
       "  </tbody>\n",
       "</table>\n",
       "</div>"
      ],
      "text/plain": [
       "         Date updatet_date  Year  month  Day  month2\n",
       "0  30-05-2025   2025-05-30  2025      5   30       5\n",
       "1  31-05-2025   2025-05-31  2025      5   31       5\n",
       "2   1-06-2025   2025-06-01  2025      6    1       6\n",
       "3   2-06-2025   2025-06-02  2025      6    2       6"
      ]
     },
     "execution_count": 72,
     "metadata": {},
     "output_type": "execute_result"
    }
   ],
   "source": [
    "df"
   ]
  },
  {
   "cell_type": "code",
   "execution_count": null,
   "id": "786d3679-2c3f-43be-a930-1fd90bff0e9e",
   "metadata": {},
   "outputs": [],
   "source": [
    "# just remove(.drop)"
   ]
  },
  {
   "cell_type": "code",
   "execution_count": 73,
   "id": "46ac40f2-d6f8-478a-8764-a4a3948d953d",
   "metadata": {},
   "outputs": [],
   "source": [
    "df = df.drop(\"month2\", axis = 1)"
   ]
  },
  {
   "cell_type": "code",
   "execution_count": 74,
   "id": "e368d0dd-a63e-4f2c-9c03-34e6ad21cda4",
   "metadata": {},
   "outputs": [
    {
     "data": {
      "text/html": [
       "<div>\n",
       "<style scoped>\n",
       "    .dataframe tbody tr th:only-of-type {\n",
       "        vertical-align: middle;\n",
       "    }\n",
       "\n",
       "    .dataframe tbody tr th {\n",
       "        vertical-align: top;\n",
       "    }\n",
       "\n",
       "    .dataframe thead th {\n",
       "        text-align: right;\n",
       "    }\n",
       "</style>\n",
       "<table border=\"1\" class=\"dataframe\">\n",
       "  <thead>\n",
       "    <tr style=\"text-align: right;\">\n",
       "      <th></th>\n",
       "      <th>Date</th>\n",
       "      <th>updatet_date</th>\n",
       "      <th>Year</th>\n",
       "      <th>month</th>\n",
       "      <th>Day</th>\n",
       "    </tr>\n",
       "  </thead>\n",
       "  <tbody>\n",
       "    <tr>\n",
       "      <th>0</th>\n",
       "      <td>30-05-2025</td>\n",
       "      <td>2025-05-30</td>\n",
       "      <td>2025</td>\n",
       "      <td>5</td>\n",
       "      <td>30</td>\n",
       "    </tr>\n",
       "    <tr>\n",
       "      <th>1</th>\n",
       "      <td>31-05-2025</td>\n",
       "      <td>2025-05-31</td>\n",
       "      <td>2025</td>\n",
       "      <td>5</td>\n",
       "      <td>31</td>\n",
       "    </tr>\n",
       "    <tr>\n",
       "      <th>2</th>\n",
       "      <td>1-06-2025</td>\n",
       "      <td>2025-06-01</td>\n",
       "      <td>2025</td>\n",
       "      <td>6</td>\n",
       "      <td>1</td>\n",
       "    </tr>\n",
       "    <tr>\n",
       "      <th>3</th>\n",
       "      <td>2-06-2025</td>\n",
       "      <td>2025-06-02</td>\n",
       "      <td>2025</td>\n",
       "      <td>6</td>\n",
       "      <td>2</td>\n",
       "    </tr>\n",
       "  </tbody>\n",
       "</table>\n",
       "</div>"
      ],
      "text/plain": [
       "         Date updatet_date  Year  month  Day\n",
       "0  30-05-2025   2025-05-30  2025      5   30\n",
       "1  31-05-2025   2025-05-31  2025      5   31\n",
       "2   1-06-2025   2025-06-01  2025      6    1\n",
       "3   2-06-2025   2025-06-02  2025      6    2"
      ]
     },
     "execution_count": 74,
     "metadata": {},
     "output_type": "execute_result"
    }
   ],
   "source": [
    "df"
   ]
  },
  {
   "cell_type": "code",
   "execution_count": 75,
   "id": "2424c384-c77c-4079-a482-bfe67e05640f",
   "metadata": {},
   "outputs": [],
   "source": [
    "df[\"Day\"] = df[\"updatet_date\"].dt.day"
   ]
  },
  {
   "cell_type": "code",
   "execution_count": 76,
   "id": "359e465f-7cbf-4e79-b8e6-39fe7bde26e6",
   "metadata": {},
   "outputs": [
    {
     "data": {
      "text/html": [
       "<div>\n",
       "<style scoped>\n",
       "    .dataframe tbody tr th:only-of-type {\n",
       "        vertical-align: middle;\n",
       "    }\n",
       "\n",
       "    .dataframe tbody tr th {\n",
       "        vertical-align: top;\n",
       "    }\n",
       "\n",
       "    .dataframe thead th {\n",
       "        text-align: right;\n",
       "    }\n",
       "</style>\n",
       "<table border=\"1\" class=\"dataframe\">\n",
       "  <thead>\n",
       "    <tr style=\"text-align: right;\">\n",
       "      <th></th>\n",
       "      <th>Date</th>\n",
       "      <th>updatet_date</th>\n",
       "      <th>Year</th>\n",
       "      <th>month</th>\n",
       "      <th>Day</th>\n",
       "    </tr>\n",
       "  </thead>\n",
       "  <tbody>\n",
       "    <tr>\n",
       "      <th>0</th>\n",
       "      <td>30-05-2025</td>\n",
       "      <td>2025-05-30</td>\n",
       "      <td>2025</td>\n",
       "      <td>5</td>\n",
       "      <td>30</td>\n",
       "    </tr>\n",
       "    <tr>\n",
       "      <th>1</th>\n",
       "      <td>31-05-2025</td>\n",
       "      <td>2025-05-31</td>\n",
       "      <td>2025</td>\n",
       "      <td>5</td>\n",
       "      <td>31</td>\n",
       "    </tr>\n",
       "    <tr>\n",
       "      <th>2</th>\n",
       "      <td>1-06-2025</td>\n",
       "      <td>2025-06-01</td>\n",
       "      <td>2025</td>\n",
       "      <td>6</td>\n",
       "      <td>1</td>\n",
       "    </tr>\n",
       "    <tr>\n",
       "      <th>3</th>\n",
       "      <td>2-06-2025</td>\n",
       "      <td>2025-06-02</td>\n",
       "      <td>2025</td>\n",
       "      <td>6</td>\n",
       "      <td>2</td>\n",
       "    </tr>\n",
       "  </tbody>\n",
       "</table>\n",
       "</div>"
      ],
      "text/plain": [
       "         Date updatet_date  Year  month  Day\n",
       "0  30-05-2025   2025-05-30  2025      5   30\n",
       "1  31-05-2025   2025-05-31  2025      5   31\n",
       "2   1-06-2025   2025-06-01  2025      6    1\n",
       "3   2-06-2025   2025-06-02  2025      6    2"
      ]
     },
     "execution_count": 76,
     "metadata": {},
     "output_type": "execute_result"
    }
   ],
   "source": [
    "df"
   ]
  },
  {
   "cell_type": "code",
   "execution_count": 79,
   "id": "e4020f76-ea3f-480a-a0ec-59fff9fae991",
   "metadata": {},
   "outputs": [
    {
     "data": {
      "text/plain": [
       "DatetimeIndex(['2024-05-30', '2024-05-31', '2024-06-01', '2024-06-02',\n",
       "               '2024-06-03', '2024-06-04', '2024-06-05', '2024-06-06',\n",
       "               '2024-06-07', '2024-06-08',\n",
       "               ...\n",
       "               '2025-06-21', '2025-06-22', '2025-06-23', '2025-06-24',\n",
       "               '2025-06-25', '2025-06-26', '2025-06-27', '2025-06-28',\n",
       "               '2025-06-29', '2025-06-30'],\n",
       "              dtype='datetime64[ns]', length=397, freq='D')"
      ]
     },
     "execution_count": 79,
     "metadata": {},
     "output_type": "execute_result"
    }
   ],
   "source": [
    "pd.date_range(start = '2024-05-30' , end = '2025-06-30', freq = \"D\") # genratet daily date between '2024-05-30' to '2025-06-30' "
   ]
  },
  {
   "cell_type": "code",
   "execution_count": 80,
   "id": "d5ad6fb6-2d4d-4fe1-bff0-d625ec6d5c6a",
   "metadata": {
    "scrolled": true
   },
   "outputs": [
    {
     "name": "stderr",
     "output_type": "stream",
     "text": [
      "C:\\Users\\angaj\\AppData\\Local\\Temp\\ipykernel_19992\\4022063998.py:1: FutureWarning: 'H' is deprecated and will be removed in a future version, please use 'h' instead.\n",
      "  pd.date_range(start = '2024-05-30' , end = '2025-06-30', freq = \"H\") # houre\n"
     ]
    },
    {
     "data": {
      "text/plain": [
       "DatetimeIndex(['2024-05-30 00:00:00', '2024-05-30 01:00:00',\n",
       "               '2024-05-30 02:00:00', '2024-05-30 03:00:00',\n",
       "               '2024-05-30 04:00:00', '2024-05-30 05:00:00',\n",
       "               '2024-05-30 06:00:00', '2024-05-30 07:00:00',\n",
       "               '2024-05-30 08:00:00', '2024-05-30 09:00:00',\n",
       "               ...\n",
       "               '2025-06-29 15:00:00', '2025-06-29 16:00:00',\n",
       "               '2025-06-29 17:00:00', '2025-06-29 18:00:00',\n",
       "               '2025-06-29 19:00:00', '2025-06-29 20:00:00',\n",
       "               '2025-06-29 21:00:00', '2025-06-29 22:00:00',\n",
       "               '2025-06-29 23:00:00', '2025-06-30 00:00:00'],\n",
       "              dtype='datetime64[ns]', length=9505, freq='h')"
      ]
     },
     "execution_count": 80,
     "metadata": {},
     "output_type": "execute_result"
    }
   ],
   "source": [
    "pd.date_range(start = '2024-05-30' , end = '2025-06-30', freq = \"H\") # houre"
   ]
  },
  {
   "cell_type": "code",
   "execution_count": 82,
   "id": "b86197b1-8436-4dc5-894a-da98c91daa42",
   "metadata": {},
   "outputs": [
    {
     "data": {
      "text/plain": [
       "Timestamp('2025-05-30 18:18:24.191733')"
      ]
     },
     "execution_count": 82,
     "metadata": {},
     "output_type": "execute_result"
    }
   ],
   "source": [
    "# The Time now\n",
    "pd.Timestamp.now()"
   ]
  },
  {
   "cell_type": "code",
   "execution_count": 25,
   "id": "b23335c6-0674-4847-ab19-6daee31ee0b8",
   "metadata": {},
   "outputs": [
    {
     "name": "stdout",
     "output_type": "stream",
     "text": [
      "Time taken for the execution of code 0 days 00:00:00.004929\n"
     ]
    }
   ],
   "source": [
    " #to check the execution/ run time of a code\n",
    "start = pd.Timestamp.now()\n",
    "for i in range(1000):\n",
    "    pass\n",
    "end = pd.Timestamp.now()\n",
    "print(\"Time taken for the execution of code\", end-start)"
   ]
  },
  {
   "cell_type": "code",
   "execution_count": 28,
   "id": "e20227c1-a23c-43f4-9b39-b9a8b55afe84",
   "metadata": {},
   "outputs": [],
   "source": [
    "import time"
   ]
  },
  {
   "cell_type": "code",
   "execution_count": 29,
   "id": "d70196a7-d8fe-4299-b329-a6384ff542b3",
   "metadata": {},
   "outputs": [
    {
     "name": "stdout",
     "output_type": "stream",
     "text": [
      "Time taken for the execution of code 2nd 0.00030479999259114265\n"
     ]
    }
   ],
   "source": [
    "start = time.perf_counter()\n",
    "for i in range(1000):\n",
    "    pass\n",
    "end = time.perf_counter()\n",
    "print(\"Time taken for the execution of code 2nd\", end-start)"
   ]
  },
  {
   "cell_type": "code",
   "execution_count": 30,
   "id": "49555d80-24ef-4f9e-9a95-b987206bbde1",
   "metadata": {},
   "outputs": [
    {
     "data": {
      "text/plain": [
       "Timestamp('2025-05-30 20:15:57.095910')"
      ]
     },
     "execution_count": 30,
     "metadata": {},
     "output_type": "execute_result"
    }
   ],
   "source": [
    "pd.Timestamp.now()"
   ]
  },
  {
   "cell_type": "code",
   "execution_count": 32,
   "id": "a629d9d5-ce1f-40d7-b085-b4579eee8b96",
   "metadata": {},
   "outputs": [
    {
     "data": {
      "text/plain": [
       "'30-05-2025'"
      ]
     },
     "execution_count": 32,
     "metadata": {},
     "output_type": "execute_result"
    }
   ],
   "source": [
    "from datetime import datetime\n",
    "date = \"30-05-2025\"\n",
    "date"
   ]
  },
  {
   "cell_type": "code",
   "execution_count": 38,
   "id": "2ea87c97-624f-46b6-ac69-b757bb36bc09",
   "metadata": {},
   "outputs": [],
   "source": [
    "date = datetime.strptime(date, \"%d-%m-%Y\")"
   ]
  },
  {
   "cell_type": "code",
   "execution_count": 39,
   "id": "70743d01-b3cd-469b-a44d-0a4842e8f19e",
   "metadata": {},
   "outputs": [
    {
     "data": {
      "text/plain": [
       "datetime.datetime(2025, 5, 30, 0, 0)"
      ]
     },
     "execution_count": 39,
     "metadata": {},
     "output_type": "execute_result"
    }
   ],
   "source": [
    "date"
   ]
  },
  {
   "cell_type": "code",
   "execution_count": 40,
   "id": "630bbaed-c2d4-4cb3-9b02-15439785d492",
   "metadata": {},
   "outputs": [
    {
     "name": "stdout",
     "output_type": "stream",
     "text": [
      "2025-05-30 00:00:00\n"
     ]
    }
   ],
   "source": [
    "print(date)"
   ]
  },
  {
   "cell_type": "code",
   "execution_count": 52,
   "id": "5c0eee30-ab82-44e3-9ee9-2b78bfcbb432",
   "metadata": {},
   "outputs": [],
   "source": [
    "time = pd.Timedelta(days = 1, hours = 1, minutes = 40, seconds = 55)"
   ]
  },
  {
   "cell_type": "code",
   "execution_count": 47,
   "id": "d39a31b7-ba80-4927-9717-f7ed00abddee",
   "metadata": {},
   "outputs": [
    {
     "data": {
      "text/plain": [
       "Timedelta('5 days 01:40:55')"
      ]
     },
     "execution_count": 47,
     "metadata": {},
     "output_type": "execute_result"
    }
   ],
   "source": [
    "time"
   ]
  },
  {
   "cell_type": "code",
   "execution_count": 3,
   "id": "9f6bc42f-2296-47f6-ad8f-9ad86d52763c",
   "metadata": {},
   "outputs": [
    {
     "name": "stdout",
     "output_type": "stream",
     "text": [
      "Defaulting to user installation because normal site-packages is not writeable\n",
      "Requirement already satisfied: yfinance in c:\\users\\angaj\\appdata\\roaming\\python\\python312\\site-packages (0.2.61)\n",
      "Requirement already satisfied: pandas>=1.3.0 in c:\\programdata\\anaconda3\\lib\\site-packages (from yfinance) (2.2.2)\n",
      "Requirement already satisfied: numpy>=1.16.5 in c:\\programdata\\anaconda3\\lib\\site-packages (from yfinance) (1.26.4)\n",
      "Requirement already satisfied: requests>=2.31 in c:\\programdata\\anaconda3\\lib\\site-packages (from yfinance) (2.32.3)\n",
      "Requirement already satisfied: multitasking>=0.0.7 in c:\\users\\angaj\\appdata\\roaming\\python\\python312\\site-packages (from yfinance) (0.0.11)\n",
      "Requirement already satisfied: platformdirs>=2.0.0 in c:\\programdata\\anaconda3\\lib\\site-packages (from yfinance) (3.10.0)\n",
      "Requirement already satisfied: pytz>=2022.5 in c:\\programdata\\anaconda3\\lib\\site-packages (from yfinance) (2024.1)\n",
      "Requirement already satisfied: frozendict>=2.3.4 in c:\\programdata\\anaconda3\\lib\\site-packages (from yfinance) (2.4.2)\n",
      "Requirement already satisfied: peewee>=3.16.2 in c:\\users\\angaj\\appdata\\roaming\\python\\python312\\site-packages (from yfinance) (3.18.1)\n",
      "Requirement already satisfied: beautifulsoup4>=4.11.1 in c:\\programdata\\anaconda3\\lib\\site-packages (from yfinance) (4.12.3)\n",
      "Requirement already satisfied: curl_cffi>=0.7 in c:\\users\\angaj\\appdata\\roaming\\python\\python312\\site-packages (from yfinance) (0.11.1)\n",
      "Requirement already satisfied: protobuf>=3.19.0 in c:\\programdata\\anaconda3\\lib\\site-packages (from yfinance) (4.25.3)\n",
      "Requirement already satisfied: websockets>=13.0 in c:\\users\\angaj\\appdata\\roaming\\python\\python312\\site-packages (from yfinance) (15.0.1)\n",
      "Requirement already satisfied: soupsieve>1.2 in c:\\programdata\\anaconda3\\lib\\site-packages (from beautifulsoup4>=4.11.1->yfinance) (2.5)\n",
      "Requirement already satisfied: cffi>=1.12.0 in c:\\programdata\\anaconda3\\lib\\site-packages (from curl_cffi>=0.7->yfinance) (1.17.1)\n",
      "Requirement already satisfied: certifi>=2024.2.2 in c:\\programdata\\anaconda3\\lib\\site-packages (from curl_cffi>=0.7->yfinance) (2024.8.30)\n",
      "Requirement already satisfied: python-dateutil>=2.8.2 in c:\\programdata\\anaconda3\\lib\\site-packages (from pandas>=1.3.0->yfinance) (2.9.0.post0)\n",
      "Requirement already satisfied: tzdata>=2022.7 in c:\\programdata\\anaconda3\\lib\\site-packages (from pandas>=1.3.0->yfinance) (2023.3)\n",
      "Requirement already satisfied: charset-normalizer<4,>=2 in c:\\programdata\\anaconda3\\lib\\site-packages (from requests>=2.31->yfinance) (3.3.2)\n",
      "Requirement already satisfied: idna<4,>=2.5 in c:\\programdata\\anaconda3\\lib\\site-packages (from requests>=2.31->yfinance) (3.7)\n",
      "Requirement already satisfied: urllib3<3,>=1.21.1 in c:\\programdata\\anaconda3\\lib\\site-packages (from requests>=2.31->yfinance) (2.2.3)\n",
      "Requirement already satisfied: pycparser in c:\\programdata\\anaconda3\\lib\\site-packages (from cffi>=1.12.0->curl_cffi>=0.7->yfinance) (2.21)\n",
      "Requirement already satisfied: six>=1.5 in c:\\programdata\\anaconda3\\lib\\site-packages (from python-dateutil>=2.8.2->pandas>=1.3.0->yfinance) (1.16.0)\n",
      "Note: you may need to restart the kernel to use updated packages.\n"
     ]
    }
   ],
   "source": [
    "pip install yfinance"
   ]
  },
  {
   "cell_type": "code",
   "execution_count": 4,
   "id": "bcc8b952-1414-4677-91fb-cc27300f07b4",
   "metadata": {},
   "outputs": [],
   "source": [
    "import yfinance as yf"
   ]
  },
  {
   "cell_type": "code",
   "execution_count": 8,
   "id": "6fef360a-638e-4f2f-8b84-ce3db1d76bd2",
   "metadata": {},
   "outputs": [
    {
     "name": "stderr",
     "output_type": "stream",
     "text": [
      "[*********************100%***********************]  1 of 1 completed\n"
     ]
    },
    {
     "data": {
      "text/html": [
       "<div>\n",
       "<style scoped>\n",
       "    .dataframe tbody tr th:only-of-type {\n",
       "        vertical-align: middle;\n",
       "    }\n",
       "\n",
       "    .dataframe tbody tr th {\n",
       "        vertical-align: top;\n",
       "    }\n",
       "\n",
       "    .dataframe thead tr th {\n",
       "        text-align: left;\n",
       "    }\n",
       "\n",
       "    .dataframe thead tr:last-of-type th {\n",
       "        text-align: right;\n",
       "    }\n",
       "</style>\n",
       "<table border=\"1\" class=\"dataframe\">\n",
       "  <thead>\n",
       "    <tr>\n",
       "      <th>Price</th>\n",
       "      <th>Close</th>\n",
       "      <th>High</th>\n",
       "      <th>Low</th>\n",
       "      <th>Open</th>\n",
       "      <th>Volume</th>\n",
       "    </tr>\n",
       "    <tr>\n",
       "      <th>Ticker</th>\n",
       "      <th>GOOG</th>\n",
       "      <th>GOOG</th>\n",
       "      <th>GOOG</th>\n",
       "      <th>GOOG</th>\n",
       "      <th>GOOG</th>\n",
       "    </tr>\n",
       "    <tr>\n",
       "      <th>Date</th>\n",
       "      <th></th>\n",
       "      <th></th>\n",
       "      <th></th>\n",
       "      <th></th>\n",
       "      <th></th>\n",
       "    </tr>\n",
       "  </thead>\n",
       "  <tbody>\n",
       "    <tr>\n",
       "      <th>2024-07-01</th>\n",
       "      <td>183.829254</td>\n",
       "      <td>184.676201</td>\n",
       "      <td>182.075548</td>\n",
       "      <td>183.819280</td>\n",
       "      <td>11815900</td>\n",
       "    </tr>\n",
       "    <tr>\n",
       "      <th>2024-07-02</th>\n",
       "      <td>185.941650</td>\n",
       "      <td>186.280429</td>\n",
       "      <td>182.404362</td>\n",
       "      <td>182.812897</td>\n",
       "      <td>12555500</td>\n",
       "    </tr>\n",
       "    <tr>\n",
       "      <th>2024-07-03</th>\n",
       "      <td>186.718857</td>\n",
       "      <td>186.948029</td>\n",
       "      <td>184.721033</td>\n",
       "      <td>185.632764</td>\n",
       "      <td>7409100</td>\n",
       "    </tr>\n",
       "    <tr>\n",
       "      <th>2024-07-05</th>\n",
       "      <td>191.272491</td>\n",
       "      <td>191.571405</td>\n",
       "      <td>186.649110</td>\n",
       "      <td>186.649110</td>\n",
       "      <td>14303400</td>\n",
       "    </tr>\n",
       "    <tr>\n",
       "      <th>2024-07-08</th>\n",
       "      <td>189.797775</td>\n",
       "      <td>190.992486</td>\n",
       "      <td>188.641941</td>\n",
       "      <td>190.679615</td>\n",
       "      <td>12097600</td>\n",
       "    </tr>\n",
       "    <tr>\n",
       "      <th>...</th>\n",
       "      <td>...</td>\n",
       "      <td>...</td>\n",
       "      <td>...</td>\n",
       "      <td>...</td>\n",
       "      <td>...</td>\n",
       "    </tr>\n",
       "    <tr>\n",
       "      <th>2025-05-23</th>\n",
       "      <td>169.589996</td>\n",
       "      <td>171.205002</td>\n",
       "      <td>169.259995</td>\n",
       "      <td>170.279999</td>\n",
       "      <td>24963600</td>\n",
       "    </tr>\n",
       "    <tr>\n",
       "      <th>2025-05-27</th>\n",
       "      <td>173.979996</td>\n",
       "      <td>174.289993</td>\n",
       "      <td>171.210007</td>\n",
       "      <td>171.300003</td>\n",
       "      <td>24341300</td>\n",
       "    </tr>\n",
       "    <tr>\n",
       "      <th>2025-05-28</th>\n",
       "      <td>173.380005</td>\n",
       "      <td>176.479996</td>\n",
       "      <td>173.014999</td>\n",
       "      <td>173.979996</td>\n",
       "      <td>25999200</td>\n",
       "    </tr>\n",
       "    <tr>\n",
       "      <th>2025-05-29</th>\n",
       "      <td>172.960007</td>\n",
       "      <td>175.399994</td>\n",
       "      <td>171.779999</td>\n",
       "      <td>175.000000</td>\n",
       "      <td>21174700</td>\n",
       "    </tr>\n",
       "    <tr>\n",
       "      <th>2025-05-30</th>\n",
       "      <td>170.921295</td>\n",
       "      <td>172.750000</td>\n",
       "      <td>170.559998</td>\n",
       "      <td>172.410004</td>\n",
       "      <td>7479565</td>\n",
       "    </tr>\n",
       "  </tbody>\n",
       "</table>\n",
       "<p>230 rows × 5 columns</p>\n",
       "</div>"
      ],
      "text/plain": [
       "Price            Close        High         Low        Open    Volume\n",
       "Ticker            GOOG        GOOG        GOOG        GOOG      GOOG\n",
       "Date                                                                \n",
       "2024-07-01  183.829254  184.676201  182.075548  183.819280  11815900\n",
       "2024-07-02  185.941650  186.280429  182.404362  182.812897  12555500\n",
       "2024-07-03  186.718857  186.948029  184.721033  185.632764   7409100\n",
       "2024-07-05  191.272491  191.571405  186.649110  186.649110  14303400\n",
       "2024-07-08  189.797775  190.992486  188.641941  190.679615  12097600\n",
       "...                ...         ...         ...         ...       ...\n",
       "2025-05-23  169.589996  171.205002  169.259995  170.279999  24963600\n",
       "2025-05-27  173.979996  174.289993  171.210007  171.300003  24341300\n",
       "2025-05-28  173.380005  176.479996  173.014999  173.979996  25999200\n",
       "2025-05-29  172.960007  175.399994  171.779999  175.000000  21174700\n",
       "2025-05-30  170.921295  172.750000  170.559998  172.410004   7479565\n",
       "\n",
       "[230 rows x 5 columns]"
      ]
     },
     "execution_count": 8,
     "metadata": {},
     "output_type": "execute_result"
    }
   ],
   "source": [
    "yf.download('GOOG', start = '2024-06-30', end = '2025-06-30')"
   ]
  },
  {
   "cell_type": "code",
   "execution_count": 17,
   "id": "69260e6f-2bd5-4028-a9ff-a72a0e637dd8",
   "metadata": {},
   "outputs": [],
   "source": [
    "# plotting functions in pandas\n",
    "d = pd.Series([1, 2, 3, 4, 5, 6, 9, 8, 12])"
   ]
  },
  {
   "cell_type": "code",
   "execution_count": 13,
   "id": "c586b795-3a0e-4c38-98ab-97e5fce599d8",
   "metadata": {},
   "outputs": [
    {
     "data": {
      "text/plain": [
       "0    1\n",
       "1    2\n",
       "2    3\n",
       "3    4\n",
       "4    5\n",
       "5    6\n",
       "dtype: int64"
      ]
     },
     "execution_count": 13,
     "metadata": {},
     "output_type": "execute_result"
    }
   ],
   "source": [
    "d"
   ]
  },
  {
   "cell_type": "code",
   "execution_count": 18,
   "id": "e6b7f76d-c59b-4185-b2ce-126aa25aef79",
   "metadata": {},
   "outputs": [
    {
     "data": {
      "text/plain": [
       "<Axes: >"
      ]
     },
     "execution_count": 18,
     "metadata": {},
     "output_type": "execute_result"
    },
    {
     "data": {
      "image/png": "[encoded data removed]",
      "text/plain": [
       "<Figure size 640x480 with 1 Axes>"
      ]
     },
     "metadata": {},
     "output_type": "display_data"
    }
   ],
   "source": [
    "d.plot()"
   ]
  },
  {
   "cell_type": "code",
   "execution_count": 20,
   "id": "ede355af-9419-4cca-bd76-1ddb93fe21f3",
   "metadata": {},
   "outputs": [],
   "source": [
    "Data = pd.DataFrame({\n",
    "    'a': [1, 2, 3, 5],\n",
    "    'b': [6, 8, 9, 10]\n",
    "})"
   ]
  },
  {
   "cell_type": "code",
   "execution_count": 21,
   "id": "5a139ea1-c479-4e3a-976a-f304cb2c864e",
   "metadata": {},
   "outputs": [
    {
     "data": {
      "text/html": [
       "<div>\n",
       "<style scoped>\n",
       "    .dataframe tbody tr th:only-of-type {\n",
       "        vertical-align: middle;\n",
       "    }\n",
       "\n",
       "    .dataframe tbody tr th {\n",
       "        vertical-align: top;\n",
       "    }\n",
       "\n",
       "    .dataframe thead th {\n",
       "        text-align: right;\n",
       "    }\n",
       "</style>\n",
       "<table border=\"1\" class=\"dataframe\">\n",
       "  <thead>\n",
       "    <tr style=\"text-align: right;\">\n",
       "      <th></th>\n",
       "      <th>a</th>\n",
       "      <th>b</th>\n",
       "    </tr>\n",
       "  </thead>\n",
       "  <tbody>\n",
       "    <tr>\n",
       "      <th>0</th>\n",
       "      <td>1</td>\n",
       "      <td>6</td>\n",
       "    </tr>\n",
       "    <tr>\n",
       "      <th>1</th>\n",
       "      <td>2</td>\n",
       "      <td>8</td>\n",
       "    </tr>\n",
       "    <tr>\n",
       "      <th>2</th>\n",
       "      <td>3</td>\n",
       "      <td>9</td>\n",
       "    </tr>\n",
       "    <tr>\n",
       "      <th>3</th>\n",
       "      <td>5</td>\n",
       "      <td>10</td>\n",
       "    </tr>\n",
       "  </tbody>\n",
       "</table>\n",
       "</div>"
      ],
      "text/plain": [
       "   a   b\n",
       "0  1   6\n",
       "1  2   8\n",
       "2  3   9\n",
       "3  5  10"
      ]
     },
     "execution_count": 21,
     "metadata": {},
     "output_type": "execute_result"
    }
   ],
   "source": [
    "Data"
   ]
  },
  {
   "cell_type": "code",
   "execution_count": 22,
   "id": "cec9d28b-0c9c-4499-9121-037cc2c0b43f",
   "metadata": {},
   "outputs": [
    {
     "data": {
      "text/plain": [
       "<Axes: >"
      ]
     },
     "execution_count": 22,
     "metadata": {},
     "output_type": "execute_result"
    },
    {
     "data": {
      "image/png": "[encoded data removed]",
      "text/plain": [
       "<Figure size 640x480 with 1 Axes>"
      ]
     },
     "metadata": {},
     "output_type": "display_data"
    }
   ],
   "source": [
    "Data.plot()"
   ]
  },
  {
   "cell_type": "code",
   "execution_count": 23,
   "id": "4f387ac1-0bec-4953-8bb6-8d44794dd0a5",
   "metadata": {},
   "outputs": [
    {
     "data": {
      "text/plain": [
       "<Axes: >"
      ]
     },
     "execution_count": 23,
     "metadata": {},
     "output_type": "execute_result"
    },
    {
     "data": {
      "image/png": "[encoded data removed]",
      "text/plain": [
       "<Figure size 640x480 with 1 Axes>"
      ]
     },
     "metadata": {},
     "output_type": "display_data"
    }
   ],
   "source": [
    "Data['a'].plot(kind = 'line') # with time series data or to know trend"
   ]
  },
  {
   "cell_type": "code",
   "execution_count": 24,
   "id": "630e78bc-d2c1-4046-a5d0-62ef3079cbd8",
   "metadata": {},
   "outputs": [
    {
     "data": {
      "text/plain": [
       "<Axes: >"
      ]
     },
     "execution_count": 24,
     "metadata": {},
     "output_type": "execute_result"
    },
    {
     "data": {
      "image/png": "[encoded data removed]",
      "text/plain": [
       "<Figure size 640x480 with 1 Axes>"
      ]
     },
     "metadata": {},
     "output_type": "display_data"
    }
   ],
   "source": [
    "Data['a'].plot(kind = 'bar') # catterigale data "
   ]
  },
  {
   "cell_type": "code",
   "execution_count": 25,
   "id": "710eaa5a-8917-47f2-b3e4-673ba044eabe",
   "metadata": {},
   "outputs": [
    {
     "data": {
      "text/plain": [
       "<Axes: ylabel='Frequency'>"
      ]
     },
     "execution_count": 25,
     "metadata": {},
     "output_type": "execute_result"
    },
    {
     "data": {
      "image/png": "[encoded data removed]",
      "text/plain": [
       "<Figure size 640x480 with 1 Axes>"
      ]
     },
     "metadata": {},
     "output_type": "display_data"
    }
   ],
   "source": [
    "Data['a'].plot(kind = 'hist')"
   ]
  },
  {
   "cell_type": "code",
   "execution_count": 26,
   "id": "646711ac-d1a9-4f7e-bb7c-04f690af1130",
   "metadata": {},
   "outputs": [
    {
     "data": {
      "text/plain": [
       "<Axes: xlabel='a', ylabel='b'>"
      ]
     },
     "execution_count": 26,
     "metadata": {},
     "output_type": "execute_result"
    },
    {
     "data": {
      "image/png": "[encoded data removed]",
      "text/plain": [
       "<Figure size 640x480 with 1 Axes>"
      ]
     },
     "metadata": {},
     "output_type": "display_data"
    }
   ],
   "source": [
    "Data.plot(x = 'a', y = 'b', kind = 'scatter')"
   ]
  }
 ],
 "metadata": {
  "kernelspec": {
   "display_name": "Python 3 (ipykernel)",
   "language": "python",
   "name": "python3"
  },
  "language_info": {
   "codemirror_mode": {
    "name": "ipython",
    "version": 3
   },
   "file_extension": ".py",
   "mimetype": "text/x-python",
   "name": "python",
   "nbconvert_exporter": "python",
   "pygments_lexer": "ipython3",
   "version": "3.12.7"
  }
 },
 "nbformat": 4,
 "nbformat_minor": 5
}
