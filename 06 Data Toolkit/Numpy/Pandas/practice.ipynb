{
 "cells": [
  {
   "cell_type": "code",
   "execution_count": 6,
   "id": "6d20d34b",
   "metadata": {},
   "outputs": [],
   "source": [
    "# write a code csv file\n",
    "\n",
    "import csv\n",
    "\n",
    "student = [\n",
    "    ['Name', 'Course', 'Fees'],\n",
    "    ['Gunjan', 'Bsc', 10000],\n",
    "    ['Gudiya', 'Bsc', 10000],\n",
    "    ['Reshma', 'Bsc', 10000]\n",
    "]\n",
    "\n",
    "# stape 2\n",
    "with open(\"student_Details.csv\", 'w') as f:\n",
    "    write = csv.writer(f)\n",
    "    for row in student:\n",
    "        write.writerow(row)"
   ]
  },
  {
   "cell_type": "code",
   "execution_count": null,
   "id": "0416afed",
   "metadata": {},
   "outputs": [],
   "source": []
  }
 ],
 "metadata": {
  "kernelspec": {
   "display_name": "Python 3",
   "language": "python",
   "name": "python3"
  },
  "language_info": {
   "codemirror_mode": {
    "name": "ipython",
    "version": 3
   },
   "file_extension": ".py",
   "mimetype": "text/x-python",
   "name": "python",
   "nbconvert_exporter": "python",
   "pygments_lexer": "ipython3",
   "version": "3.13.4"
  }
 },
 "nbformat": 4,
 "nbformat_minor": 5
}
