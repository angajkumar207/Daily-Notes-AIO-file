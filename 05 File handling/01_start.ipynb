{
 "cells": [
  {
   "cell_type": "code",
   "execution_count": null,
   "id": "39fe2341",
   "metadata": {},
   "outputs": [],
   "source": [
    "# mode\n",
    "#  r   >> read the file\n",
    "# w  >> write the mode\n",
    "#  a >> appentd mode\n",
    "# r+ >> both reading and writting\n"
   ]
  },
  {
   "cell_type": "code",
   "execution_count": null,
   "id": "be137ecf",
   "metadata": {},
   "outputs": [],
   "source": [
    "file = open(\"file.txt\", \"w\")  # write mode  if there not a file just a crate a new file"
   ]
  },
  {
   "cell_type": "code",
   "execution_count": null,
   "id": "5a4ef43e",
   "metadata": {},
   "outputs": [],
   "source": [
    "file.write(\"hello this is my first file\")"
   ]
  },
  {
   "cell_type": "code",
   "execution_count": null,
   "id": "b2b25830",
   "metadata": {},
   "outputs": [],
   "source": [
    "file = open(\"file.txt\", \"r\")  "
   ]
  },
  {
   "cell_type": "code",
   "execution_count": null,
   "id": "f2f8ea6a",
   "metadata": {},
   "outputs": [],
   "source": [
    "file.close()"
   ]
  },
  {
   "cell_type": "code",
   "execution_count": null,
   "id": "7371bd8e",
   "metadata": {},
   "outputs": [],
   "source": [
    "file.closed # if file  closed it "
   ]
  },
  {
   "cell_type": "code",
   "execution_count": null,
   "id": "9ded08cf",
   "metadata": {},
   "outputs": [],
   "source": [
    "file = open(\"file.txt\", \"w\")\n",
    "file.write(\"this is my fist file\\n\")\n",
    "file.write(\"this is my second file\\n\")\n",
    "file.write(\"this is my four file\\n\")\n",
    "file.write(\"this is my five file\\n\")\n",
    "file.close()"
   ]
  },
  {
   "cell_type": "code",
   "execution_count": null,
   "id": "023fa6ac",
   "metadata": {},
   "outputs": [],
   "source": [
    "# use append\n",
    "file = open(\"file.txt\", \"a\")\n",
    "file.write(\"add my new six file \")\n",
    "file.close()\n"
   ]
  },
  {
   "cell_type": "code",
   "execution_count": 1,
   "id": "31d9e1b9",
   "metadata": {},
   "outputs": [
    {
     "name": "stdout",
     "output_type": "stream",
     "text": [
      "this is my fist file\n",
      "\n",
      "this is my second file\n",
      "\n",
      "this is my four file\n",
      "\n",
      "this is my five file\n",
      "\n",
      "add my new six file \n"
     ]
    }
   ],
   "source": [
    "# various way of printing line\n",
    "file = open(\"file.txt\", 'r')\n",
    "for i in file:\n",
    "    print(i)"
   ]
  },
  {
   "cell_type": "code",
   "execution_count": 2,
   "id": "3c3ad03e",
   "metadata": {},
   "outputs": [],
   "source": [
    "import os"
   ]
  },
  {
   "cell_type": "code",
   "execution_count": 3,
   "id": "f536a2f9",
   "metadata": {},
   "outputs": [
    {
     "data": {
      "text/plain": [
       "110"
      ]
     },
     "execution_count": 3,
     "metadata": {},
     "output_type": "execute_result"
    }
   ],
   "source": [
    "os.path.getsize(\"file.txt\")"
   ]
  },
  {
   "cell_type": "code",
   "execution_count": 4,
   "id": "ade36903",
   "metadata": {},
   "outputs": [],
   "source": [
    "# create a new folder\n",
    "os.mkdir(\"test\")\n"
   ]
  },
  {
   "cell_type": "code",
   "execution_count": 5,
   "id": "a208d3e9",
   "metadata": {},
   "outputs": [],
   "source": [
    "os.mkdir(\"test/test1\") # chang the folder name"
   ]
  },
  {
   "cell_type": "code",
   "execution_count": 6,
   "id": "063813f2",
   "metadata": {},
   "outputs": [
    {
     "data": {
      "text/plain": [
       "['01_multitprocessing.ipynb',\n",
       " '01_start.ipynb',\n",
       " '02_reading_and_writting.ipynb',\n",
       " '03_expenctional_handling.ipynb',\n",
       " '04_genExec.ipynb',\n",
       " '05_interpreted.ipynb',\n",
       " '06_loggin.ipynb',\n",
       " '08_libarary_package.py',\n",
       " '09_multithread.ipynb',\n",
       " '10_multiprocessing.ipynb',\n",
       " 'bufferd_io.txt',\n",
       " 'example.txt',\n",
       " 'example_csv.csv',\n",
       " 'exaple.log',\n",
       " 'file.txt',\n",
       " 'files.txt',\n",
       " 'file_json.json',\n",
       " 'file_new.log',\n",
       " 'test',\n",
       " 'Test.log']"
      ]
     },
     "execution_count": 6,
     "metadata": {},
     "output_type": "execute_result"
    }
   ],
   "source": [
    "os.listdir()"
   ]
  },
  {
   "cell_type": "code",
   "execution_count": 7,
   "id": "d30c06c0",
   "metadata": {},
   "outputs": [],
   "source": [
    "os.mkdir(\"check\")"
   ]
  },
  {
   "cell_type": "code",
   "execution_count": 8,
   "id": "0f9168a7",
   "metadata": {},
   "outputs": [],
   "source": [
    "os.rmdir(\"check\") # delete folder"
   ]
  },
  {
   "cell_type": "code",
   "execution_count": null,
   "id": "e0ab8266",
   "metadata": {},
   "outputs": [],
   "source": [
    "with open(\"files.txt\", \"w\") as f:\n",
    "    f.write(\"this is check notepad: \")"
   ]
  },
  {
   "cell_type": "code",
   "execution_count": null,
   "id": "c726765e",
   "metadata": {},
   "outputs": [],
   "source": [
    "with open(\"files.txt\", 'r') as f:\n",
    "    line = f.readline()\n",
    "    print(line)"
   ]
  }
 ],
 "metadata": {
  "kernelspec": {
   "display_name": "Python 3",
   "language": "python",
   "name": "python3"
  },
  "language_info": {
   "codemirror_mode": {
    "name": "ipython",
    "version": 3
   },
   "file_extension": ".py",
   "mimetype": "text/x-python",
   "name": "python",
   "nbconvert_exporter": "python",
   "pygments_lexer": "ipython3",
   "version": "3.13.4"
  }
 },
 "nbformat": 4,
 "nbformat_minor": 5
}
