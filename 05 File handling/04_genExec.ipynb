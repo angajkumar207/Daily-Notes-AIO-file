{
 "cells": [
  {
   "cell_type": "code",
   "execution_count": null,
   "id": "799a240e",
   "metadata": {},
   "outputs": [],
   "source": [
    "# genrally use exception file handling"
   ]
  },
  {
   "cell_type": "code",
   "execution_count": null,
   "id": "f5693546",
   "metadata": {},
   "outputs": [],
   "source": [
    "try:\n",
    "    5/0\n",
    "\n",
    "except:\n",
    "    print(\"some error\")"
   ]
  },
  {
   "cell_type": "code",
   "execution_count": null,
   "id": "d5a3efd1",
   "metadata": {},
   "outputs": [],
   "source": [
    "try:\n",
    "    5/\"0\"\n",
    "\n",
    "except (ZeroDivisionError, TypeError)as e:\n",
    "    print(\"the devison not possible dou to the error\", e)"
   ]
  },
  {
   "cell_type": "code",
   "execution_count": null,
   "id": "ec884777",
   "metadata": {},
   "outputs": [],
   "source": [
    "#code\n",
    "import angaj"
   ]
  },
  {
   "cell_type": "code",
   "execution_count": null,
   "id": "d1787166",
   "metadata": {},
   "outputs": [],
   "source": [
    "#but\n",
    "try:\n",
    "    import angaj\n",
    "except ModuleNotFoundError as e:\n",
    "    print(\"the modul not find\",e)"
   ]
  },
  {
   "cell_type": "code",
   "execution_count": null,
   "id": "627a6709",
   "metadata": {},
   "outputs": [],
   "source": [
    "# code \n",
    "test() # name error"
   ]
  },
  {
   "cell_type": "code",
   "execution_count": null,
   "id": "03c1122f",
   "metadata": {},
   "outputs": [],
   "source": [
    "# but this code\n",
    "try:\n",
    "    test()\n",
    "except NameError as e:\n",
    "    print(e)"
   ]
  },
  {
   "cell_type": "code",
   "execution_count": null,
   "id": "9857c758",
   "metadata": {},
   "outputs": [],
   "source": [
    "# key error\n",
    "a = {\"Name\" : \"Angaj\",\n",
    "        \"degree\": \"BCA\",\n",
    "        \"Age\": \"24\"}"
   ]
  },
  {
   "cell_type": "code",
   "execution_count": null,
   "id": "b682be66",
   "metadata": {},
   "outputs": [],
   "source": [
    "a[\"Name\"]\n",
    "a[\"degree\"]\n",
    "a[\"Age\"]\n",
    "a[\"cast\"]"
   ]
  },
  {
   "cell_type": "code",
   "execution_count": null,
   "id": "b39bbd55",
   "metadata": {},
   "outputs": [],
   "source": [
    "#key error\n",
    "try:\n",
    "    a = {\"Name\" : \"Angaj\",\n",
    "        \"degree\": \"BCA\",\n",
    "        \"Age\": \"24\"}\n",
    "    a[\"cast\"]\n",
    "except KeyError as e:\n",
    "    print(\"The key is not Found\",e)"
   ]
  },
  {
   "cell_type": "code",
   "execution_count": null,
   "id": "e16ad8ae",
   "metadata": {},
   "outputs": [],
   "source": [
    "# index error\n",
    "l = [1, 2, 3, 5, 6]\n",
    "l[8] # just check so this code is give error"
   ]
  },
  {
   "cell_type": "code",
   "execution_count": null,
   "id": "c1c782fa",
   "metadata": {},
   "outputs": [],
   "source": [
    "# index\n",
    "try:\n",
    "    l = [1, 2, 3, 5, 6]\n",
    "    l[8]\n",
    "except IndexError as e:\n",
    "    print(\"The index is not found\", e)"
   ]
  },
  {
   "cell_type": "code",
   "execution_count": null,
   "id": "41a668d5",
   "metadata": {},
   "outputs": [],
   "source": [
    "# file error\n",
    "# just check code \n",
    "f = open(\"fileerror.txt\", \"r\") "
   ]
  },
  {
   "cell_type": "code",
   "execution_count": null,
   "id": "f247d2a4",
   "metadata": {},
   "outputs": [],
   "source": [
    "# real\n",
    "try:\n",
    "    f = open(\"fileerror.txt\", \"r\") \n",
    "    f.read()\n",
    "except FileNotFoundError as e:\n",
    "    print(\"the followinf file is not created\", e)"
   ]
  },
  {
   "cell_type": "code",
   "execution_count": null,
   "id": "4ec066d8",
   "metadata": {},
   "outputs": [],
   "source": [
    "# best practice \n",
    "import logging\n",
    "logging.basicConfig(filename = \"program.log\",  level= logging.DEBUG)\n",
    "try:\n",
    "    f = open(\"example.txt\", \"r\")\n",
    "    f.read()\n",
    "except FileNotFoundError as e:\n",
    "    logging.error(f\"my file is not found {e}\")"
   ]
  },
  {
   "cell_type": "code",
   "execution_count": null,
   "id": "221f368c",
   "metadata": {},
   "outputs": [],
   "source": [
    "# ZeroDevisionError\n",
    "import logging\n",
    "logging.basicConfig(filemode = \"program1.log\", level = logging.DEBUG)\n",
    "try:\n",
    "    10/0\n",
    "except ZeroDivisionError as e:\n",
    "    logging.error(f\"file is not found {e}\")\n"
   ]
  },
  {
   "cell_type": "code",
   "execution_count": null,
   "id": "93976b04",
   "metadata": {},
   "outputs": [],
   "source": [
    "# multiple exception\n",
    "import logging\n",
    "try:\n",
    "    10/0 #only yhi code execute hoga\n",
    "    10/\"stringw\"\n",
    "    m = \"Angaj\"\n",
    "    7/8\n",
    "    7/\"angasj\n",
    "    angsaj\"\n",
    "except ZeroDivisionError as e:\n",
    "    print(\"the file is not found error\", e)\n",
    "except FileNotFoundError as e:\n",
    "    print(\"the error is\", e)\n"
   ]
  },
  {
   "cell_type": "code",
   "execution_count": null,
   "id": "3cf205dd",
   "metadata": {},
   "outputs": [],
   "source": []
  }
 ],
 "metadata": {
  "kernelspec": {
   "display_name": "Python 3",
   "language": "python",
   "name": "python3"
  },
  "language_info": {
   "codemirror_mode": {
    "name": "ipython",
    "version": 3
   },
   "file_extension": ".py",
   "mimetype": "text/x-python",
   "name": "python",
   "nbconvert_exporter": "python",
   "pygments_lexer": "ipython3",
   "version": "3.13.0"
  }
 },
 "nbformat": 4,
 "nbformat_minor": 5
}
