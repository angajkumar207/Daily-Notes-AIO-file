{
 "cells": [
  {
   "cell_type": "code",
   "execution_count": null,
   "id": "e6105f4b",
   "metadata": {},
   "outputs": [],
   "source": [
    "# debugging >> it is the process and identityfy bug and issu es in your code.\n",
    "# debugging involves >> breaking the code check point , executing the code,  inspecting the variable  the using print statment"
   ]
  },
  {
   "cell_type": "code",
   "execution_count": 1,
   "id": "5f1fdbe3",
   "metadata": {},
   "outputs": [
    {
     "name": "stdout",
     "output_type": "stream",
     "text": [
      "1 2\n",
      "2 3\n",
      "3 4\n",
      "4 5\n",
      "5 6\n",
      "6 7\n",
      "7 8\n",
      "8 9\n",
      "9 10\n"
     ]
    }
   ],
   "source": [
    "#code\n",
    "for i in range(1, 10):\n",
    "    print(i, i+1)"
   ]
  },
  {
   "cell_type": "code",
   "execution_count": 2,
   "id": "ea15d2eb",
   "metadata": {},
   "outputs": [
    {
     "name": "stdout",
     "output_type": "stream",
     "text": [
      "-10 -9\n"
     ]
    },
    {
     "ename": "NameError",
     "evalue": "name 'devide' is not defined",
     "output_type": "error",
     "traceback": [
      "\u001b[31m---------------------------------------------------------------------------\u001b[39m",
      "\u001b[31mNameError\u001b[39m                                 Traceback (most recent call last)",
      "\u001b[36mCell\u001b[39m\u001b[36m \u001b[39m\u001b[32mIn[2]\u001b[39m\u001b[32m, line 3\u001b[39m\n\u001b[32m      1\u001b[39m \u001b[38;5;28;01mfor\u001b[39;00m i \u001b[38;5;129;01min\u001b[39;00m \u001b[38;5;28mrange\u001b[39m(-\u001b[32m10\u001b[39m, \u001b[32m10\u001b[39m):\n\u001b[32m      2\u001b[39m     \u001b[38;5;28mprint\u001b[39m(i, i+\u001b[32m1\u001b[39m)\n\u001b[32m----> \u001b[39m\u001b[32m3\u001b[39m     \u001b[43mdevide\u001b[49m(i, i+\u001b[32m1\u001b[39m)\n",
      "\u001b[31mNameError\u001b[39m: name 'devide' is not defined"
     ]
    }
   ],
   "source": [
    "for i in range(-10, 10):\n",
    "    print(i, i+1)\n",
    "    devide(i, i+1)"
   ]
  },
  {
   "cell_type": "code",
   "execution_count": null,
   "id": "7737b1ae",
   "metadata": {},
   "outputs": [],
   "source": [
    "# zero divison error\n",
    "def Divide(a,b):\n",
    "    print(a,b)\n",
    "    if b == 0:\n",
    "        print( \"Zero Divison Error\")\n",
    "        return \n",
    "    return a/b\n",
    "    \n",
    "for i in range(-10, 10):\n",
    "    #print(i, i+1)\n",
    "    Divide(i, i+1)"
   ]
  },
  {
   "cell_type": "code",
   "execution_count": null,
   "id": "d544a440",
   "metadata": {},
   "outputs": [],
   "source": [
    "# print statment  is not paythonic way  debugg >> print statment  are not efficient\n",
    "# print statment is good simple scripts but not complex.conjugate3 i\n",
    "# in  use to consol/terminal all the print statment will be last\n",
    "# you use to loggin  instead of print statment.\n"
   ]
  },
  {
   "cell_type": "code",
   "execution_count": 3,
   "id": "1a1d481f",
   "metadata": {},
   "outputs": [],
   "source": [
    "# lets go \n",
    "import logging\n",
    "logging.basicConfig(filename= \"Test.log\",  level= logging.INFO )\n",
    "logging.info(\"this is my normal information about software enginner\")\n",
    "logging.warning(\"there can be empty list\")\n",
    "logging.debug(\"the length of list is\")\n",
    "logging.error(\"some error as happend\")\n",
    "logging.critical(\"the software has stoped runing\")\n",
    "logging.shutdown()"
   ]
  },
  {
   "cell_type": "code",
   "execution_count": 4,
   "id": "c62a0153",
   "metadata": {},
   "outputs": [],
   "source": [
    "# debugging \n",
    "import logging\n",
    "logging.basicConfig(filename= \"new.log\", level= logging.DEBUG, format= '%(asctime)s, %(levelname)s , %(message)s')\n",
    "logging.debug(\"this is my normal information about software enginner\")\n",
    "logging.info(\"this is my info\")\n",
    "logging.warning(\"this is warning  message\")\n",
    "logging.shutdown()"
   ]
  },
  {
   "cell_type": "code",
   "execution_count": 1,
   "id": "bd54f0bd",
   "metadata": {},
   "outputs": [],
   "source": [
    "import logging\n",
    "for handler in logging.root.handlers[:]:\n",
    "    logging.root.removeHandler(handler)\n",
    "logging.basicConfig(filename= \"file_new.log\", level= logging.DEBUG, format= '%(asctime)s, %(levelname)s , %(message)s')\n",
    "logging.debug(\"this is my normal information about software enginner\")\n",
    "logging.info(\"this is my info\")\n",
    "logging.warning(\"this is warning  message\")\n",
    "logging.shutdown()"
   ]
  }
 ],
 "metadata": {
  "kernelspec": {
   "display_name": "Python 3",
   "language": "python",
   "name": "python3"
  },
  "language_info": {
   "codemirror_mode": {
    "name": "ipython",
    "version": 3
   },
   "file_extension": ".py",
   "mimetype": "text/x-python",
   "name": "python",
   "nbconvert_exporter": "python",
   "pygments_lexer": "ipython3",
   "version": "3.13.0"
  }
 },
 "nbformat": 4,
 "nbformat_minor": 5
}
