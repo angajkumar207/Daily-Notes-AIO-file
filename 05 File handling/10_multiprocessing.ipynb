{
 "cells": [
  {
   "cell_type": "code",
   "execution_count": null,
   "id": "188b4aa9",
   "metadata": {},
   "outputs": [],
   "source": [
    "#  use case 2.\n",
    "#  say you get a admission is a school\n",
    "#  you will make enrollmrnt request in queue\n",
    "#  these requests  will be processed from the queu and will  be done\n",
    "#  these are enrollment and registration tasks can run in parllel\n",
    "# this means while one process is busy putting the requests into the equeu  the other parllael\n",
    "# can be busy processing those request.\n"
   ]
  },
  {
   "cell_type": "code",
   "execution_count": 6,
   "id": "af4b3102",
   "metadata": {},
   "outputs": [],
   "source": [
    "import multiprocessing\n",
    "import multiprocessing.process\n",
    "def  enroll_students(student_queue):\n",
    "    for student in [\"Angaj\", \"Alok\", \"Abhishek\", \"gunjan\"]:\n",
    "        student_queue.put(f\"Student enrollment for {student}\")\n",
    "\n",
    "def register_students(student_queue):\n",
    "    while True:\n",
    "        enrollment_req = student_queue.get()\n",
    "        if enrollment_req is None:\n",
    "            break \n",
    "        print(f\"registration the enrollment: {enrollment_req}\")\n",
    "\n",
    "if True:\n",
    "    student_queue = multiprocessing.Queue()\n",
    "    enrollment_process = multiprocessing.Process(target = enroll_students, args  = (student_queue,))\n",
    "    reg_process = multiprocessing.Process(target = register_students, args  = (student_queue,))\n",
    "\n",
    "enrollment_process.start()\n",
    "reg_process.start()\n",
    "\n",
    "enrollment_process.join()\n",
    "reg_process.join()"
   ]
  }
 ],
 "metadata": {
  "language_info": {
   "name": "python"
  }
 },
 "nbformat": 4,
 "nbformat_minor": 5
}
