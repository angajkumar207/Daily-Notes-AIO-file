{
 "cells": [
  {
   "cell_type": "code",
   "execution_count": null,
   "id": "4c5d8495",
   "metadata": {},
   "outputs": [],
   "source": [
    "# interprted >> python , slowly wrok and reading line bty line\n",
    "#01 >> python interpreted translate the sorce code \n",
    "\n",
    "# compiler >> speed and fast working like c , c++"
   ]
  }
 ],
 "metadata": {
  "language_info": {
   "name": "python"
  }
 },
 "nbformat": 4,
 "nbformat_minor": 5
}
