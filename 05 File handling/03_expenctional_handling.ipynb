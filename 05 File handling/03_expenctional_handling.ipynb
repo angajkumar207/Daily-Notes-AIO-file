{
 "cells": [
  {
   "cell_type": "code",
   "execution_count": null,
   "id": "7a1c7813",
   "metadata": {},
   "outputs": [],
   "source": [
    "# Generally that somthing disrubs the normal event  is exception\n",
    "# In python exception is an event that accurs  doring programing execution that disurupts  the regullar flow of code "
   ]
  },
  {
   "cell_type": "code",
   "execution_count": null,
   "id": "b0dcf000",
   "metadata": {},
   "outputs": [],
   "source": [
    "print(\"Start the line\")\n",
    "print(4+5)\n",
    "print(9/4)\n",
    "print(9/0) # throw in error becoust there is sespicion code so\n",
    "print(\"the code running till now\")\n",
    "print(0-9)\n",
    "print(\"The code is end\")"
   ]
  },
  {
   "cell_type": "code",
   "execution_count": null,
   "id": "5afe06fb",
   "metadata": {},
   "outputs": [],
   "source": [
    "# you were expecting somthing but  , it didn't happen dou to which the suspicious line threw error and\n",
    "# the next line code of didn't   code executed\n",
    "# like this some error \n",
    "# zerroerroe, typeerror , filenotfoundererror (and lots of error)>> these are exception rising duo to suspicious code. this is the understanding:"
   ]
  },
  {
   "cell_type": "code",
   "execution_count": 7,
   "id": "0f3f7748",
   "metadata": {},
   "outputs": [
    {
     "name": "stdout",
     "output_type": "stream",
     "text": [
      "this can not divide\n"
     ]
    }
   ],
   "source": [
    "# syntax of exception\n",
    "# try:\n",
    "#        suspicious code\n",
    "# exception:\n",
    "#                   execuited when excpttion accurs  and try block\n",
    "# lets go example \n",
    "try:\n",
    "    a = 10\n",
    "    b =  0\n",
    "    print(a/b)\n",
    "except ZeroDivisionError:\n",
    "    print(\"this can not divide\")"
   ]
  },
  {
   "cell_type": "code",
   "execution_count": null,
   "id": "31b3cfb6",
   "metadata": {},
   "outputs": [],
   "source": [
    "try:\n",
    "    5/0\n",
    "except Exception as e:\n",
    "    print(e)\n",
    "print(\"hello this code is running\")\n",
    "print(\"wow this code is running\")\n",
    "print(2+3)\n",
    "try:\n",
    "   print(9/0)\n",
    "except ZeroDivisionError:\n",
    "    print(\"you cant print 0\")\n"
   ]
  },
  {
   "cell_type": "code",
   "execution_count": null,
   "id": "847e9c25",
   "metadata": {},
   "outputs": [],
   "source": [
    "# code\n",
    "try:\n",
    "    f = open(\"file.txt\", 'r') \n",
    "except Exception as e:\n",
    "    print(\"there is an issu with the code and issu is: \", e)\n",
    "\n",
    "else:\n",
    "    print(\"this will be execuited try except block is execuited without  any  exception\")"
   ]
  },
  {
   "cell_type": "code",
   "execution_count": 6,
   "id": "fcd752a6",
   "metadata": {},
   "outputs": [
    {
     "name": "stdout",
     "output_type": "stream",
     "text": [
      "there is an issu with the code and issu is:  not writable\n",
      "this code is always executed\n"
     ]
    }
   ],
   "source": [
    "# finaly  code\n",
    "try:\n",
    "    f = open(\"file.txt\", 'r') \n",
    "    f .write(\"hello to execution handling\")\n",
    "except Exception as e:\n",
    "    print(\"there is an issu with the code and issu is: \", e)\n",
    "\n",
    "else:\n",
    "    print(\"this will be execuited try except block is execuited without  any  exception\")\n",
    "finally:\n",
    "    print(\"this code is always executed\")"
   ]
  },
  {
   "cell_type": "code",
   "execution_count": null,
   "id": "b82888c4",
   "metadata": {},
   "outputs": [],
   "source": [
    "try:\n",
    "    5/0\n",
    "except Exception as e:\n",
    "    print(e)\n",
    "\n",
    "finally:\n",
    "    print(\"these code is always executed\")"
   ]
  },
  {
   "cell_type": "code",
   "execution_count": null,
   "id": "ebce632a",
   "metadata": {},
   "outputs": [],
   "source": [
    "# coustom execution\n",
    "income = int(input(\"Enter your salary\"))"
   ]
  },
  {
   "cell_type": "code",
   "execution_count": 9,
   "id": "6d495fc6",
   "metadata": {},
   "outputs": [],
   "source": [
    "def validate_salary(salary):\n",
    "    if salary <= 0:\n",
    "        print(\"these salary is nagetive\")\n",
    "\n",
    "    elif salary >= 300000:\n",
    "        print(\"these salary is unxcepted\")\n",
    "\n",
    "    else:\n",
    "        print(\"this salary is valid\")\n"
   ]
  },
  {
   "cell_type": "code",
   "execution_count": 10,
   "id": "be480d7b",
   "metadata": {},
   "outputs": [
    {
     "name": "stdout",
     "output_type": "stream",
     "text": [
      "these salary is unxcepted\n",
      "this salary is valid\n"
     ]
    }
   ],
   "source": [
    "validate_salary(50000000000)\n",
    "validate_salary(49999)"
   ]
  }
 ],
 "metadata": {
  "kernelspec": {
   "display_name": "Python 3",
   "language": "python",
   "name": "python3"
  },
  "language_info": {
   "codemirror_mode": {
    "name": "ipython",
    "version": 3
   },
   "file_extension": ".py",
   "mimetype": "text/x-python",
   "name": "python",
   "nbconvert_exporter": "python",
   "pygments_lexer": "ipython3",
   "version": "3.13.0"
  }
 },
 "nbformat": 4,
 "nbformat_minor": 5
}
