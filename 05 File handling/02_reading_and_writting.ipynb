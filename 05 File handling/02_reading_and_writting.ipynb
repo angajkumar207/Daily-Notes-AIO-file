{
 "cells": [
  {
   "cell_type": "code",
   "execution_count": 2,
   "id": "66e347f7",
   "metadata": {},
   "outputs": [],
   "source": [
    "Text_content = \"\"\"\n",
    "example one\n",
    "example two\n",
    "example three\n",
    "\"\"\""
   ]
  },
  {
   "cell_type": "code",
   "execution_count": 3,
   "id": "9d651de0",
   "metadata": {},
   "outputs": [],
   "source": [
    "with open(\"example.txt\", 'w') as file:\n",
    "    file.write(Text_content)"
   ]
  },
  {
   "cell_type": "code",
   "execution_count": 4,
   "id": "f8668ae3",
   "metadata": {},
   "outputs": [
    {
     "name": "stdout",
     "output_type": "stream",
     "text": [
      "\n",
      "example one\n",
      "example two\n",
      "example three\n",
      "\n"
     ]
    }
   ],
   "source": [
    "# read\n",
    "with open(\"example.txt\", 'r') as file:\n",
    "    data = file.read()\n",
    "print(data)"
   ]
  },
  {
   "cell_type": "code",
   "execution_count": 1,
   "id": "a29a3eac",
   "metadata": {},
   "outputs": [],
   "source": [
    "# csv >> comma separated  values file\n",
    "student = [[\"Name\", \"course\", \"price\"],\n",
    "                       [\"Angaj\", \"DS\", \"20,000\"],\n",
    "                       [\"Abhishek\", \"BCA\", \"30,000\"]]"
   ]
  },
  {
   "cell_type": "code",
   "execution_count": 2,
   "id": "cf792cad",
   "metadata": {},
   "outputs": [
    {
     "data": {
      "text/plain": [
       "list"
      ]
     },
     "execution_count": 2,
     "metadata": {},
     "output_type": "execute_result"
    }
   ],
   "source": [
    "type(student)"
   ]
  },
  {
   "cell_type": "code",
   "execution_count": 3,
   "id": "cace21f4",
   "metadata": {},
   "outputs": [
    {
     "name": "stdout",
     "output_type": "stream",
     "text": [
      "['Name', 'course', 'price']\n",
      "['Angaj', 'DS', '20,000']\n",
      "['Abhishek', 'BCA', '30,000']\n"
     ]
    }
   ],
   "source": [
    "for i in student:\n",
    "    print(i)"
   ]
  },
  {
   "cell_type": "code",
   "execution_count": 4,
   "id": "c97ddb2a",
   "metadata": {},
   "outputs": [],
   "source": [
    "import csv\n",
    "with open(\"example_csv.csv\",  \"w\") as f:\n",
    "    w = csv.writer(f)\n",
    "    for i in student:\n",
    "       w.writerow(i)"
   ]
  },
  {
   "cell_type": "code",
   "execution_count": 5,
   "id": "857ff940",
   "metadata": {},
   "outputs": [],
   "source": [
    "import csv\n",
    "\n",
    "student = [\n",
    "    ['Name', 'course', 'price'],\n",
    "    ['Angaj', 'DS', '20000'],\n",
    "    ['Abhishek', 'BCA', '30000']\n",
    "]\n",
    "\n",
    "with open(\"example_csv.csv\", \"w\", newline=\"\") as f:\n",
    "    writer = csv.writer(f)\n",
    "    for row in student:\n",
    "        writer.writerow(row)\n"
   ]
  },
  {
   "cell_type": "code",
   "execution_count": 7,
   "id": "a74f3042",
   "metadata": {},
   "outputs": [
    {
     "name": "stdout",
     "output_type": "stream",
     "text": [
      "['Name', 'course', 'price']\n",
      "['Angaj', 'DS', '20000']\n",
      "['Abhishek', 'BCA', '30000']\n"
     ]
    }
   ],
   "source": [
    "# read mode\n",
    "with open(\"example_csv.csv\", 'r') as f:\n",
    "    w = csv.reader(f)\n",
    "    for i in student:\n",
    "        print(i)"
   ]
  },
  {
   "cell_type": "code",
   "execution_count": 8,
   "id": "592317b5",
   "metadata": {},
   "outputs": [],
   "source": [
    "# json  writte mode\n",
    "import json\n",
    "\n",
    "with open(\"file_json.json\", \"w\") as f:\n",
    "    json.dump(student, f)"
   ]
  },
  {
   "cell_type": "code",
   "execution_count": 9,
   "id": "6ea2e236",
   "metadata": {},
   "outputs": [
    {
     "name": "stdout",
     "output_type": "stream",
     "text": [
      "[['Name', 'course', 'price'], ['Angaj', 'DS', '20000'], ['Abhishek', 'BCA', '30000']]\n"
     ]
    }
   ],
   "source": [
    "# json read mode\n",
    "\n",
    "with open(\"file_json.json\", \"r\") as f:\n",
    "    data = json.load(f)\n",
    "print(data)"
   ]
  },
  {
   "cell_type": "code",
   "execution_count": 10,
   "id": "755ae9d2",
   "metadata": {},
   "outputs": [],
   "source": [
    "member = {\n",
    "    \"Name\" : \"Angaj kumar\",\n",
    "    \"Name\" : \"Alok kumar\"\n",
    "}"
   ]
  },
  {
   "cell_type": "code",
   "execution_count": 11,
   "id": "1fd72c31",
   "metadata": {},
   "outputs": [],
   "source": [
    "data = {\n",
    "    \"Name\" : \"Angaj\",\n",
    "    \"Course\" : \"BCA\",\n",
    "    \"Fee\" : \"20,000\" \n",
    "}"
   ]
  },
  {
   "cell_type": "code",
   "execution_count": 12,
   "id": "5713644d",
   "metadata": {},
   "outputs": [],
   "source": [
    "# json writte mode\n",
    "with open(\"file_json.json\", \"w\") as f:\n",
    "    json.dump(data, f)"
   ]
  },
  {
   "cell_type": "code",
   "execution_count": null,
   "id": "fd16df14",
   "metadata": {},
   "outputs": [
    {
     "name": "stdout",
     "output_type": "stream",
     "text": [
      "{'Name': 'Angaj', 'Course': 'BCA', 'Fee': '20,000'}\n"
     ]
    }
   ],
   "source": [
    "# json read mode\n",
    "with open(\"file_json.json\", \"r\") as f:\n",
    "    data = json.load(f)\n",
    "print(data)"
   ]
  },
  {
   "cell_type": "code",
   "execution_count": null,
   "id": "072aec89",
   "metadata": {},
   "outputs": [],
   "source": [
    "# buffered reading and writting.\n",
    "#  it allows the program read and write data chunks"
   ]
  },
  {
   "cell_type": "code",
   "execution_count": 32,
   "id": "73c4d5a6",
   "metadata": {},
   "outputs": [],
   "source": [
    "import io\n",
    "\n",
    "with open(\"bufferd_io.txt\", 'wb')  as f:\n",
    "    file = io.BufferedWriter(f)\n",
    "    file.write(b\"A computer is a machine that can be programmed to automatically carry out sequences of arithmetic or logical operations (computation). Modern digital electronic computers can perform generic sets of operations known as programs. These programs enable computers to perform a wide range of tasks. The term computer system may refer to a nominally complete computer that includes the hardware, operating system, software, and peripheral equipment needed and used for full operation; or to a group of computers that are linked and function together, such as a computer network or computer cluster.\")\n",
    "    file.write(b\"Hello world, how are you\\n\")\n",
    "    file.write(b\"i am angaj\\n\")\n",
    "    file.write(b\"Gunjan is my best frends\\n\")\n",
    "    file.flush()\n"
   ]
  },
  {
   "cell_type": "code",
   "execution_count": null,
   "id": "32108358",
   "metadata": {},
   "outputs": [
    {
     "name": "stdout",
     "output_type": "stream",
     "text": [
      "b'A computer is a machine that can be programmed to automatically carry out sequences of arithmetic or'\n"
     ]
    }
   ],
   "source": [
    "# reader\n",
    "with open(\"bufferd_io.txt\", 'rb')  as f:\n",
    "    file = io.BufferedReader(f)\n",
    "    data = file.read(100) # starting to print 100 line byte###fsdgdfshgsdrtyhdsrtyfgdhfdtghdftfhTHGFHGHghsg\n",
    "\n",
    "print(data)\n"
   ]
  },
  {
   "cell_type": "code",
   "execution_count": null,
   "id": "d6147c3a",
   "metadata": {},
   "outputs": [],
   "source": [
    "# revision \n"
   ]
  },
  {
   "cell_type": "code",
   "execution_count": null,
   "id": "e0dc73f1",
   "metadata": {},
   "outputs": [],
   "source": []
  }
 ],
 "metadata": {
  "kernelspec": {
   "display_name": "Python 3",
   "language": "python",
   "name": "python3"
  },
  "language_info": {
   "codemirror_mode": {
    "name": "ipython",
    "version": 3
   },
   "file_extension": ".py",
   "mimetype": "text/x-python",
   "name": "python",
   "nbconvert_exporter": "python",
   "pygments_lexer": "ipython3",
   "version": "3.13.4"
  }
 },
 "nbformat": 4,
 "nbformat_minor": 5
}
