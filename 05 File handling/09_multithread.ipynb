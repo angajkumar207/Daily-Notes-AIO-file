{
 "cells": [
  {
   "cell_type": "code",
   "execution_count": null,
   "id": "50641e2a",
   "metadata": {},
   "outputs": [],
   "source": [
    "#  multithread >> means multi(lots of work) and thread means(task)\n",
    "# A process is  an instance of  a computer  program.\n",
    "# process an prallely on multiple processors >> multiprocessing.\n",
    "#  process runs concunrently on multiple  thread in a processor multiple thread."
   ]
  },
  {
   "cell_type": "code",
   "execution_count": 3,
   "id": "9cf053e8",
   "metadata": {},
   "outputs": [
    {
     "name": "stdout",
     "output_type": "stream",
     "text": [
      "Do somthing\n",
      "sleep fo 1 sec\n",
      "Done with sleeping\n",
      "The program finish in 1.0 second\n"
     ]
    }
   ],
   "source": [
    "import time\n",
    "start = time.perf_counter()\n",
    "\n",
    "def  test_fun():\n",
    "    print(\"Do somthing\")\n",
    "    print(\"sleep fo 1 sec\")\n",
    "    time.sleep(1)\n",
    "    print(\"Done with sleeping\")\n",
    "\n",
    "test_fun()\n",
    "end = time.perf_counter()\n",
    "print(f\"The program finish in {round(end-start, 1)} second\")\n"
   ]
  },
  {
   "cell_type": "code",
   "execution_count": null,
   "id": "6843b483",
   "metadata": {},
   "outputs": [],
   "source": [
    "# example 2 multiple\n",
    "import time\n",
    "import threading\n",
    "start = time.perf_counter()\n",
    "\n",
    "def  test_fun():\n",
    "    print(\"Do somthing\")\n",
    "    print(\"sleep fo 1 sec\")\n",
    "    time.sleep(1)\n",
    "    print(\"Done with sleeping\")\n",
    "\n",
    "t1 = threading.Thread(target=test_fun)\n",
    "t2 = threading.Thread(target=test_fun)\n",
    "\n",
    "t1.start()\n",
    "t2.start()\n",
    "end = time.perf_counter()\n",
    "print(f\"The program finish in {round(end-start, 1)} second\")\n"
   ]
  },
  {
   "cell_type": "code",
   "execution_count": null,
   "id": "eafb1223",
   "metadata": {},
   "outputs": [],
   "source": [
    "#03\n",
    "import time\n",
    "import threading\n",
    "start = time.perf_counter()\n",
    "\n",
    "def  test_fun():\n",
    "    print(\"Do somthing\")\n",
    "    print(\"sleep fo 1 sec\")\n",
    "    time.sleep(1)\n",
    "    print(\"Done with sleeping\")\n",
    "\n",
    "threads = []\n",
    "for i in range(10):\n",
    "    t = threading.Thread(target=test_fun)\n",
    "    t.start()\n",
    "    threads.append(t)\n",
    "\n",
    "for thread in threads:\n",
    "    thread.join()\n",
    "\n",
    "end = time.perf_counter()\n",
    "print(f\"The program finish in {round(end-start, 1)} second\")\n"
   ]
  },
  {
   "cell_type": "code",
   "execution_count": null,
   "id": "5c7b202d",
   "metadata": {},
   "outputs": [],
   "source": [
    "# using multithread with function that takes and arguments"
   ]
  },
  {
   "cell_type": "code",
   "execution_count": null,
   "id": "f159261a",
   "metadata": {},
   "outputs": [
    {
     "ename": "SyntaxError",
     "evalue": "invalid syntax (1177066082.py, line 12)",
     "output_type": "error",
     "traceback": [
      "  \u001b[36mCell\u001b[39m\u001b[36m \u001b[39m\u001b[32mIn[15]\u001b[39m\u001b[32m, line 12\u001b[39m\n\u001b[31m    \u001b[39m\u001b[31mshared_counter = shared_counter+=1\u001b[39m\n                                   ^\n\u001b[31mSyntaxError\u001b[39m\u001b[31m:\u001b[39m invalid syntax\n"
     ]
    }
   ],
   "source": [
    "# concurrent  feature\n",
    "import time\n",
    "import threading\n",
    "import concurrent.futures\n",
    "start = time.perf_counter()\n",
    "shared_counter = 0\n",
    "counter_lock = threading.Lock()\n",
    "\n",
    "def increment_shared_counter(x):\n",
    "    global shared_counter\n",
    "    with counter_lock:\n",
    "        shared_counter = shared_counter+1\n",
    "        print(f\"thread {x}: increment counter shared to (shared_counter)\")\n",
    "        time.sleep(1)\n",
    "    with concurrent.futures.ThreadPoolExecutor():\n",
    "        thread_args = [1, 2, 3, 4, 5,6]\n",
    "        executor.map(increment_shared_counter, thread_args)\n",
    "\n",
    "end = time.perf_counter()\n",
    "print(f\"the program finished in{round(end-start, 2)} second.\")\n"
   ]
  },
  {
   "cell_type": "code",
   "execution_count": 2,
   "id": "cf935e33",
   "metadata": {},
   "outputs": [
    {
     "name": "stdout",
     "output_type": "stream",
     "text": [
      "Thread 1: incremented shared_counter to 1\n",
      "Thread 2: incremented shared_counter to 2\n",
      "Thread 3: incremented shared_counter to 3\n",
      "Thread 4: incremented shared_counter to 4\n",
      "Thread 5: incremented shared_counter to 5\n",
      "Thread 6: incremented shared_counter to 6\n",
      "The program finished in 6.13 seconds.\n"
     ]
    }
   ],
   "source": [
    "import time\n",
    "import threading\n",
    "import concurrent.futures\n",
    "\n",
    "start = time.perf_counter()\n",
    "shared_counter = 0\n",
    "counter_lock = threading.Lock()\n",
    "\n",
    "def increment_shared_counter(x):\n",
    "    global shared_counter\n",
    "    with counter_lock:\n",
    "        shared_counter += 1\n",
    "        print(f\"Thread {x}: incremented shared_counter to {shared_counter}\")\n",
    "        time.sleep(1)\n",
    "\n",
    "# ThreadPoolExecutor का उपयोग main block में करें\n",
    "with concurrent.futures.ThreadPoolExecutor() as executor:\n",
    "    thread_args = [1, 2, 3, 4, 5, 6]\n",
    "    executor.map(increment_shared_counter, thread_args)\n",
    "\n",
    "end = time.perf_counter()\n",
    "print(f\"The program finished in {round(end-start, 2)} seconds.\")\n"
   ]
  },
  {
   "cell_type": "code",
   "execution_count": null,
   "id": "320062ee",
   "metadata": {},
   "outputs": [],
   "source": []
  }
 ],
 "metadata": {
  "kernelspec": {
   "display_name": "Python 3",
   "language": "python",
   "name": "python3"
  },
  "language_info": {
   "codemirror_mode": {
    "name": "ipython",
    "version": 3
   },
   "file_extension": ".py",
   "mimetype": "text/x-python",
   "name": "python",
   "nbconvert_exporter": "python",
   "pygments_lexer": "ipython3",
   "version": "3.13.0"
  }
 },
 "nbformat": 4,
 "nbformat_minor": 5
}
