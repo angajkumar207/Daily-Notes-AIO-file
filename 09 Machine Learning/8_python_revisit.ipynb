{
 "cells": [
  {
   "cell_type": "markdown",
   "id": "832fa3a1-8897-41bf-8f62-2b81336c17d4",
   "metadata": {},
   "source": [
    "## Dictionary Comprehension"
   ]
  },
  {
   "cell_type": "code",
   "execution_count": 54,
   "id": "4a7117c1-5a13-4e70-9c6c-2f50435e1a6d",
   "metadata": {},
   "outputs": [],
   "source": [
    "#(key_expression: value_expression for item in iterable if condition)"
   ]
  },
  {
   "cell_type": "code",
   "execution_count": 55,
   "id": "10b5feb2-0721-48bc-ac1a-5a1afc3fe8e1",
   "metadata": {},
   "outputs": [],
   "source": [
    "# square of number : (0:0, 1:1, 2:4:, 3:9, 4:16.....)"
   ]
  },
  {
   "cell_type": "code",
   "execution_count": 56,
   "id": "f0b6ef27-01a8-4c2b-8d23-7561f18489aa",
   "metadata": {},
   "outputs": [],
   "source": [
    "#number of square:\n",
    "square = {x: x**2 for x in range(5)}"
   ]
  },
  {
   "cell_type": "code",
   "execution_count": 57,
   "id": "09d8ce74-4a4d-4e88-bf05-3af1a9ea281d",
   "metadata": {},
   "outputs": [
    {
     "data": {
      "text/plain": [
       "{0: 0, 1: 1, 2: 4, 3: 9, 4: 16}"
      ]
     },
     "execution_count": 57,
     "metadata": {},
     "output_type": "execute_result"
    }
   ],
   "source": [
    "square"
   ]
  },
  {
   "cell_type": "code",
   "execution_count": 58,
   "id": "04134b38-ed51-4acf-8235-ee0fcba34371",
   "metadata": {},
   "outputs": [],
   "source": [
    "# square of even number:\n",
    "even_sq = {x: x**2 for x in range(10) if x%2 == 0}"
   ]
  },
  {
   "cell_type": "code",
   "execution_count": 59,
   "id": "bb8b33ad-2525-4dd6-a94c-73d62ee80a4d",
   "metadata": {},
   "outputs": [
    {
     "data": {
      "text/plain": [
       "{0: 0, 2: 4, 4: 16, 6: 36, 8: 64}"
      ]
     },
     "execution_count": 59,
     "metadata": {},
     "output_type": "execute_result"
    }
   ],
   "source": [
    "even_sq"
   ]
  },
  {
   "cell_type": "code",
   "execution_count": 60,
   "id": "cfc989df-e290-447c-8328-bbbca85fd13a",
   "metadata": {},
   "outputs": [],
   "source": [
    "# square of odd number:\n",
    "odd_sq = {x: x**2 for x in range(10) if x%2 != 0}"
   ]
  },
  {
   "cell_type": "code",
   "execution_count": 61,
   "id": "0f785acd-2922-49bb-a08f-f5c031f6ce23",
   "metadata": {},
   "outputs": [
    {
     "data": {
      "text/plain": [
       "{1: 1, 3: 9, 5: 25, 7: 49, 9: 81}"
      ]
     },
     "execution_count": 61,
     "metadata": {},
     "output_type": "execute_result"
    }
   ],
   "source": [
    "odd_sq"
   ]
  },
  {
   "cell_type": "code",
   "execution_count": 62,
   "id": "93a3d23c-011a-40f7-9ed0-82a690c91b1f",
   "metadata": {},
   "outputs": [],
   "source": [
    "# Q1.('a': 10, b'20') and just convert -> (10: 'a', 20: 'b')\n",
    "orig = {'a': 10, 'b':20}\n",
    "inverted = {k:v for v,k in orig.items()}"
   ]
  },
  {
   "cell_type": "code",
   "execution_count": 63,
   "id": "992c6aa1-5b0a-4a25-b1fc-307d197b7bef",
   "metadata": {},
   "outputs": [
    {
     "data": {
      "text/plain": [
       "{10: 'a', 20: 'b'}"
      ]
     },
     "execution_count": 63,
     "metadata": {},
     "output_type": "execute_result"
    }
   ],
   "source": [
    "inverted"
   ]
  },
  {
   "cell_type": "code",
   "execution_count": 64,
   "id": "5e51d8db-7816-463d-b91c-a7ea9216e4a3",
   "metadata": {},
   "outputs": [],
   "source": [
    "# print of 2 number table: this question is not good\n",
    "tab = {i: 2*i for i in range(1,11)}"
   ]
  },
  {
   "cell_type": "code",
   "execution_count": 65,
   "id": "723da496-6898-4eec-888b-a575228a9b4c",
   "metadata": {},
   "outputs": [
    {
     "data": {
      "text/plain": [
       "{1: 2, 2: 4, 3: 6, 4: 8, 5: 10, 6: 12, 7: 14, 8: 16, 9: 18, 10: 20}"
      ]
     },
     "execution_count": 65,
     "metadata": {},
     "output_type": "execute_result"
    }
   ],
   "source": [
    "tab"
   ]
  },
  {
   "cell_type": "code",
   "execution_count": 66,
   "id": "5d183c48-c23e-4ba3-9d53-c74bca3d605b",
   "metadata": {},
   "outputs": [],
   "source": [
    "# {\"Angaj\":5, \"kumar\":5, \"Paswan\":5}\n",
    "mylist = [\"Angaj\", \"kumar\", \"Paswan\"]\n",
    "mydict = {i:len(i) for i in mylist}"
   ]
  },
  {
   "cell_type": "code",
   "execution_count": 67,
   "id": "10594e6d-4f02-4021-b389-cca592b8b901",
   "metadata": {},
   "outputs": [
    {
     "data": {
      "text/plain": [
       "{'Angaj': 5, 'kumar': 5, 'Paswan': 6}"
      ]
     },
     "execution_count": 67,
     "metadata": {},
     "output_type": "execute_result"
    }
   ],
   "source": [
    "mydict"
   ]
  },
  {
   "cell_type": "code",
   "execution_count": 68,
   "id": "0044cf62-39ad-477f-8fa1-2b154f9c15ec",
   "metadata": {},
   "outputs": [],
   "source": [
    "# Create a dict of cube only if number > 3. ()"
   ]
  },
  {
   "cell_type": "code",
   "execution_count": 77,
   "id": "ba79a35c-eb29-4aae-8b8e-b7c0bf7a2c14",
   "metadata": {},
   "outputs": [],
   "source": [
    "qube = {x: x**3 for x in range(1, 10) if x > 3}"
   ]
  },
  {
   "cell_type": "code",
   "execution_count": 78,
   "id": "3c30263c-ea5e-44a0-8fc0-c37a00062d91",
   "metadata": {},
   "outputs": [
    {
     "data": {
      "text/plain": [
       "{4: 64, 5: 125, 6: 216, 7: 343, 8: 512, 9: 729}"
      ]
     },
     "execution_count": 78,
     "metadata": {},
     "output_type": "execute_result"
    }
   ],
   "source": [
    "qube"
   ]
  },
  {
   "cell_type": "markdown",
   "id": "c5a979b7-dc45-49cd-82d0-286f8cef9b09",
   "metadata": {},
   "source": [
    "Recursion"
   ]
  },
  {
   "cell_type": "markdown",
   "id": "c81c6cda-0d3d-4a7c-b753-eace25376d0e",
   "metadata": {},
   "source": [
    "## interviews"
   ]
  },
  {
   "cell_type": "code",
   "execution_count": 80,
   "id": "f6ce85c9-3310-43a1-9dc4-492d6e4fb216",
   "metadata": {},
   "outputs": [],
   "source": [
    "# cover this:\n",
    "#1. list comprehension\n",
    "#2. map, reduse, filter\n",
    "#3. pandas and numpy\n",
    "#4. classes and objects\n",
    "#5. recursion"
   ]
  },
  {
   "cell_type": "code",
   "execution_count": null,
   "id": "5a765651-e3b4-4e4a-82ef-caba25931b23",
   "metadata": {},
   "outputs": [],
   "source": [
    "# syntax of list comprehension:\n",
    "# [expression for item in iterable if condition]"
   ]
  },
  {
   "cell_type": "code",
   "execution_count": null,
   "id": "147d49f8-948f-4423-89c4-53d129a7ed82",
   "metadata": {},
   "outputs": [],
   "source": [
    "# solove this Question:\n",
    "#1. square of number\n",
    "#2. even number\n",
    "#3. convert to uppercase\n",
    "#4. filter vowels\n",
    "#5. cube of numbers for numbers > 3"
   ]
  },
  {
   "cell_type": "code",
   "execution_count": 85,
   "id": "03ac92cb-0aa6-41b2-99ba-8bf1eb80707d",
   "metadata": {},
   "outputs": [],
   "source": [
    "#1. square of number:\n",
    "sq = [x**2 for x in range(10)]"
   ]
  },
  {
   "cell_type": "code",
   "execution_count": 86,
   "id": "5225c0ba-5685-4b89-b88e-18f9ef63ad1b",
   "metadata": {},
   "outputs": [
    {
     "data": {
      "text/plain": [
       "[0, 1, 4, 9, 16, 25, 36, 49, 64, 81]"
      ]
     },
     "execution_count": 86,
     "metadata": {},
     "output_type": "execute_result"
    }
   ],
   "source": [
    "sq"
   ]
  },
  {
   "cell_type": "code",
   "execution_count": 91,
   "id": "009db6f4-e887-4f31-9bd9-4428bc908b62",
   "metadata": {},
   "outputs": [],
   "source": [
    "#2. even number:\n",
    "ev_num = [x for x in range(1, 10) if x%2 == 0]"
   ]
  },
  {
   "cell_type": "code",
   "execution_count": 92,
   "id": "2cb7916e-67ba-4af0-9a3b-b46167873b62",
   "metadata": {},
   "outputs": [
    {
     "data": {
      "text/plain": [
       "[2, 4, 6, 8]"
      ]
     },
     "execution_count": 92,
     "metadata": {},
     "output_type": "execute_result"
    }
   ],
   "source": [
    "ev_num"
   ]
  },
  {
   "cell_type": "code",
   "execution_count": 95,
   "id": "82421f0e-63a2-47d0-9b30-f8eb13d4724f",
   "metadata": {},
   "outputs": [],
   "source": [
    "#3. convert to uppercase:\n",
    "my_bx = [\"angaj\", \"kuamr\"]\n",
    "upper_list = [i.upper() for i in my_bx]"
   ]
  },
  {
   "cell_type": "code",
   "execution_count": 96,
   "id": "60d54d48-ace0-4fe3-9c59-ed2db0d8ecfa",
   "metadata": {},
   "outputs": [
    {
     "data": {
      "text/plain": [
       "['ANGAJ', 'KUAMR']"
      ]
     },
     "execution_count": 96,
     "metadata": {},
     "output_type": "execute_result"
    }
   ],
   "source": [
    "upper_list"
   ]
  },
  {
   "cell_type": "code",
   "execution_count": 97,
   "id": "9b6e1448-9420-4fb8-944c-e71d73cafbe1",
   "metadata": {},
   "outputs": [],
   "source": [
    "# now convert lowercase\n",
    "lower_list = [i.lower() for i in upper_list]"
   ]
  },
  {
   "cell_type": "code",
   "execution_count": 98,
   "id": "22924ae3-0af9-430e-b41e-6f475425dda3",
   "metadata": {},
   "outputs": [
    {
     "data": {
      "text/plain": [
       "['angaj', 'kuamr']"
      ]
     },
     "execution_count": 98,
     "metadata": {},
     "output_type": "execute_result"
    }
   ],
   "source": [
    "lower_list"
   ]
  },
  {
   "cell_type": "code",
   "execution_count": 102,
   "id": "cfd1f0dd-629c-48cd-8913-1a2e2b4247b5",
   "metadata": {},
   "outputs": [],
   "source": [
    "# i will convert again capitalize\n",
    "capitiolize = [i.capitalize() for i in lower_list ]"
   ]
  },
  {
   "cell_type": "code",
   "execution_count": 103,
   "id": "fc5ea819-28e6-4dc3-9cef-98e862a4eee6",
   "metadata": {},
   "outputs": [
    {
     "data": {
      "text/plain": [
       "['Angaj', 'Kuamr']"
      ]
     },
     "execution_count": 103,
     "metadata": {},
     "output_type": "execute_result"
    }
   ],
   "source": [
    "capitiolize"
   ]
  },
  {
   "cell_type": "code",
   "execution_count": 104,
   "id": "5f7dc4cf-d55b-4c21-ab51-d2a0c3cb4871",
   "metadata": {},
   "outputs": [],
   "source": [
    "#4. filter vowels:\n",
    "mylist = [\"a\", \"s\", \"y\", \"p\", \"n\", \"i\", \"o\", \"u\"]\n",
    "vowel_list = [i for i in mylist if i in \"aeiou\"]"
   ]
  },
  {
   "cell_type": "code",
   "execution_count": 105,
   "id": "b55f63d0-8558-4230-9a53-11906cb1c807",
   "metadata": {},
   "outputs": [
    {
     "data": {
      "text/plain": [
       "['a', 'i', 'o', 'u']"
      ]
     },
     "execution_count": 105,
     "metadata": {},
     "output_type": "execute_result"
    }
   ],
   "source": [
    "vowel_list"
   ]
  },
  {
   "cell_type": "code",
   "execution_count": 106,
   "id": "57470ba2-3e0a-44c2-9e02-526986311748",
   "metadata": {},
   "outputs": [],
   "source": [
    "#5. cube of numbers for numbers > 3:\n",
    "cube_list = [i**3 for i in range(1, 10) if i > 3]"
   ]
  },
  {
   "cell_type": "code",
   "execution_count": 107,
   "id": "da4bc139-0748-43f7-ba45-27ede6bad3d4",
   "metadata": {},
   "outputs": [
    {
     "data": {
      "text/plain": [
       "[64, 125, 216, 343, 512, 729]"
      ]
     },
     "execution_count": 107,
     "metadata": {},
     "output_type": "execute_result"
    }
   ],
   "source": [
    "cube_list"
   ]
  },
  {
   "cell_type": "markdown",
   "id": "d16b5106-0e0e-4ba8-b8ec-8c80300c4e14",
   "metadata": {},
   "source": [
    "#Map, Reduce, filter"
   ]
  },
  {
   "cell_type": "code",
   "execution_count": null,
   "id": "492df481-2b86-4533-8fe5-49fdcc1df2a6",
   "metadata": {},
   "outputs": [],
   "source": [
    "# syntyax of Map.\n",
    "#map(function, iterable)"
   ]
  },
  {
   "cell_type": "code",
   "execution_count": 110,
   "id": "79e4c6a2-395a-42bf-ae32-b86c01d8d804",
   "metadata": {},
   "outputs": [],
   "source": [
    "my_list = [2, 3, 4, 5, 6]\n",
    "squares = list(map(lambda x: x**2, my_list))"
   ]
  },
  {
   "cell_type": "code",
   "execution_count": 111,
   "id": "5216c276-ca84-4e85-aba4-7b7a44d7f20e",
   "metadata": {},
   "outputs": [
    {
     "data": {
      "text/plain": [
       "[4, 9, 16, 25, 36]"
      ]
     },
     "execution_count": 111,
     "metadata": {},
     "output_type": "execute_result"
    }
   ],
   "source": [
    "squares"
   ]
  },
  {
   "cell_type": "code",
   "execution_count": 118,
   "id": "0f3d19a9-faaa-40ec-9e41-0b88dbf99d12",
   "metadata": {},
   "outputs": [],
   "source": [
    "square2 = list(map(lambda x: x**2, range(10))) "
   ]
  },
  {
   "cell_type": "code",
   "execution_count": 120,
   "id": "e6f7186e-1310-48ae-993b-773c95e4f3c6",
   "metadata": {},
   "outputs": [
    {
     "data": {
      "text/plain": [
       "[0, 1, 4, 9, 16, 25, 36, 49, 64, 81]"
      ]
     },
     "execution_count": 120,
     "metadata": {},
     "output_type": "execute_result"
    }
   ],
   "source": [
    "square2"
   ]
  },
  {
   "cell_type": "code",
   "execution_count": null,
   "id": "7c75cf58-bb24-4bed-a670-53e02831bf13",
   "metadata": {},
   "outputs": [],
   "source": [
    "# syntax of Filter.\n",
    "# filter(function. iterable)"
   ]
  },
  {
   "cell_type": "code",
   "execution_count": 123,
   "id": "fc2aa33e-7b12-4e65-aeb2-f8deb186a01b",
   "metadata": {},
   "outputs": [],
   "source": [
    "even_list = list(filter(lambda x:x%2 == 0, my_list))"
   ]
  },
  {
   "cell_type": "code",
   "execution_count": 124,
   "id": "ebc63e29-0a35-465b-9053-3b51a9cdc0b4",
   "metadata": {},
   "outputs": [
    {
     "data": {
      "text/plain": [
       "[2, 4, 6]"
      ]
     },
     "execution_count": 124,
     "metadata": {},
     "output_type": "execute_result"
    }
   ],
   "source": [
    "even_list"
   ]
  },
  {
   "cell_type": "code",
   "execution_count": null,
   "id": "ec6a6f44-ef57-4043-af56-6a9175c5edda",
   "metadata": {},
   "outputs": [],
   "source": [
    "# syntax of reduce.\n",
    "# Reduce(fuction, iterable)"
   ]
  },
  {
   "cell_type": "code",
   "execution_count": 126,
   "id": "e99344d3-b10a-4bcb-ae52-463147ba68ab",
   "metadata": {},
   "outputs": [],
   "source": [
    "from functools import reduce\n",
    "prod = reduce(lambda x,y: x+y, my_list)"
   ]
  },
  {
   "cell_type": "code",
   "execution_count": 127,
   "id": "70c2b7ce-76bf-48ef-b0cd-cf1e4f60655c",
   "metadata": {},
   "outputs": [
    {
     "data": {
      "text/plain": [
       "20"
      ]
     },
     "execution_count": 127,
     "metadata": {},
     "output_type": "execute_result"
    }
   ],
   "source": [
    "prod"
   ]
  },
  {
   "cell_type": "code",
   "execution_count": 128,
   "id": "ff430d43-99a9-444b-952e-14617ef049f7",
   "metadata": {},
   "outputs": [
    {
     "data": {
      "text/plain": [
       "[2, 3, 4, 5, 6]"
      ]
     },
     "execution_count": 128,
     "metadata": {},
     "output_type": "execute_result"
    }
   ],
   "source": [
    "my_list"
   ]
  },
  {
   "cell_type": "code",
   "execution_count": null,
   "id": "a98bf808-3c80-4d23-bfcc-f7a34c9a2f1d",
   "metadata": {},
   "outputs": [],
   "source": [
    "# Qus1. Map >> extract the first latter of each word present in the list - [\"apple\", \"grapes\", \"orange\"]\n",
    "# from a list of strings, keep only those with length> s - filter\n",
    "# Qes2. Reduce >> find the product of all elements - [1, 2, 3, 4, 5]"
   ]
  },
  {
   "cell_type": "code",
   "execution_count": 137,
   "id": "d8d0daaf-2e85-4fef-90a4-b577a13e0a3e",
   "metadata": {},
   "outputs": [],
   "source": [
    "# Qes1:\n",
    "h_list = [\"apple\", \"grapes\", \"orange\"]\n",
    "f_latter = list(map(lambda x: x[0],h_list))"
   ]
  },
  {
   "cell_type": "code",
   "execution_count": 138,
   "id": "e24abb05-3050-4e0c-9c18-59aeff7a48be",
   "metadata": {},
   "outputs": [
    {
     "data": {
      "text/plain": [
       "['a', 'g', 'o']"
      ]
     },
     "execution_count": 138,
     "metadata": {},
     "output_type": "execute_result"
    }
   ],
   "source": [
    "f_latter"
   ]
  },
  {
   "cell_type": "code",
   "execution_count": 153,
   "id": "25c85495-06fd-42b5-9b35-26a7a68a2aef",
   "metadata": {},
   "outputs": [],
   "source": [
    "len_list = list(filter(lambda x:len(x) > 5, h_list))"
   ]
  },
  {
   "cell_type": "code",
   "execution_count": 154,
   "id": "9e54251b-4aaa-40be-8ec2-8fb32aeaeafd",
   "metadata": {},
   "outputs": [
    {
     "data": {
      "text/plain": [
       "['grapes', 'orange']"
      ]
     },
     "execution_count": 154,
     "metadata": {},
     "output_type": "execute_result"
    }
   ],
   "source": [
    "len_list"
   ]
  },
  {
   "cell_type": "code",
   "execution_count": 157,
   "id": "010ff0a5-d253-4020-937a-849419113632",
   "metadata": {},
   "outputs": [],
   "source": [
    "# Qes2.\n",
    "mylist3 = [1, 2, 3, 4 ,5]\n",
    "produ = reduce(lambda x,y: x*y, mylist3)"
   ]
  },
  {
   "cell_type": "code",
   "execution_count": 158,
   "id": "d9420562-a0a6-4d3d-b1d1-41542048a515",
   "metadata": {},
   "outputs": [
    {
     "data": {
      "text/plain": [
       "120"
      ]
     },
     "execution_count": 158,
     "metadata": {},
     "output_type": "execute_result"
    }
   ],
   "source": [
    "produ"
   ]
  },
  {
   "cell_type": "markdown",
   "id": "892e3190-c988-44bc-8afa-7008e9e907bf",
   "metadata": {},
   "source": [
    "## Recursion"
   ]
  },
  {
   "cell_type": "code",
   "execution_count": null,
   "id": "1d396828-cd62-4bf5-9354-3d9b944a4d9d",
   "metadata": {},
   "outputs": [],
   "source": [
    "'''def fuctionname(para):\n",
    "    if base_cond:\n",
    "        return:\n",
    "    else: \n",
    "        return\n",
    "    fuctionname(smaller_problems)'''"
   ]
  },
  {
   "cell_type": "code",
   "execution_count": 170,
   "id": "db5c5dfc-f267-401a-af83-eca2fb94f50a",
   "metadata": {},
   "outputs": [],
   "source": [
    "# factorial - 5! = 120\n",
    "def fact(n):\n",
    "    if n == 0 or n == 1:\n",
    "        return 1\n",
    "    else:\n",
    "        return n * fact(n-1)"
   ]
  },
  {
   "cell_type": "code",
   "execution_count": 171,
   "id": "0e0f8170-f25b-43da-ab7d-db78dd93c7df",
   "metadata": {},
   "outputs": [
    {
     "data": {
      "text/plain": [
       "120"
      ]
     },
     "execution_count": 171,
     "metadata": {},
     "output_type": "execute_result"
    }
   ],
   "source": [
    "fact(5)"
   ]
  },
  {
   "cell_type": "code",
   "execution_count": null,
   "id": "8d7f2c15-c22c-488f-b7fe-8019f8abad07",
   "metadata": {},
   "outputs": [],
   "source": [
    "# working explation of factorial\n",
    "#5*fact(4) , 5*4*fact(3), 5*4*3*fact(2), 5*4*3*2*fact(1) >>  5*4*3*2*1 >> 120"
   ]
  },
  {
   "cell_type": "code",
   "execution_count": 175,
   "id": "ede60c31-99f5-4844-b3e7-9f716186df95",
   "metadata": {},
   "outputs": [],
   "source": [
    "# Sum of first number:\n",
    "def sum_f(n):\n",
    "    if n == 0:\n",
    "        return 0\n",
    "    else:\n",
    "        return n + sum_f(n-1)"
   ]
  },
  {
   "cell_type": "code",
   "execution_count": 176,
   "id": "101b9224-96da-48bd-964f-2b29db5899de",
   "metadata": {},
   "outputs": [
    {
     "data": {
      "text/plain": [
       "21"
      ]
     },
     "execution_count": 176,
     "metadata": {},
     "output_type": "execute_result"
    }
   ],
   "source": [
    "sum_f(6)"
   ]
  },
  {
   "cell_type": "markdown",
   "id": "ee7f17f2-dfce-4383-81ac-93bc531f4b87",
   "metadata": {},
   "source": [
    "# Expalantion of sum\n",
    "6 + sum_f(5)\n",
    "6 + 5sum_f(4)\n",
    "6 + 5 + 4sum_f(3)\n",
    "6 + 5 + 4 + 3sum_f(2)\n",
    "6 + 5 + 4 + 3 + 2sum_f(1)\n",
    "6 + 5 + 4 + 3 + 2 +1sum_f(0)"
   ]
  },
  {
   "cell_type": "markdown",
   "id": "c4e0c796-cdb6-4ffe-91ed-d0d9f4723282",
   "metadata": {},
   "source": [
    "## Classes and object"
   ]
  },
  {
   "cell_type": "code",
   "execution_count": 179,
   "id": "d7d46887-ed3d-4995-80a8-5c8e5b0867c1",
   "metadata": {},
   "outputs": [],
   "source": [
    "class persion:\n",
    "    def __init__(self, name, age):\n",
    "        self.name = name\n",
    "        self.age = age\n",
    "    def greet(self):\n",
    "        print(f\"hello my name is {self.name} and i am {self.age} year old\")\n",
    "    "
   ]
  },
  {
   "cell_type": "code",
   "execution_count": 180,
   "id": "41cca1cd-9b1e-45bd-a7cd-95d5a8123a3e",
   "metadata": {},
   "outputs": [],
   "source": [
    "p = persion(\"Angaj\", 20)"
   ]
  },
  {
   "cell_type": "code",
   "execution_count": 181,
   "id": "d30b45b8-c40f-489a-bdd0-794f777300d9",
   "metadata": {},
   "outputs": [
    {
     "name": "stdout",
     "output_type": "stream",
     "text": [
      "hello my name is Angaj and i am 20 year old\n"
     ]
    }
   ],
   "source": [
    "p.greet()"
   ]
  },
  {
   "cell_type": "code",
   "execution_count": null,
   "id": "5c904dc1-f8da-493a-8825-8587b5b703ec",
   "metadata": {},
   "outputs": [],
   "source": []
  },
  {
   "cell_type": "code",
   "execution_count": null,
   "id": "f9e5d82b-d7ef-4269-93b8-947f3a4110e7",
   "metadata": {},
   "outputs": [],
   "source": []
  },
  {
   "cell_type": "code",
   "execution_count": null,
   "id": "9ab1d144-3f17-4b02-ae61-51043add8c10",
   "metadata": {},
   "outputs": [],
   "source": []
  },
  {
   "cell_type": "code",
   "execution_count": null,
   "id": "22cf5d76-6a55-4a52-98b8-b158c442932e",
   "metadata": {},
   "outputs": [],
   "source": []
  }
 ],
 "metadata": {
  "kernelspec": {
   "display_name": "Python 3 (ipykernel)",
   "language": "python",
   "name": "python3"
  },
  "language_info": {
   "codemirror_mode": {
    "name": "ipython",
    "version": 3
   },
   "file_extension": ".py",
   "mimetype": "text/x-python",
   "name": "python",
   "nbconvert_exporter": "python",
   "pygments_lexer": "ipython3",
   "version": "3.12.7"
  }
 },
 "nbformat": 4,
 "nbformat_minor": 5
}
