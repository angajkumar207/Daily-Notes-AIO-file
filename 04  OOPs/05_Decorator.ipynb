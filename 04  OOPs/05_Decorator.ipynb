{
 "cells": [
  {
   "cell_type": "code",
   "execution_count": null,
   "id": "77018e84",
   "metadata": {},
   "outputs": [],
   "source": [
    "# Hi am angaj kumar  and wellcome to the my new youtube channel  try speaking so it can provide this channel likes video edting\n"
   ]
  },
  {
   "cell_type": "code",
   "execution_count": null,
   "id": "f14d7d61",
   "metadata": {},
   "outputs": [],
   "source": [
    "# Decorator  >>  decorator is a exstend (add) any value  , value not change just same value and add new  extera value  so that is a decorator.\n",
    "# Decorator >>   Alloows to modify and  extend the behaviour or function/class without directly modify there code.\n",
    "# Similarly  to you  decorating  your  room (putting diffrent lights, stecker, and poster) >> extends/decorates the basic behaviour of room. so this is  the understanding."
   ]
  },
  {
   "cell_type": "code",
   "execution_count": 2,
   "id": "f33caef7",
   "metadata": {},
   "outputs": [
    {
     "name": "stdout",
     "output_type": "stream",
     "text": [
      "hi this is the after function.\n",
      "84\n",
      "hi this is before function.\n"
     ]
    }
   ],
   "source": [
    "# function decorator and class decorator.\n",
    "# let's  go function decorator >> like this example\n",
    "def  Decorator_function():\n",
    "    print(\"hi this is the after function.\")\n",
    "    print(12*7)\n",
    "    print(\"hi this is before function.\")\n",
    "\n",
    "# take  exicute the code\n",
    "Decorator_function()\n",
    "\n"
   ]
  },
  {
   "cell_type": "code",
   "execution_count": 22,
   "id": "46de4558",
   "metadata": {},
   "outputs": [],
   "source": [
    "# Decorator  opproch  functions use case 1.\n",
    "def my_decorator(func):\n",
    "    def wrapper():\n",
    "        print(\"The line before computation\")\n",
    "        func()\n",
    "        print(\"The line is after computation\")\n",
    "    return wrapper"
   ]
  },
  {
   "cell_type": "code",
   "execution_count": 23,
   "id": "80fc65d6",
   "metadata": {},
   "outputs": [
    {
     "name": "stdout",
     "output_type": "stream",
     "text": [
      "The line before computation\n",
      "Hello\n",
      "The line is after computation\n"
     ]
    }
   ],
   "source": [
    "@my_decorator\n",
    "def say_hello():\n",
    "    print(\"Hello\")\n",
    "say_hello()\n"
   ]
  },
  {
   "cell_type": "code",
   "execution_count": 38,
   "id": "09f5443d",
   "metadata": {},
   "outputs": [],
   "source": [
    "# Another case 2 \"Time\"\n",
    "import time\n",
    "def  time_decorator(func):\n",
    "    def timer():\n",
    "        start = time.time()\n",
    "        func()\n",
    "        end = time.time()\n",
    "        print(\"The time for execuiting  code \", end-start)\n",
    "    return timer"
   ]
  },
  {
   "cell_type": "code",
   "execution_count": 39,
   "id": "337f18a5",
   "metadata": {},
   "outputs": [],
   "source": [
    "@time_decorator\n",
    "def  func_test():\n",
    "    print(12*4)"
   ]
  },
  {
   "cell_type": "code",
   "execution_count": 40,
   "id": "6ce778a9",
   "metadata": {},
   "outputs": [
    {
     "name": "stdout",
     "output_type": "stream",
     "text": [
      "48\n",
      "The time for execuiting  code  0.00012946128845214844\n"
     ]
    }
   ],
   "source": [
    "func_test()"
   ]
  },
  {
   "cell_type": "code",
   "execution_count": null,
   "id": "ca0b08d6",
   "metadata": {},
   "outputs": [],
   "source": [
    "# why do need decorator?\n",
    "# reusability of code >> reuse the common code \n",
    "# inhencing the function without  modifying the function\n",
    "# use case >> execuitaion of time code , login, caching, validation"
   ]
  },
  {
   "cell_type": "code",
   "execution_count": 44,
   "id": "ee00c3f6",
   "metadata": {},
   "outputs": [],
   "source": [
    "# class decorator\n",
    "class Decorator:\n",
    "    def __init__(self, func):\n",
    "        self.func = func\n",
    "    def __call__(self):\n",
    "        print(\"Somthing happing before  function\")\n",
    "        self.func()\n",
    "        print(\"Somthing happing after func tion\")\n"
   ]
  },
  {
   "cell_type": "code",
   "execution_count": 45,
   "id": "d349708e",
   "metadata": {},
   "outputs": [
    {
     "name": "stdout",
     "output_type": "stream",
     "text": [
      "Somthing happing before  function\n",
      "Hello\n",
      "Somthing happing after func tion\n"
     ]
    }
   ],
   "source": [
    "@Decorator\n",
    "def say_hello():\n",
    "    print(\"Hello\")  \n",
    "say_hello()\n",
    "\n"
   ]
  },
  {
   "cell_type": "code",
   "execution_count": 50,
   "id": "326390e2",
   "metadata": {},
   "outputs": [],
   "source": [
    "# Adding\n",
    "class math:\n",
    "    @classmethod\n",
    "    def add(cls, x, y):\n",
    "        return  cls.__name__, x + y"
   ]
  },
  {
   "cell_type": "code",
   "execution_count": 52,
   "id": "a9a883ec",
   "metadata": {},
   "outputs": [
    {
     "data": {
      "text/plain": [
       "('math', 8)"
      ]
     },
     "execution_count": 52,
     "metadata": {},
     "output_type": "execute_result"
    }
   ],
   "source": [
    "math.add(4,4)\n"
   ]
  },
  {
   "cell_type": "code",
   "execution_count": null,
   "id": "88ddeb75",
   "metadata": {},
   "outputs": [
    {
     "data": {
      "text/plain": [
       "4"
      ]
     },
     "execution_count": 60,
     "metadata": {},
     "output_type": "execute_result"
    }
   ],
   "source": [
    "# early\n",
    "class math:\n",
    "    def add(self, x, y):\n",
    "        return x +y\n",
    "    \n",
    "a1 = math()  # make objects/instance\n",
    "a1.add(2, 2)  #  this is the way to call regular class method\n"
   ]
  },
  {
   "cell_type": "code",
   "execution_count": null,
   "id": "73a3a551",
   "metadata": {},
   "outputs": [
    {
     "data": {
      "text/plain": [
       "8"
      ]
     },
     "execution_count": 61,
     "metadata": {},
     "output_type": "execute_result"
    }
   ],
   "source": [
    "# static method\n",
    "class mathe:\n",
    "    @staticmethod\n",
    "    def add(x,y): # no need of self and cls\n",
    "        return x+y  \n",
    "    \n",
    "mathe.add(3,5) # no need  of making any object\n"
   ]
  },
  {
   "cell_type": "code",
   "execution_count": 62,
   "id": "5fd145e0",
   "metadata": {},
   "outputs": [],
   "source": [
    "class Circle:\n",
    "    def __init__(self, redius):\n",
    "        self.redius = redius\n",
    "    def area(self):\n",
    "        redius = self.redius\n",
    "        return 3,14*redius**2\n",
    "        "
   ]
  },
  {
   "cell_type": "code",
   "execution_count": 67,
   "id": "1834f8e8",
   "metadata": {},
   "outputs": [
    {
     "data": {
      "text/plain": [
       "5"
      ]
     },
     "execution_count": 67,
     "metadata": {},
     "output_type": "execute_result"
    }
   ],
   "source": [
    "obj = Circle(5)\n",
    "obj.redius"
   ]
  },
  {
   "cell_type": "code",
   "execution_count": 69,
   "id": "210c625d",
   "metadata": {},
   "outputs": [
    {
     "data": {
      "text/plain": [
       "(3, 350)"
      ]
     },
     "execution_count": 69,
     "metadata": {},
     "output_type": "execute_result"
    }
   ],
   "source": [
    "obj.area()"
   ]
  }
 ],
 "metadata": {
  "kernelspec": {
   "display_name": "Python 3",
   "language": "python",
   "name": "python3"
  },
  "language_info": {
   "codemirror_mode": {
    "name": "ipython",
    "version": 3
   },
   "file_extension": ".py",
   "mimetype": "text/x-python",
   "name": "python",
   "nbconvert_exporter": "python",
   "pygments_lexer": "ipython3",
   "version": "3.13.0"
  }
 },
 "nbformat": 4,
 "nbformat_minor": 5
}
