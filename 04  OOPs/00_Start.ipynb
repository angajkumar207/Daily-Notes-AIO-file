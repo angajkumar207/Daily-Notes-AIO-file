{
 "cells": [
  {
   "cell_type": "code",
   "execution_count": 1,
   "id": "59db954e",
   "metadata": {},
   "outputs": [],
   "source": [
    "class car:\n",
    "    pass"
   ]
  },
  {
   "cell_type": "code",
   "execution_count": null,
   "id": "09f429b0",
   "metadata": {},
   "outputs": [
    {
     "data": {
      "text/plain": [
       "'Green'"
      ]
     },
     "execution_count": 5,
     "metadata": {},
     "output_type": "execute_result"
    }
   ],
   "source": [
    "# Atterbutes >> like this Brand a Atterbutes and brand = car then car is value\n",
    "# like this example\n",
    "class Mobile:\n",
    "    def __init__(self, Name, Brand, Prise, color):\n",
    "        self.Name = Name\n",
    "        self.Brand = Brand\n",
    "        self.Prise = Prise\n",
    "        self.color = color\n",
    "\n",
    "mo1 = Mobile(\"Oppo\", \"Andoraid\", 200, \"Green\")\n",
    "mo1.Brand\n",
    "mo1.color"
   ]
  },
  {
   "cell_type": "code",
   "execution_count": null,
   "id": "f66a740a",
   "metadata": {},
   "outputs": [
    {
     "name": "stdout",
     "output_type": "stream",
     "text": [
      "laptop Name: => Lenvo i pad 1\n",
      "laptop Brand: => HP\n",
      "laptop Ram: => 16\n",
      "laptop price: => price\n"
     ]
    }
   ],
   "source": [
    "# code\n",
    "class laptop:\n",
    "    def __init__(self,Name, Brand, Ram, price):\n",
    "        self.Name = Name\n",
    "        self.Brand = Brand\n",
    "        self.Ram = Ram\n",
    "        self.price = price\n",
    "\n",
    "my_laptop = laptop(\"Lenvo i pad 1\", \"HP\", 16, \"60,0000\")\n",
    "print(\"laptop Name: =>\", my_laptop.Name)\n",
    "print(\"laptop Brand: =>\", my_laptop.Brand)\n",
    "print(\"laptop Ram: =>\", my_laptop.Ram)\n",
    "print(\"laptop price: =>\", my_laptop.price)"
   ]
  },
  {
   "cell_type": "code",
   "execution_count": 3,
   "id": "1d002680",
   "metadata": {},
   "outputs": [
    {
     "name": "stdout",
     "output_type": "stream",
     "text": [
      "<class '__main__.car'>\n"
     ]
    }
   ],
   "source": [
    "c1 = car()\n",
    "print(type(c1))"
   ]
  },
  {
   "cell_type": "code",
   "execution_count": null,
   "id": "ed19909f",
   "metadata": {},
   "outputs": [],
   "source": [
    "# car\n",
    "# self is not python keyword you can pass any value\n",
    "# but for practice we can use self\n",
    "class car:\n",
    "    def accselration(self):\n",
    "        print(\"The car is accselration\")\n",
    "    def breake(self):\n",
    "            print(\"The car is stop\")\n",
    "#c1 = car()  \n",
    "#c1.accselration()\n",
    "#c1.breake()      \n",
    "\n",
    "\n",
    "    \n",
    "    "
   ]
  },
  {
   "cell_type": "code",
   "execution_count": 13,
   "id": "15b52124",
   "metadata": {},
   "outputs": [
    {
     "name": "stdout",
     "output_type": "stream",
     "text": [
      "The car is stop\n"
     ]
    }
   ],
   "source": [
    "c1 = car()\n",
    "c1.breake()"
   ]
  },
  {
   "cell_type": "code",
   "execution_count": 19,
   "id": "f4e6a5f9",
   "metadata": {},
   "outputs": [
    {
     "name": "stdout",
     "output_type": "stream",
     "text": [
      "i am depositing the money \n",
      "i am trying to withdraw money\n"
     ]
    }
   ],
   "source": [
    "class bank:\n",
    "    def depostive(money):\n",
    "        print(\"i am depositing the money \")\n",
    "    def withdrawal(money):\n",
    "        print(\"i am trying to withdraw money\")\n",
    "c1 = bank()\n",
    "c1.depostive()\n",
    "c1.withdrawal()\n"
   ]
  },
  {
   "cell_type": "code",
   "execution_count": 23,
   "id": "a183506b",
   "metadata": {},
   "outputs": [],
   "source": [
    "# passing data in the class >> can also be called as property/atterbute\n",
    "# like this example:\n",
    "class banks:\n",
    "    def depositive(self,amount):\n",
    "        print(\"i am depostive the money: \")\n",
    "    def withdraw(self,amount):\n",
    "        print(\"i am withdraw the money: \")\n"
   ]
  },
  {
   "cell_type": "code",
   "execution_count": 25,
   "id": "9f2611ae",
   "metadata": {},
   "outputs": [
    {
     "name": "stdout",
     "output_type": "stream",
     "text": [
      "i am depostive the money: \n"
     ]
    }
   ],
   "source": [
    "Angaj = banks()\n",
    "Angaj.depositive(1000)"
   ]
  },
  {
   "cell_type": "code",
   "execution_count": 30,
   "id": "f517c414",
   "metadata": {},
   "outputs": [],
   "source": [
    "# defulate\n",
    "class banks:\n",
    "    amount = 1000\n",
    "    def depositive(self,amount):\n",
    "        print(\"i am depostive the money: \")\n",
    "    def withdraw(self,amount):\n",
    "        print(\"i am withdraw the money: \")\n"
   ]
  },
  {
   "cell_type": "code",
   "execution_count": 31,
   "id": "272bb421",
   "metadata": {},
   "outputs": [
    {
     "name": "stdout",
     "output_type": "stream",
     "text": [
      "i am depostive the money: \n"
     ]
    }
   ],
   "source": [
    "Angaj = banks()\n",
    "Angaj.depositive(1000)"
   ]
  },
  {
   "cell_type": "code",
   "execution_count": 33,
   "id": "01165295",
   "metadata": {},
   "outputs": [
    {
     "data": {
      "text/plain": [
       "1000"
      ]
     },
     "execution_count": 33,
     "metadata": {},
     "output_type": "execute_result"
    }
   ],
   "source": [
    "Angaj.amount"
   ]
  },
  {
   "cell_type": "code",
   "execution_count": 35,
   "id": "f3bbe07d",
   "metadata": {},
   "outputs": [
    {
     "name": "stdout",
     "output_type": "stream",
     "text": [
      "i am withdraw the money: \n"
     ]
    },
    {
     "data": {
      "text/plain": [
       "1000"
      ]
     },
     "execution_count": 35,
     "metadata": {},
     "output_type": "execute_result"
    }
   ],
   "source": [
    "Angaj.withdraw(500)\n",
    "Angaj.amount"
   ]
  },
  {
   "cell_type": "code",
   "execution_count": 79,
   "id": "3303994a",
   "metadata": {},
   "outputs": [],
   "source": [
    "# Extract odd and even no s of list\n",
    "class check():\n",
    "    l = [1, 2, 3, 4, 5, 6, 7, 8 ,9, 10]\n",
    "    def extract_even(self,l):\n",
    "        l1 = []\n",
    "        for i in l:\n",
    "            if i % 2 == 0:\n",
    "                l1.append(i)\n",
    "\n",
    "        return l1\n",
    "    def extract_odd(self,l):\n",
    "        l1 = []\n",
    "        for i in l:\n",
    "            if i % 2 != 0:\n",
    "                l1.append(i)\n",
    "        return l1\n"
   ]
  },
  {
   "cell_type": "code",
   "execution_count": 80,
   "id": "c5f4113f",
   "metadata": {},
   "outputs": [
    {
     "data": {
      "text/plain": [
       "[1, 2, 3, 4, 5, 6, 7, 8, 9, 10]"
      ]
     },
     "execution_count": 80,
     "metadata": {},
     "output_type": "execute_result"
    }
   ],
   "source": [
    "Ag = check()\n",
    "Ag.l"
   ]
  },
  {
   "cell_type": "code",
   "execution_count": 81,
   "id": "a1a996e7",
   "metadata": {},
   "outputs": [
    {
     "data": {
      "text/plain": [
       "[1, 2, 3, 4, 5, 6, 7, 8, 9, 10]"
      ]
     },
     "execution_count": 81,
     "metadata": {},
     "output_type": "execute_result"
    }
   ],
   "source": [
    "Ag.l"
   ]
  },
  {
   "cell_type": "code",
   "execution_count": 82,
   "id": "d5fcfc40",
   "metadata": {},
   "outputs": [
    {
     "data": {
      "text/plain": [
       "[2, 4, 6, 8, 10]"
      ]
     },
     "execution_count": 82,
     "metadata": {},
     "output_type": "execute_result"
    }
   ],
   "source": [
    "Ag.extract_even(Ag.l)"
   ]
  },
  {
   "cell_type": "code",
   "execution_count": 83,
   "id": "4bcf9418",
   "metadata": {},
   "outputs": [
    {
     "data": {
      "text/plain": [
       "[1, 3, 5, 7, 9]"
      ]
     },
     "execution_count": 83,
     "metadata": {},
     "output_type": "execute_result"
    }
   ],
   "source": [
    "Ag.extract_odd(Ag.l)"
   ]
  },
  {
   "cell_type": "code",
   "execution_count": null,
   "id": "4649bf24",
   "metadata": {},
   "outputs": [],
   "source": [
    "# __init__ \n",
    "class check():\n",
    "    def __init__(self,l): # magic method/dunder method >> init means initialsltion\n",
    "        self.l\n",
    "\n",
    "    def extract_even(self,l): #be carefull init has a use only pass self in the method and not the variable again.\n",
    "        l1 = []\n",
    "        for i in l:\n",
    "            if i % 2 == 0:\n",
    "                l1.append(i)\n",
    "\n",
    "        return l1\n",
    "    def extract_odd(self,l):\n",
    "        l1 = []\n",
    "        for i in l:\n",
    "            if i % 2 != 0:\n",
    "                l1.append(i)\n",
    "        return l1\n"
   ]
  },
  {
   "cell_type": "code",
   "execution_count": 85,
   "id": "91d44bdb",
   "metadata": {},
   "outputs": [
    {
     "data": {
      "text/plain": [
       "[2, 4, 6, 8, 10]"
      ]
     },
     "execution_count": 85,
     "metadata": {},
     "output_type": "execute_result"
    }
   ],
   "source": [
    "Gunjan = check()\n",
    "Gunjan.extract_even([1, 2, 3, 4, 5, 6, 7, 8, 9, 10])"
   ]
  },
  {
   "cell_type": "code",
   "execution_count": 95,
   "id": "06985241",
   "metadata": {},
   "outputs": [],
   "source": [
    "# __init__ \n",
    "class check():\n",
    "    def __init__(self,l): # magic method/dunder method >> init means initialsltion\n",
    "        self.l = l\n",
    "\n",
    "    def extract_even(self):\n",
    "        l = self.l #be carefull init has a use only pass self in the method and not the variable again.\n",
    "        l1 = []\n",
    "        for i in l:\n",
    "            if i % 2 == 0:\n",
    "                l1.append(i)\n",
    "\n",
    "        return l1\n",
    "    def extract_odd(self):\n",
    "        l = self.l\n",
    "        l1 = []\n",
    "        for i in l:\n",
    "            if i % 2 != 0:\n",
    "                l1.append(i)\n",
    "        return l1\n"
   ]
  },
  {
   "cell_type": "code",
   "execution_count": 96,
   "id": "1375eeb6",
   "metadata": {},
   "outputs": [
    {
     "data": {
      "text/plain": [
       "[2, 4, 6, 8, 10]"
      ]
     },
     "execution_count": 96,
     "metadata": {},
     "output_type": "execute_result"
    }
   ],
   "source": [
    "Gunjan1 = check([1, 2, 3, 4, 5, 6, 7, 8, 9, 10])\n",
    "Gunjan1.extract_even()"
   ]
  },
  {
   "cell_type": "code",
   "execution_count": 2,
   "id": "7d13a20a",
   "metadata": {},
   "outputs": [],
   "source": [
    "# multiple atteributes\n",
    "# is a book store\n",
    "\n",
    "class book():\n",
    "    def __init__(self, name, athor, title):\n",
    "        self.name_of_book = name\n",
    "        self.book_athor = athor\n",
    "        self.book_title = title\n",
    "\n",
    "    def etract_book_name_title_details(self):\n",
    "        print(self.name_of_book, self.book_athor)\n",
    "    def etract_book_name_title_details_athor(self):\n",
    "        print(self.name_of_book, self.book_title)\n",
    "\n"
   ]
  },
  {
   "cell_type": "code",
   "execution_count": 3,
   "id": "52767d30",
   "metadata": {},
   "outputs": [
    {
     "name": "stdout",
     "output_type": "stream",
     "text": [
      "Cs Author\n"
     ]
    }
   ],
   "source": [
    "student1 = book(\"Cs\", \"Author\", \"Computer Scince\")\n",
    "student1.etract_book_name_title_details()"
   ]
  },
  {
   "cell_type": "markdown",
   "id": "d4a1ebdb",
   "metadata": {},
   "source": []
  }
 ],
 "metadata": {
  "kernelspec": {
   "display_name": "Python 3",
   "language": "python",
   "name": "python3"
  },
  "language_info": {
   "codemirror_mode": {
    "name": "ipython",
    "version": 3
   },
   "file_extension": ".py",
   "mimetype": "text/x-python",
   "name": "python",
   "nbconvert_exporter": "python",
   "pygments_lexer": "ipython3",
   "version": "3.13.0"
  }
 },
 "nbformat": 4,
 "nbformat_minor": 5
}
