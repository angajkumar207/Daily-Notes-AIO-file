{
 "cells": [
  {
   "cell_type": "code",
   "execution_count": null,
   "id": "99a19d30",
   "metadata": {},
   "outputs": [],
   "source": [
    "# code \n",
    "class techer_lecture:\n",
    "    def lec_info(self):\n",
    "        print(\"Data scince\")\n",
    "class student_details:\n",
    "    def lec_info(self):\n",
    "        print(\"Name, Roll, Section,\")\n",
    "obj1 = techer_lecture()\n",
    "obj2 = student_details()\n",
    "class_object = [obj1, obj2]\n",
    "\n"
   ]
  },
  {
   "cell_type": "code",
   "execution_count": 12,
   "id": "c1d4750e",
   "metadata": {},
   "outputs": [],
   "source": [
    "def parcer(class_object):\n",
    "    for i in class_object:\n",
    "        i.lec_info()"
   ]
  },
  {
   "cell_type": "code",
   "execution_count": 17,
   "id": "65dc43ed",
   "metadata": {},
   "outputs": [
    {
     "name": "stdout",
     "output_type": "stream",
     "text": [
      "Data scince\n",
      "Name, Roll, Section,\n"
     ]
    }
   ],
   "source": [
    "parcer(class_object)"
   ]
  },
  {
   "cell_type": "code",
   "execution_count": 31,
   "id": "333d1283",
   "metadata": {},
   "outputs": [],
   "source": [
    "# overloadding\n",
    "\n",
    "class student:\n",
    "    def student(self):\n",
    "        print(\"Wellcome to the RN college\")\n",
    "    def student(self, name = \"\"):\n",
    "        print(\"wellcome to the RN college\", name)\n",
    "    def student(self, course = \"\", name = \"\"):\n",
    "        print(\"wellcome to the RN college\", name, course)\n"
   ]
  },
  {
   "cell_type": "code",
   "execution_count": 32,
   "id": "d370e45f",
   "metadata": {},
   "outputs": [],
   "source": [
    "ob1 = student()"
   ]
  },
  {
   "cell_type": "code",
   "execution_count": 34,
   "id": "98f9a4af",
   "metadata": {},
   "outputs": [
    {
     "name": "stdout",
     "output_type": "stream",
     "text": [
      "wellcome to the RN college  \n"
     ]
    }
   ],
   "source": [
    "ob1.student()"
   ]
  },
  {
   "cell_type": "code",
   "execution_count": 36,
   "id": "3d417fe4",
   "metadata": {},
   "outputs": [
    {
     "name": "stdout",
     "output_type": "stream",
     "text": [
      "wellcome to the RN college  Angaj\n"
     ]
    }
   ],
   "source": [
    "ob1.student(\"Angaj\")"
   ]
  },
  {
   "cell_type": "code",
   "execution_count": 37,
   "id": "3ca6b9bc",
   "metadata": {},
   "outputs": [
    {
     "name": "stdout",
     "output_type": "stream",
     "text": [
      "wellcome to the RN college Angaj BCA\n"
     ]
    }
   ],
   "source": [
    "ob1.student(\"BCA\", \"Angaj\")"
   ]
  },
  {
   "cell_type": "code",
   "execution_count": 38,
   "id": "8d2e5fac",
   "metadata": {},
   "outputs": [],
   "source": [
    "# Methode overlodding >> student method is taking diffrent froms the last methode overload in the privious\n",
    "class student:\n",
    "    def student(self, course = \"\", name = \"\"):\n",
    "        print(\"wellcome to the RN college\", name, course)"
   ]
  },
  {
   "cell_type": "code",
   "execution_count": 39,
   "id": "53fb3bc2",
   "metadata": {},
   "outputs": [],
   "source": [
    "s1 = student()"
   ]
  },
  {
   "cell_type": "code",
   "execution_count": 42,
   "id": "12c7d91c",
   "metadata": {},
   "outputs": [
    {
     "name": "stdout",
     "output_type": "stream",
     "text": [
      "wellcome to the RN college  \n",
      "wellcome to the RN college  Angaj\n",
      "wellcome to the RN college ANGAJ BCA\n"
     ]
    }
   ],
   "source": [
    "s1.student()\n",
    "s1.student(\"Angaj\")\n",
    "s1.student(\"BCA\", \"ANGAJ\")"
   ]
  },
  {
   "cell_type": "code",
   "execution_count": 63,
   "id": "988374dd",
   "metadata": {},
   "outputs": [],
   "source": [
    "#polymorphism\n",
    "\n",
    "class Animal:\n",
    "    def Sound(self):\n",
    "        print(\"Animal Sound\")\n",
    "class Cat(Animal):\n",
    "    def Sound(self):\n",
    "        print(\"cat meows\")\n",
    "class Dog(Animal):\n",
    "    def Sound(self):\n",
    "        print(\"Dog bark\")"
   ]
  },
  {
   "cell_type": "code",
   "execution_count": 64,
   "id": "70f24216",
   "metadata": {},
   "outputs": [
    {
     "name": "stdout",
     "output_type": "stream",
     "text": [
      "Animal Sound\n"
     ]
    }
   ],
   "source": [
    "sound = Animal()\n",
    "sound.Sound()\n"
   ]
  },
  {
   "cell_type": "code",
   "execution_count": 66,
   "id": "e00352c1",
   "metadata": {},
   "outputs": [
    {
     "name": "stdout",
     "output_type": "stream",
     "text": [
      "cat meows\n"
     ]
    }
   ],
   "source": [
    "cat1 = Cat()\n",
    "cat1.Sound()"
   ]
  },
  {
   "cell_type": "code",
   "execution_count": 67,
   "id": "31b7824c",
   "metadata": {},
   "outputs": [
    {
     "name": "stdout",
     "output_type": "stream",
     "text": [
      "Dog bark\n"
     ]
    }
   ],
   "source": [
    "dog1 = Dog()\n",
    "dog1.Sound()"
   ]
  },
  {
   "cell_type": "code",
   "execution_count": null,
   "id": "335cb620",
   "metadata": {},
   "outputs": [],
   "source": [
    "# Encapsulation >> means hiding Somthing\n",
    "# Bundling of data and methods of class\n",
    "# Access modifire >> public, protect, private"
   ]
  },
  {
   "cell_type": "code",
   "execution_count": null,
   "id": "222a7dfc",
   "metadata": {},
   "outputs": [],
   "source": [
    "# Publically\n",
    "class student:\n",
    "    def __init__(self, Name, Degree):\n",
    "        self.name = Name\n",
    "        self.Degree = Degree"
   ]
  },
  {
   "cell_type": "code",
   "execution_count": 74,
   "id": "39355e6a",
   "metadata": {},
   "outputs": [],
   "source": [
    "stud = student(\"ANGAJ\", \"BCA\")"
   ]
  },
  {
   "cell_type": "code",
   "execution_count": 76,
   "id": "81bff537",
   "metadata": {},
   "outputs": [
    {
     "data": {
      "text/plain": [
       "'ANGAJ'"
      ]
     },
     "execution_count": 76,
     "metadata": {},
     "output_type": "execute_result"
    }
   ],
   "source": [
    "stud.Degree\n",
    "stud.name"
   ]
  },
  {
   "cell_type": "code",
   "execution_count": 77,
   "id": "71d55e7f",
   "metadata": {},
   "outputs": [
    {
     "data": {
      "text/plain": [
       "'B.TECH'"
      ]
     },
     "execution_count": 77,
     "metadata": {},
     "output_type": "execute_result"
    }
   ],
   "source": [
    "stud.Degree = \"B.TECH\"\n",
    "stud.Degree"
   ]
  },
  {
   "cell_type": "code",
   "execution_count": null,
   "id": "e8f001ae",
   "metadata": {},
   "outputs": [],
   "source": [
    "#code\n",
    "\n",
    "class Student:\n",
    "    def __init__(self, Name, Degree):\n",
    "        self.Name = Name\n",
    "        self.Degree = Degree\n",
    "    \n",
    "    def show(self):\n",
    "        print(\"Name => \", self.Name, \"Degree =>\", self.Degree)\n"
   ]
  },
  {
   "cell_type": "code",
   "execution_count": 10,
   "id": "dd678c6b",
   "metadata": {},
   "outputs": [],
   "source": [
    "p1 = Student(\"Angaj\", \"BCA\")"
   ]
  },
  {
   "cell_type": "code",
   "execution_count": 11,
   "id": "62060d55",
   "metadata": {},
   "outputs": [
    {
     "name": "stdout",
     "output_type": "stream",
     "text": [
      "Name =>  Angaj Degree => BCA\n"
     ]
    }
   ],
   "source": [
    "p1.show()\n"
   ]
  },
  {
   "cell_type": "code",
   "execution_count": null,
   "id": "5bb177ed",
   "metadata": {},
   "outputs": [],
   "source": [
    "# PRIVATE >> The Data and methode only accessible whithin its class use to make pr"
   ]
  },
  {
   "cell_type": "code",
   "execution_count": 16,
   "id": "91a85cca",
   "metadata": {},
   "outputs": [],
   "source": [
    "# Private\n",
    "class Student:\n",
    "    def __init__(self, Name, Degree):\n",
    "        self.Name = Name\n",
    "        self.__Degree = Degree\n",
    "    \n",
    "    def show(self):\n",
    "        print(\"Name => \", self.Name, \"Degree =>\", self.__Degree)"
   ]
  },
  {
   "cell_type": "code",
   "execution_count": 17,
   "id": "877688fd",
   "metadata": {},
   "outputs": [
    {
     "name": "stdout",
     "output_type": "stream",
     "text": [
      "Name =>  Angaj kumar:  Degree => BCA\n"
     ]
    }
   ],
   "source": [
    "s1 = Student(\"Angaj kumar: \", \"BCA\")\n",
    "s1.show()"
   ]
  },
  {
   "cell_type": "code",
   "execution_count": 26,
   "id": "42e1d760",
   "metadata": {},
   "outputs": [
    {
     "ename": "AttributeError",
     "evalue": "'Student' object has no attribute '__Student__Degree'",
     "output_type": "error",
     "traceback": [
      "\u001b[31m---------------------------------------------------------------------------\u001b[39m",
      "\u001b[31mAttributeError\u001b[39m                            Traceback (most recent call last)",
      "\u001b[36mCell\u001b[39m\u001b[36m \u001b[39m\u001b[32mIn[26]\u001b[39m\u001b[32m, line 2\u001b[39m\n\u001b[32m      1\u001b[39m \u001b[38;5;66;03m#s1.Name() # ERROR BECOUSE ITS PRIVATE\u001b[39;00m\n\u001b[32m----> \u001b[39m\u001b[32m2\u001b[39m \u001b[43ms1\u001b[49m\u001b[43m.\u001b[49m\u001b[43m__Student__Degree\u001b[49m\n",
      "\u001b[31mAttributeError\u001b[39m: 'Student' object has no attribute '__Student__Degree'"
     ]
    }
   ],
   "source": [
    "#s1.Name() # ERROR BECOUSE ITS PRIVATE\n",
    "s1.__Student__Degree"
   ]
  },
  {
   "cell_type": "code",
   "execution_count": 43,
   "id": "2d84d679",
   "metadata": {},
   "outputs": [],
   "source": [
    "# modify private variable and accessible\n",
    "class Car:\n",
    "    def __init__(self, Speed, Model, year, wernty):\n",
    "        self.Speed = Speed\n",
    "        self.Model = Model\n",
    "        self.year = year\n",
    "        self.wernty = wernty\n",
    "\n",
    "    def set_speed(self, speed):\n",
    "        self.__speed = 0 if speed < 0 else speed\n",
    "    def get_speed(self):\n",
    "        return self.__speed\n",
    "\n"
   ]
  },
  {
   "cell_type": "code",
   "execution_count": 47,
   "id": "a78dbe42",
   "metadata": {},
   "outputs": [
    {
     "ename": "AttributeError",
     "evalue": "'Car' object has no attribute '_Car__speed'",
     "output_type": "error",
     "traceback": [
      "\u001b[31m---------------------------------------------------------------------------\u001b[39m",
      "\u001b[31mAttributeError\u001b[39m                            Traceback (most recent call last)",
      "\u001b[36mCell\u001b[39m\u001b[36m \u001b[39m\u001b[32mIn[47]\u001b[39m\u001b[32m, line 2\u001b[39m\n\u001b[32m      1\u001b[39m c1 = Car(\u001b[33m\"\u001b[39m\u001b[33m80\u001b[39m\u001b[33m\"\u001b[39m, \u001b[33m\"\u001b[39m\u001b[33mBMW\u001b[39m\u001b[33m\"\u001b[39m, \u001b[33m\"\u001b[39m\u001b[33m2025\u001b[39m\u001b[33m\"\u001b[39m, \u001b[33m\"\u001b[39m\u001b[33m30\u001b[39m\u001b[33m\"\u001b[39m)\n\u001b[32m----> \u001b[39m\u001b[32m2\u001b[39m \u001b[43mc1\u001b[49m\u001b[43m.\u001b[49m\u001b[43mget_speed\u001b[49m\u001b[43m(\u001b[49m\u001b[43m)\u001b[49m\n",
      "\u001b[36mCell\u001b[39m\u001b[36m \u001b[39m\u001b[32mIn[43]\u001b[39m\u001b[32m, line 12\u001b[39m, in \u001b[36mCar.get_speed\u001b[39m\u001b[34m(self)\u001b[39m\n\u001b[32m     11\u001b[39m \u001b[38;5;28;01mdef\u001b[39;00m\u001b[38;5;250m \u001b[39m\u001b[34mget_speed\u001b[39m(\u001b[38;5;28mself\u001b[39m):\n\u001b[32m---> \u001b[39m\u001b[32m12\u001b[39m     \u001b[38;5;28;01mreturn\u001b[39;00m \u001b[38;5;28;43mself\u001b[39;49m\u001b[43m.\u001b[49m\u001b[43m__speed\u001b[49m\n",
      "\u001b[31mAttributeError\u001b[39m: 'Car' object has no attribute '_Car__speed'"
     ]
    }
   ],
   "source": [
    "c1 = Car(\"80\", \"BMW\", \"2025\", \"30\")\n",
    "c1.get_speed()"
   ]
  },
  {
   "cell_type": "code",
   "execution_count": null,
   "id": "00e86aad",
   "metadata": {},
   "outputs": [],
   "source": [
    "# potect >> (_)"
   ]
  },
  {
   "cell_type": "code",
   "execution_count": 49,
   "id": "644155da",
   "metadata": {},
   "outputs": [],
   "source": [
    "#code\n",
    "\n",
    "class College:\n",
    "    def __init__(self):\n",
    "        self._College_name = \"RN College\"\n",
    "class student(College):\n",
    "    def __init__(self, name):\n",
    "        self.name = name\n",
    "        College.__init__(self)\n",
    "    def show(self):\n",
    "        print(\"name\", self.name, self.__college_name)\n",
    "\n",
    "    "
   ]
  },
  {
   "cell_type": "code",
   "execution_count": 51,
   "id": "d377eed2",
   "metadata": {},
   "outputs": [
    {
     "data": {
      "text/plain": [
       "'Angaj'"
      ]
     },
     "execution_count": 51,
     "metadata": {},
     "output_type": "execute_result"
    }
   ],
   "source": [
    "s = student(\"Angaj\")\n",
    "s.name"
   ]
  },
  {
   "cell_type": "code",
   "execution_count": 59,
   "id": "f34a9334",
   "metadata": {},
   "outputs": [
    {
     "ename": "AttributeError",
     "evalue": "'student' object has no attribute '_student__college_name'",
     "output_type": "error",
     "traceback": [
      "\u001b[31m---------------------------------------------------------------------------\u001b[39m",
      "\u001b[31mAttributeError\u001b[39m                            Traceback (most recent call last)",
      "\u001b[36mCell\u001b[39m\u001b[36m \u001b[39m\u001b[32mIn[59]\u001b[39m\u001b[32m, line 1\u001b[39m\n\u001b[32m----> \u001b[39m\u001b[32m1\u001b[39m \u001b[43ms\u001b[49m\u001b[43m.\u001b[49m\u001b[43mshow\u001b[49m\u001b[43m(\u001b[49m\u001b[43m)\u001b[49m\n",
      "\u001b[36mCell\u001b[39m\u001b[36m \u001b[39m\u001b[32mIn[49]\u001b[39m\u001b[32m, line 11\u001b[39m, in \u001b[36mstudent.show\u001b[39m\u001b[34m(self)\u001b[39m\n\u001b[32m     10\u001b[39m \u001b[38;5;28;01mdef\u001b[39;00m\u001b[38;5;250m \u001b[39m\u001b[34mshow\u001b[39m(\u001b[38;5;28mself\u001b[39m):\n\u001b[32m---> \u001b[39m\u001b[32m11\u001b[39m     \u001b[38;5;28mprint\u001b[39m(\u001b[33m\"\u001b[39m\u001b[33mname\u001b[39m\u001b[33m\"\u001b[39m, \u001b[38;5;28mself\u001b[39m.name, \u001b[38;5;28;43mself\u001b[39;49m\u001b[43m.\u001b[49m\u001b[43m__college_name\u001b[49m)\n",
      "\u001b[31mAttributeError\u001b[39m: 'student' object has no attribute '_student__college_name'"
     ]
    }
   ],
   "source": [
    "s.show()"
   ]
  },
  {
   "cell_type": "code",
   "execution_count": null,
   "id": "d558eac4",
   "metadata": {},
   "outputs": [
    {
     "data": {
      "text/plain": [
       "'RN College'"
      ]
     },
     "execution_count": 60,
     "metadata": {},
     "output_type": "execute_result"
    }
   ],
   "source": [
    "coll = College()\n",
    "coll._College_name # protect"
   ]
  }
 ],
 "metadata": {
  "kernelspec": {
   "display_name": "Python 3",
   "language": "python",
   "name": "python3"
  },
  "language_info": {
   "codemirror_mode": {
    "name": "ipython",
    "version": 3
   },
   "file_extension": ".py",
   "mimetype": "text/x-python",
   "name": "python",
   "nbconvert_exporter": "python",
   "pygments_lexer": "ipython3",
   "version": "3.13.0"
  }
 },
 "nbformat": 4,
 "nbformat_minor": 5
}
