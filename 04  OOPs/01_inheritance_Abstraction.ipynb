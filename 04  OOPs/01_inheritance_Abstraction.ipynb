{
 "cells": [
  {
   "cell_type": "code",
   "execution_count": 11,
   "id": "eae7f8df",
   "metadata": {},
   "outputs": [],
   "source": [
    "# Inheritance >> refers the proess of child class reciving the propertise of the parents class.\n",
    "# syntax:\n",
    "# class baseClass:\n",
    "#  print()\n",
    "#     # Body of base class\n",
    "# class DerivedClass(baseClass):\n",
    "#     # body of derivedclass;"
   ]
  },
  {
   "cell_type": "code",
   "execution_count": null,
   "id": "7114f78e",
   "metadata": {},
   "outputs": [],
   "source": [
    "class Father:\n",
    "    def father_propertise(self):\n",
    "        print(\"The propertise of father\")\n",
    "class son(Father):\n",
    "    def job(self):\n",
    "        print(\"son has peopertise of \")\n"
   ]
  },
  {
   "cell_type": "code",
   "execution_count": 7,
   "id": "b831cb26",
   "metadata": {},
   "outputs": [],
   "source": [
    "#code \n",
    "class fruite:\n",
    "    def info_father(self):\n",
    "        print(\"this apple of the father\")\n",
    "class Apple(fruite):\n",
    "    def info_Apple(self):\n",
    "        print(\"this apple is of the son\")"
   ]
  },
  {
   "cell_type": "code",
   "execution_count": 20,
   "id": "be376bdd",
   "metadata": {},
   "outputs": [
    {
     "name": "stdout",
     "output_type": "stream",
     "text": [
      "this apple of the father\n"
     ]
    }
   ],
   "source": [
    "check = Apple()\n",
    "check.info_father()"
   ]
  },
  {
   "cell_type": "code",
   "execution_count": null,
   "id": "b1540288",
   "metadata": {},
   "outputs": [],
   "source": [
    "# Method overriding >> re writting/ re-difing method of  prantes class in derived/child class\n",
    "class fruite:\n",
    "    def info_father(self):\n",
    "        print(\"this apple of the father\")\n",
    "class Apple(fruite):\n",
    "    def info_father(self):\n",
    "        print(\"this apple of the father (yes) \")\n",
    "        def info_Apple(self):\n",
    "            print(\"this apple is of the son\")"
   ]
  },
  {
   "cell_type": "code",
   "execution_count": 25,
   "id": "56b89b25",
   "metadata": {},
   "outputs": [
    {
     "name": "stdout",
     "output_type": "stream",
     "text": [
      "this apple of the father\n",
      "this apple of the father (yes) \n"
     ]
    }
   ],
   "source": [
    "n = fruite()\n",
    "n.info_father()\n",
    "m = Apple()\n",
    "m.info_father()"
   ]
  },
  {
   "cell_type": "code",
   "execution_count": 35,
   "id": "6c71c994",
   "metadata": {},
   "outputs": [],
   "source": [
    "# propertise of the grandfather\n",
    "class Grandfather:\n",
    "    def G_father(self):\n",
    "        print(\"this is my propertise (Grandfather)\")\n",
    "class Father(Grandfather):\n",
    "    def F_propertise(self):\n",
    "        print(\"This propertise is the my Grandfather\")\n",
    "class prop_son(Father):\n",
    "        def S_propertise(self):\n",
    "            print(\"This property belongs to my father's grandfather\")\n"
   ]
  },
  {
   "cell_type": "code",
   "execution_count": 29,
   "id": "6ec1b40b",
   "metadata": {},
   "outputs": [
    {
     "name": "stdout",
     "output_type": "stream",
     "text": [
      "this is my propertise (Grandfather)\n"
     ]
    }
   ],
   "source": [
    "j = Grandfather()\n",
    "j.G_father()"
   ]
  },
  {
   "cell_type": "code",
   "execution_count": 33,
   "id": "3285658e",
   "metadata": {},
   "outputs": [
    {
     "name": "stdout",
     "output_type": "stream",
     "text": [
      "This propertise is the my Grandfather\n"
     ]
    }
   ],
   "source": [
    "k = Father()\n",
    "k.F_propertise()"
   ]
  },
  {
   "cell_type": "code",
   "execution_count": 36,
   "id": "5e3dccd0",
   "metadata": {},
   "outputs": [
    {
     "name": "stdout",
     "output_type": "stream",
     "text": [
      "This property belongs to my father's grandfather\n"
     ]
    }
   ],
   "source": [
    "k = prop_son()\n",
    "k.S_propertise()"
   ]
  },
  {
   "cell_type": "code",
   "execution_count": null,
   "id": "1664a2f4",
   "metadata": {},
   "outputs": [],
   "source": [
    "k.s"
   ]
  },
  {
   "cell_type": "code",
   "execution_count": 38,
   "id": "2cfe68f0",
   "metadata": {},
   "outputs": [],
   "source": [
    "# use case\n",
    "# the car brand name and colors\n",
    "class brand_car:\n",
    "    def car_brand(self):\n",
    "        print(\"mercides\")\n",
    "class car_colors(brand_car):\n",
    "    def car_color(self):\n",
    "        print(\"White\")\n",
    "class car_plate(car_colors):\n",
    "    def car_plate_no(self):\n",
    "        print(\"26 10\")\n",
    "\n"
   ]
  },
  {
   "cell_type": "code",
   "execution_count": 42,
   "id": "ba375158",
   "metadata": {},
   "outputs": [
    {
     "name": "stdout",
     "output_type": "stream",
     "text": [
      "mercides\n",
      "White\n",
      "26 10\n"
     ]
    }
   ],
   "source": [
    "car1 = brand_car()\n",
    "car1.car_brand()\n",
    "car1 = car_colors()\n",
    "car1.car_color()\n",
    "car1 = car_plate()\n",
    "car1.car_plate_no()"
   ]
  },
  {
   "cell_type": "code",
   "execution_count": null,
   "id": "7efa5e3a",
   "metadata": {},
   "outputs": [],
   "source": [
    "# dimond problems >> it uccurs when a class inherit from 2 more than 2 class >> will ambiguity to execution of method\n",
    "class Father:\n",
    "    def father(self):\n",
    "        print(\"method 1: my father class: \")\n",
    "class Mother:\n",
    "    def mother(self):\n",
    "        print(\"Method 2: my mom class\")\n",
    "class Son(Father, Mother):\n",
    "    def son(self):\n",
    "        print(\"method 4: of son class\")\n",
    "\n"
   ]
  },
  {
   "cell_type": "code",
   "execution_count": 55,
   "id": "413d1943",
   "metadata": {},
   "outputs": [
    {
     "name": "stdout",
     "output_type": "stream",
     "text": [
      "method 4: of son class\n"
     ]
    }
   ],
   "source": [
    "s = Son()\n",
    "s.son()"
   ]
  },
  {
   "cell_type": "code",
   "execution_count": 72,
   "id": "a2d22d7b",
   "metadata": {},
   "outputs": [],
   "source": [
    "# Dimond problems 2.as_integer_ratio\n",
    "class A:\n",
    "    def method(self):\n",
    "        print(\"method A class\")\n",
    "class B(A):\n",
    "    def method(self):\n",
    "        print(\"method B class\")\n",
    "class C(A):\n",
    "    def method(self):\n",
    "        print(\"method3 C class\")\n",
    "\n",
    "class  D(B,C):\n",
    "    pass"
   ]
  },
  {
   "cell_type": "code",
   "execution_count": 69,
   "id": "3787f51e",
   "metadata": {},
   "outputs": [
    {
     "name": "stdout",
     "output_type": "stream",
     "text": [
      "method3 C class\n"
     ]
    }
   ],
   "source": [
    "k = D()\n",
    "k.method()\n"
   ]
  },
  {
   "cell_type": "code",
   "execution_count": null,
   "id": "efb512bb",
   "metadata": {},
   "outputs": [
    {
     "name": "stdout",
     "output_type": "stream",
     "text": [
      "this info\n",
      "this truck inf BMW\n"
     ]
    }
   ],
   "source": [
    "# hirechichal heritance\n",
    "class vehicle:\n",
    "    def info_self(sel):\n",
    "        print(\"this info\")\n",
    "class truck(vehicle):\n",
    "    def info_truck(self, name):\n",
    "        print(\"this truck info\", name)\n",
    "class car(vehicle):\n",
    "    def car_info(self, name):\n",
    "        print(\"car info\", name)\n",
    "\n",
    "check1 = vehicle()\n",
    "check1.info_self()\n",
    "check2 = truck()\n",
    "check2.info_truck(\"BMW\")\n",
    "\n",
    "    "
   ]
  },
  {
   "cell_type": "code",
   "execution_count": null,
   "id": "714cf595",
   "metadata": {},
   "outputs": [
    {
     "name": "stdout",
     "output_type": "stream",
     "text": [
      "insde the sports clas BMW\n"
     ]
    }
   ],
   "source": [
    "# Hybrid inheritance >> multiple types or combination of different inhertance.\n",
    "#like this\n",
    "\n",
    "class vehicle:\n",
    "    def vehicle_info(self):\n",
    "        print(\"Insde the vehicale class\")\n",
    "class car(vehicle):\n",
    "    def car_info(self):\n",
    "        print(\"Insde the car class\")\n",
    "class truck(vehicle):\n",
    "    def truck_info(self):\n",
    "        print(\"Insde the truck \")\n",
    "class sports(car, vehicle):\n",
    "    def sports_info(self,name):\n",
    "        print(\"insde the sports class\", name)\n",
    "\n",
    "# run code\n",
    "# obje1 = vehicle()\n",
    "# obje1.vehicle_info()\n",
    "obj2 = sports()\n",
    "obj2.sports_info(\"BMW\")\n"
   ]
  },
  {
   "cell_type": "code",
   "execution_count": null,
   "id": "69356e59",
   "metadata": {},
   "outputs": [],
   "source": [
    "#ABSTRACTION >> CONCEPT OF HIDING COMPLEX IMPLEMENTION\n",
    "# HIDING unneeded Details and exposing the requred.\n",
    "# Abstracts class can not be instantiated (can not make object)\n",
    "# Abstract class should always be subclassed\n",
    "# Abstract ex >> if you using on pw skill to attend class do you see the backend code and inter face"
   ]
  },
  {
   "cell_type": "code",
   "execution_count": null,
   "id": "cc171f58",
   "metadata": {},
   "outputs": [],
   "source": [
    "# use case\n",
    "import abc\n",
    "\n",
    "class RNcollege:\n",
    "    \n",
    "    @abc.abstractmethod\n",
    "    def student_details(self):\n",
    "        pass\n",
    "    \n",
    "    @abc.abstractmethod\n",
    "    def student_assignment(self):\n",
    "        pass\n",
    "    \n",
    "    @abc.abstractmethod\n",
    "    def student_marks(self):\n",
    "        pass"
   ]
  },
  {
   "cell_type": "code",
   "execution_count": null,
   "id": "fb19cfd3",
   "metadata": {},
   "outputs": [],
   "source": [
    "class Data_scince(RNcollege):\n",
    "    def student_details(self):\n",
    "        return \"Data scince course details\"\n",
    "    \n",
    "    def student_assignment(self):\n",
    "        return \"Student Assignment (OOPS)\"\n",
    "    \n",
    "    def student_marks(self):\n",
    "        return \"Student marks 49\"\n",
    "    "
   ]
  },
  {
   "cell_type": "code",
   "execution_count": 12,
   "id": "580a7ab3",
   "metadata": {},
   "outputs": [
    {
     "data": {
      "text/plain": [
       "'Data scince course details'"
      ]
     },
     "execution_count": 12,
     "metadata": {},
     "output_type": "execute_result"
    }
   ],
   "source": [
    "s1 = Data_scince()\n",
    "s1.student_details()"
   ]
  },
  {
   "cell_type": "code",
   "execution_count": 15,
   "id": "aae60709",
   "metadata": {},
   "outputs": [],
   "source": [
    "# use code 2 (shape)\n",
    "#abstraction\n",
    "import abc\n",
    "\n",
    "class shape:\n",
    "    def squire_shape(self):\n",
    "        pass\n",
    "\n",
    "    def parell_shape(self):\n",
    "        pass"
   ]
  },
  {
   "cell_type": "code",
   "execution_count": 16,
   "id": "e4482e71",
   "metadata": {},
   "outputs": [],
   "source": [
    "#inhertance\n",
    "\n",
    "class circle(shape):\n",
    "    def circle_of_ball(self):\n",
    "        return \"this circle shape is ball\"\n",
    "    \n",
    "    def circle_of_ring(self):\n",
    "        return \"this circle is ring\""
   ]
  },
  {
   "cell_type": "code",
   "execution_count": 17,
   "id": "b3b9f6f4",
   "metadata": {},
   "outputs": [
    {
     "data": {
      "text/plain": [
       "'this circle shape is ball'"
      ]
     },
     "execution_count": 17,
     "metadata": {},
     "output_type": "execute_result"
    }
   ],
   "source": [
    "#  take Output\n",
    "n1 = circle()\n",
    "n1.circle_of_ball()\n"
   ]
  }
 ],
 "metadata": {
  "kernelspec": {
   "display_name": "Python 3",
   "language": "python",
   "name": "python3"
  },
  "language_info": {
   "codemirror_mode": {
    "name": "ipython",
    "version": 3
   },
   "file_extension": ".py",
   "mimetype": "text/x-python",
   "name": "python",
   "nbconvert_exporter": "python",
   "pygments_lexer": "ipython3",
   "version": "3.13.0"
  }
 },
 "nbformat": 4,
 "nbformat_minor": 5
}
