{
 "cells": [
  {
   "cell_type": "code",
   "execution_count": null,
   "id": "7889d9c9",
   "metadata": {},
   "outputs": [],
   "source": [
    "# propertiy Decorator >>  you are allows to  class method  as  on aterbute"
   ]
  },
  {
   "cell_type": "code",
   "execution_count": null,
   "id": "534cdd0f",
   "metadata": {},
   "outputs": [],
   "source": [
    "class shopping:\n",
    "    def __init__(self, name, price, brand):\n",
    "        self.__name = name\n",
    "        self.__price = price\n",
    "        self.__brand = brand\n",
    "\n",
    "s1 = shopping(\"Shirt\", 450, \"sparkey\")\n",
    "#s1.name # error  becaouse name and pirce, brand private variable\n",
    "s1._shopping__brand\n",
    "s1._shopping__price\n",
    "s1._shopping__name\n"
   ]
  },
  {
   "cell_type": "code",
   "execution_count": null,
   "id": "fc6509f2",
   "metadata": {},
   "outputs": [],
   "source": [
    "# another case \n",
    "class shopping:\n",
    "    def __init__(self, name, price, brand):\n",
    "        self.__name = name\n",
    "        self.__price = price\n",
    "        self.__brand = brand\n",
    "\n",
    "    @property\n",
    "    def access_price(self):\n",
    "        return self.__price"
   ]
  },
  {
   "cell_type": "code",
   "execution_count": null,
   "id": "a8545016",
   "metadata": {},
   "outputs": [],
   "source": [
    "s1 = shopping(\"Shirt\", 450, \"sparkey\")\n",
    "s1.access_price"
   ]
  },
  {
   "cell_type": "code",
   "execution_count": null,
   "id": "cfa7fe68",
   "metadata": {},
   "outputs": [],
   "source": [
    "# you want to modify the price. \n",
    "# setter\n",
    "class shopping:\n",
    "    def __init__(self, name, price, brand):\n",
    "        self.__name = name\n",
    "        self.__price = price\n",
    "        self.__brand = brand\n",
    "\n",
    "    @property\n",
    "    def access_price(self):\n",
    "        return self.__price\n",
    "    \n",
    "    @access_price.setter   # change price\n",
    "    def price__set(self, price_new):\n",
    "        self.__price = price_new"
   ]
  },
  {
   "cell_type": "code",
   "execution_count": null,
   "id": "77ba4936",
   "metadata": {},
   "outputs": [],
   "source": [
    "s1 = shopping(\"Shirt\", 450, \"sparkey\")\n",
    "s1.access_price\n",
    "s1.price__set = 500\n",
    "s1.access_price"
   ]
  },
  {
   "cell_type": "code",
   "execution_count": null,
   "id": "5aa12708",
   "metadata": {},
   "outputs": [],
   "source": [
    "# delter\n",
    "class shopping:\n",
    "    def __init__(self, name, price, brand):\n",
    "        self.__name = name\n",
    "        self.__price = price\n",
    "        self.__brand = brand\n",
    "\n",
    "    @property\n",
    "    def access_price(self):\n",
    "        return self.__price\n",
    "    \n",
    "    @access_price.setter   # change price\n",
    "    def price__set(self, price_new):\n",
    "        self.__price = price_new\n",
    "\n",
    "    @access_price.deleter\n",
    "    def del__price(self,):\n",
    "        del self.__price"
   ]
  },
  {
   "cell_type": "code",
   "execution_count": null,
   "id": "848816ac",
   "metadata": {},
   "outputs": [],
   "source": [
    "s1 = shopping(\"Shirt\", 450, \"sparkey\")\n",
    "s1.access_price"
   ]
  },
  {
   "cell_type": "code",
   "execution_count": null,
   "id": "f2ee1b9f",
   "metadata": {},
   "outputs": [],
   "source": [
    "s1.price__set = 50\n",
    "s1.access_price"
   ]
  },
  {
   "cell_type": "code",
   "execution_count": null,
   "id": "fbfbedf6",
   "metadata": {},
   "outputs": [],
   "source": [
    "s1.del__price"
   ]
  },
  {
   "cell_type": "code",
   "execution_count": null,
   "id": "ce7ecac9",
   "metadata": {},
   "outputs": [],
   "source": [
    "s1.access_price"
   ]
  },
  {
   "cell_type": "code",
   "execution_count": null,
   "id": "c1b1e83a",
   "metadata": {},
   "outputs": [],
   "source": [
    "del s1.access_price\n",
    "s1.access_price"
   ]
  },
  {
   "cell_type": "code",
   "execution_count": null,
   "id": "c10690fe",
   "metadata": {},
   "outputs": [],
   "source": [
    "# circle\n",
    "class Circle:\n",
    "    def __init__(self, redius):\n",
    "        self.__redius = redius\n",
    "\n",
    "    @property\n",
    "    def redius(self):\n",
    "        return self.__redius\n",
    "    \n",
    "    @redius.setter\n",
    "    def redius(self, value):\n",
    "        if value  <= 0:\n",
    "            raise ValueError (\"Redius is not positive\")\n",
    "        self.redius = value\n",
    "\n",
    "    def area(self):\n",
    "        return 3.14*self.__redius*self.__redius"
   ]
  },
  {
   "cell_type": "code",
   "execution_count": null,
   "id": "1e34e151",
   "metadata": {},
   "outputs": [],
   "source": [
    "c = Circle(5)\n",
    "c.redius"
   ]
  },
  {
   "cell_type": "code",
   "execution_count": null,
   "id": "85f4f6ec",
   "metadata": {},
   "outputs": [],
   "source": [
    "c.area = 10\n",
    "c.area"
   ]
  },
  {
   "cell_type": "code",
   "execution_count": null,
   "id": "e692b4f6",
   "metadata": {},
   "outputs": [],
   "source": [
    "c.redius = 20\n",
    "c.redius"
   ]
  }
 ],
 "metadata": {
  "kernelspec": {
   "display_name": "Python 3",
   "language": "python",
   "name": "python3"
  },
  "language_info": {
   "codemirror_mode": {
    "name": "ipython",
    "version": 3
   },
   "file_extension": ".py",
   "mimetype": "text/x-python",
   "name": "python",
   "nbconvert_exporter": "python",
   "pygments_lexer": "ipython3",
   "version": "3.13.0"
  }
 },
 "nbformat": 4,
 "nbformat_minor": 5
}
