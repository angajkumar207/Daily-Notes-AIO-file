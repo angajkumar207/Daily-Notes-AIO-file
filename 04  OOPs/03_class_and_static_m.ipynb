{
 "cells": [
  {
   "cell_type": "code",
   "execution_count": null,
   "id": "2005b845",
   "metadata": {},
   "outputs": [],
   "source": [
    "# class methode >>"
   ]
  },
  {
   "cell_type": "code",
   "execution_count": 1,
   "id": "35ac0823",
   "metadata": {},
   "outputs": [],
   "source": [
    "# how class method is overloading the init method ?\n",
    "# modifying  the instance method\n",
    "class Student:\n",
    "    def __init__(self, name): #init method is an instance method\n",
    "        self.name = name\n",
    "    @classmethod\n",
    "    def student_details(cls, name):\n",
    "        return cls(name)\n"
   ]
  },
  {
   "cell_type": "code",
   "execution_count": 2,
   "id": "eb6158fe",
   "metadata": {},
   "outputs": [
    {
     "data": {
      "text/plain": [
       "'Angaj'"
      ]
     },
     "execution_count": 2,
     "metadata": {},
     "output_type": "execute_result"
    }
   ],
   "source": [
    "obj1 = Student.student_details(\"Angaj\")\n",
    "obj1.name"
   ]
  },
  {
   "cell_type": "code",
   "execution_count": 30,
   "id": "ca9a9221",
   "metadata": {},
   "outputs": [],
   "source": [
    "# Class method\n",
    "class Student:\n",
    "\n",
    "    total_student = 0 # class variable\n",
    "    def __init__(self, name): # instance method\n",
    "        self.name = name  # instance variable\n",
    "        Student.total_student = Student.total_student+1\n",
    "        \n",
    "    @classmethod\n",
    "    def get_total_students(cls):\n",
    "        return cls.total_student"
   ]
  },
  {
   "cell_type": "code",
   "execution_count": null,
   "id": "a84e0d6f",
   "metadata": {},
   "outputs": [
    {
     "data": {
      "text/plain": [
       "0"
      ]
     },
     "execution_count": 21,
     "metadata": {},
     "output_type": "execute_result"
    }
   ],
   "source": [
    "# Student.total_student"
   ]
  },
  {
   "cell_type": "code",
   "execution_count": 34,
   "id": "20de3873",
   "metadata": {},
   "outputs": [],
   "source": [
    "stud1 = Student(\"Angaj\")\n",
    "stud2 = Student(\"Gunjan\")\n"
   ]
  },
  {
   "cell_type": "code",
   "execution_count": 37,
   "id": "9244f2f7",
   "metadata": {},
   "outputs": [
    {
     "data": {
      "text/plain": [
       "2"
      ]
     },
     "execution_count": 37,
     "metadata": {},
     "output_type": "execute_result"
    }
   ],
   "source": [
    "Student.total_student\n"
   ]
  },
  {
   "cell_type": "code",
   "execution_count": 39,
   "id": "20994b3a",
   "metadata": {},
   "outputs": [
    {
     "data": {
      "text/plain": [
       "'Gunjan'"
      ]
     },
     "execution_count": 39,
     "metadata": {},
     "output_type": "execute_result"
    }
   ],
   "source": [
    "stud1.name\n",
    "stud2.name"
   ]
  },
  {
   "cell_type": "code",
   "execution_count": null,
   "id": "3c778764",
   "metadata": {},
   "outputs": [],
   "source": [
    "# Static method\n",
    "# Static does not modify and class instance\n",
    "# does not access instance and class sate\n",
    "# does not deppend class/instance\n",
    "# it behave like a palin function that belongs to class \n",
    "# it des not take either self or cls\n",
    "# static method use\n"
   ]
  },
  {
   "cell_type": "code",
   "execution_count": null,
   "id": "f3f5e5ed",
   "metadata": {},
   "outputs": [],
   "source": [
    "# like this static method\n",
    "class calculate:\n",
    "    @staticmethod\n",
    "    def add(x, y):\n",
    "        return x + y\n",
    "    \n",
    "    @staticmethod\n",
    "    def sub(a, b):\n",
    "        return a - b \n",
    "    \n",
    "\n"
   ]
  },
  {
   "cell_type": "code",
   "execution_count": null,
   "id": "afc43b50",
   "metadata": {},
   "outputs": [
    {
     "data": {
      "text/plain": [
       "4"
      ]
     },
     "execution_count": 48,
     "metadata": {},
     "output_type": "execute_result"
    },
    {
     "ename": "",
     "evalue": "",
     "output_type": "error",
     "traceback": [
      "\u001b[1;31mThe Kernel crashed while executing code in the current cell or a previous cell. \n",
      "\u001b[1;31mPlease review the code in the cell(s) to identify a possible cause of the failure. \n",
      "\u001b[1;31mClick <a href='https://aka.ms/vscodeJupyterKernelCrash'>here</a> for more info. \n",
      "\u001b[1;31mView Jupyter <a href='command:jupyter.viewOutput'>log</a> for further details."
     ]
    }
   ],
   "source": [
    "calculate.add(3,4)\n",
    "calculate.sub(7,3)"
   ]
  }
 ],
 "metadata": {
  "kernelspec": {
   "display_name": "Python 3",
   "language": "python",
   "name": "python3"
  },
  "language_info": {
   "codemirror_mode": {
    "name": "ipython",
    "version": 3
   },
   "file_extension": ".py",
   "mimetype": "text/x-python",
   "name": "python",
   "nbconvert_exporter": "python",
   "pygments_lexer": "ipython3",
   "version": "3.13.0"
  }
 },
 "nbformat": 4,
 "nbformat_minor": 5
}
