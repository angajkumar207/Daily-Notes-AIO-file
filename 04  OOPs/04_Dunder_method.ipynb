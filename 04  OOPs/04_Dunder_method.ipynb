{
 "cells": [
  {
   "cell_type": "code",
   "execution_count": null,
   "id": "87852b25",
   "metadata": {},
   "outputs": [],
   "source": [
    "# Dunder Method/ magic / special method"
   ]
  },
  {
   "cell_type": "code",
   "execution_count": null,
   "id": "7c752c96",
   "metadata": {},
   "outputs": [
    {
     "name": "stdout",
     "output_type": "stream",
     "text": [
      "Angaj\n"
     ]
    }
   ],
   "source": [
    "print(\"Angaj\") # print  is keyword/inbuiltefuction\n",
    "# Dunder Method/magic/special method >> methods are method define by builte-in classes in python\n",
    "# classes define the type of methods for cresting custom objects\n",
    "# "
   ]
  },
  {
   "cell_type": "code",
   "execution_count": 4,
   "id": "35486912",
   "metadata": {},
   "outputs": [
    {
     "data": {
      "text/plain": [
       "'Angaj Gunjan'"
      ]
     },
     "execution_count": 4,
     "metadata": {},
     "output_type": "execute_result"
    }
   ],
   "source": [
    "a = \"Angaj\"\n",
    "b = \" Gunjan\"\n",
    "a+b"
   ]
  },
  {
   "cell_type": "code",
   "execution_count": null,
   "id": "df68f70a",
   "metadata": {},
   "outputs": [
    {
     "data": {
      "text/plain": [
       "'Angaj Gunjan'"
      ]
     },
     "execution_count": 6,
     "metadata": {},
     "output_type": "execute_result"
    }
   ],
   "source": [
    "a.__add__(b) # this is the dunder method , dunder means >> u+ under"
   ]
  },
  {
   "cell_type": "code",
   "execution_count": 10,
   "id": "2b424678",
   "metadata": {},
   "outputs": [
    {
     "data": {
      "text/plain": [
       "74"
      ]
     },
     "execution_count": 10,
     "metadata": {},
     "output_type": "execute_result"
    }
   ],
   "source": [
    "# All dunder methods associatetd with string\n",
    "# like this\n",
    "# str\n",
    "dir(str) \n",
    "len(dir(str)) # Total string dunder methods 81\n",
    "# int\n",
    "dir(int)\n",
    "len(dir(int)) # Total int dunder methods 74\n",
    "# float\n",
    "dir(float)\n",
    "len(dir(float)) ## Total float dunder methods 59\n",
    "\n",
    "# bool\n",
    "dir(bool)\n",
    "len(dir(bool))"
   ]
  },
  {
   "cell_type": "code",
   "execution_count": 12,
   "id": "dd853427",
   "metadata": {},
   "outputs": [
    {
     "name": "stdout",
     "output_type": "stream",
     "text": [
      "Angaj Come here\n",
      "Vijay Come here\n"
     ]
    }
   ],
   "source": [
    "# useful Dunder method >>\n",
    "# __init__ take a data with respact to object\n",
    "class Student:\n",
    "    def __init__(self, name):\n",
    "        print(name,\"Come here\")\n",
    "objec1 = Student(\"Angaj\")\n",
    "object2 = Student(\"Vijay\")\n",
    "\n"
   ]
  },
  {
   "cell_type": "code",
   "execution_count": null,
   "id": "b90b9e3d",
   "metadata": {},
   "outputs": [],
   "source": [
    "# __new__ dunder method use\n",
    "class dog:\n",
    "    def __new__(cls):\n",
    "        print(\"hi is that the animal ??\")\n",
    "\n",
    "    def __init__(self, name):\n",
    "        print(name,\"Come here\")\n"
   ]
  },
  {
   "cell_type": "code",
   "execution_count": 14,
   "id": "2d8e5d0d",
   "metadata": {},
   "outputs": [
    {
     "name": "stdout",
     "output_type": "stream",
     "text": [
      "hi is that the animal ??\n"
     ]
    }
   ],
   "source": [
    "h1 = dog()"
   ]
  },
  {
   "cell_type": "code",
   "execution_count": 22,
   "id": "fff7bec1",
   "metadata": {},
   "outputs": [],
   "source": [
    "# another Dunder methods >> __str__ >> which returns string repersention of methods \n",
    "class Phone:\n",
    "    def __init__(self):\n",
    "        self.phone = 99349876"
   ]
  },
  {
   "cell_type": "code",
   "execution_count": 23,
   "id": "bf869081",
   "metadata": {},
   "outputs": [
    {
     "data": {
      "text/plain": [
       "<__main__.Phone at 0x1b18d675be0>"
      ]
     },
     "execution_count": 23,
     "metadata": {},
     "output_type": "execute_result"
    }
   ],
   "source": [
    "Phone()"
   ]
  },
  {
   "cell_type": "code",
   "execution_count": 24,
   "id": "e9e918fa",
   "metadata": {},
   "outputs": [],
   "source": [
    "class Phone:\n",
    "    def __init__(self):\n",
    "        self.phone = 99349876\n",
    "    def __str__(self):\n",
    "        return \"hi this method over loading print statement of object method\"\n"
   ]
  },
  {
   "cell_type": "code",
   "execution_count": 25,
   "id": "3ca2851e",
   "metadata": {},
   "outputs": [
    {
     "name": "stdout",
     "output_type": "stream",
     "text": [
      "hi this method over loading print statement of object method\n"
     ]
    }
   ],
   "source": [
    "print(Phone())"
   ]
  },
  {
   "cell_type": "code",
   "execution_count": 26,
   "id": "31d806b8",
   "metadata": {},
   "outputs": [],
   "source": [
    "# another dunder method >> __repr__ >> meaning repersetion of class\n",
    "class hello:\n",
    "    def __init__(self, x):\n",
    "        self.x = x\n",
    "    def __repr__(self):\n",
    "        return f\"hi this method is the __repr__\"\n",
    "    \n"
   ]
  },
  {
   "cell_type": "code",
   "execution_count": 31,
   "id": "91dacc24",
   "metadata": {},
   "outputs": [
    {
     "name": "stdout",
     "output_type": "stream",
     "text": [
      "hi this method is the __repr__\n"
     ]
    }
   ],
   "source": [
    "hlo = hello(5)\n",
    "print(repr(hlo))"
   ]
  },
  {
   "cell_type": "code",
   "execution_count": 32,
   "id": "e4cd73e3",
   "metadata": {},
   "outputs": [
    {
     "data": {
      "text/plain": [
       "True"
      ]
     },
     "execution_count": 32,
     "metadata": {},
     "output_type": "execute_result"
    }
   ],
   "source": [
    "# Another __eq__ methods\n",
    "a = 5\n",
    "b = 5\n",
    "a.__eq__(b)"
   ]
  },
  {
   "cell_type": "code",
   "execution_count": 34,
   "id": "0913f0d7",
   "metadata": {},
   "outputs": [],
   "source": [
    "class point:\n",
    "    def __init__(self,x, y):\n",
    "        self.x = x\n",
    "        self.y = y\n",
    "    def __eq__(self, other):\n",
    "        return self.x == other.x and self.y == other.y\n"
   ]
  },
  {
   "cell_type": "code",
   "execution_count": null,
   "id": "752d90ea",
   "metadata": {},
   "outputs": [
    {
     "name": "stdout",
     "output_type": "stream",
     "text": [
      "yes This value is equale now  True\n"
     ]
    }
   ],
   "source": [
    "p1 = point(1, 2)\n",
    "p2 = point(1, 2)\n",
    "print(\"yes This value is equale now \",p1 == p2)"
   ]
  },
  {
   "cell_type": "code",
   "execution_count": 41,
   "id": "887e3f1c",
   "metadata": {},
   "outputs": [],
   "source": [
    "# __add__\n",
    "class Calculate:\n",
    "    def __init__(self, x, y):\n",
    "        self.x = x\n",
    "        self.y = y\n",
    "    def __add__(self, other):\n",
    "        return self.x + other.x and self.y + other.y\n"
   ]
  },
  {
   "cell_type": "code",
   "execution_count": null,
   "id": "0f95f12d",
   "metadata": {},
   "outputs": [
    {
     "name": "stdout",
     "output_type": "stream",
     "text": [
      "Adding g1 or g2 => 8\n"
     ]
    }
   ],
   "source": [
    "g1 = Calculate(1, 4)\n",
    "g2 = Calculate(1, 4)\n",
    "g3 = g1 + g2\n",
    "print(\"Adding g1 or g2 =>\", g3)"
   ]
  }
 ],
 "metadata": {
  "kernelspec": {
   "display_name": "Python 3",
   "language": "python",
   "name": "python3"
  },
  "language_info": {
   "codemirror_mode": {
    "name": "ipython",
    "version": 3
   },
   "file_extension": ".py",
   "mimetype": "text/x-python",
   "name": "python",
   "nbconvert_exporter": "python",
   "pygments_lexer": "ipython3",
   "version": "3.13.0"
  }
 },
 "nbformat": 4,
 "nbformat_minor": 5
}
