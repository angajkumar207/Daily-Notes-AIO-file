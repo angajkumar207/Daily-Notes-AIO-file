{
 "cells": [
  {
   "cell_type": "code",
   "execution_count": 5,
   "id": "e7f57f6a-0bc6-4ec7-ae91-8b4c843e70a5",
   "metadata": {},
   "outputs": [],
   "source": [
    "# here is my some importent laburay for statistics and probabilty\n",
    "import numpy as np\n",
    "import pandas as pd\n",
    "import seaborn as sns\n",
    "import matplotlib.pyplot as plt\n",
    "\n",
    "import warnings\n",
    "warnings.filterwarnings('ignore')"
   ]
  },
  {
   "cell_type": "code",
   "execution_count": 7,
   "id": "72a0b308-3b19-4d58-ab3f-f6d9496f5da4",
   "metadata": {},
   "outputs": [
    {
     "data": {
      "text/html": [
       "<div>\n",
       "<style scoped>\n",
       "    .dataframe tbody tr th:only-of-type {\n",
       "        vertical-align: middle;\n",
       "    }\n",
       "\n",
       "    .dataframe tbody tr th {\n",
       "        vertical-align: top;\n",
       "    }\n",
       "\n",
       "    .dataframe thead th {\n",
       "        text-align: right;\n",
       "    }\n",
       "</style>\n",
       "<table border=\"1\" class=\"dataframe\">\n",
       "  <thead>\n",
       "    <tr style=\"text-align: right;\">\n",
       "      <th></th>\n",
       "      <th>total_bill</th>\n",
       "      <th>tip</th>\n",
       "      <th>sex</th>\n",
       "      <th>smoker</th>\n",
       "      <th>day</th>\n",
       "      <th>time</th>\n",
       "      <th>size</th>\n",
       "    </tr>\n",
       "  </thead>\n",
       "  <tbody>\n",
       "    <tr>\n",
       "      <th>0</th>\n",
       "      <td>16.99</td>\n",
       "      <td>1.01</td>\n",
       "      <td>Female</td>\n",
       "      <td>No</td>\n",
       "      <td>Sun</td>\n",
       "      <td>Dinner</td>\n",
       "      <td>2</td>\n",
       "    </tr>\n",
       "    <tr>\n",
       "      <th>1</th>\n",
       "      <td>10.34</td>\n",
       "      <td>1.66</td>\n",
       "      <td>Male</td>\n",
       "      <td>No</td>\n",
       "      <td>Sun</td>\n",
       "      <td>Dinner</td>\n",
       "      <td>3</td>\n",
       "    </tr>\n",
       "    <tr>\n",
       "      <th>2</th>\n",
       "      <td>21.01</td>\n",
       "      <td>3.50</td>\n",
       "      <td>Male</td>\n",
       "      <td>No</td>\n",
       "      <td>Sun</td>\n",
       "      <td>Dinner</td>\n",
       "      <td>3</td>\n",
       "    </tr>\n",
       "    <tr>\n",
       "      <th>3</th>\n",
       "      <td>23.68</td>\n",
       "      <td>3.31</td>\n",
       "      <td>Male</td>\n",
       "      <td>No</td>\n",
       "      <td>Sun</td>\n",
       "      <td>Dinner</td>\n",
       "      <td>2</td>\n",
       "    </tr>\n",
       "    <tr>\n",
       "      <th>4</th>\n",
       "      <td>24.59</td>\n",
       "      <td>3.61</td>\n",
       "      <td>Female</td>\n",
       "      <td>No</td>\n",
       "      <td>Sun</td>\n",
       "      <td>Dinner</td>\n",
       "      <td>4</td>\n",
       "    </tr>\n",
       "    <tr>\n",
       "      <th>...</th>\n",
       "      <td>...</td>\n",
       "      <td>...</td>\n",
       "      <td>...</td>\n",
       "      <td>...</td>\n",
       "      <td>...</td>\n",
       "      <td>...</td>\n",
       "      <td>...</td>\n",
       "    </tr>\n",
       "    <tr>\n",
       "      <th>239</th>\n",
       "      <td>29.03</td>\n",
       "      <td>5.92</td>\n",
       "      <td>Male</td>\n",
       "      <td>No</td>\n",
       "      <td>Sat</td>\n",
       "      <td>Dinner</td>\n",
       "      <td>3</td>\n",
       "    </tr>\n",
       "    <tr>\n",
       "      <th>240</th>\n",
       "      <td>27.18</td>\n",
       "      <td>2.00</td>\n",
       "      <td>Female</td>\n",
       "      <td>Yes</td>\n",
       "      <td>Sat</td>\n",
       "      <td>Dinner</td>\n",
       "      <td>2</td>\n",
       "    </tr>\n",
       "    <tr>\n",
       "      <th>241</th>\n",
       "      <td>22.67</td>\n",
       "      <td>2.00</td>\n",
       "      <td>Male</td>\n",
       "      <td>Yes</td>\n",
       "      <td>Sat</td>\n",
       "      <td>Dinner</td>\n",
       "      <td>2</td>\n",
       "    </tr>\n",
       "    <tr>\n",
       "      <th>242</th>\n",
       "      <td>17.82</td>\n",
       "      <td>1.75</td>\n",
       "      <td>Male</td>\n",
       "      <td>No</td>\n",
       "      <td>Sat</td>\n",
       "      <td>Dinner</td>\n",
       "      <td>2</td>\n",
       "    </tr>\n",
       "    <tr>\n",
       "      <th>243</th>\n",
       "      <td>18.78</td>\n",
       "      <td>3.00</td>\n",
       "      <td>Female</td>\n",
       "      <td>No</td>\n",
       "      <td>Thur</td>\n",
       "      <td>Dinner</td>\n",
       "      <td>2</td>\n",
       "    </tr>\n",
       "  </tbody>\n",
       "</table>\n",
       "<p>244 rows × 7 columns</p>\n",
       "</div>"
      ],
      "text/plain": [
       "     total_bill   tip     sex smoker   day    time  size\n",
       "0         16.99  1.01  Female     No   Sun  Dinner     2\n",
       "1         10.34  1.66    Male     No   Sun  Dinner     3\n",
       "2         21.01  3.50    Male     No   Sun  Dinner     3\n",
       "3         23.68  3.31    Male     No   Sun  Dinner     2\n",
       "4         24.59  3.61  Female     No   Sun  Dinner     4\n",
       "..          ...   ...     ...    ...   ...     ...   ...\n",
       "239       29.03  5.92    Male     No   Sat  Dinner     3\n",
       "240       27.18  2.00  Female    Yes   Sat  Dinner     2\n",
       "241       22.67  2.00    Male    Yes   Sat  Dinner     2\n",
       "242       17.82  1.75    Male     No   Sat  Dinner     2\n",
       "243       18.78  3.00  Female     No  Thur  Dinner     2\n",
       "\n",
       "[244 rows x 7 columns]"
      ]
     },
     "execution_count": 7,
     "metadata": {},
     "output_type": "execute_result"
    }
   ],
   "source": [
    "# chi square test \n",
    "data = sns.load_dataset('tips')\n",
    "data"
   ]
  },
  {
   "cell_type": "code",
   "execution_count": 9,
   "id": "4ff6d952-bdb1-42ef-a1de-cf24c5a62158",
   "metadata": {},
   "outputs": [
    {
     "data": {
      "text/html": [
       "<div>\n",
       "<style scoped>\n",
       "    .dataframe tbody tr th:only-of-type {\n",
       "        vertical-align: middle;\n",
       "    }\n",
       "\n",
       "    .dataframe tbody tr th {\n",
       "        vertical-align: top;\n",
       "    }\n",
       "\n",
       "    .dataframe thead th {\n",
       "        text-align: right;\n",
       "    }\n",
       "</style>\n",
       "<table border=\"1\" class=\"dataframe\">\n",
       "  <thead>\n",
       "    <tr style=\"text-align: right;\">\n",
       "      <th></th>\n",
       "      <th>sex</th>\n",
       "      <th>smoker</th>\n",
       "    </tr>\n",
       "  </thead>\n",
       "  <tbody>\n",
       "    <tr>\n",
       "      <th>0</th>\n",
       "      <td>Female</td>\n",
       "      <td>No</td>\n",
       "    </tr>\n",
       "    <tr>\n",
       "      <th>1</th>\n",
       "      <td>Male</td>\n",
       "      <td>No</td>\n",
       "    </tr>\n",
       "    <tr>\n",
       "      <th>2</th>\n",
       "      <td>Male</td>\n",
       "      <td>No</td>\n",
       "    </tr>\n",
       "    <tr>\n",
       "      <th>3</th>\n",
       "      <td>Male</td>\n",
       "      <td>No</td>\n",
       "    </tr>\n",
       "    <tr>\n",
       "      <th>4</th>\n",
       "      <td>Female</td>\n",
       "      <td>No</td>\n",
       "    </tr>\n",
       "    <tr>\n",
       "      <th>...</th>\n",
       "      <td>...</td>\n",
       "      <td>...</td>\n",
       "    </tr>\n",
       "    <tr>\n",
       "      <th>239</th>\n",
       "      <td>Male</td>\n",
       "      <td>No</td>\n",
       "    </tr>\n",
       "    <tr>\n",
       "      <th>240</th>\n",
       "      <td>Female</td>\n",
       "      <td>Yes</td>\n",
       "    </tr>\n",
       "    <tr>\n",
       "      <th>241</th>\n",
       "      <td>Male</td>\n",
       "      <td>Yes</td>\n",
       "    </tr>\n",
       "    <tr>\n",
       "      <th>242</th>\n",
       "      <td>Male</td>\n",
       "      <td>No</td>\n",
       "    </tr>\n",
       "    <tr>\n",
       "      <th>243</th>\n",
       "      <td>Female</td>\n",
       "      <td>No</td>\n",
       "    </tr>\n",
       "  </tbody>\n",
       "</table>\n",
       "<p>244 rows × 2 columns</p>\n",
       "</div>"
      ],
      "text/plain": [
       "        sex smoker\n",
       "0    Female     No\n",
       "1      Male     No\n",
       "2      Male     No\n",
       "3      Male     No\n",
       "4    Female     No\n",
       "..      ...    ...\n",
       "239    Male     No\n",
       "240  Female    Yes\n",
       "241    Male    Yes\n",
       "242    Male     No\n",
       "243  Female     No\n",
       "\n",
       "[244 rows x 2 columns]"
      ]
     },
     "execution_count": 9,
     "metadata": {},
     "output_type": "execute_result"
    }
   ],
   "source": [
    "data[[\"sex\", \"smoker\"]]"
   ]
  },
  {
   "cell_type": "code",
   "execution_count": 14,
   "id": "0029565c-5303-4ea7-b11a-4c4a21e5b22d",
   "metadata": {},
   "outputs": [
    {
     "data": {
      "text/html": [
       "<div>\n",
       "<style scoped>\n",
       "    .dataframe tbody tr th:only-of-type {\n",
       "        vertical-align: middle;\n",
       "    }\n",
       "\n",
       "    .dataframe tbody tr th {\n",
       "        vertical-align: top;\n",
       "    }\n",
       "\n",
       "    .dataframe thead th {\n",
       "        text-align: right;\n",
       "    }\n",
       "</style>\n",
       "<table border=\"1\" class=\"dataframe\">\n",
       "  <thead>\n",
       "    <tr style=\"text-align: right;\">\n",
       "      <th>smoker</th>\n",
       "      <th>Yes</th>\n",
       "      <th>No</th>\n",
       "    </tr>\n",
       "    <tr>\n",
       "      <th>sex</th>\n",
       "      <th></th>\n",
       "      <th></th>\n",
       "    </tr>\n",
       "  </thead>\n",
       "  <tbody>\n",
       "    <tr>\n",
       "      <th>Male</th>\n",
       "      <td>60</td>\n",
       "      <td>97</td>\n",
       "    </tr>\n",
       "    <tr>\n",
       "      <th>Female</th>\n",
       "      <td>33</td>\n",
       "      <td>54</td>\n",
       "    </tr>\n",
       "  </tbody>\n",
       "</table>\n",
       "</div>"
      ],
      "text/plain": [
       "smoker  Yes  No\n",
       "sex            \n",
       "Male     60  97\n",
       "Female   33  54"
      ]
     },
     "execution_count": 14,
     "metadata": {},
     "output_type": "execute_result"
    }
   ],
   "source": [
    "# sumarisation of data using crosstab\n",
    "data_table = pd.crosstab(data['sex'], data['smoker'])\n",
    "data_table"
   ]
  },
  {
   "cell_type": "code",
   "execution_count": 15,
   "id": "bcb6d291-89ba-4bd8-8883-a217f376dc70",
   "metadata": {},
   "outputs": [],
   "source": [
    "observed_value = data_table.values"
   ]
  },
  {
   "cell_type": "code",
   "execution_count": 16,
   "id": "dd19a167-d11a-4ca1-8edf-406d66c20589",
   "metadata": {},
   "outputs": [
    {
     "data": {
      "text/plain": [
       "array([[60, 97],\n",
       "       [33, 54]], dtype=int64)"
      ]
     },
     "execution_count": 16,
     "metadata": {},
     "output_type": "execute_result"
    }
   ],
   "source": [
    "observed_value"
   ]
  },
  {
   "cell_type": "code",
   "execution_count": 26,
   "id": "13a1ec46-a878-408f-bd06-5009696a089f",
   "metadata": {},
   "outputs": [],
   "source": [
    "import scipy.stats as stats\n",
    "\n",
    "stats_test, p, dof, expected_value = stats.chi2_contingency(observed_value)"
   ]
  },
  {
   "cell_type": "code",
   "execution_count": 27,
   "id": "e3bcdd48-b9df-4b44-905e-93137e7708c0",
   "metadata": {},
   "outputs": [
    {
     "data": {
      "text/plain": [
       "array([[59.84016393, 97.15983607],\n",
       "       [33.15983607, 53.84016393]])"
      ]
     },
     "execution_count": 27,
     "metadata": {},
     "output_type": "execute_result"
    }
   ],
   "source": [
    "expected_value"
   ]
  },
  {
   "cell_type": "code",
   "execution_count": 29,
   "id": "65ae9854-7e3d-4412-821f-29655c9a1c8c",
   "metadata": {},
   "outputs": [],
   "source": [
    "# using chisquare critical method\n",
    "dof = 1"
   ]
  },
  {
   "cell_type": "code",
   "execution_count": 30,
   "id": "b84cad50-4d52-4384-af07-b66da1647be3",
   "metadata": {},
   "outputs": [],
   "source": [
    "from scipy.stats import chi2"
   ]
  },
  {
   "cell_type": "code",
   "execution_count": 34,
   "id": "219903d3-c67e-44ca-bb18-309d7da294d0",
   "metadata": {},
   "outputs": [
    {
     "name": "stdout",
     "output_type": "stream",
     "text": [
      "(array([60, 97], dtype=int64), array([59.84016393, 97.15983607]))\n",
      "(array([33, 54], dtype=int64), array([33.15983607, 53.84016393]))\n"
     ]
    }
   ],
   "source": [
    "for i in zip(observed_value, expected_value):\n",
    "    print(i)"
   ]
  },
  {
   "cell_type": "code",
   "execution_count": 37,
   "id": "1b9bd303-b23f-4238-9fda-9445f45afe9f",
   "metadata": {},
   "outputs": [],
   "source": [
    "chisquare_test = sum([(0-e)**2/e for  e, e in zip(observed_value, expected_value)])"
   ]
  },
  {
   "cell_type": "code",
   "execution_count": 38,
   "id": "82f0f18e-ee63-4279-b4c9-a2bcf0679317",
   "metadata": {},
   "outputs": [
    {
     "data": {
      "text/plain": [
       "array([ 93., 151.])"
      ]
     },
     "execution_count": 38,
     "metadata": {},
     "output_type": "execute_result"
    }
   ],
   "source": [
    "chisquare_test"
   ]
  },
  {
   "cell_type": "code",
   "execution_count": 39,
   "id": "a7c75778-1aa1-4362-bb50-da8372db0896",
   "metadata": {},
   "outputs": [],
   "source": [
    "chisquare_stats = chisquare_test[0] + chisquare_test[1]"
   ]
  },
  {
   "cell_type": "code",
   "execution_count": 40,
   "id": "79ed9536-7c29-46cf-9953-d475b0c9a1ab",
   "metadata": {},
   "outputs": [
    {
     "data": {
      "text/plain": [
       "244.0"
      ]
     },
     "execution_count": 40,
     "metadata": {},
     "output_type": "execute_result"
    }
   ],
   "source": [
    "chisquare_stats"
   ]
  },
  {
   "cell_type": "code",
   "execution_count": 43,
   "id": "db4f1099-0b83-4b18-ab88-a1f1b7a32079",
   "metadata": {},
   "outputs": [],
   "source": [
    "alpha = 0.05"
   ]
  },
  {
   "cell_type": "code",
   "execution_count": 46,
   "id": "9a2ef0c1-d8a3-44e0-aa50-804ad36fa75d",
   "metadata": {},
   "outputs": [],
   "source": [
    "chi2_critical = chi2.ppf(1 - alpha, dof)"
   ]
  },
  {
   "cell_type": "code",
   "execution_count": 47,
   "id": "2f79832c-0cc4-4f7d-8c77-76448a424d4b",
   "metadata": {},
   "outputs": [
    {
     "data": {
      "text/plain": [
       "3.841458820694124"
      ]
     },
     "execution_count": 47,
     "metadata": {},
     "output_type": "execute_result"
    }
   ],
   "source": [
    "chi2_critical"
   ]
  },
  {
   "cell_type": "code",
   "execution_count": 48,
   "id": "0ea5dbca-508b-4d3e-87d3-a9be8671095f",
   "metadata": {},
   "outputs": [
    {
     "name": "stdout",
     "output_type": "stream",
     "text": [
      "Reject the null hpothesis, thre is a relationship between two categorical variables\n"
     ]
    }
   ],
   "source": [
    "if chisquare_stats >= chi2_critical:\n",
    "    print(\"Reject the null hpothesis, thre is a relationship between two categorical variables\")\n",
    "else:\n",
    "    print(\"fail to reject null hypothesis, no relationship\")"
   ]
  },
  {
   "cell_type": "code",
   "execution_count": 50,
   "id": "70f4c784-36cd-4a22-84be-27adf27ff739",
   "metadata": {},
   "outputs": [],
   "source": [
    "# p value method\n",
    "p_value = 1-chi2.cdf(x = chisquare_stats, df = dof)"
   ]
  },
  {
   "cell_type": "code",
   "execution_count": 51,
   "id": "962cc3b4-f39a-449c-9738-ccfc2ca9b1c1",
   "metadata": {},
   "outputs": [
    {
     "data": {
      "text/plain": [
       "0.0"
      ]
     },
     "execution_count": 51,
     "metadata": {},
     "output_type": "execute_result"
    }
   ],
   "source": [
    "p_value"
   ]
  },
  {
   "cell_type": "code",
   "execution_count": 52,
   "id": "5280dc6c-ec14-4065-8f56-59b9f120c373",
   "metadata": {},
   "outputs": [
    {
     "name": "stdout",
     "output_type": "stream",
     "text": [
      "Reject the null hpothesis, thre is a relationship between two categorical variables\n"
     ]
    }
   ],
   "source": [
    "if p_value <= 0.05:\n",
    "    print(\"Reject the null hpothesis, thre is a relationship between two categorical variables\")\n",
    "else:\n",
    "    print(\"fail to reject null hypothesis, no relationship\")"
   ]
  },
  {
   "cell_type": "code",
   "execution_count": 53,
   "id": "d50559b6-ba46-4dab-a6a1-d6f66b6a1ae6",
   "metadata": {},
   "outputs": [
    {
     "data": {
      "text/plain": [
       "(45, 45)"
      ]
     },
     "execution_count": 53,
     "metadata": {},
     "output_type": "execute_result"
    }
   ],
   "source": [
    "# num of hours student study daily and wekly basic\n",
    "# monday, tuesday...., sunday\n",
    "\n",
    "expected_data = [8, 5, 6, 8, 5, 7, 6]\n",
    "observed_data = [7, 4, 7, 9, 4, 8, 6]\n",
    "\n",
    "sum(expected_data), sum(observed_data)"
   ]
  },
  {
   "cell_type": "code",
   "execution_count": 55,
   "id": "20da7388-8c60-4d3b-bed0-608766e99ff3",
   "metadata": {},
   "outputs": [],
   "source": [
    "chisqstats, pvalue = stats.chisquare(observed_value, expected_value)"
   ]
  },
  {
   "cell_type": "code",
   "execution_count": 74,
   "id": "930d8646-1d36-4cd8-b894-60974555145c",
   "metadata": {},
   "outputs": [],
   "source": [
    "# using chisquare critical\n",
    "critical_value = stats.chi2.ppf(1-alpha, dof)"
   ]
  },
  {
   "cell_type": "code",
   "execution_count": 75,
   "id": "1bc26171-d077-4b3d-98fe-7cde2bb9d763",
   "metadata": {},
   "outputs": [
    {
     "data": {
      "text/plain": [
       "0.001934818536627623"
      ]
     },
     "execution_count": 75,
     "metadata": {},
     "output_type": "execute_result"
    }
   ],
   "source": [
    "chisqstats"
   ]
  },
  {
   "cell_type": "code",
   "execution_count": null,
   "id": "28a85c1f-90c5-459a-a05c-a27bff5f5f2e",
   "metadata": {},
   "outputs": [],
   "source": [
    "chisqstats = chisqstats[0] + chisqstats[1]"
   ]
  },
  {
   "cell_type": "code",
   "execution_count": 80,
   "id": "ff1f5599-696d-4d0b-ac0f-355c719b211c",
   "metadata": {},
   "outputs": [
    {
     "name": "stdout",
     "output_type": "stream",
     "text": [
      "fail to reject\n"
     ]
    }
   ],
   "source": [
    "if chisqstats > critical_value:\n",
    "    print(\"Reject the null hypothesis\")\n",
    "else:\n",
    "    print(\"fail to reject\")"
   ]
  },
  {
   "cell_type": "code",
   "execution_count": 81,
   "id": "ccb18d34-7af1-4c3a-9140-aba9249dbadc",
   "metadata": {},
   "outputs": [],
   "source": [
    "# F test\n",
    "# Two workers >> if one worker is more effective than other one\n",
    "\n",
    "worker1 = [14, 23, 41, 56, 67, 76]\n",
    "worker2 = [13, 24, 35, 56, 47, 45]"
   ]
  },
  {
   "cell_type": "code",
   "execution_count": 84,
   "id": "2b86d8fe-e46c-4e3c-930b-913b4eb8c4f1",
   "metadata": {},
   "outputs": [
    {
     "data": {
      "text/plain": [
       "2.370811518324608"
      ]
     },
     "execution_count": 84,
     "metadata": {},
     "output_type": "execute_result"
    }
   ],
   "source": [
    "fstats = np.var(worker1) / np.var(worker2)\n",
    "fstats"
   ]
  },
  {
   "cell_type": "code",
   "execution_count": 94,
   "id": "a74b86b4-8889-4783-9206-0ee58585c3f5",
   "metadata": {},
   "outputs": [],
   "source": [
    "df1 = len(worker1)-1\n",
    "df2 = len(worker2) - 3"
   ]
  },
  {
   "cell_type": "code",
   "execution_count": 95,
   "id": "bc358969-c592-497d-aecc-2d6e1b6306e0",
   "metadata": {},
   "outputs": [
    {
     "data": {
      "text/plain": [
       "3"
      ]
     },
     "execution_count": 95,
     "metadata": {},
     "output_type": "execute_result"
    }
   ],
   "source": [
    "df1\n",
    "df2"
   ]
  },
  {
   "cell_type": "code",
   "execution_count": 97,
   "id": "2ffd6696-40d5-4560-b206-bfe685eacd3a",
   "metadata": {},
   "outputs": [
    {
     "data": {
      "text/plain": [
       "9.01345516752258"
      ]
     },
     "execution_count": 97,
     "metadata": {},
     "output_type": "execute_result"
    }
   ],
   "source": [
    "stats.f.ppf(q = 1-alpha, dfn=df1, dfd = df2)"
   ]
  },
  {
   "cell_type": "code",
   "execution_count": 98,
   "id": "03ccf14a-bb7c-4b33-ab71-e2e1b0937bc0",
   "metadata": {},
   "outputs": [
    {
     "name": "stdout",
     "output_type": "stream",
     "text": [
      "Fail to reject null hypothesis\n"
     ]
    }
   ],
   "source": [
    "if fstats>critical_value:\n",
    "    print(\"Reject the null hypothisis\")\n",
    "\n",
    "else:\n",
    "    print(\"Fail to reject null hypothesis\")"
   ]
  },
  {
   "cell_type": "code",
   "execution_count": null,
   "id": "1c288f6d-c02a-4c79-b003-cae7633a1c16",
   "metadata": {},
   "outputs": [],
   "source": [
    "# Anova Test >> compare means of two or more than two sample.\n",
    "# Null Hypothesis "
   ]
  },
  {
   "cell_type": "code",
   "execution_count": 106,
   "id": "6bfcc53d-46f2-49d7-8964-81cc58c80752",
   "metadata": {},
   "outputs": [
    {
     "name": "stdout",
     "output_type": "stream",
     "text": [
      "       Plant   Color  Height_cm  Perennial\n",
      "0       Rose     Red         45       True\n",
      "1      Tulip  Yellow         30      False\n",
      "2  Sunflower  Yellow        150       True\n",
      "3       Lily   White         60       True\n",
      "4   Marigold  Orange         35      False\n"
     ]
    }
   ],
   "source": [
    "\n",
    "# Sample data\n",
    "data = {\n",
    "    'Plant': ['Rose', 'Tulip', 'Sunflower', 'Lily', 'Marigold'],\n",
    "    'Color': ['Red', 'Yellow', 'Yellow', 'White', 'Orange'],\n",
    "    'Height_cm': [45, 30, 150, 60, 35],\n",
    "    'Perennial': [True, False, True, True, False]\n",
    "}\n",
    "\n",
    "# Create DataFrame\n",
    "df = pd.DataFrame(data)\n",
    "\n",
    "# Show the DataFrame\n",
    "print(df)\n"
   ]
  },
  {
   "cell_type": "code",
   "execution_count": null,
   "id": "247d1ea2-9c88-4628-ac94-1a1ed98ddfc3",
   "metadata": {},
   "outputs": [],
   "source": [
    "df = pd.read_csv('plant.csv')\n"
   ]
  },
  {
   "cell_type": "code",
   "execution_count": null,
   "id": "c2020ab4-8530-4378-b2a2-aa3088ab1961",
   "metadata": {},
   "outputs": [],
   "source": []
  },
  {
   "cell_type": "code",
   "execution_count": null,
   "id": "58918f3e-e003-41d4-a613-f466ae4fdcb9",
   "metadata": {},
   "outputs": [],
   "source": []
  }
 ],
 "metadata": {
  "kernelspec": {
   "display_name": "Python 3 (ipykernel)",
   "language": "python",
   "name": "python3"
  },
  "language_info": {
   "codemirror_mode": {
    "name": "ipython",
    "version": 3
   },
   "file_extension": ".py",
   "mimetype": "text/x-python",
   "name": "python",
   "nbconvert_exporter": "python",
   "pygments_lexer": "ipython3",
   "version": "3.12.7"
  }
 },
 "nbformat": 4,
 "nbformat_minor": 5
}
