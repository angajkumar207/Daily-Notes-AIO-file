{
 "cells": [
  {
   "cell_type": "code",
   "execution_count": null,
   "id": "dc54941d",
   "metadata": {},
   "outputs": [],
   "source": [
    "# Iterator and Genrator >> \n",
    "# An iterator is a any python object/sequentialy structure/data sturcture that is capable of return# \n",
    "# its is member one at a time\n",
    "# permetting it to be iterator over in a for loop\n",
    "# EXAMPLE >> list, tuples"
   ]
  },
  {
   "cell_type": "code",
   "execution_count": 1,
   "id": "7dc0d4c5",
   "metadata": {},
   "outputs": [
    {
     "name": "stdout",
     "output_type": "stream",
     "text": [
      "1\n",
      "2\n",
      "3\n",
      "4\n",
      "5\n"
     ]
    }
   ],
   "source": [
    "# like this\n",
    "\n",
    "for i in [1, 2, 3,4 ,5]:\n",
    "    print(i)"
   ]
  },
  {
   "cell_type": "code",
   "execution_count": null,
   "id": "407aab80",
   "metadata": {},
   "outputs": [
    {
     "name": "stdout",
     "output_type": "stream",
     "text": [
      "1\n",
      "2\n",
      "3\n",
      "Angaj\n"
     ]
    }
   ],
   "source": [
    "lis = [1, 2, 3, \"Angaj\"] # list is an iterable operator\n",
    "\n",
    "for i in lis:\n",
    "    print(i)"
   ]
  },
  {
   "cell_type": "code",
   "execution_count": null,
   "id": "6b6345a3",
   "metadata": {},
   "outputs": [],
   "source": [
    "# iteration >>\n",
    "# iteration is a process of looping throwgh the element for an iterable (list, string).\n",
    "# using a process loop\n",
    "# The process of returning oe by one iteration."
   ]
  },
  {
   "cell_type": "code",
   "execution_count": 6,
   "id": "64012e84",
   "metadata": {},
   "outputs": [
    {
     "name": "stdout",
     "output_type": "stream",
     "text": [
      "A\n",
      "n\n",
      "g\n",
      "a\n",
      "j\n"
     ]
    }
   ],
   "source": [
    "for i in \"Angaj\":\n",
    "    print(i)"
   ]
  },
  {
   "cell_type": "code",
   "execution_count": null,
   "id": "0d07c6fb",
   "metadata": {},
   "outputs": [],
   "source": [
    "# iterator >> iterator ia an object reperesting a stream of data the data one by one\n",
    "# Analogy\n",
    "# potato(iterable) >> it can not be cooked in orignal from\n",
    "# chop/wash the potato >> ready for cooking >> iterator\n",
    "# the process of cooking is a iteration"
   ]
  },
  {
   "cell_type": "code",
   "execution_count": null,
   "id": "0a5fb8dd",
   "metadata": {},
   "outputs": [
    {
     "name": "stdout",
     "output_type": "stream",
     "text": [
      "A\n",
      "n\n",
      "g\n",
      "a\n",
      "j\n"
     ]
    }
   ],
   "source": [
    "s = \"Angaj\" # there string is a iterable\n",
    "\n",
    "for i in s: # how python decided that s should be iterated >> comes the concept of the iterator\n",
    "    print(i)"
   ]
  },
  {
   "cell_type": "code",
   "execution_count": 10,
   "id": "683435e3",
   "metadata": {},
   "outputs": [],
   "source": [
    "iter(s)\n",
    "\n",
    "a = iter(s)"
   ]
  },
  {
   "cell_type": "code",
   "execution_count": 11,
   "id": "35634bbf",
   "metadata": {},
   "outputs": [
    {
     "data": {
      "text/plain": [
       "'A'"
      ]
     },
     "execution_count": 11,
     "metadata": {},
     "output_type": "execute_result"
    }
   ],
   "source": [
    "next(a)"
   ]
  },
  {
   "cell_type": "code",
   "execution_count": 13,
   "id": "c1209d2b",
   "metadata": {},
   "outputs": [
    {
     "data": {
      "text/plain": [
       "'n'"
      ]
     },
     "execution_count": 13,
     "metadata": {},
     "output_type": "execute_result"
    }
   ],
   "source": [
    "next(a)"
   ]
  },
  {
   "cell_type": "code",
   "execution_count": 14,
   "id": "daad70fa",
   "metadata": {},
   "outputs": [
    {
     "data": {
      "text/plain": [
       "<tuple_iterator at 0x22e35763d90>"
      ]
     },
     "execution_count": 14,
     "metadata": {},
     "output_type": "execute_result"
    }
   ],
   "source": [
    "t = iter((1, 2, 3, 4, 5, 6))\n",
    "t"
   ]
  },
  {
   "cell_type": "code",
   "execution_count": 15,
   "id": "ec61f370",
   "metadata": {},
   "outputs": [
    {
     "data": {
      "text/plain": [
       "1"
      ]
     },
     "execution_count": 15,
     "metadata": {},
     "output_type": "execute_result"
    }
   ],
   "source": [
    "next(t)"
   ]
  },
  {
   "cell_type": "code",
   "execution_count": 16,
   "id": "b1e4278c",
   "metadata": {},
   "outputs": [
    {
     "data": {
      "text/plain": [
       "<dict_keyiterator at 0x22e35bda430>"
      ]
     },
     "execution_count": 16,
     "metadata": {},
     "output_type": "execute_result"
    }
   ],
   "source": [
    "d = iter({\"name\": \"angaj\"})\n",
    "d"
   ]
  },
  {
   "cell_type": "code",
   "execution_count": 17,
   "id": "3ff8a9d1",
   "metadata": {},
   "outputs": [
    {
     "data": {
      "text/plain": [
       "'name'"
      ]
     },
     "execution_count": 17,
     "metadata": {},
     "output_type": "execute_result"
    }
   ],
   "source": [
    "next(d)"
   ]
  },
  {
   "cell_type": "code",
   "execution_count": 20,
   "id": "6a6d9ae8",
   "metadata": {},
   "outputs": [
    {
     "ename": "StopIteration",
     "evalue": "",
     "output_type": "error",
     "traceback": [
      "\u001b[31m---------------------------------------------------------------------------\u001b[39m",
      "\u001b[31mStopIteration\u001b[39m                             Traceback (most recent call last)",
      "\u001b[36mCell\u001b[39m\u001b[36m \u001b[39m\u001b[32mIn[20]\u001b[39m\u001b[32m, line 1\u001b[39m\n\u001b[32m----> \u001b[39m\u001b[32m1\u001b[39m \u001b[38;5;28;43mnext\u001b[39;49m\u001b[43m(\u001b[49m\u001b[43md\u001b[49m\u001b[43m)\u001b[49m\n",
      "\u001b[31mStopIteration\u001b[39m: "
     ]
    }
   ],
   "source": [
    "next(d)"
   ]
  },
  {
   "cell_type": "code",
   "execution_count": 21,
   "id": "5e135640",
   "metadata": {},
   "outputs": [
    {
     "data": {
      "text/plain": [
       "[100, 400, 900]"
      ]
     },
     "execution_count": 21,
     "metadata": {},
     "output_type": "execute_result"
    }
   ],
   "source": [
    "# Genrator Function\n",
    "# regular function >> takes a list and gives square of each of the list\n",
    "\n",
    "def square(n):\n",
    "    result = []\n",
    "    for i in n:\n",
    "        result.append(i** 2)\n",
    "    return result\n",
    "\n",
    "square([10, 20, 30])\n"
   ]
  },
  {
   "cell_type": "code",
   "execution_count": 22,
   "id": "3af729ae",
   "metadata": {},
   "outputs": [
    {
     "data": {
      "text/plain": [
       "[0, 1, 4, 9, 16, 25, 36, 49, 64, 81]"
      ]
     },
     "execution_count": 22,
     "metadata": {},
     "output_type": "execute_result"
    }
   ],
   "source": [
    "def check_sq(n):\n",
    "    result = []\n",
    "    for i in range(n):\n",
    "        result.append(i ** 2)\n",
    "    return result\n",
    "\n",
    "check_sq(10)"
   ]
  },
  {
   "cell_type": "code",
   "execution_count": null,
   "id": "da0e76b7",
   "metadata": {},
   "outputs": [
    {
     "data": {
      "text/plain": [
       "<generator object genrator_sq at 0x0000022E35CC0AD0>"
      ]
     },
     "execution_count": 24,
     "metadata": {},
     "output_type": "execute_result"
    }
   ],
   "source": [
    "def genrator_sq(n):\n",
    "    for i in n:\n",
    "        yield i **2  # yield is a creating a genrator similar to iterator object\n",
    "genrator_sq(13)\n"
   ]
  },
  {
   "cell_type": "code",
   "execution_count": 25,
   "id": "27201567",
   "metadata": {},
   "outputs": [
    {
     "data": {
      "text/plain": [
       "<generator object fb at 0x0000022E35C1B060>"
      ]
     },
     "execution_count": 25,
     "metadata": {},
     "output_type": "execute_result"
    }
   ],
   "source": [
    "# fibonaccis\n",
    "\n",
    "def fb(n):\n",
    "    a = 0\n",
    "    b = 1\n",
    "    for i in range(n):\n",
    "        yield a\n",
    "        a, b = b, a+b\n",
    "\n",
    "fb(10)\n",
    "\n"
   ]
  }
 ],
 "metadata": {
  "kernelspec": {
   "display_name": "Python 3",
   "language": "python",
   "name": "python3"
  },
  "language_info": {
   "codemirror_mode": {
    "name": "ipython",
    "version": 3
   },
   "file_extension": ".py",
   "mimetype": "text/x-python",
   "name": "python",
   "nbconvert_exporter": "python",
   "pygments_lexer": "ipython3",
   "version": "3.13.0"
  }
 },
 "nbformat": 4,
 "nbformat_minor": 5
}
