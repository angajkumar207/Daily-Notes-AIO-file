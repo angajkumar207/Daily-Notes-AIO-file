{
 "cells": [
  {
   "cell_type": "code",
   "execution_count": null,
   "id": "bddd041d",
   "metadata": {},
   "outputs": [],
   "source": [
    "# Lambda Function >> anonymous function\n",
    "# Syntax >>\n",
    "# lambda Arguments : Expresion >> no needs of return statement of def keyword"
   ]
  },
  {
   "cell_type": "code",
   "execution_count": 2,
   "id": "cf2b960d",
   "metadata": {},
   "outputs": [
    {
     "data": {
      "text/plain": [
       "9"
      ]
     },
     "execution_count": 2,
     "metadata": {},
     "output_type": "execute_result"
    }
   ],
   "source": [
    "sq_lambda = lambda x: x **2\n",
    "sq_lambda(3)"
   ]
  },
  {
   "cell_type": "code",
   "execution_count": 14,
   "id": "7fe702a1",
   "metadata": {},
   "outputs": [
    {
     "data": {
      "text/plain": [
       "True"
      ]
     },
     "execution_count": 14,
     "metadata": {},
     "output_type": "execute_result"
    }
   ],
   "source": [
    "# print even number\n",
    "even_no = lambda x: x % 2 == 0\n",
    "even_no(10)"
   ]
  },
  {
   "cell_type": "code",
   "execution_count": 8,
   "id": "1627e03b",
   "metadata": {},
   "outputs": [
    {
     "data": {
      "text/plain": [
       "['angaj', 'kumar', 'paswan', 'don']"
      ]
     },
     "execution_count": 8,
     "metadata": {},
     "output_type": "execute_result"
    }
   ],
   "source": [
    "# shortex\n",
    "\n",
    "t = [\"angaj\", \"kumar\", \"paswan\", \"don\"]\n",
    "t"
   ]
  },
  {
   "cell_type": "code",
   "execution_count": 9,
   "id": "57bd3a17",
   "metadata": {},
   "outputs": [
    {
     "data": {
      "text/plain": [
       "['angaj', 'don', 'kumar', 'paswan']"
      ]
     },
     "execution_count": 9,
     "metadata": {},
     "output_type": "execute_result"
    }
   ],
   "source": [
    "sorted(t)"
   ]
  },
  {
   "cell_type": "code",
   "execution_count": 10,
   "id": "1160fbf7",
   "metadata": {},
   "outputs": [
    {
     "data": {
      "text/plain": [
       "5"
      ]
     },
     "execution_count": 10,
     "metadata": {},
     "output_type": "execute_result"
    }
   ],
   "source": [
    "le = lambda x : len(x)\n",
    "le(\"Angaj\")"
   ]
  },
  {
   "cell_type": "code",
   "execution_count": 11,
   "id": "933550b8",
   "metadata": {},
   "outputs": [
    {
     "data": {
      "text/plain": [
       "['angaj', 'kumar', 'paswan', 'don']"
      ]
     },
     "execution_count": 11,
     "metadata": {},
     "output_type": "execute_result"
    }
   ],
   "source": [
    "sorted(t, key = lambda x : len(t))"
   ]
  },
  {
   "cell_type": "code",
   "execution_count": 21,
   "id": "98e22367",
   "metadata": {},
   "outputs": [
    {
     "data": {
      "text/plain": [
       "[0, 1, 1, 2, 3, 5, 8, 13, 21, 34]"
      ]
     },
     "execution_count": 21,
     "metadata": {},
     "output_type": "execute_result"
    }
   ],
   "source": [
    "# fibonaccic\n",
    "fib = lambda n : n if n <= 1 else fib(n-1) + fib(n-2)\n",
    "[fib(i) for i in range(10)]"
   ]
  },
  {
   "cell_type": "code",
   "execution_count": 27,
   "id": "c7f630a1",
   "metadata": {},
   "outputs": [
    {
     "data": {
      "text/plain": [
       "120"
      ]
     },
     "execution_count": 27,
     "metadata": {},
     "output_type": "execute_result"
    }
   ],
   "source": [
    "# factoiral\n",
    "\n",
    "fic = lambda n : n if n <=1 else n * fic(n-1)\n",
    "#[fic(i) for i in range(5)]\n",
    "fic(5)"
   ]
  },
  {
   "cell_type": "code",
   "execution_count": null,
   "id": "92e7fd8d",
   "metadata": {},
   "outputs": [],
   "source": [
    "# Map >> map exicute a specified number for each of iterator of an iterable\n",
    "# syntax >>\n",
    "# map(function, iterable)"
   ]
  },
  {
   "cell_type": "code",
   "execution_count": 31,
   "id": "c8bac353",
   "metadata": {},
   "outputs": [
    {
     "data": {
      "text/plain": [
       "[1, 4, 9, 16, 25]"
      ]
     },
     "execution_count": 31,
     "metadata": {},
     "output_type": "execute_result"
    }
   ],
   "source": [
    "def sq(l):\n",
    "    return l **2\n",
    "\n",
    "l = [1, 2, 3, 4, 5]\n",
    "list(map(sq, l))"
   ]
  },
  {
   "cell_type": "code",
   "execution_count": 32,
   "id": "419e6000",
   "metadata": {},
   "outputs": [
    {
     "data": {
      "text/plain": [
       "[1, 4, 9, 16, 25]"
      ]
     },
     "execution_count": 32,
     "metadata": {},
     "output_type": "execute_result"
    }
   ],
   "source": [
    "list(map(lambda x : x **2 , l))"
   ]
  },
  {
   "cell_type": "code",
   "execution_count": 38,
   "id": "7ab20c7b",
   "metadata": {},
   "outputs": [
    {
     "data": {
      "text/plain": [
       "[11, 12, 13, 14]"
      ]
     },
     "execution_count": 38,
     "metadata": {},
     "output_type": "execute_result"
    }
   ],
   "source": [
    "d = [1, 2, 3, 4]\n",
    "\n",
    "result = list(map(lambda x : x + 10, d))\n",
    "result"
   ]
  },
  {
   "cell_type": "code",
   "execution_count": 41,
   "id": "bbf9fd0b",
   "metadata": {},
   "outputs": [
    {
     "data": {
      "text/plain": [
       "[1, 2, 3, 4]"
      ]
     },
     "execution_count": 41,
     "metadata": {},
     "output_type": "execute_result"
    }
   ],
   "source": [
    "# convert\n",
    "\n",
    "i = [\"1\", \"2\", \"3\", \"4\"]\n",
    "list(map(lambda x : int(x), i))"
   ]
  },
  {
   "cell_type": "code",
   "execution_count": 1,
   "id": "84cb08a0",
   "metadata": {},
   "outputs": [
    {
     "data": {
      "text/plain": [
       "[2, 2, 3, 5]"
      ]
     },
     "execution_count": 1,
     "metadata": {},
     "output_type": "execute_result"
    }
   ],
   "source": [
    "k = [2.1 , 2.3, 3.2, 5.3]\n",
    "\n",
    "list(map(lambda x : int(x), k))"
   ]
  },
  {
   "cell_type": "code",
   "execution_count": 10,
   "id": "5a9dd8bf",
   "metadata": {},
   "outputs": [
    {
     "data": {
      "text/plain": [
       "('Angaj', 'Abhishek')"
      ]
     },
     "execution_count": 10,
     "metadata": {},
     "output_type": "execute_result"
    }
   ],
   "source": [
    "name = (\"angaj\", \"abhishek\")\n",
    "tuple(map(str.capitalize, name))\n"
   ]
  },
  {
   "cell_type": "code",
   "execution_count": null,
   "id": "a29bd4cd",
   "metadata": {},
   "outputs": [],
   "source": [
    "# reduse >> floding / function\n",
    "# syntax >> (function, iterable)\n",
    "# reduce will allows two arguments function\n",
    "\n",
    "from functools import reduce"
   ]
  },
  {
   "cell_type": "code",
   "execution_count": null,
   "id": "74fa0df5",
   "metadata": {},
   "outputs": [
    {
     "data": {
      "text/plain": [
       "6"
      ]
     },
     "execution_count": 14,
     "metadata": {},
     "output_type": "execute_result"
    }
   ],
   "source": [
    "i = [1, 2, 3]\n",
    "reduce(lambda x, y : x+y, i)"
   ]
  },
  {
   "cell_type": "code",
   "execution_count": 15,
   "id": "34f2b0a9",
   "metadata": {},
   "outputs": [
    {
     "data": {
      "text/plain": [
       "120"
      ]
     },
     "execution_count": 15,
     "metadata": {},
     "output_type": "execute_result"
    }
   ],
   "source": [
    "l = [1, 2, 3 ,4 ,5]\n",
    "reduce(lambda x,y : x*y, l)"
   ]
  },
  {
   "cell_type": "code",
   "execution_count": 16,
   "id": "f8a47547",
   "metadata": {},
   "outputs": [
    {
     "data": {
      "text/plain": [
       "1000"
      ]
     },
     "execution_count": 16,
     "metadata": {},
     "output_type": "execute_result"
    }
   ],
   "source": [
    "# the most highest at value each stage , you are camparing x / y\n",
    "a = [1, 2, 3, 100, 300, 1000]\n",
    "reduce(lambda x, y : x if x>y else y, a)"
   ]
  },
  {
   "cell_type": "code",
   "execution_count": 22,
   "id": "dfc1362f",
   "metadata": {},
   "outputs": [],
   "source": [
    "def mul(x):\n",
    "    return reduce(lambda x, y: x*y , range(1, x+1))"
   ]
  },
  {
   "cell_type": "code",
   "execution_count": 23,
   "id": "4193a503",
   "metadata": {},
   "outputs": [
    {
     "data": {
      "text/plain": [
       "120"
      ]
     },
     "execution_count": 23,
     "metadata": {},
     "output_type": "execute_result"
    }
   ],
   "source": [
    "mul(5)"
   ]
  },
  {
   "cell_type": "code",
   "execution_count": null,
   "id": "b5809128",
   "metadata": {},
   "outputs": [],
   "source": [
    "# Filter\n",
    "# Syntax(function, iterable)"
   ]
  },
  {
   "cell_type": "code",
   "execution_count": 25,
   "id": "8f2e89da",
   "metadata": {},
   "outputs": [
    {
     "data": {
      "text/plain": [
       "[2, 4]"
      ]
     },
     "execution_count": 25,
     "metadata": {},
     "output_type": "execute_result"
    }
   ],
   "source": [
    "k = [1, 2, 3 ,4]\n",
    "list(filter(lambda x: x%2 == 0, k))"
   ]
  },
  {
   "cell_type": "code",
   "execution_count": 29,
   "id": "2b6a290b",
   "metadata": {},
   "outputs": [
    {
     "data": {
      "text/plain": [
       "[-1, -2, -4]"
      ]
     },
     "execution_count": 29,
     "metadata": {},
     "output_type": "execute_result"
    }
   ],
   "source": [
    "# Nagetive\n",
    "l1 = [-1, -2, 3, -4]\n",
    "list(filter(lambda x : x < 0 == 0, l1))"
   ]
  },
  {
   "cell_type": "code",
   "execution_count": 33,
   "id": "b68680cd",
   "metadata": {},
   "outputs": [
    {
     "data": {
      "text/plain": [
       "['Angaj', 'Abhishek', 'Gunjan']"
      ]
     },
     "execution_count": 33,
     "metadata": {},
     "output_type": "execute_result"
    }
   ],
   "source": [
    "name = [\"Angaj\", \"Amit\", \"Abhishek\", \"Gunjan\"]\n",
    "list(filter(lambda x: len(x) > 4, name))"
   ]
  },
  {
   "cell_type": "code",
   "execution_count": 48,
   "id": "e3f8df3a",
   "metadata": {},
   "outputs": [],
   "source": [
    "def n(num):\n",
    "    if num%2 == 0:\n",
    "        return True\n",
    "    return False"
   ]
  },
  {
   "cell_type": "code",
   "execution_count": 49,
   "id": "a4f0c8b6",
   "metadata": {},
   "outputs": [
    {
     "data": {
      "text/plain": [
       "[2, 4, 6]"
      ]
     },
     "execution_count": 49,
     "metadata": {},
     "output_type": "execute_result"
    }
   ],
   "source": [
    "num = [2, 4, 6, 3]\n",
    "list(filter(n, num))"
   ]
  }
 ],
 "metadata": {
  "kernelspec": {
   "display_name": "Python 3",
   "language": "python",
   "name": "python3"
  },
  "language_info": {
   "codemirror_mode": {
    "name": "ipython",
    "version": 3
   },
   "file_extension": ".py",
   "mimetype": "text/x-python",
   "name": "python",
   "nbconvert_exporter": "python",
   "pygments_lexer": "ipython3",
   "version": "3.13.0"
  }
 },
 "nbformat": 4,
 "nbformat_minor": 5
}
