{
 "cells": [
  {
   "cell_type": "code",
   "execution_count": null,
   "id": "bd2b8ade",
   "metadata": {},
   "outputs": [],
   "source": [
    "# Function >> Function is a block of code which perfrom some speciffic task and compution.\n",
    "# why Function >> Function code are reusable"
   ]
  },
  {
   "cell_type": "code",
   "execution_count": null,
   "id": "53d839c1",
   "metadata": {},
   "outputs": [],
   "source": [
    "# syntax of function\n",
    "\n",
    "#def function():\n",
    "    #block of // body\n",
    "\n",
    "#function\n"
   ]
  },
  {
   "cell_type": "code",
   "execution_count": 1,
   "id": "03cfee35",
   "metadata": {},
   "outputs": [
    {
     "name": "stdout",
     "output_type": "stream",
     "text": [
      "hello Gunjan\n"
     ]
    }
   ],
   "source": [
    "def greetNow(name):\n",
    "    print(\"hello\", name)\n",
    "\n",
    "greetNow(\"Gunjan\")"
   ]
  },
  {
   "cell_type": "code",
   "execution_count": null,
   "id": "b7f63475",
   "metadata": {},
   "outputs": [
    {
     "name": "stdout",
     "output_type": "stream",
     "text": [
      "hello Gunjan\n"
     ]
    },
    {
     "ename": "TypeError",
     "evalue": "unsupported operand type(s) for +: 'NoneType' and 'str'",
     "output_type": "error",
     "traceback": [
      "\u001b[31m---------------------------------------------------------------------------\u001b[39m",
      "\u001b[31mTypeError\u001b[39m                                 Traceback (most recent call last)",
      "\u001b[36mCell\u001b[39m\u001b[36m \u001b[39m\u001b[32mIn[4]\u001b[39m\u001b[32m, line 4\u001b[39m\n\u001b[32m      1\u001b[39m \u001b[38;5;28;01mdef\u001b[39;00m\u001b[38;5;250m \u001b[39m\u001b[34mgreetNow\u001b[39m(name):\n\u001b[32m      2\u001b[39m     \u001b[38;5;28mprint\u001b[39m(\u001b[33m\"\u001b[39m\u001b[33mhello\u001b[39m\u001b[33m\"\u001b[39m, name)\n\u001b[32m----> \u001b[39m\u001b[32m4\u001b[39m \u001b[43mgreetNow\u001b[49m\u001b[43m(\u001b[49m\u001b[33;43m\"\u001b[39;49m\u001b[33;43mGunjan\u001b[39;49m\u001b[33;43m\"\u001b[39;49m\u001b[43m)\u001b[49m\u001b[43m \u001b[49m\u001b[43m+\u001b[49m\u001b[43m \u001b[49m\u001b[33;43m\"\u001b[39;49m\u001b[33;43mhow are you\u001b[39;49m\u001b[33;43m\"\u001b[39;49m \u001b[38;5;66;03m# error \u001b[39;00m\n",
      "\u001b[31mTypeError\u001b[39m: unsupported operand type(s) for +: 'NoneType' and 'str'"
     ]
    }
   ],
   "source": [
    "def greetNow(name):\n",
    "    print(\"hello\", name)\n",
    "\n",
    "greetNow(\"Gunjan\") + \"how are you\" # The error is greetNow does not return but it can only print\n"
   ]
  },
  {
   "cell_type": "code",
   "execution_count": 2,
   "id": "4001bef5",
   "metadata": {},
   "outputs": [
    {
     "data": {
      "text/plain": [
       "'Hello Angaj'"
      ]
     },
     "execution_count": 2,
     "metadata": {},
     "output_type": "execute_result"
    }
   ],
   "source": [
    "def greetNow1():\n",
    "    return \"Hello\"\n",
    "\n",
    "greetNow1()  + \" Angaj\" # Cannot make this error as it is refundable"
   ]
  },
  {
   "cell_type": "code",
   "execution_count": 8,
   "id": "5de39ea1",
   "metadata": {},
   "outputs": [
    {
     "data": {
      "text/plain": [
       "11"
      ]
     },
     "execution_count": 8,
     "metadata": {},
     "output_type": "execute_result"
    }
   ],
   "source": [
    "def cal():\n",
    "    a = 6 + 5\n",
    "    return a\n",
    "\n",
    "cal()"
   ]
  },
  {
   "cell_type": "code",
   "execution_count": 9,
   "id": "fbcb3bec",
   "metadata": {},
   "outputs": [
    {
     "data": {
      "text/plain": [
       "('Angaj', 1, 2.3, (3+3j), bool, True, False)"
      ]
     },
     "execution_count": 9,
     "metadata": {},
     "output_type": "execute_result"
    }
   ],
   "source": [
    "def store():\n",
    "    return \"Angaj\", 1, 2.3, 3+3j, bool, True, False\n",
    "\n",
    "store()"
   ]
  },
  {
   "cell_type": "code",
   "execution_count": 10,
   "id": "8c6a7810",
   "metadata": {},
   "outputs": [],
   "source": [
    "a, b, c, d, e, f, g = store()"
   ]
  },
  {
   "cell_type": "code",
   "execution_count": 11,
   "id": "e0f4cc78",
   "metadata": {},
   "outputs": [
    {
     "data": {
      "text/plain": [
       "'Angaj'"
      ]
     },
     "execution_count": 11,
     "metadata": {},
     "output_type": "execute_result"
    }
   ],
   "source": [
    "a"
   ]
  },
  {
   "cell_type": "code",
   "execution_count": 12,
   "id": "bedbf24e",
   "metadata": {},
   "outputs": [
    {
     "data": {
      "text/plain": [
       "(1, 2.3)"
      ]
     },
     "execution_count": 12,
     "metadata": {},
     "output_type": "execute_result"
    }
   ],
   "source": [
    "b,c"
   ]
  },
  {
   "cell_type": "code",
   "execution_count": 13,
   "id": "a4efb70f",
   "metadata": {},
   "outputs": [
    {
     "data": {
      "text/plain": [
       "tuple"
      ]
     },
     "execution_count": 13,
     "metadata": {},
     "output_type": "execute_result"
    }
   ],
   "source": [
    "type(store())"
   ]
  },
  {
   "cell_type": "code",
   "execution_count": 16,
   "id": "3ae8b0de",
   "metadata": {},
   "outputs": [],
   "source": [
    "# power\n",
    "def pow(argums):\n",
    "    return argums* argums\n",
    "\n",
    "#pow(3)"
   ]
  },
  {
   "cell_type": "code",
   "execution_count": null,
   "id": "7c52cea5",
   "metadata": {},
   "outputs": [],
   "source": [
    "#add\n",
    "def pow1(argums1, argums2): #that is arguments but these are positional arguments\n",
    "    return argums1 + argums2\n",
    "\n"
   ]
  },
  {
   "cell_type": "code",
   "execution_count": 27,
   "id": "c20cc7a9",
   "metadata": {},
   "outputs": [
    {
     "data": {
      "text/plain": [
       "'angaj'"
      ]
     },
     "execution_count": 27,
     "metadata": {},
     "output_type": "execute_result"
    }
   ],
   "source": [
    "pow1(\"ang\" ,\"aj\")"
   ]
  },
  {
   "cell_type": "code",
   "execution_count": 28,
   "id": "9d101738",
   "metadata": {},
   "outputs": [
    {
     "data": {
      "text/plain": [
       "[1, 2, 3, 4, 5, 6]"
      ]
     },
     "execution_count": 28,
     "metadata": {},
     "output_type": "execute_result"
    }
   ],
   "source": [
    "pow1([1, 2, 3], [4, 5, 6])"
   ]
  },
  {
   "cell_type": "code",
   "execution_count": null,
   "id": "9bf43911",
   "metadata": {},
   "outputs": [
    {
     "data": {
      "text/plain": [
       "5"
      ]
     },
     "execution_count": 32,
     "metadata": {},
     "output_type": "execute_result"
    }
   ],
   "source": [
    "# defualte arguments\n",
    "\n",
    "def defu(a, b, c = 0): # defulate Argument is passed to function to last\n",
    "    return a+b+c\n",
    "defu(2, 3, )"
   ]
  },
  {
   "cell_type": "code",
   "execution_count": 33,
   "id": "9a322de0",
   "metadata": {},
   "outputs": [
    {
     "ename": "TypeError",
     "evalue": "defu() missing 1 required positional argument: 'c'",
     "output_type": "error",
     "traceback": [
      "\u001b[31m---------------------------------------------------------------------------\u001b[39m",
      "\u001b[31mTypeError\u001b[39m                                 Traceback (most recent call last)",
      "\u001b[36mCell\u001b[39m\u001b[36m \u001b[39m\u001b[32mIn[33]\u001b[39m\u001b[32m, line 3\u001b[39m\n\u001b[32m      1\u001b[39m \u001b[38;5;28;01mdef\u001b[39;00m\u001b[38;5;250m \u001b[39m\u001b[34mdefu\u001b[39m(a, b, c):\n\u001b[32m      2\u001b[39m     \u001b[38;5;28;01mreturn\u001b[39;00m a+b+c\n\u001b[32m----> \u001b[39m\u001b[32m3\u001b[39m \u001b[43mdefu\u001b[49m\u001b[43m(\u001b[49m\u001b[32;43m2\u001b[39;49m\u001b[43m,\u001b[49m\u001b[43m \u001b[49m\u001b[32;43m3\u001b[39;49m\u001b[43m,\u001b[49m\u001b[43m \u001b[49m\u001b[43m)\u001b[49m \u001b[38;5;66;03m#that is error because c is not diffine\u001b[39;00m\n",
      "\u001b[31mTypeError\u001b[39m: defu() missing 1 required positional argument: 'c'"
     ]
    }
   ],
   "source": [
    "def defu(a, b, c):\n",
    "    return a+b+c\n",
    "defu(2, 3, ) #that is error because c is not diffine"
   ]
  },
  {
   "cell_type": "code",
   "execution_count": 34,
   "id": "700b1c54",
   "metadata": {},
   "outputs": [
    {
     "data": {
      "text/plain": [
       "10"
      ]
     },
     "execution_count": 34,
     "metadata": {},
     "output_type": "execute_result"
    }
   ],
   "source": [
    "# user diffine arguments\n",
    "\n",
    "def userAdd():\n",
    "    a = int(input(\"Enter a first no: => \"))\n",
    "    b = int(input(\"Enter a second no: => \"))\n",
    "\n",
    "    return a + b\n",
    "userAdd()"
   ]
  },
  {
   "cell_type": "code",
   "execution_count": null,
   "id": "a5d8d63c",
   "metadata": {},
   "outputs": [],
   "source": [
    "# takes list and print only numeric value.as_integer_ratio\n",
    "\n",
    "def only_numric(a):\n",
    "    n = []\n",
    "    for i in a:\n",
    "        if type(i) == int or type(i) == float:\n",
    "            n.append(i)\n",
    "\n",
    "    return (n)    "
   ]
  },
  {
   "cell_type": "code",
   "execution_count": 38,
   "id": "263ec6f1",
   "metadata": {},
   "outputs": [
    {
     "data": {
      "text/plain": [
       "[1, 2, 2.3]"
      ]
     },
     "execution_count": 38,
     "metadata": {},
     "output_type": "execute_result"
    }
   ],
   "source": [
    "only_numric([1, 2, 2.3, \"Angaj\", bool])"
   ]
  },
  {
   "cell_type": "code",
   "execution_count": 12,
   "id": "9c8bfda3",
   "metadata": {},
   "outputs": [],
   "source": [
    "#only print numric value by using nested loop\n",
    "\n",
    "def numOnly(a):\n",
    "    n = []\n",
    "    for i in a:\n",
    "        if type(i) == list:\n",
    "            if type(i) == int or type(i) == float:\n",
    "                for j in i:\n",
    "                    if type(j) == int or type(j) == float:\n",
    "                        n.append(j)\n",
    "        else:\n",
    "            if type(i) == int or type(i) == float:\n",
    "                n.append(i)\n",
    "                \n",
    "    return n\n",
    "\n",
    "\n",
    "\n"
   ]
  },
  {
   "cell_type": "code",
   "execution_count": 13,
   "id": "1fcb9a27",
   "metadata": {},
   "outputs": [
    {
     "data": {
      "text/plain": [
       "[1, 2, 2.3]"
      ]
     },
     "execution_count": 13,
     "metadata": {},
     "output_type": "execute_result"
    }
   ],
   "source": [
    "numOnly([1, 2, 2.3, \"Angaj\", bool])"
   ]
  },
  {
   "cell_type": "code",
   "execution_count": 19,
   "id": "47a03f93",
   "metadata": {},
   "outputs": [],
   "source": [
    "# pracice\n",
    "\n",
    "def only_char(a):\n",
    "    n = []\n",
    "    for i in a:\n",
    "        if type(i) == list:\n",
    "            if type(i) == str or type(i) == bool:\n",
    "                for j in i:\n",
    "                    if type(j) == str or type(j) == bool:\n",
    "                        n.append(j)\n",
    "        else:\n",
    "            if type(i) == str or type(i) == bool:\n",
    "                n.append(i)\n",
    "    return n\n",
    "\n",
    "\n"
   ]
  },
  {
   "cell_type": "code",
   "execution_count": 21,
   "id": "7ffe36e3",
   "metadata": {},
   "outputs": [
    {
     "data": {
      "text/plain": [
       "['Angaj', True]"
      ]
     },
     "execution_count": 21,
     "metadata": {},
     "output_type": "execute_result"
    }
   ],
   "source": [
    "only_char([1, 2, 2.3, \"Angaj\", 1 == 1])"
   ]
  },
  {
   "cell_type": "code",
   "execution_count": 26,
   "id": "7e3da1b4",
   "metadata": {},
   "outputs": [],
   "source": [
    "# take list and print them [\"string\", float, bool] by using nested loop\n",
    "\n",
    "def sfb_print(a):\n",
    "    n = []\n",
    "    for i in a:\n",
    "        if type(i) == list:\n",
    "            if type(i) == str or type(i) == float or type(i) == bool:\n",
    "                for j in i:\n",
    "                    if type(j) == str or type(j) == float or type(j) == bool:\n",
    "                        n.append(j)\n",
    "        else:\n",
    "            if type(i) == str or type(i) == float or type(i) == bool:\n",
    "                n.append(i)\n",
    "    return n\n",
    "\n",
    "            "
   ]
  },
  {
   "cell_type": "code",
   "execution_count": 27,
   "id": "402e0e00",
   "metadata": {},
   "outputs": [
    {
     "data": {
      "text/plain": [
       "[2.3, 'Angaj', True]"
      ]
     },
     "execution_count": 27,
     "metadata": {},
     "output_type": "execute_result"
    }
   ],
   "source": [
    "sfb_print([1, 2, 2.3, \"Angaj\", 1 == 1])"
   ]
  },
  {
   "cell_type": "code",
   "execution_count": 32,
   "id": "a2e4c875",
   "metadata": {},
   "outputs": [],
   "source": [
    "# A function which can take any no of value and return the sum.\n",
    "\n",
    "def n_sum(*argms):\n",
    "    s = 0\n",
    "    for i in argms:\n",
    "        s = s+i\n",
    "\n",
    "    return s   "
   ]
  },
  {
   "cell_type": "code",
   "execution_count": 34,
   "id": "6bafa3b6",
   "metadata": {},
   "outputs": [
    {
     "data": {
      "text/plain": [
       "10"
      ]
     },
     "execution_count": 34,
     "metadata": {},
     "output_type": "execute_result"
    }
   ],
   "source": [
    "n_sum(1, 2, 3, 4,)"
   ]
  },
  {
   "cell_type": "code",
   "execution_count": 40,
   "id": "55151401",
   "metadata": {},
   "outputs": [],
   "source": [
    "# variable arguments >> takes any no of elements\n",
    "# positional Arguments >> fixed arguments\n",
    "\n",
    "def check1(*argms, a):\n",
    "    return argms, a"
   ]
  },
  {
   "cell_type": "code",
   "execution_count": 41,
   "id": "3ae542ec",
   "metadata": {},
   "outputs": [
    {
     "data": {
      "text/plain": [
       "((1, 2, 3), 100)"
      ]
     },
     "execution_count": 41,
     "metadata": {},
     "output_type": "execute_result"
    }
   ],
   "source": [
    "check1(1, 2, 3 , a = 100)"
   ]
  },
  {
   "cell_type": "code",
   "execution_count": 49,
   "id": "1698e344",
   "metadata": {},
   "outputs": [],
   "source": [
    "# Write a funtion and take any number of values returns the list\n",
    "\n",
    "def check_now(*args):\n",
    "    l = []\n",
    "    for i in args:\n",
    "        if type(i) == list:\n",
    "            l.append(i)\n",
    "    return l       "
   ]
  },
  {
   "cell_type": "code",
   "execution_count": 50,
   "id": "fee99106",
   "metadata": {},
   "outputs": [
    {
     "data": {
      "text/plain": [
       "[[1, 2, 3, 4]]"
      ]
     },
     "execution_count": 50,
     "metadata": {},
     "output_type": "execute_result"
    }
   ],
   "source": [
    "check_now(1,2, 3, \"Angaj\" , bool, 2.0, {1, 2, 3, 4}, [1, 2, 3,4], 3 + 5j)"
   ]
  },
  {
   "cell_type": "code",
   "execution_count": 53,
   "id": "f2e23d91",
   "metadata": {},
   "outputs": [],
   "source": [
    "# name space\n",
    "def s_space():\n",
    "    message = \"Hello how are you\"\n",
    "    return message"
   ]
  },
  {
   "cell_type": "code",
   "execution_count": 54,
   "id": "1741e74c",
   "metadata": {},
   "outputs": [
    {
     "data": {
      "text/plain": [
       "'Hello how are you'"
      ]
     },
     "execution_count": 54,
     "metadata": {},
     "output_type": "execute_result"
    }
   ],
   "source": [
    "s_space()"
   ]
  },
  {
   "cell_type": "code",
   "execution_count": null,
   "id": "41e0a791",
   "metadata": {},
   "outputs": [],
   "source": [
    "subpart = \"To the party\"  # global variable >> can be accessed outside the function as well\n",
    "\n",
    "def greet():\n",
    "    message = \"wellcome\" + subpart\n",
    "    print(message)"
   ]
  },
  {
   "cell_type": "code",
   "execution_count": 57,
   "id": "c941a925",
   "metadata": {},
   "outputs": [
    {
     "name": "stdout",
     "output_type": "stream",
     "text": [
      "wellcomeTo the party\n"
     ]
    }
   ],
   "source": [
    "greet()"
   ]
  },
  {
   "cell_type": "code",
   "execution_count": 63,
   "id": "81682a39",
   "metadata": {},
   "outputs": [],
   "source": [
    "# function inside function\n",
    "\n",
    "def mark_sub(**kwargms):\n",
    "    def total_marks(mark_list):\n",
    "        return sum(mark_list)\n",
    "    mark_list = []\n",
    "    for sub, marks in kwargms.items():\n",
    "        mark_list.append(marks)\n",
    "\n",
    "    return mark_list    "
   ]
  },
  {
   "cell_type": "code",
   "execution_count": 64,
   "id": "cdb5f747",
   "metadata": {},
   "outputs": [
    {
     "data": {
      "text/plain": [
       "[90, 40]"
      ]
     },
     "execution_count": 64,
     "metadata": {},
     "output_type": "execute_result"
    }
   ],
   "source": [
    "mark_sub(a = 90, b = 40)"
   ]
  },
  {
   "cell_type": "code",
   "execution_count": 66,
   "id": "aa425977",
   "metadata": {},
   "outputs": [
    {
     "data": {
      "text/plain": [
       "130"
      ]
     },
     "execution_count": 66,
     "metadata": {},
     "output_type": "execute_result"
    }
   ],
   "source": [
    "sum([90, 40])"
   ]
  }
 ],
 "metadata": {
  "kernelspec": {
   "display_name": "Python 3",
   "language": "python",
   "name": "python3"
  },
  "language_info": {
   "codemirror_mode": {
    "name": "ipython",
    "version": 3
   },
   "file_extension": ".py",
   "mimetype": "text/x-python",
   "name": "python",
   "nbconvert_exporter": "python",
   "pygments_lexer": "ipython3",
   "version": "3.13.4"
  }
 },
 "nbformat": 4,
 "nbformat_minor": 5
}
