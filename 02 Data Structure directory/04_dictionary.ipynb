{
 "cells": [
  {
   "cell_type": "code",
   "execution_count": null,
   "id": "b9927955",
   "metadata": {},
   "outputs": [],
   "source": [
    "# Dictionary >> Dictionary is a data sturcture and that store as key value pair\n",
    "# keys are unque and immutable."
   ]
  },
  {
   "cell_type": "code",
   "execution_count": null,
   "id": "9fa4aa3d",
   "metadata": {},
   "outputs": [
    {
     "data": {
      "text/plain": [
       "set"
      ]
     },
     "execution_count": 4,
     "metadata": {},
     "output_type": "execute_result"
    }
   ],
   "source": [
    "a = {\"Angaj\",(1,2)} # its not dict becaouse its not value of key pair\n",
    "type(a)"
   ]
  },
  {
   "cell_type": "code",
   "execution_count": null,
   "id": "095a2057",
   "metadata": {},
   "outputs": [
    {
     "data": {
      "text/plain": [
       "dict"
      ]
     },
     "execution_count": 5,
     "metadata": {},
     "output_type": "execute_result"
    }
   ],
   "source": [
    "a = {} # that is empty dict.\n",
    "type(a)"
   ]
  },
  {
   "cell_type": "code",
   "execution_count": null,
   "id": "150303f1",
   "metadata": {},
   "outputs": [
    {
     "data": {
      "text/plain": [
       "dict"
      ]
     },
     "execution_count": 6,
     "metadata": {},
     "output_type": "execute_result"
    }
   ],
   "source": [
    "a = {\"key\": \"lock\"} # that is dict becaouse value is key in pair.\n",
    "type(a)"
   ]
  },
  {
   "cell_type": "code",
   "execution_count": 7,
   "id": "9c6a8bc8",
   "metadata": {},
   "outputs": [
    {
     "data": {
      "text/plain": [
       "{'name': 'Angaj',\n",
       " 'class': 'Bca',\n",
       " 'Year': '2nd semester',\n",
       " 'Seasion': '2024 to 2027'}"
      ]
     },
     "execution_count": 7,
     "metadata": {},
     "output_type": "execute_result"
    }
   ],
   "source": [
    "s = {\"name\": \"Angaj\", \"class\": \"Bca\", \"Year\": \"2nd semester\", \"Seasion\": \"2024 to 2027\"}\n",
    "s"
   ]
  },
  {
   "cell_type": "code",
   "execution_count": null,
   "id": "4c3b2a7c",
   "metadata": {},
   "outputs": [
    {
     "data": {
      "text/plain": [
       "{'Name1': 'Angaj Paswan', 'Name2': 'Gunjan'}"
      ]
     },
     "execution_count": 16,
     "metadata": {},
     "output_type": "execute_result"
    }
   ],
   "source": [
    "g = {\"Name1\": \"Angaj\",\"Name2\": \"Gunjan\" }\n",
    "g[\"Name1\"] = \"Angaj Paswan\" \n",
    "g"
   ]
  },
  {
   "cell_type": "code",
   "execution_count": 17,
   "id": "ea41a158",
   "metadata": {},
   "outputs": [
    {
     "data": {
      "text/plain": [
       "{'Name1': 'Angaj Paswan', 'Name2': 'Gunjan', 'Name3': 'manisha'}"
      ]
     },
     "execution_count": 17,
     "metadata": {},
     "output_type": "execute_result"
    }
   ],
   "source": [
    "g[\"Name3\"] = \"manisha\"\n",
    "g"
   ]
  },
  {
   "cell_type": "code",
   "execution_count": 35,
   "id": "583ba686",
   "metadata": {},
   "outputs": [
    {
     "name": "stdout",
     "output_type": "stream",
     "text": [
      "Name1\n",
      "Name2\n"
     ]
    }
   ],
   "source": [
    "len(g)\n",
    "g1 = {\"Name1\": \"Angaj\",\"Name2\": \"Gunjan\" }\n",
    "for key in g1.keys():\n",
    "    print(key)"
   ]
  },
  {
   "cell_type": "code",
   "execution_count": null,
   "id": "6fa269f9",
   "metadata": {},
   "outputs": [
    {
     "ename": "KeyError",
     "evalue": "1",
     "output_type": "error",
     "traceback": [
      "\u001b[31m---------------------------------------------------------------------------\u001b[39m",
      "\u001b[31mKeyError\u001b[39m                                  Traceback (most recent call last)",
      "\u001b[36mCell\u001b[39m\u001b[36m \u001b[39m\u001b[32mIn[24]\u001b[39m\u001b[32m, line 3\u001b[39m\n\u001b[32m      1\u001b[39m d = {\u001b[33m\"\u001b[39m\u001b[33mkey\u001b[39m\u001b[33m\"\u001b[39m: \u001b[32m1\u001b[39m}\n\u001b[32m      2\u001b[39m d[\u001b[33m\"\u001b[39m\u001b[33mkey\u001b[39m\u001b[33m\"\u001b[39m]\n\u001b[32m----> \u001b[39m\u001b[32m3\u001b[39m \u001b[43md\u001b[49m\u001b[43m[\u001b[49m\u001b[32;43m1\u001b[39;49m\u001b[43m]\u001b[49m\n",
      "\u001b[31mKeyError\u001b[39m: 1"
     ]
    }
   ],
   "source": [
    "d = {\"key\": 1}\n",
    "d[\"key\"]\n",
    "d[1]    # why error becaose only acciss value nad key "
   ]
  },
  {
   "cell_type": "code",
   "execution_count": 37,
   "id": "f2dfd1cc",
   "metadata": {},
   "outputs": [
    {
     "data": {
      "text/plain": [
       "{'#': '123', 'name': [1, 2, 3, 4]}"
      ]
     },
     "execution_count": 37,
     "metadata": {},
     "output_type": "execute_result"
    }
   ],
   "source": [
    "g1 = {\"#\": \"123\", \"name\": [1,2, 3, 4]}\n",
    "g1"
   ]
  },
  {
   "cell_type": "code",
   "execution_count": null,
   "id": "1ccffe0a",
   "metadata": {},
   "outputs": [
    {
     "data": {
      "text/plain": [
       "{}"
      ]
     },
     "execution_count": 39,
     "metadata": {},
     "output_type": "execute_result"
    }
   ],
   "source": [
    "g1.clear()\n",
    "g1 # these are empty "
   ]
  },
  {
   "cell_type": "code",
   "execution_count": 41,
   "id": "eeb10444",
   "metadata": {},
   "outputs": [
    {
     "data": {
      "text/plain": [
       "dict_values(['Angaj', 'Gunjan'])"
      ]
     },
     "execution_count": 41,
     "metadata": {},
     "output_type": "execute_result"
    }
   ],
   "source": [
    "p1 = {\"Name1\": \"Angaj\",\"Name2\": \"Gunjan\" }\n",
    "p1.keys()\n",
    "p1.values()"
   ]
  },
  {
   "cell_type": "code",
   "execution_count": null,
   "id": "8988a88d",
   "metadata": {},
   "outputs": [
    {
     "data": {
      "text/plain": [
       "{'Name2': 'Gunjan'}"
      ]
     },
     "execution_count": 43,
     "metadata": {},
     "output_type": "execute_result"
    }
   ],
   "source": [
    "p1.pop(\"Name1\") # delete Nmae1 value\n",
    "p1"
   ]
  },
  {
   "cell_type": "code",
   "execution_count": 51,
   "id": "3f76c8c2",
   "metadata": {},
   "outputs": [
    {
     "data": {
      "text/plain": [
       "{'Course': 'Bca'}"
      ]
     },
     "execution_count": 51,
     "metadata": {},
     "output_type": "execute_result"
    }
   ],
   "source": [
    "# update\n",
    "d = {\"Course\": \"Bca\"}\n",
    "d "
   ]
  },
  {
   "cell_type": "code",
   "execution_count": 54,
   "id": "8c81c689",
   "metadata": {},
   "outputs": [
    {
     "data": {
      "text/plain": [
       "{'Name': 'Angaj'}"
      ]
     },
     "execution_count": 54,
     "metadata": {},
     "output_type": "execute_result"
    }
   ],
   "source": [
    "c = {\"Name\": \"Angaj\"}\n",
    "c"
   ]
  },
  {
   "cell_type": "code",
   "execution_count": 55,
   "id": "d98b347e",
   "metadata": {},
   "outputs": [
    {
     "data": {
      "text/plain": [
       "{'Name2': 'Kumar'}"
      ]
     },
     "execution_count": 55,
     "metadata": {},
     "output_type": "execute_result"
    }
   ],
   "source": [
    "b = {\"Name2\": \"Kumar\"}\n",
    "b"
   ]
  },
  {
   "cell_type": "code",
   "execution_count": null,
   "id": "e2e897ab",
   "metadata": {},
   "outputs": [
    {
     "data": {
      "text/plain": [
       "{'Name': 'Angaj', 'Name2': 'Kumar'}"
      ]
     },
     "execution_count": 58,
     "metadata": {},
     "output_type": "execute_result"
    }
   ],
   "source": [
    "# update\n",
    "c.update(b)\n",
    "c"
   ]
  },
  {
   "cell_type": "code",
   "execution_count": 60,
   "id": "fefa77bf",
   "metadata": {},
   "outputs": [
    {
     "data": {
      "text/plain": [
       "{'Name': 'Angaj', 'Name2': 'Kumar'}"
      ]
     },
     "execution_count": 60,
     "metadata": {},
     "output_type": "execute_result"
    }
   ],
   "source": [
    "# gate\n",
    "c.get(\"name\")\n",
    "c"
   ]
  },
  {
   "cell_type": "code",
   "execution_count": 62,
   "id": "a2f9f607",
   "metadata": {},
   "outputs": [
    {
     "data": {
      "text/plain": [
       "{1: ('a', 'A', 'C'), 2: ('a', 'A', 'C'), 3: ('a', 'A', 'C')}"
      ]
     },
     "execution_count": 62,
     "metadata": {},
     "output_type": "execute_result"
    }
   ],
   "source": [
    "# from keys\n",
    "c.fromkeys((1, 2, 3), (\"a\", \"A\",\"C\"))\n"
   ]
  },
  {
   "cell_type": "code",
   "execution_count": null,
   "id": "8d177931",
   "metadata": {},
   "outputs": [
    {
     "name": "stdout",
     "output_type": "stream",
     "text": [
      "('Angaj', 80)\n",
      "('Gunjan', 89)\n",
      "('Amrita', 34)\n",
      "('Alok', 47)\n"
     ]
    }
   ],
   "source": [
    "# Zip function\n",
    "\n",
    "Students = \"Angaj\", \"Gunjan\", \"Amrita\", \"Alok\"\n",
    "marks = {80, 89, 34, 47}\n",
    "for i in zip(Students, marks):\n",
    "    print(i)"
   ]
  },
  {
   "cell_type": "code",
   "execution_count": 65,
   "id": "ce8dcbc1",
   "metadata": {},
   "outputs": [
    {
     "data": {
      "text/plain": [
       "{'Angaj': 80, 'Gunjan': 89, 'Amrita': 34, 'Alok': 47}"
      ]
     },
     "execution_count": 65,
     "metadata": {},
     "output_type": "execute_result"
    }
   ],
   "source": [
    "# dictionary comprehension\n",
    "\n",
    "Students = \"Angaj\", \"Gunjan\", \"Amrita\", \"Alok\"\n",
    "marks = {80, 89, 34, 47}\n",
    "{Students:marks for Students, marks in zip(Students,marks)}\n"
   ]
  },
  {
   "cell_type": "code",
   "execution_count": 66,
   "id": "6a0b427c",
   "metadata": {},
   "outputs": [
    {
     "data": {
      "text/plain": [
       "{'Abhishek': 1, 'Alok': 2, 'Angaj': 3}"
      ]
     },
     "execution_count": 66,
     "metadata": {},
     "output_type": "execute_result"
    }
   ],
   "source": [
    "user_name = {\"Angaj\", \"Alok\", \"Abhishek\"}\n",
    "user_id = {1, 2, 3}\n",
    "\n",
    "{user_name:user_id for user_name, user_id in zip(user_name, user_id)}"
   ]
  }
 ],
 "metadata": {
  "kernelspec": {
   "display_name": "Python 3",
   "language": "python",
   "name": "python3"
  },
  "language_info": {
   "codemirror_mode": {
    "name": "ipython",
    "version": 3
   },
   "file_extension": ".py",
   "mimetype": "text/x-python",
   "name": "python",
   "nbconvert_exporter": "python",
   "pygments_lexer": "ipython3",
   "version": "3.13.0"
  }
 },
 "nbformat": 4,
 "nbformat_minor": 5
}
