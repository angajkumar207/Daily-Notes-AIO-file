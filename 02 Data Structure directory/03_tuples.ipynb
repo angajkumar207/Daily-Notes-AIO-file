{
 "cells": [
  {
   "cell_type": "code",
   "execution_count": 24,
   "id": "ad4edfdb",
   "metadata": {},
   "outputs": [],
   "source": [
    "# Tuples >> tuples are orderd collection of elements, hitroginus\n",
    "# Tuples are inmutable >> means we can not changes elements in the tuples"
   ]
  },
  {
   "cell_type": "code",
   "execution_count": 25,
   "id": "8431b81b",
   "metadata": {},
   "outputs": [
    {
     "data": {
      "text/plain": [
       "str"
      ]
     },
     "execution_count": 25,
     "metadata": {},
     "output_type": "execute_result"
    }
   ],
   "source": [
    "# like this \n",
    "\n",
    "t = (\"Angaj\")\n",
    "type(t)"
   ]
  },
  {
   "cell_type": "code",
   "execution_count": null,
   "id": "13ce9fff",
   "metadata": {},
   "outputs": [
    {
     "ename": "TypeError",
     "evalue": "'>' not supported between instances of 'type' and 'str'",
     "output_type": "error",
     "traceback": [
      "\u001b[31m---------------------------------------------------------------------------\u001b[39m",
      "\u001b[31mTypeError\u001b[39m                                 Traceback (most recent call last)",
      "\u001b[36mCell\u001b[39m\u001b[36m \u001b[39m\u001b[32mIn[40]\u001b[39m\u001b[32m, line 10\u001b[39m\n\u001b[32m      8\u001b[39m \u001b[38;5;66;03m#p.index(4)\u001b[39;00m\n\u001b[32m      9\u001b[39m p[\u001b[32m4\u001b[39m]     \u001b[38;5;66;03m# false Becaouse Flase = 0 , and True = 1.\u001b[39;00m\n\u001b[32m---> \u001b[39m\u001b[32m10\u001b[39m \u001b[38;5;28;43mmax\u001b[39;49m\u001b[43m(\u001b[49m\u001b[43mp\u001b[49m\u001b[43m)\u001b[49m\n",
      "\u001b[31mTypeError\u001b[39m: '>' not supported between instances of 'type' and 'str'"
     ]
    }
   ],
   "source": [
    "p = (\"Abgaj\", bool, 3+3j, True, False, (1,2,3), {1,2,3,4}, ['a','b']) # tuples is store every thing value\n",
    "type(p) # here is a type\n",
    "p[0]    # serching list\n",
    "#p[0] = \"Pankaj\" # Error Becaose tuples is inmutable so we can not exchange. \n",
    "                # tuple as a Data structure , whre you dont want to modify data.\n",
    "p.count(bool)\n",
    "len(p)\n",
    "#p.index(4)\n",
    "p[4]     # false Becaouse Flase = 0 , and True = 1.\n",
    "\n"
   ]
  },
  {
   "cell_type": "code",
   "execution_count": null,
   "id": "1e4a02d0",
   "metadata": {},
   "outputs": [
    {
     "name": "stdout",
     "output_type": "stream",
     "text": [
      "Abgaj <class 'str'>\n",
      "<class 'bool'> <class 'type'>\n",
      "(3+3j) <class 'complex'>\n",
      "True <class 'bool'>\n",
      "False <class 'bool'>\n",
      "(1, 2, 3) <class 'tuple'>\n",
      "{1, 2, 3, 4} <class 'set'>\n",
      "['a', 'b'] <class 'list'>\n"
     ]
    }
   ],
   "source": [
    "p[::-4]\n",
    "\n",
    "for i in p:\n",
    "    print(i, type(i))\n",
    "    "
   ]
  },
  {
   "cell_type": "code",
   "execution_count": 44,
   "id": "e15bd024",
   "metadata": {},
   "outputs": [
    {
     "data": {
      "text/plain": [
       "-4"
      ]
     },
     "execution_count": 44,
     "metadata": {},
     "output_type": "execute_result"
    }
   ],
   "source": [
    "s1 = (1, 2, 3, 4, 5, -1, -3, -4)\n",
    "max(s1)\n",
    "min(s1)"
   ]
  },
  {
   "cell_type": "code",
   "execution_count": 45,
   "id": "54584d4e",
   "metadata": {},
   "outputs": [
    {
     "data": {
      "text/plain": [
       "dict"
      ]
     },
     "execution_count": 45,
     "metadata": {},
     "output_type": "execute_result"
    }
   ],
   "source": [
    "# sets >> sets are unorderd and unque collection of element.\n",
    "# Doesn't allows duplicate tuples.\n",
    "# unorderd >> indexi will not work.\n",
    "\n",
    "d = {}\n",
    "type(d)"
   ]
  },
  {
   "cell_type": "code",
   "execution_count": 48,
   "id": "c6df63cf",
   "metadata": {},
   "outputs": [
    {
     "data": {
      "text/plain": [
       "{(1, 2), (3+3j), 1, 2, bool, 'Angaj', False}"
      ]
     },
     "execution_count": 48,
     "metadata": {},
     "output_type": "execute_result"
    }
   ],
   "source": [
    "d = {(1, 2,), 1,2, bool, True, False, 3 + 3j, \"Angaj\"}\n",
    "d"
   ]
  },
  {
   "cell_type": "code",
   "execution_count": 55,
   "id": "04ae7a6a",
   "metadata": {},
   "outputs": [
    {
     "data": {
      "text/plain": [
       "7"
      ]
     },
     "execution_count": 55,
     "metadata": {},
     "output_type": "execute_result"
    }
   ],
   "source": [
    "type(d)\n",
    "len(d) \n"
   ]
  },
  {
   "cell_type": "code",
   "execution_count": null,
   "id": "3c64a274",
   "metadata": {},
   "outputs": [
    {
     "data": {
      "text/plain": [
       "{1, 2, 3, 'Angaj'}"
      ]
     },
     "execution_count": 57,
     "metadata": {},
     "output_type": "execute_result"
    }
   ],
   "source": [
    "s1 = {1, 2, 3, \"Angaj\", \"Angaj\", \"Angaj\", \"Angaj\"} # Duplicate not allow only unque value\n",
    "s1"
   ]
  },
  {
   "cell_type": "code",
   "execution_count": null,
   "id": "0bc5de19",
   "metadata": {},
   "outputs": [
    {
     "data": {
      "text/plain": [
       "tuple"
      ]
     },
     "execution_count": 58,
     "metadata": {},
     "output_type": "execute_result"
    }
   ],
   "source": []
  },
  {
   "cell_type": "code",
   "execution_count": null,
   "id": "832c297f",
   "metadata": {},
   "outputs": [
    {
     "ename": "TypeError",
     "evalue": "'set' object is not subscriptable",
     "output_type": "error",
     "traceback": [
      "\u001b[31m---------------------------------------------------------------------------\u001b[39m",
      "\u001b[31mTypeError\u001b[39m                                 Traceback (most recent call last)",
      "\u001b[36mCell\u001b[39m\u001b[36m \u001b[39m\u001b[32mIn[59]\u001b[39m\u001b[32m, line 1\u001b[39m\n\u001b[32m----> \u001b[39m\u001b[32m1\u001b[39m \u001b[43ms1\u001b[49m\u001b[43m[\u001b[49m\u001b[32;43m0\u001b[39;49m\u001b[43m]\u001b[49m\n",
      "\u001b[31mTypeError\u001b[39m: 'set' object is not subscriptable"
     ]
    }
   ],
   "source": [
    "s1[0] # its not indexi "
   ]
  },
  {
   "cell_type": "code",
   "execution_count": 60,
   "id": "cb5aaf44",
   "metadata": {},
   "outputs": [
    {
     "name": "stdout",
     "output_type": "stream",
     "text": [
      "Angaj\n",
      "1\n",
      "2\n",
      "3\n"
     ]
    }
   ],
   "source": [
    "for i in s1:\n",
    "    print(i)"
   ]
  },
  {
   "cell_type": "code",
   "execution_count": 66,
   "id": "45b5e5e1",
   "metadata": {},
   "outputs": [
    {
     "data": {
      "text/plain": [
       "(1, 2, 3, 4, 'Angaj')"
      ]
     },
     "execution_count": 66,
     "metadata": {},
     "output_type": "execute_result"
    }
   ],
   "source": [
    "# set is mutable\n",
    "\n",
    "s = (1, 2, 3, 4, \"Angaj\")\n",
    "s"
   ]
  },
  {
   "cell_type": "code",
   "execution_count": null,
   "id": "79f5f081",
   "metadata": {},
   "outputs": [
    {
     "data": {
      "text/plain": [
       "{1, 2, 3, 4, 5}"
      ]
     },
     "execution_count": 74,
     "metadata": {},
     "output_type": "execute_result"
    }
   ],
   "source": [
    "s1 = {1,2,3,4}\n",
    "s1.add(5) # not copulsary that it will to add last of set\n",
    "s1"
   ]
  },
  {
   "cell_type": "code",
   "execution_count": null,
   "id": "b458caa2",
   "metadata": {},
   "outputs": [
    {
     "data": {
      "text/plain": [
       "{1, 2, 3, 4, 5, 25, 35}"
      ]
     },
     "execution_count": 89,
     "metadata": {},
     "output_type": "execute_result"
    }
   ],
   "source": [
    "s1.add(5) \n",
    "s1"
   ]
  },
  {
   "cell_type": "code",
   "execution_count": 94,
   "id": "6fd222a8",
   "metadata": {},
   "outputs": [
    {
     "data": {
      "text/plain": [
       "{4, 25, 35}"
      ]
     },
     "execution_count": 94,
     "metadata": {},
     "output_type": "execute_result"
    }
   ],
   "source": [
    "s1.pop() # it is not compulsary that will remove the first element.\n",
    "s1"
   ]
  },
  {
   "cell_type": "code",
   "execution_count": 96,
   "id": "6a679926",
   "metadata": {},
   "outputs": [
    {
     "data": {
      "text/plain": [
       "{25, 35}"
      ]
     },
     "execution_count": 96,
     "metadata": {},
     "output_type": "execute_result"
    }
   ],
   "source": [
    "s1.remove(4)  # it can remove specificaly element\n",
    "s1"
   ]
  },
  {
   "cell_type": "code",
   "execution_count": null,
   "id": "02c87e8d",
   "metadata": {},
   "outputs": [
    {
     "ename": "TypeError",
     "evalue": "set.pop() takes no arguments (1 given)",
     "output_type": "error",
     "traceback": [
      "\u001b[31m---------------------------------------------------------------------------\u001b[39m",
      "\u001b[31mTypeError\u001b[39m                                 Traceback (most recent call last)",
      "\u001b[36mCell\u001b[39m\u001b[36m \u001b[39m\u001b[32mIn[97]\u001b[39m\u001b[32m, line 1\u001b[39m\n\u001b[32m----> \u001b[39m\u001b[32m1\u001b[39m \u001b[43ms1\u001b[49m\u001b[43m.\u001b[49m\u001b[43mpop\u001b[49m\u001b[43m(\u001b[49m\u001b[32;43m35\u001b[39;49m\u001b[43m)\u001b[49m\n\u001b[32m      2\u001b[39m s1\n",
      "\u001b[31mTypeError\u001b[39m: set.pop() takes no arguments (1 given)"
     ]
    }
   ],
   "source": [
    "s1.pop(35) # it removes randomly\n",
    "s1"
   ]
  },
  {
   "cell_type": "code",
   "execution_count": 98,
   "id": "6fb23427",
   "metadata": {},
   "outputs": [
    {
     "data": {
      "text/plain": [
       "{25, 35}"
      ]
     },
     "execution_count": 98,
     "metadata": {},
     "output_type": "execute_result"
    }
   ],
   "source": [
    "s1"
   ]
  },
  {
   "cell_type": "code",
   "execution_count": 102,
   "id": "84b6538e",
   "metadata": {},
   "outputs": [
    {
     "data": {
      "text/plain": [
       "{25, 35, 'A', 'a', 'g', 'j', 'n'}"
      ]
     },
     "execution_count": 102,
     "metadata": {},
     "output_type": "execute_result"
    }
   ],
   "source": [
    "s1.update(\"Angaj\")\n",
    "s1"
   ]
  },
  {
   "cell_type": "code",
   "execution_count": null,
   "id": "b8404756",
   "metadata": {},
   "outputs": [
    {
     "data": {
      "text/plain": [
       "{25, 35, 'A', 'Angaj', 'a', 'g', 'j', 'n'}"
      ]
     },
     "execution_count": 105,
     "metadata": {},
     "output_type": "execute_result"
    }
   ],
   "source": [
    "s1.update([\"Angaj\"]) # its itreble\n",
    "s1"
   ]
  },
  {
   "cell_type": "code",
   "execution_count": null,
   "id": "0de3bd11",
   "metadata": {},
   "outputs": [
    {
     "ename": "KeyError",
     "evalue": "'pankaj'",
     "output_type": "error",
     "traceback": [
      "\u001b[31m---------------------------------------------------------------------------\u001b[39m",
      "\u001b[31mKeyError\u001b[39m                                  Traceback (most recent call last)",
      "\u001b[36mCell\u001b[39m\u001b[36m \u001b[39m\u001b[32mIn[106]\u001b[39m\u001b[32m, line 1\u001b[39m\n\u001b[32m----> \u001b[39m\u001b[32m1\u001b[39m \u001b[43ms1\u001b[49m\u001b[43m.\u001b[49m\u001b[43mremove\u001b[49m\u001b[43m(\u001b[49m\u001b[33;43m\"\u001b[39;49m\u001b[33;43mpankaj\u001b[39;49m\u001b[33;43m\"\u001b[39;49m\u001b[43m)\u001b[49m\n\u001b[32m      2\u001b[39m s1\n",
      "\u001b[31mKeyError\u001b[39m: 'pankaj'"
     ]
    }
   ],
   "source": [
    "s1.remove(\"pankaj\") # that is error becaouse not present pankaj name variable in the set so.\n",
    "s1"
   ]
  },
  {
   "cell_type": "code",
   "execution_count": 112,
   "id": "a63bde02",
   "metadata": {},
   "outputs": [],
   "source": [
    "p1 = {\"Angaj\", \"gunajan\", \"paswan\", \"santosh\", \"rittik\"}\n",
    "p2 = {\"alok\", \"Gudiya\", \"Abhishek\", \"Gaurav\", \"rittik\"}"
   ]
  },
  {
   "cell_type": "code",
   "execution_count": 111,
   "id": "9f0c26f4",
   "metadata": {},
   "outputs": [
    {
     "data": {
      "text/plain": [
       "{'Abhishek',\n",
       " 'Angaj',\n",
       " 'Gaurav',\n",
       " 'Gudiya',\n",
       " 'alok',\n",
       " 'gunajan',\n",
       " 'paswan',\n",
       " 'rittik',\n",
       " 'santosh'}"
      ]
     },
     "execution_count": 111,
     "metadata": {},
     "output_type": "execute_result"
    }
   ],
   "source": [
    "# union combine of opretions\n",
    "p1 | p2"
   ]
  },
  {
   "cell_type": "code",
   "execution_count": 113,
   "id": "4f958f42",
   "metadata": {},
   "outputs": [
    {
     "data": {
      "text/plain": [
       "{'rittik'}"
      ]
     },
     "execution_count": 113,
     "metadata": {},
     "output_type": "execute_result"
    }
   ],
   "source": [
    "# intersection >> only common element\n",
    "p1 & p2"
   ]
  },
  {
   "cell_type": "code",
   "execution_count": 114,
   "id": "8e1e18d7",
   "metadata": {},
   "outputs": [
    {
     "data": {
      "text/plain": [
       "{'Angaj', 'gunajan', 'paswan', 'santosh'}"
      ]
     },
     "execution_count": 114,
     "metadata": {},
     "output_type": "execute_result"
    }
   ],
   "source": [
    "# Diffrence element\n",
    "p1 - p2"
   ]
  },
  {
   "cell_type": "code",
   "execution_count": 115,
   "id": "a2fdfbbd",
   "metadata": {},
   "outputs": [
    {
     "data": {
      "text/plain": [
       "{'Abhishek',\n",
       " 'Angaj',\n",
       " 'Gaurav',\n",
       " 'Gudiya',\n",
       " 'alok',\n",
       " 'gunajan',\n",
       " 'paswan',\n",
       " 'santosh'}"
      ]
     },
     "execution_count": 115,
     "metadata": {},
     "output_type": "execute_result"
    }
   ],
   "source": [
    "# symmentry operator\n",
    "\n",
    "p1 ^ p2"
   ]
  },
  {
   "cell_type": "code",
   "execution_count": 117,
   "id": "9bfc896f",
   "metadata": {},
   "outputs": [
    {
     "data": {
      "text/plain": [
       "frozenset({1, 2, 3, 4, 5, 6})"
      ]
     },
     "execution_count": 117,
     "metadata": {},
     "output_type": "execute_result"
    }
   ],
   "source": [
    "# Frozents set >> imutable version of sets, can not be add and removed any element\n",
    "my_forzets = frozenset([1,2, 3, 4, 5, 6,6, 6, 4,4,4])\n",
    "my_forzets"
   ]
  },
  {
   "cell_type": "code",
   "execution_count": 118,
   "id": "24cda32e",
   "metadata": {},
   "outputs": [
    {
     "data": {
      "text/plain": [
       "frozenset"
      ]
     },
     "execution_count": 118,
     "metadata": {},
     "output_type": "execute_result"
    }
   ],
   "source": [
    "type(my_forzets)"
   ]
  },
  {
   "cell_type": "code",
   "execution_count": null,
   "id": "a4d04c20",
   "metadata": {},
   "outputs": [
    {
     "ename": "AttributeError",
     "evalue": "'frozenset' object has no attribute 'add'",
     "output_type": "error",
     "traceback": [
      "\u001b[31m---------------------------------------------------------------------------\u001b[39m",
      "\u001b[31mAttributeError\u001b[39m                            Traceback (most recent call last)",
      "\u001b[36mCell\u001b[39m\u001b[36m \u001b[39m\u001b[32mIn[120]\u001b[39m\u001b[32m, line 1\u001b[39m\n\u001b[32m----> \u001b[39m\u001b[32m1\u001b[39m \u001b[43mmy_forzets\u001b[49m\u001b[43m.\u001b[49m\u001b[43madd\u001b[49m(\u001b[32m1\u001b[39m,\u001b[32m2\u001b[39m)\n",
      "\u001b[31mAttributeError\u001b[39m: 'frozenset' object has no attribute 'add'"
     ]
    }
   ],
   "source": [
    "my_forzets.add(1,2) # error becaouse imutable"
   ]
  }
 ],
 "metadata": {
  "kernelspec": {
   "display_name": "Python 3",
   "language": "python",
   "name": "python3"
  },
  "language_info": {
   "codemirror_mode": {
    "name": "ipython",
    "version": 3
   },
   "file_extension": ".py",
   "mimetype": "text/x-python",
   "name": "python",
   "nbconvert_exporter": "python",
   "pygments_lexer": "ipython3",
   "version": "3.13.0"
  }
 },
 "nbformat": 4,
 "nbformat_minor": 5
}
