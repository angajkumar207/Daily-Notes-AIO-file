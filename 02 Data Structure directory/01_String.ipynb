{
 "cells": [
  {
   "cell_type": "code",
   "execution_count": null,
   "id": "7528ba4a",
   "metadata": {},
   "outputs": [],
   "source": [
    "# String >> string is a sqence of character"
   ]
  },
  {
   "cell_type": "code",
   "execution_count": null,
   "id": "c8c5da42",
   "metadata": {},
   "outputs": [
    {
     "data": {
      "text/plain": [
       "65"
      ]
     },
     "execution_count": 3,
     "metadata": {},
     "output_type": "execute_result"
    }
   ],
   "source": [
    "# ASCII REPRSENTION\n",
    "\n",
    "char = \"A\"\n",
    "type(char) # str\n",
    "ord(char) # ord >> ordinal >> means >> what is nomerical of chracter"
   ]
  },
  {
   "cell_type": "code",
   "execution_count": 5,
   "id": "9b6a1a88",
   "metadata": {},
   "outputs": [
    {
     "data": {
      "text/plain": [
       "'A'"
      ]
     },
     "execution_count": 5,
     "metadata": {},
     "output_type": "execute_result"
    }
   ],
   "source": [
    "chr(65)  # Given the charecter crosseponding to that no\n"
   ]
  },
  {
   "cell_type": "code",
   "execution_count": null,
   "id": "468d4ab0",
   "metadata": {},
   "outputs": [
    {
     "data": {
      "text/plain": [
       "'ॳ'"
      ]
     },
     "execution_count": 14,
     "metadata": {},
     "output_type": "execute_result"
    }
   ],
   "source": [
    "# UNICODE REPRESENTATION\n",
    "# OMEGA\n",
    "'\\u03A9' # Omega\n",
    "'\\u03A3' # Samestion\n",
    "'\\u0973' # hindi a\n"
   ]
  },
  {
   "cell_type": "code",
   "execution_count": 16,
   "id": "eb33122b",
   "metadata": {},
   "outputs": [
    {
     "data": {
      "text/plain": [
       "'Angaj'"
      ]
     },
     "execution_count": 16,
     "metadata": {},
     "output_type": "execute_result"
    }
   ],
   "source": [
    "# String\n",
    "name = \"Angaj\" # duble code: \" \"\n",
    "name = 'Angaj' # Single code: ''\n",
    "name"
   ]
  },
  {
   "cell_type": "code",
   "execution_count": null,
   "id": "8a9ed7eb",
   "metadata": {},
   "outputs": [
    {
     "data": {
      "text/plain": [
       "'Angaj kumar'"
      ]
     },
     "execution_count": 24,
     "metadata": {},
     "output_type": "execute_result"
    }
   ],
   "source": [
    "# concatetion Striong\n",
    "string1 = \"Angaj\"\n",
    "string2 = \"kumar\"\n",
    "\n",
    "string1 + \" \" + string2"
   ]
  },
  {
   "cell_type": "code",
   "execution_count": 26,
   "id": "8f6a9b79",
   "metadata": {},
   "outputs": [
    {
     "data": {
      "text/plain": [
       "'string1>>string2'"
      ]
     },
     "execution_count": 26,
     "metadata": {},
     "output_type": "execute_result"
    }
   ],
   "source": [
    "\"string1\"+ \">>\" +\"string2\""
   ]
  },
  {
   "cell_type": "code",
   "execution_count": null,
   "id": "bae584d4",
   "metadata": {},
   "outputs": [
    {
     "data": {
      "text/plain": [
       "'A'"
      ]
     },
     "execution_count": 27,
     "metadata": {},
     "output_type": "execute_result"
    }
   ],
   "source": [
    "# Extract slicing of string\n",
    "a = \"Angaj\"\n",
    "a[0]"
   ]
  },
  {
   "cell_type": "code",
   "execution_count": null,
   "id": "b6d71e0d",
   "metadata": {},
   "outputs": [
    {
     "data": {
      "text/plain": [
       "'i am angaj'"
      ]
     },
     "execution_count": 31,
     "metadata": {},
     "output_type": "execute_result"
    }
   ],
   "source": [
    "s1 = \"i am angaj\"\n",
    "s1[0:] #start to end string print"
   ]
  },
  {
   "cell_type": "code",
   "execution_count": 33,
   "id": "b5904d8d",
   "metadata": {},
   "outputs": [
    {
     "data": {
      "text/plain": [
       "'jagnA'"
      ]
     },
     "execution_count": 33,
     "metadata": {},
     "output_type": "execute_result"
    }
   ],
   "source": [
    "# Iterat over the squence in reverse order\n",
    "# like this \n",
    "a1 = \"Angaj\"\n",
    "a1[::-1]"
   ]
  },
  {
   "cell_type": "code",
   "execution_count": 37,
   "id": "b84974b5",
   "metadata": {},
   "outputs": [
    {
     "data": {
      "text/plain": [
       "'A'"
      ]
     },
     "execution_count": 37,
     "metadata": {},
     "output_type": "execute_result"
    }
   ],
   "source": [
    "# String are inmutable\n",
    "s1 = \"Angaj\"\n",
    "s1[0]\n",
    "#s1[0] = \"p\" # error becaouse these are inmutable so i can not change."
   ]
  },
  {
   "cell_type": "code",
   "execution_count": 40,
   "id": "f7703f23",
   "metadata": {},
   "outputs": [
    {
     "data": {
      "text/plain": [
       "5"
      ]
     },
     "execution_count": 40,
     "metadata": {},
     "output_type": "execute_result"
    }
   ],
   "source": [
    "# length of chracter \n",
    "s1\n",
    "len(s1)\n"
   ]
  },
  {
   "cell_type": "code",
   "execution_count": 48,
   "id": "dbbb2d91",
   "metadata": {},
   "outputs": [
    {
     "data": {
      "text/plain": [
       "\"i'm from, panaur langa\""
      ]
     },
     "execution_count": 48,
     "metadata": {},
     "output_type": "execute_result"
    }
   ],
   "source": [
    "# replace\n",
    "address = \"i'm from, vaishali\"\n",
    "address.replace(\"vaishali\", \"panaur langa\")\n"
   ]
  },
  {
   "cell_type": "code",
   "execution_count": 2,
   "id": "ecdea1f9",
   "metadata": {},
   "outputs": [
    {
     "data": {
      "text/plain": [
       "'ANGAJ'"
      ]
     },
     "execution_count": 2,
     "metadata": {},
     "output_type": "execute_result"
    }
   ],
   "source": [
    "# upper case\n",
    "s = \"angaj\"\n",
    "s.upper()"
   ]
  },
  {
   "cell_type": "code",
   "execution_count": 51,
   "id": "11b16452",
   "metadata": {},
   "outputs": [
    {
     "data": {
      "text/plain": [
       "'gunjan'"
      ]
     },
     "execution_count": 51,
     "metadata": {},
     "output_type": "execute_result"
    }
   ],
   "source": [
    "# lower case\n",
    "\n",
    "s = \"GUNJAn\"\n",
    "s.lower()"
   ]
  },
  {
   "cell_type": "code",
   "execution_count": 52,
   "id": "29c05321",
   "metadata": {},
   "outputs": [
    {
     "data": {
      "text/plain": [
       "'Gunjan'"
      ]
     },
     "execution_count": 52,
     "metadata": {},
     "output_type": "execute_result"
    }
   ],
   "source": [
    "s.title()"
   ]
  },
  {
   "cell_type": "code",
   "execution_count": null,
   "id": "94322aa4",
   "metadata": {},
   "outputs": [
    {
     "data": {
      "text/plain": [
       "'I am angaj'"
      ]
     },
     "execution_count": 56,
     "metadata": {},
     "output_type": "execute_result"
    }
   ],
   "source": [
    "ae = \"i am Angaj\"\n",
    "ae.swapcase() # lower to upper & upper to lower\n",
    "ae.capitalize() # first later wi9ll be capital"
   ]
  },
  {
   "cell_type": "code",
   "execution_count": 57,
   "id": "ac0dbfab",
   "metadata": {},
   "outputs": [
    {
     "data": {
      "text/plain": [
       "True"
      ]
     },
     "execution_count": 57,
     "metadata": {},
     "output_type": "execute_result"
    }
   ],
   "source": [
    "# striong Searching\n",
    "\n",
    "sentence = \"i am Angaj kumar\"\n",
    "\"am\" in sentence"
   ]
  },
  {
   "cell_type": "code",
   "execution_count": 63,
   "id": "5d4a9327",
   "metadata": {},
   "outputs": [
    {
     "name": "stdout",
     "output_type": "stream",
     "text": [
      "present\n"
     ]
    }
   ],
   "source": [
    "# present and absent\n",
    "sentence = \"i am Angaj kumar\"\n",
    "my_word = \"am\"\n",
    "\n",
    "if my_word in sentence:\n",
    "    print(\"present\")\n",
    "else:\n",
    "    print(\"Absent\")\n"
   ]
  },
  {
   "cell_type": "code",
   "execution_count": 64,
   "id": "47c517d7",
   "metadata": {},
   "outputs": [
    {
     "name": "stdout",
     "output_type": "stream",
     "text": [
      "yes this Documents present\n"
     ]
    }
   ],
   "source": [
    "# Documents\n",
    "\n",
    "Documents = \"some_file.pdf\"\n",
    "if \"pdf\" in Documents:\n",
    "    print(\"yes this Documents present\")\n",
    "else:\n",
    "    (\"Not present\")\n"
   ]
  },
  {
   "cell_type": "code",
   "execution_count": 65,
   "id": "ec2750bf",
   "metadata": {},
   "outputs": [
    {
     "name": "stdout",
     "output_type": "stream",
     "text": [
      "this email is valid\n"
     ]
    }
   ],
   "source": [
    "# Email\n",
    "\n",
    "Email = \"angajpaswan@gmail.com\"\n",
    "if \"@\" in Email:\n",
    "    print(\"this email is valid\")\n",
    "else:\n",
    "    print(\"invalid\")\n",
    "\n",
    "  "
   ]
  },
  {
   "cell_type": "code",
   "execution_count": null,
   "id": "6da373fc",
   "metadata": {},
   "outputs": [
    {
     "data": {
      "text/plain": [
       "True"
      ]
     },
     "execution_count": 69,
     "metadata": {},
     "output_type": "execute_result"
    }
   ],
   "source": [
    "# compaire string\n",
    "\n",
    "a1 = \"angaj\"\n",
    "a2 = \"Angaj\"\n",
    "\n",
    "a1 == a2 # the answer is false becaouse a1 is first latter not capital so\n",
    "a1.lower() == a2.lower() # True becaouse all latter convert is small so ."
   ]
  },
  {
   "cell_type": "code",
   "execution_count": 3,
   "id": "30bd832b",
   "metadata": {},
   "outputs": [
    {
     "name": "stdout",
     "output_type": "stream",
     "text": [
      "Prise: 299/-\n"
     ]
    }
   ],
   "source": [
    "# Scan the product code and saw the prise\n",
    "\n",
    "prodouct_code = \"A123\"\n",
    "Scanned_code = input(\"Scan the code: \")\n",
    "\n",
    "if prodouct_code == Scanned_code:\n",
    "    print(\"Prise: 299/-\")\n",
    "else:\n",
    "    print(\"Try Again\")\n"
   ]
  },
  {
   "cell_type": "code",
   "execution_count": 77,
   "id": "1d385857",
   "metadata": {},
   "outputs": [
    {
     "data": {
      "text/plain": [
       "['mitti', 'tere sangh', 'tu tu hai ohi', 'tujhe dekha to']"
      ]
     },
     "execution_count": 77,
     "metadata": {},
     "output_type": "execute_result"
    }
   ],
   "source": [
    "# playlist\n",
    "\n",
    "playlist = [\"tu tu hai ohi\", \"tere sangh\", \"mitti\", \"tujhe dekha to\"]\n",
    "sorted(playlist)"
   ]
  },
  {
   "cell_type": "code",
   "execution_count": 78,
   "id": "b8ce35fa",
   "metadata": {},
   "outputs": [
    {
     "data": {
      "text/plain": [
       "'      angasj'"
      ]
     },
     "execution_count": 78,
     "metadata": {},
     "output_type": "execute_result"
    }
   ],
   "source": [
    "# sspace\n",
    "input_str = \"      angasj\"\n",
    "input_str"
   ]
  },
  {
   "cell_type": "code",
   "execution_count": null,
   "id": "5a2bf6b2",
   "metadata": {},
   "outputs": [
    {
     "data": {
      "text/plain": [
       "'angasj'"
      ]
     },
     "execution_count": 79,
     "metadata": {},
     "output_type": "execute_result"
    }
   ],
   "source": [
    "input_str.strip() # Why use strip >> we wiil be use strip because i can remove space so."
   ]
  },
  {
   "cell_type": "code",
   "execution_count": 84,
   "id": "2e58a6ba",
   "metadata": {},
   "outputs": [
    {
     "name": "stdout",
     "output_type": "stream",
     "text": [
      "Name\tage\tGrade\n",
      "Angaj\t21\tA\n",
      "Gunjan\t22\tA+\n"
     ]
    }
   ],
   "source": [
    "# \\t Escap chracter\n",
    "a = \"Name\\tage\\tGrade\\nAngaj\\t21\\tA\\nGunjan\\t22\\tA+\"\n",
    "print(a)"
   ]
  },
  {
   "cell_type": "code",
   "execution_count": 4,
   "id": "dc51d346",
   "metadata": {},
   "outputs": [
    {
     "name": "stdout",
     "output_type": "stream",
     "text": [
      "hello Angaj, wiss you wonderfull day\n"
     ]
    }
   ],
   "source": [
    "# String Formatting\n",
    "name = \"Angaj\"\n",
    "greeting = \"hello %s, wiss you wonderfull day\"%name\n",
    "print(greeting)"
   ]
  },
  {
   "cell_type": "code",
   "execution_count": 4,
   "id": "9ea8a894",
   "metadata": {},
   "outputs": [
    {
     "data": {
      "text/plain": [
       "True"
      ]
     },
     "execution_count": 4,
     "metadata": {},
     "output_type": "execute_result"
    }
   ],
   "source": [
    "s1 = 'Angaj'\n",
    "s1.startswith(\"A\")\n",
    "s1.endswith(\"j\")"
   ]
  },
  {
   "cell_type": "code",
   "execution_count": 6,
   "id": "1be45106",
   "metadata": {},
   "outputs": [
    {
     "data": {
      "text/plain": [
       "<function str.isalpha()>"
      ]
     },
     "execution_count": 6,
     "metadata": {},
     "output_type": "execute_result"
    }
   ],
   "source": [
    "s1 = \"abc124\"\n",
    "s1.isalnum()\n",
    "s1.isalpha"
   ]
  },
  {
   "cell_type": "code",
   "execution_count": 2,
   "id": "70071740",
   "metadata": {},
   "outputs": [
    {
     "data": {
      "text/plain": [
       "5"
      ]
     },
     "execution_count": 2,
     "metadata": {},
     "output_type": "execute_result"
    }
   ],
   "source": [
    "a = \"Angaj\"\n",
    "len(a)"
   ]
  },
  {
   "cell_type": "code",
   "execution_count": 3,
   "id": "b11a067c",
   "metadata": {},
   "outputs": [
    {
     "name": "stdout",
     "output_type": "stream",
     "text": [
      "A\n",
      "n\n",
      "g\n",
      "a\n",
      "j\n",
      "5\n"
     ]
    }
   ],
   "source": [
    "count = 0\n",
    "for i in a:\n",
    "    print(i)\n",
    "    count = count+1\n",
    "print(count)\n"
   ]
  }
 ],
 "metadata": {
  "kernelspec": {
   "display_name": "Python 3",
   "language": "python",
   "name": "python3"
  },
  "language_info": {
   "codemirror_mode": {
    "name": "ipython",
    "version": 3
   },
   "file_extension": ".py",
   "mimetype": "text/x-python",
   "name": "python",
   "nbconvert_exporter": "python",
   "pygments_lexer": "ipython3",
   "version": "3.13.4"
  }
 },
 "nbformat": 4,
 "nbformat_minor": 5
}
