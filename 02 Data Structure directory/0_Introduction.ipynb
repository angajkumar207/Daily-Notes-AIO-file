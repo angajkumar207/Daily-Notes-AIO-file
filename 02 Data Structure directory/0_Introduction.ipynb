{
 "cells": [
  {
   "cell_type": "code",
   "execution_count": null,
   "id": "fb5eb62d",
   "metadata": {},
   "outputs": [],
   "source": [
    "# Data Structure >>  Way of orgnaizaing and storing Data so that it can be an mainuplate\n",
    "# Data structure >> string, list, tuples, dic, set, array"
   ]
  },
  {
   "cell_type": "code",
   "execution_count": null,
   "id": "60d4cfb6",
   "metadata": {},
   "outputs": [
    {
     "data": {
      "text/plain": [
       "str"
      ]
     },
     "execution_count": 2,
     "metadata": {},
     "output_type": "execute_result"
    }
   ],
   "source": [
    "# list >> you can store anything in list >> can store hitrogenous data\n",
    "# List is an orderd callection of elemets that can be of any data type\n",
    "# List are mutable"
   ]
  },
  {
   "cell_type": "code",
   "execution_count": 2,
   "id": "65915cbe",
   "metadata": {},
   "outputs": [
    {
     "data": {
      "text/plain": [
       "[1, 2, 3, 4, 5]"
      ]
     },
     "execution_count": 2,
     "metadata": {},
     "output_type": "execute_result"
    }
   ],
   "source": [
    "num = [1, 2, 3, 4, 5]\n",
    "num"
   ]
  },
  {
   "cell_type": "code",
   "execution_count": 3,
   "id": "1322b590",
   "metadata": {},
   "outputs": [
    {
     "data": {
      "text/plain": [
       "list"
      ]
     },
     "execution_count": 3,
     "metadata": {},
     "output_type": "execute_result"
    }
   ],
   "source": [
    "type(num)"
   ]
  },
  {
   "cell_type": "code",
   "execution_count": 9,
   "id": "9eda6df3",
   "metadata": {},
   "outputs": [
    {
     "data": {
      "text/plain": [
       "1"
      ]
     },
     "execution_count": 9,
     "metadata": {},
     "output_type": "execute_result"
    }
   ],
   "source": [
    "num[0]"
   ]
  },
  {
   "cell_type": "code",
   "execution_count": 10,
   "id": "e6ad7038",
   "metadata": {},
   "outputs": [
    {
     "data": {
      "text/plain": [
       "[1, 2, 3, 45, 'angaj', 'paswan', bool, (3+3j), True, False]"
      ]
     },
     "execution_count": 10,
     "metadata": {},
     "output_type": "execute_result"
    }
   ],
   "source": [
    "# adding elements to the list\n",
    "# lets go now see\n",
    "a = [1, 2, 3, 45, \"angaj\", \"paswan\", bool, 3+3j, True, False]\n",
    "a"
   ]
  },
  {
   "cell_type": "code",
   "execution_count": null,
   "id": "28598195",
   "metadata": {},
   "outputs": [
    {
     "data": {
      "text/plain": [
       "[1, 2, 3, 45, 'angaj', 'paswan', bool, (3+3j), True, False]"
      ]
     },
     "execution_count": 25,
     "metadata": {},
     "output_type": "execute_result"
    }
   ],
   "source": [
    "#a.append(207) #adding\n",
    "a.remove(207) # remove\n",
    "a"
   ]
  },
  {
   "cell_type": "code",
   "execution_count": 27,
   "id": "839c2485",
   "metadata": {},
   "outputs": [
    {
     "data": {
      "text/plain": [
       "['abhishek', 2, 3, 45, 'angaj', 'paswan', bool, (3+3j), True, False]"
      ]
     },
     "execution_count": 27,
     "metadata": {},
     "output_type": "execute_result"
    }
   ],
   "source": [
    "# list is the mutable(change)\n",
    "a[0] = \"abhishek\"\n",
    "a\n"
   ]
  },
  {
   "cell_type": "code",
   "execution_count": null,
   "id": "67af2f07",
   "metadata": {},
   "outputs": [
    {
     "data": {
      "text/plain": [
       "[[1, 2, 3], [2, 3, 4], [6, 7, 8]]"
      ]
     },
     "execution_count": 30,
     "metadata": {},
     "output_type": "execute_result"
    }
   ],
   "source": [
    "b = [[1,2, 3], [2,3 ,4],[6,7,8]]\n"
   ]
  },
  {
   "cell_type": "code",
   "execution_count": 32,
   "id": "9a8945d1",
   "metadata": {},
   "outputs": [
    {
     "data": {
      "text/plain": [
       "4"
      ]
     },
     "execution_count": 32,
     "metadata": {},
     "output_type": "execute_result"
    }
   ],
   "source": [
    "b[1][2]\n"
   ]
  },
  {
   "cell_type": "code",
   "execution_count": null,
   "id": "9bf14c35",
   "metadata": {},
   "outputs": [],
   "source": [
    "# Tuples() >> tuples is the inmutable"
   ]
  },
  {
   "cell_type": "code",
   "execution_count": null,
   "id": "1c9bff95",
   "metadata": {},
   "outputs": [
    {
     "data": {
      "text/plain": [
       "(1, 2, 3, 4)"
      ]
     },
     "execution_count": 33,
     "metadata": {},
     "output_type": "execute_result"
    }
   ],
   "source": [
    "t = (1, 2, 3, 4) # this is tuple\n",
    "t"
   ]
  },
  {
   "cell_type": "code",
   "execution_count": null,
   "id": "cd14199e",
   "metadata": {},
   "outputs": [],
   "source": [
    "#uses case >> AAdhar card, ATM, empid >> You dont want to change, you will use tuple store the data"
   ]
  },
  {
   "cell_type": "code",
   "execution_count": 35,
   "id": "ca34b3e4",
   "metadata": {},
   "outputs": [
    {
     "data": {
      "text/plain": [
       "(1, 2, 3, 4, 'Angaj', False, bool, (3+3j))"
      ]
     },
     "execution_count": 35,
     "metadata": {},
     "output_type": "execute_result"
    }
   ],
   "source": [
    "num = (1, 2, 3, 4, \"Angaj\", False, bool, 3+ 3j) # tuples can also store any data so tuples is a hitrogenous\n",
    "num"
   ]
  },
  {
   "cell_type": "code",
   "execution_count": 43,
   "id": "1f5ed5d3",
   "metadata": {},
   "outputs": [
    {
     "data": {
      "text/plain": [
       "(1, 2, 3, 4, 'Angaj', False, bool, (3+3j))"
      ]
     },
     "execution_count": 43,
     "metadata": {},
     "output_type": "execute_result"
    }
   ],
   "source": [
    "type(num) # type\n",
    "num[1]    # acciess value\n",
    "#num[2] = 7 # no change becaouse tuples are inmutable\n",
    "num\n"
   ]
  },
  {
   "cell_type": "code",
   "execution_count": null,
   "id": "bbfabf5c",
   "metadata": {},
   "outputs": [],
   "source": [
    "# sets{} >> sets are unordered collection of unque element"
   ]
  },
  {
   "cell_type": "code",
   "execution_count": 46,
   "id": "81c3f5c9",
   "metadata": {},
   "outputs": [
    {
     "data": {
      "text/plain": [
       "{'banana', 'orange'}"
      ]
     },
     "execution_count": 46,
     "metadata": {},
     "output_type": "execute_result"
    }
   ],
   "source": [
    "s = {\"banana\", \"orange\"}\n",
    "type(s)\n",
    "s"
   ]
  },
  {
   "cell_type": "code",
   "execution_count": null,
   "id": "72c547d7",
   "metadata": {},
   "outputs": [
    {
     "data": {
      "text/plain": [
       "{'banana', 'cacumber', 'orange'}"
      ]
     },
     "execution_count": 47,
     "metadata": {},
     "output_type": "execute_result"
    }
   ],
   "source": [
    "check = {\"banana\", \"orange\",\"banana\", \"orange\", \"cacumber\"} # only print unque value so this is sets.\n",
    "check[0] # error becaouse its a unorderd\n",
    "check"
   ]
  },
  {
   "cell_type": "code",
   "execution_count": 48,
   "id": "e267e63f",
   "metadata": {},
   "outputs": [
    {
     "data": {
      "text/plain": [
       "dict"
      ]
     },
     "execution_count": 48,
     "metadata": {},
     "output_type": "execute_result"
    }
   ],
   "source": [
    "# Dictioneries >> which store the data in the value of key pair\n",
    "my_dict = {}\n",
    "type(my_dict)"
   ]
  },
  {
   "cell_type": "code",
   "execution_count": 52,
   "id": "7a0527cf",
   "metadata": {},
   "outputs": [
    {
     "data": {
      "text/plain": [
       "{'Name': 'Angaj kumar', 'my_course': 'Data_scince', 'Duration': '6 monthe'}"
      ]
     },
     "execution_count": 52,
     "metadata": {},
     "output_type": "execute_result"
    }
   ],
   "source": [
    "m = { \"Name\": \"Angaj kumar\", \"my_course\": \"Data_scince\", \"Duration\": \"6 monthe\"}\n",
    "m"
   ]
  },
  {
   "cell_type": "code",
   "execution_count": 60,
   "id": "db6b6b06",
   "metadata": {},
   "outputs": [
    {
     "data": {
      "text/plain": [
       "249"
      ]
     },
     "execution_count": 60,
     "metadata": {},
     "output_type": "execute_result"
    }
   ],
   "source": [
    "menu_card = {\"pannir\": 249, \"Samosa\": 10, \"Cheken_pannir\": 399}\n",
    "menu_card[\"pannir\"]\n"
   ]
  },
  {
   "cell_type": "code",
   "execution_count": 3,
   "id": "4b031c46",
   "metadata": {},
   "outputs": [
    {
     "data": {
      "text/plain": [
       "tuple"
      ]
     },
     "execution_count": 3,
     "metadata": {},
     "output_type": "execute_result"
    }
   ],
   "source": [
    "# Array >> Array is similar to list >> homoginious Data\n",
    "array = ('i', [1, 2, 3, 4])\n",
    "array[1]\n",
    "type(array)"
   ]
  },
  {
   "cell_type": "code",
   "execution_count": null,
   "id": "14397a64",
   "metadata": {},
   "outputs": [],
   "source": []
  },
  {
   "cell_type": "code",
   "execution_count": null,
   "id": "f65e7476",
   "metadata": {},
   "outputs": [],
   "source": []
  },
  {
   "cell_type": "code",
   "execution_count": null,
   "id": "4783331a",
   "metadata": {},
   "outputs": [],
   "source": []
  },
  {
   "cell_type": "code",
   "execution_count": null,
   "id": "8c2c0386",
   "metadata": {},
   "outputs": [],
   "source": []
  },
  {
   "cell_type": "code",
   "execution_count": null,
   "id": "d9767b8c",
   "metadata": {},
   "outputs": [],
   "source": []
  },
  {
   "cell_type": "code",
   "execution_count": null,
   "id": "0d646d0c",
   "metadata": {},
   "outputs": [],
   "source": []
  },
  {
   "cell_type": "code",
   "execution_count": null,
   "id": "bb306b0b",
   "metadata": {},
   "outputs": [],
   "source": []
  },
  {
   "cell_type": "code",
   "execution_count": null,
   "id": "a72f99fb",
   "metadata": {},
   "outputs": [],
   "source": []
  },
  {
   "cell_type": "code",
   "execution_count": null,
   "id": "98309f67",
   "metadata": {},
   "outputs": [],
   "source": []
  },
  {
   "cell_type": "code",
   "execution_count": null,
   "id": "b5f908d8",
   "metadata": {},
   "outputs": [],
   "source": []
  },
  {
   "cell_type": "code",
   "execution_count": null,
   "id": "74929af1",
   "metadata": {},
   "outputs": [],
   "source": []
  },
  {
   "cell_type": "code",
   "execution_count": null,
   "id": "f9fc2a27",
   "metadata": {},
   "outputs": [],
   "source": []
  },
  {
   "cell_type": "code",
   "execution_count": null,
   "id": "45db5aca",
   "metadata": {},
   "outputs": [],
   "source": []
  },
  {
   "cell_type": "code",
   "execution_count": null,
   "id": "5db8ab1b",
   "metadata": {},
   "outputs": [],
   "source": []
  },
  {
   "cell_type": "code",
   "execution_count": null,
   "id": "a0d44568",
   "metadata": {},
   "outputs": [],
   "source": []
  },
  {
   "cell_type": "code",
   "execution_count": null,
   "id": "b029ca0e",
   "metadata": {},
   "outputs": [],
   "source": []
  }
 ],
 "metadata": {
  "kernelspec": {
   "display_name": "Python 3",
   "language": "python",
   "name": "python3"
  },
  "language_info": {
   "codemirror_mode": {
    "name": "ipython",
    "version": 3
   },
   "file_extension": ".py",
   "mimetype": "text/x-python",
   "name": "python",
   "nbconvert_exporter": "python",
   "pygments_lexer": "ipython3",
   "version": "3.13.4"
  }
 },
 "nbformat": 4,
 "nbformat_minor": 5
}
