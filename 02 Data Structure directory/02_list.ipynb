{
 "cells": [
  {
   "cell_type": "code",
   "execution_count": null,
   "id": "11a656b8",
   "metadata": {},
   "outputs": [],
   "source": [
    "# List >> list is a container and put value step by step and its mutable manuplate value and exchange value, that is accible\n",
    "# list is like a shopping bag which can store every thing.\n",
    "# List list are orderd collection of any items."
   ]
  },
  {
   "cell_type": "code",
   "execution_count": 1,
   "id": "dea8c492",
   "metadata": {},
   "outputs": [
    {
     "data": {
      "text/plain": [
       "[1, 2, 4, 5, bool, True, False, 'angaj', ('a', 'b', 'c')]"
      ]
     },
     "execution_count": 1,
     "metadata": {},
     "output_type": "execute_result"
    }
   ],
   "source": [
    "shopping_bag = [1, 2, 4, 5 , bool, True, False, \"angaj\", ('a', 'b', 'c')] # This is a list\n",
    "shopping_bag"
   ]
  },
  {
   "cell_type": "code",
   "execution_count": 2,
   "id": "cad3eeab",
   "metadata": {},
   "outputs": [
    {
     "data": {
      "text/plain": [
       "9"
      ]
     },
     "execution_count": 2,
     "metadata": {},
     "output_type": "execute_result"
    }
   ],
   "source": [
    "len(shopping_bag)"
   ]
  },
  {
   "cell_type": "code",
   "execution_count": 6,
   "id": "e996f7ce",
   "metadata": {},
   "outputs": [
    {
     "data": {
      "text/plain": [
       "[1, 2, 4, 5, bool, True, False, 'angaj', ('a', 'b', 'c')]"
      ]
     },
     "execution_count": 6,
     "metadata": {},
     "output_type": "execute_result"
    }
   ],
   "source": [
    "shopping_bag[0:]"
   ]
  },
  {
   "cell_type": "code",
   "execution_count": 7,
   "id": "e82ce02b",
   "metadata": {},
   "outputs": [
    {
     "data": {
      "text/plain": [
       "True"
      ]
     },
     "execution_count": 7,
     "metadata": {},
     "output_type": "execute_result"
    }
   ],
   "source": [
    "shopping_bag[5]"
   ]
  },
  {
   "cell_type": "code",
   "execution_count": 8,
   "id": "f1fd92fe",
   "metadata": {},
   "outputs": [
    {
     "name": "stdout",
     "output_type": "stream",
     "text": [
      "1\n",
      "2\n",
      "4\n",
      "5\n",
      "<class 'bool'>\n",
      "True\n",
      "False\n",
      "angaj\n",
      "('a', 'b', 'c')\n",
      "9\n"
     ]
    }
   ],
   "source": [
    "count = 0\n",
    "for i in shopping_bag:\n",
    "    print(i)\n",
    "    count = count+1\n",
    "print(count)\n"
   ]
  },
  {
   "cell_type": "code",
   "execution_count": null,
   "id": "5e819eb3",
   "metadata": {},
   "outputs": [
    {
     "data": {
      "text/plain": [
       "[1, 2, 4, 5, 'paswan', True, False, 'angaj', ('a', 'b', 'c')]"
      ]
     },
     "execution_count": 9,
     "metadata": {},
     "output_type": "execute_result"
    }
   ],
   "source": [
    "# Deep copy and shall copy >> value will be change and other list\n",
    "shopping_bag[4] = \"paswan\" # we can change this becaouse its mutable\n",
    "shopping_bag"
   ]
  },
  {
   "cell_type": "code",
   "execution_count": null,
   "id": "516b3532",
   "metadata": {},
   "outputs": [
    {
     "data": {
      "text/plain": [
       "[1, 2, 4, 5, 'paswan', True, False, 'angaj', ('a', 'b', 'c'), 'Gunaj']"
      ]
     },
     "execution_count": 16,
     "metadata": {},
     "output_type": "execute_result"
    }
   ],
   "source": [
    "\n",
    "shopping_bag.remove(\"Gunaj\") # we can add and remove\n",
    "shopping_bag"
   ]
  },
  {
   "cell_type": "code",
   "execution_count": 17,
   "id": "957a7cb9",
   "metadata": {},
   "outputs": [
    {
     "data": {
      "text/plain": [
       "[1, bool, True, False, (3+3j), 'Monday', 'Angaj']"
      ]
     },
     "execution_count": 17,
     "metadata": {},
     "output_type": "execute_result"
    }
   ],
   "source": [
    "grocery_list = [1, bool, True, False, 3+3j, \"Monday\", \"Angaj\"]\n",
    "grocery_list"
   ]
  },
  {
   "cell_type": "code",
   "execution_count": null,
   "id": "20903b8a",
   "metadata": {},
   "outputs": [
    {
     "data": {
      "text/plain": [
       "True"
      ]
     },
     "execution_count": 19,
     "metadata": {},
     "output_type": "execute_result"
    }
   ],
   "source": [
    "\"Angsaj\" in grocery_list # False becaouse this value is not available in the grocery list\n",
    "\"Angaj\" in grocery_list  # True becaouse its availble in the grocerry list\n"
   ]
  },
  {
   "cell_type": "code",
   "execution_count": 29,
   "id": "f62ad1cb",
   "metadata": {},
   "outputs": [
    {
     "data": {
      "text/plain": [
       "[1, bool, True, False, (3+3j), 'Monday', 'Angaj']"
      ]
     },
     "execution_count": 29,
     "metadata": {},
     "output_type": "execute_result"
    }
   ],
   "source": [
    "# Deep copy >> will not change the value in anathor value\n",
    "grocery_list\n",
    "b = grocery_list.copy()\n",
    "b"
   ]
  },
  {
   "cell_type": "code",
   "execution_count": 30,
   "id": "c5f8b90a",
   "metadata": {},
   "outputs": [
    {
     "data": {
      "text/plain": [
       "['2', bool, True, False, (3+3j), 'Monday', 'Angaj']"
      ]
     },
     "execution_count": 30,
     "metadata": {},
     "output_type": "execute_result"
    }
   ],
   "source": [
    "b[0] = \"2\"\n",
    "b"
   ]
  },
  {
   "cell_type": "code",
   "execution_count": 33,
   "id": "730ad3e2",
   "metadata": {},
   "outputs": [
    {
     "data": {
      "text/plain": [
       "[1, bool, True, False, (3+3j), 'Monday', 'Angaj']"
      ]
     },
     "execution_count": 33,
     "metadata": {},
     "output_type": "execute_result"
    }
   ],
   "source": [
    "grocery_list\n"
   ]
  },
  {
   "cell_type": "code",
   "execution_count": 34,
   "id": "f3c8423d",
   "metadata": {},
   "outputs": [
    {
     "data": {
      "text/plain": [
       "[1, 'Data sincec', 'hello', 'Algorithem']"
      ]
     },
     "execution_count": 34,
     "metadata": {},
     "output_type": "execute_result"
    }
   ],
   "source": [
    "book_list = [1, \"Data sincec\", \"hello\", \"Algorithem\"]\n",
    "book_list"
   ]
  },
  {
   "cell_type": "code",
   "execution_count": 45,
   "id": "1fde7fda",
   "metadata": {},
   "outputs": [
    {
     "data": {
      "text/plain": [
       "'hello'"
      ]
     },
     "execution_count": 45,
     "metadata": {},
     "output_type": "execute_result"
    }
   ],
   "source": [
    "book_list.index(\"hello\")\n",
    "book_list.pop() # remove the last element\n"
   ]
  },
  {
   "cell_type": "code",
   "execution_count": 46,
   "id": "ee6b7eb6",
   "metadata": {},
   "outputs": [
    {
     "data": {
      "text/plain": [
       "[1, 'Data sincec']"
      ]
     },
     "execution_count": 46,
     "metadata": {},
     "output_type": "execute_result"
    }
   ],
   "source": [
    "book_list"
   ]
  },
  {
   "cell_type": "code",
   "execution_count": null,
   "id": "2598db1e",
   "metadata": {},
   "outputs": [
    {
     "data": {
      "text/plain": [
       "[20, 40, 60, 80, 100]"
      ]
     },
     "execution_count": 47,
     "metadata": {},
     "output_type": "execute_result"
    }
   ],
   "source": [
    "# List comprehension\n",
    "prise_list = [10, 20, 30, 40, 50]\n",
    "duble_prise = []\n",
    "for i in prise_list:\n",
    "    duble_prise.append(i*2)\n",
    "duble_prise                # this is comprehesion\n"
   ]
  },
  {
   "cell_type": "code",
   "execution_count": 62,
   "id": "6780f97f",
   "metadata": {},
   "outputs": [
    {
     "data": {
      "text/plain": [
       "[40, 80, 120, 160, 200]"
      ]
     },
     "execution_count": 62,
     "metadata": {},
     "output_type": "execute_result"
    }
   ],
   "source": [
    "[duble_prise * 2 for duble_prise in duble_prise]"
   ]
  },
  {
   "cell_type": "code",
   "execution_count": 63,
   "id": "0e80cf52",
   "metadata": {},
   "outputs": [
    {
     "data": {
      "text/plain": [
       "['Angaj', 'Paswan', 'Gunjan', 'Kumari']"
      ]
     },
     "execution_count": 63,
     "metadata": {},
     "output_type": "execute_result"
    }
   ],
   "source": [
    "names = [\"Angaj\", \"paswan\", \"Gunjan\", \"kumari\"]\n",
    "[name.capitalize() for name in names]"
   ]
  },
  {
   "cell_type": "code",
   "execution_count": 70,
   "id": "22c95467",
   "metadata": {},
   "outputs": [
    {
     "name": "stdout",
     "output_type": "stream",
     "text": [
      "[1, 2, 3, 4, 5]\n"
     ]
    }
   ],
   "source": [
    "num = [1, 2, 3, 4, 5]\n",
    "print(num)\n"
   ]
  },
  {
   "cell_type": "code",
   "execution_count": null,
   "id": "047759c0",
   "metadata": {},
   "outputs": [
    {
     "data": {
      "text/plain": [
       "[1, 4, 9, 16, 25]"
      ]
     },
     "execution_count": 72,
     "metadata": {},
     "output_type": "execute_result"
    }
   ],
   "source": [
    "[num**2 for num in num] # square"
   ]
  },
  {
   "cell_type": "code",
   "execution_count": null,
   "id": "a75bc12d",
   "metadata": {},
   "outputs": [
    {
     "data": {
      "text/plain": [
       "[[1, 4],\n",
       " [1, 3],\n",
       " [1, 2],\n",
       " [1, 1],\n",
       " [2, 4],\n",
       " [2, 3],\n",
       " [2, 2],\n",
       " [2, 1],\n",
       " [3, 4],\n",
       " [3, 3],\n",
       " [3, 2],\n",
       " [3, 1],\n",
       " [4, 4],\n",
       " [4, 3],\n",
       " [4, 2],\n",
       " [4, 1]]"
      ]
     },
     "execution_count": 75,
     "metadata": {},
     "output_type": "execute_result"
    }
   ],
   "source": [
    "# Nested List comprehension\n",
    "pairs = []\n",
    "\n",
    "for x in [1,2,3,4]:\n",
    "    for y in [4,3,2,1]:\n",
    "        pairs.append([x,y])\n",
    "pairs\n"
   ]
  },
  {
   "cell_type": "code",
   "execution_count": 76,
   "id": "36cd77b0",
   "metadata": {},
   "outputs": [
    {
     "data": {
      "text/plain": [
       "[[1, 4], [1, 5], [1, 6], [2, 4], [2, 5], [2, 6], [3, 4], [3, 5], [3, 6]]"
      ]
     },
     "execution_count": 76,
     "metadata": {},
     "output_type": "execute_result"
    }
   ],
   "source": [
    "[[x,y]for x in [1,2,3] for y in [4,5,6]]"
   ]
  },
  {
   "cell_type": "code",
   "execution_count": null,
   "id": "054428ca",
   "metadata": {},
   "outputs": [],
   "source": [
    "# List >> listas a stack (optional)\n",
    "# list >> last in first out principal >> the last element add to the stack will be first one to be remove\n"
   ]
  },
  {
   "cell_type": "code",
   "execution_count": 100,
   "id": "574cd8b3",
   "metadata": {},
   "outputs": [
    {
     "data": {
      "text/plain": [
       "['plate1', 'palte2', 'palte3', 'palte4']"
      ]
     },
     "execution_count": 100,
     "metadata": {},
     "output_type": "execute_result"
    }
   ],
   "source": [
    "stack_list1 = []\n",
    "stack_list1.append(\"plate1\")\n",
    "stack_list1.append(\"palte2\")\n",
    "stack_list1.append(\"palte3\")\n",
    "stack_list1.append(\"palte4\")\n",
    "stack_list1\n"
   ]
  },
  {
   "cell_type": "code",
   "execution_count": 101,
   "id": "cd9940cb",
   "metadata": {},
   "outputs": [
    {
     "data": {
      "text/plain": [
       "'palte4'"
      ]
     },
     "execution_count": 101,
     "metadata": {},
     "output_type": "execute_result"
    }
   ],
   "source": [
    "stack_list1.pop()"
   ]
  },
  {
   "cell_type": "code",
   "execution_count": 102,
   "id": "191a4b0b",
   "metadata": {},
   "outputs": [
    {
     "data": {
      "text/plain": [
       "['plate1', 'palte2', 'palte3']"
      ]
     },
     "execution_count": 102,
     "metadata": {},
     "output_type": "execute_result"
    }
   ],
   "source": [
    "stack_list1"
   ]
  },
  {
   "cell_type": "code",
   "execution_count": null,
   "id": "8c5cefc3",
   "metadata": {},
   "outputs": [],
   "source": [
    "# Queue >> follows the first in first out princepal value\n",
    "# labrary is collection of python code(modules)\n",
    "# collection is a labrary and deque is module"
   ]
  },
  {
   "cell_type": "code",
   "execution_count": 103,
   "id": "393c7610",
   "metadata": {},
   "outputs": [
    {
     "data": {
      "text/plain": [
       "deque(['Angaj', 'Gunjan', 'manisha'])"
      ]
     },
     "execution_count": 103,
     "metadata": {},
     "output_type": "execute_result"
    }
   ],
   "source": [
    "from collections import deque\n",
    "check_out = deque()\n",
    "check_out.append(\"Angaj\")\n",
    "check_out.append(\"Gunjan\")\n",
    "check_out.append(\"manisha\")\n",
    "check_out"
   ]
  },
  {
   "cell_type": "code",
   "execution_count": 104,
   "id": "d74497f5",
   "metadata": {},
   "outputs": [
    {
     "name": "stdout",
     "output_type": "stream",
     "text": [
      "serving Angaj\n",
      "serving Gunjan\n",
      "serving manisha\n"
     ]
    }
   ],
   "source": [
    "while check_out:\n",
    "    coustumer = check_out.popleft()\n",
    "    print(\"serving\", coustumer)"
   ]
  }
 ],
 "metadata": {
  "kernelspec": {
   "display_name": "Python 3",
   "language": "python",
   "name": "python3"
  },
  "language_info": {
   "codemirror_mode": {
    "name": "ipython",
    "version": 3
   },
   "file_extension": ".py",
   "mimetype": "text/x-python",
   "name": "python",
   "nbconvert_exporter": "python",
   "pygments_lexer": "ipython3",
   "version": "3.13.0"
  }
 },
 "nbformat": 4,
 "nbformat_minor": 5
}
