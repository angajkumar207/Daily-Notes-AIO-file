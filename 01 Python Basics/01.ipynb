{
 "cells": [
  {
   "cell_type": "code",
   "execution_count": 1,
   "id": "6e2a1bd8",
   "metadata": {},
   "outputs": [
    {
     "data": {
      "text/plain": [
       "'Angaj'"
      ]
     },
     "execution_count": 1,
     "metadata": {},
     "output_type": "execute_result"
    }
   ],
   "source": [
    "a = \"Angaj\"\n",
    "a"
   ]
  },
  {
   "cell_type": "code",
   "execution_count": 2,
   "id": "8944351f",
   "metadata": {},
   "outputs": [
    {
     "data": {
      "text/plain": [
       "'n'"
      ]
     },
     "execution_count": 2,
     "metadata": {},
     "output_type": "execute_result"
    }
   ],
   "source": [
    "a[1]"
   ]
  },
  {
   "cell_type": "code",
   "execution_count": 3,
   "id": "31d2a0e2",
   "metadata": {},
   "outputs": [
    {
     "data": {
      "text/plain": [
       "'j'"
      ]
     },
     "execution_count": 3,
     "metadata": {},
     "output_type": "execute_result"
    }
   ],
   "source": [
    "a[-1]\n"
   ]
  },
  {
   "cell_type": "markdown",
   "id": "45eebfb3",
   "metadata": {},
   "source": [
    "Anathor type of data container\n"
   ]
  },
  {
   "cell_type": "code",
   "execution_count": 15,
   "id": "a1e924a7",
   "metadata": {},
   "outputs": [
    {
     "data": {
      "text/plain": [
       "[{1, 2, 3}, 1.2, bool, 'str', (4+3j)]"
      ]
     },
     "execution_count": 15,
     "metadata": {},
     "output_type": "execute_result"
    }
   ],
   "source": [
    "list_count = [{1, 2, 3}, 1.2, bool, \"str\", (4+3j)] # this is a list\n",
    "list_count"
   ]
  },
  {
   "cell_type": "code",
   "execution_count": 17,
   "id": "6014961f",
   "metadata": {},
   "outputs": [
    {
     "data": {
      "text/plain": [
       "complex"
      ]
     },
     "execution_count": 17,
     "metadata": {},
     "output_type": "execute_result"
    }
   ],
   "source": [
    "list_count[2]      # count value\n",
    "type(list_count[4]) #type"
   ]
  },
  {
   "cell_type": "code",
   "execution_count": null,
   "id": "123c4ec8",
   "metadata": {},
   "outputs": [
    {
     "data": {
      "text/plain": [
       "[{1, 2, 3}, 1.2, bool, 'vijay', (4+3j)]"
      ]
     },
     "execution_count": 18,
     "metadata": {},
     "output_type": "execute_result"
    }
   ],
   "source": [
    "#mutability >> you can change value any value in the list\n",
    "#kind of some like this\n",
    "# list is a type of mutable object\n",
    "\n",
    "list_count[3] = \"vijay\"\n",
    "list_count"
   ]
  }
 ],
 "metadata": {
  "kernelspec": {
   "display_name": "Python 3",
   "language": "python",
   "name": "python3"
  },
  "language_info": {
   "codemirror_mode": {
    "name": "ipython",
    "version": 3
   },
   "file_extension": ".py",
   "mimetype": "text/x-python",
   "name": "python",
   "nbconvert_exporter": "python",
   "pygments_lexer": "ipython3",
   "version": "3.13.0"
  }
 },
 "nbformat": 4,
 "nbformat_minor": 5
}
