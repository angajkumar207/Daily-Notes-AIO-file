{
 "cells": [
  {
   "cell_type": "code",
   "execution_count": null,
   "id": "989fba98",
   "metadata": {},
   "outputs": [
    {
     "data": {
      "text/plain": [
       "9"
      ]
     },
     "execution_count": 1,
     "metadata": {},
     "output_type": "execute_result"
    }
   ],
   "source": [
    "# Opertor >> special keyword and perfrom >> mange data and compution\n",
    "#like this Arithmetic opertor\n",
    "a = 4\n",
    "b = 5\n",
    "a+b   # {+, -, *, /, %} this is the Arithmetic Opertor"
   ]
  },
  {
   "cell_type": "code",
   "execution_count": null,
   "id": "6a93939b",
   "metadata": {},
   "outputs": [
    {
     "data": {
      "text/plain": [
       "1"
      ]
     },
     "execution_count": 6,
     "metadata": {},
     "output_type": "execute_result"
    }
   ],
   "source": [
    "# Modulus Operator\n",
    "\n",
    "a = 7\n",
    "b = 2\n",
    "a%b   # this is the modulus operator (%, **,)\n"
   ]
  },
  {
   "cell_type": "code",
   "execution_count": null,
   "id": "8cbab1ce",
   "metadata": {},
   "outputs": [
    {
     "data": {
      "text/plain": [
       "1"
      ]
     },
     "execution_count": 8,
     "metadata": {},
     "output_type": "execute_result"
    }
   ],
   "source": [
    "4 / 3 # lower opr\n",
    "4 // 3 # floor opr"
   ]
  },
  {
   "cell_type": "code",
   "execution_count": 11,
   "id": "b017b6e5",
   "metadata": {},
   "outputs": [
    {
     "data": {
      "text/plain": [
       "True"
      ]
     },
     "execution_count": 11,
     "metadata": {},
     "output_type": "execute_result"
    }
   ],
   "source": [
    "#02). Comparision Operator >> comparisin opertor is the compaire of two any value and any number . and give me \"True and False\".\n",
    "# For example\n",
    "\n",
    "2 == 2 # like this\n",
    "2 != 3"
   ]
  },
  {
   "cell_type": "code",
   "execution_count": 1,
   "id": "53368324",
   "metadata": {},
   "outputs": [
    {
     "data": {
      "text/plain": [
       "True"
      ]
     },
     "execution_count": 1,
     "metadata": {},
     "output_type": "execute_result"
    }
   ],
   "source": [
    "# Logical opertor >> \n",
    "\n",
    "a = 2\n",
    "b = a\n",
    "a is b"
   ]
  },
  {
   "cell_type": "code",
   "execution_count": null,
   "id": "f7785a06",
   "metadata": {},
   "outputs": [
    {
     "data": {
      "text/plain": [
       "'0b1101101'"
      ]
     },
     "execution_count": 2,
     "metadata": {},
     "output_type": "execute_result"
    }
   ],
   "source": [
    "# Bitwise opertor >> \n",
    "\n",
    "10 & 10\n",
    "20 & 20\n",
    "bin(20)\n",
    "bin(109)\n"
   ]
  },
  {
   "cell_type": "code",
   "execution_count": null,
   "id": "1dc8f8f3",
   "metadata": {},
   "outputs": [
    {
     "data": {
      "text/plain": [
       "1120"
      ]
     },
     "execution_count": 4,
     "metadata": {},
     "output_type": "execute_result"
    },
    {
     "ename": "",
     "evalue": "",
     "output_type": "error",
     "traceback": [
      "\u001b[1;31mThe Kernel crashed while executing code in the current cell or a previous cell. \n",
      "\u001b[1;31mPlease review the code in the cell(s) to identify a possible cause of the failure. \n",
      "\u001b[1;31mClick <a href='https://aka.ms/vscodeJupyterKernelCrash'>here</a> for more info. \n",
      "\u001b[1;31mView Jupyter <a href='command:jupyter.viewOutput'>log</a> for further details."
     ]
    }
   ],
   "source": [
    "#2 ^ 6\n",
    "\n",
    "# Lift to shifts\n",
    "35 << 5"
   ]
  }
 ],
 "metadata": {
  "kernelspec": {
   "display_name": "Python 3",
   "language": "python",
   "name": "python3"
  },
  "language_info": {
   "codemirror_mode": {
    "name": "ipython",
    "version": 3
   },
   "file_extension": ".py",
   "mimetype": "text/x-python",
   "name": "python",
   "nbconvert_exporter": "python",
   "pygments_lexer": "ipython3",
   "version": "3.13.4"
  }
 },
 "nbformat": 4,
 "nbformat_minor": 5
}
