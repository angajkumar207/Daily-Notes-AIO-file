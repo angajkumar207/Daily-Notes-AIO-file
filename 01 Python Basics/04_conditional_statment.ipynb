{
 "cells": [
  {
   "cell_type": "code",
   "execution_count": null,
   "id": "6e7b6a0e",
   "metadata": {},
   "outputs": [],
   "source": [
    "# Conditional statement       loop Statement                           control statement\n",
    "# if                             for                                         break\n",
    "# else                          while                                       continue\n",
    "# if else\n"
   ]
  },
  {
   "cell_type": "code",
   "execution_count": null,
   "id": "d160e795",
   "metadata": {},
   "outputs": [],
   "source": [
    "# Conditional Statement >> i will go to play cricket when the weather is sunny .\n",
    "# Loops >> i will keep checking out dishes untill all the dishes are over in bufft..\n",
    "# Break Statement >> i will check out all the dishes untill i get a pasta"
   ]
  },
  {
   "cell_type": "code",
   "execution_count": null,
   "id": "25b5d1df",
   "metadata": {},
   "outputs": [],
   "source": [
    "# Conditional Statement >> helps you to code decision based on same prediction\n",
    "# if\n",
    "# if else\n",
    "# if elif(else if) else\n",
    "# Nested if else"
   ]
  },
  {
   "cell_type": "code",
   "execution_count": null,
   "id": "930b3d39",
   "metadata": {},
   "outputs": [],
   "source": [
    "# if statement\n",
    "# Syntax\n",
    "\n",
    "# if (condition is true):\n",
    "    # block of code will be exicuted"
   ]
  },
  {
   "cell_type": "code",
   "execution_count": 2,
   "id": "3ee72a9b",
   "metadata": {},
   "outputs": [
    {
     "data": {
      "text/plain": [
       "True"
      ]
     },
     "execution_count": 2,
     "metadata": {},
     "output_type": "execute_result"
    }
   ],
   "source": [
    "3 > 4\n",
    "4 > 3\n",
    "4 < 3 # false\n",
    "3 < 4 # True"
   ]
  },
  {
   "cell_type": "code",
   "execution_count": 12,
   "id": "2d05f2f6",
   "metadata": {},
   "outputs": [
    {
     "name": "stdout",
     "output_type": "stream",
     "text": [
      "False\n"
     ]
    }
   ],
   "source": [
    "a = 100\n",
    "if a > 105:\n",
    "    print(\"The number is gretor than 0 \")\n",
    "\n",
    "else:\n",
    "    print(\"False\")    \n"
   ]
  },
  {
   "cell_type": "code",
   "execution_count": 15,
   "id": "0f1ea8f1",
   "metadata": {},
   "outputs": [
    {
     "name": "stdout",
     "output_type": "stream",
     "text": [
      "check this\n"
     ]
    }
   ],
   "source": [
    "# real life uses\n",
    "a = 44\n",
    "if ((a % 2 == 0) & (a > 0)):\n",
    "    print(\"check this\")"
   ]
  },
  {
   "cell_type": "code",
   "execution_count": 16,
   "id": "0b70c940",
   "metadata": {},
   "outputs": [
    {
     "name": "stdout",
     "output_type": "stream",
     "text": [
      "i will not watched TV\n"
     ]
    }
   ],
   "source": [
    "# real life example:\n",
    "\n",
    "wheather = \"rainny\"\n",
    "\n",
    "if wheather == \"rainny\":\n",
    "    print(\"i will not watched TV\")\n",
    "\n",
    "else:\n",
    "    print(\"i will wached TV\")    "
   ]
  },
  {
   "cell_type": "code",
   "execution_count": 3,
   "id": "1bee01c8",
   "metadata": {},
   "outputs": [
    {
     "name": "stdout",
     "output_type": "stream",
     "text": [
      "the number is less than 50\n"
     ]
    }
   ],
   "source": [
    "# if else >> two condition\n",
    "# in real life we can have mainuplate condition\n",
    "# Syntax:\n",
    "# if (some condition)\n",
    "# elif (condition)\n",
    "# else\n",
    "\n",
    "a = 10\n",
    "if a > 100:\n",
    "    print(\"The number is greator than 100\")\n",
    "elif a < 50:\n",
    "    print(\"the number is less than 50\")\n",
    "else:\n",
    "    print(\"the number is equble\")\n",
    "\n"
   ]
  },
  {
   "cell_type": "code",
   "execution_count": 4,
   "id": "5b5651ca",
   "metadata": {},
   "outputs": [
    {
     "name": "stdout",
     "output_type": "stream",
     "text": [
      "Grade D\n"
     ]
    }
   ],
   "source": [
    "# grade\n",
    "\n",
    "score = 65\n",
    "if score >= 90:   \n",
    "    print(\"Grade A\")\n",
    "elif (80 <= score < 90):\n",
    "      print(\"Grade B\")\n",
    "elif (70 <= score < 80):\n",
    "      print(\"Grade C\")\n",
    "elif (60 <= score < 70):\n",
    "      print(\"Grade D\")\n",
    "else:\n",
    "     print(\"Grade E\")\n"
   ]
  },
  {
   "cell_type": "code",
   "execution_count": null,
   "id": "7d38b9aa",
   "metadata": {},
   "outputs": [
    {
     "data": {
      "text/plain": [
       "False"
      ]
     },
     "execution_count": 39,
     "metadata": {},
     "output_type": "execute_result"
    }
   ],
   "source": [
    "5 > 4 # true\n",
    "4 > 5 # false\n",
    "4 < 5 # true\n",
    "5 < 4 # false"
   ]
  },
  {
   "cell_type": "code",
   "execution_count": 5,
   "id": "763b33c7",
   "metadata": {},
   "outputs": [
    {
     "name": "stdout",
     "output_type": "stream",
     "text": [
      "The x and y both\n"
     ]
    }
   ],
   "source": [
    "x = 7\n",
    "y = 8\n",
    "\n",
    "if x > 1:\n",
    "    if y > 5:\n",
    "        print(\"The x and y both\")\n",
    "    else:\n",
    "        print(\"x is grator than but y is not grator than x\")\n",
    "else:\n",
    "    print(\"x is not grator than 5\")\n",
    "\n",
    "\n"
   ]
  },
  {
   "cell_type": "code",
   "execution_count": null,
   "id": "b27000fe",
   "metadata": {},
   "outputs": [
    {
     "name": "stdout",
     "output_type": "stream",
     "text": [
      "The number is  gunjan <class 'str'>\n"
     ]
    }
   ],
   "source": [
    "a = input(\"Enter your name\")\n",
    "print(\"The number is :\", a, type(a))"
   ]
  },
  {
   "cell_type": "markdown",
   "id": "c15b971a",
   "metadata": {},
   "source": []
  },
  {
   "cell_type": "code",
   "execution_count": 3,
   "id": "656463fb",
   "metadata": {},
   "outputs": [
    {
     "name": "stdout",
     "output_type": "stream",
     "text": [
      "The number is  gunjan <class 'str'>\n"
     ]
    }
   ],
   "source": [
    "a = str(input(\"Enter your Question\"))\n",
    "print(\"The number is \", a, type(a))"
   ]
  },
  {
   "cell_type": "code",
   "execution_count": 4,
   "id": "9deb57af",
   "metadata": {},
   "outputs": [
    {
     "name": "stdout",
     "output_type": "stream",
     "text": [
      "The number is gretor than a \n"
     ]
    }
   ],
   "source": [
    "a = int(input(\"Enter your number: => \"))\n",
    "if a >= 100:\n",
    "    print(\"The number is gretor than a \")\n",
    "elif 0 <= a < 100:\n",
    "    print(\"the number is grator than less than\")\n",
    "else:\n",
    "    print(\"This number is negatvie\")"
   ]
  },
  {
   "cell_type": "code",
   "execution_count": 5,
   "id": "010b3d8c",
   "metadata": {},
   "outputs": [
    {
     "name": "stdout",
     "output_type": "stream",
     "text": [
      "Your login/registration is sucessfull \n"
     ]
    }
   ],
   "source": [
    "# Login Your account\n",
    "\n",
    "name = input(\"Please Enter your name: => \")\n",
    "email = input(\"please Enter your email : => \")\n",
    "password = input(\"please enter your password: => \")\n",
    "\n",
    "#username\n",
    "name #@angaj_raiddy\n",
    "if name == \"\":\n",
    "    print(\"please enter your valid name: cannot be empty \")\n",
    "\n",
    "else:\n",
    "    # Email\n",
    "    if \"@\" not in email:\n",
    "        print(\"Please your vailde email: please provide vailide Email \")\n",
    "    else:\n",
    "        #password\n",
    "        if len(password) < 0:\n",
    "            print(\"Pleaseenter your vailde password : please provide vailide password\")  \n",
    "        else:\n",
    "            print(\"Your login/registration is sucessfull \")      "
   ]
  },
  {
   "cell_type": "code",
   "execution_count": 8,
   "id": "3eb2c5e4",
   "metadata": {},
   "outputs": [
    {
     "name": "stdout",
     "output_type": "stream",
     "text": [
      "invalide your password: please try Again\n"
     ]
    }
   ],
   "source": [
    "password = str(int(input(\"Enter your password: \")))\n",
    "\n",
    "if password == 123456:\n",
    "    print(\" valid your password \")\n",
    "else:\n",
    "    print(\"invalide your password: please try Again\")    "
   ]
  },
  {
   "cell_type": "code",
   "execution_count": null,
   "id": "1ea125cf",
   "metadata": {},
   "outputs": [
    {
     "name": "stdout",
     "output_type": "stream",
     "text": [
      "Please enter number only \n"
     ]
    }
   ],
   "source": [
    "# Login phone sequrity\n",
    "password = input(\"Enter your password: \")\n",
    "\n",
    "try:\n",
    "   password = int(password)\n",
    "\n",
    "   if password == 12345:\n",
    "      print(\"Your pasword is valid\")\n",
    "   else:\n",
    "      print(\"Your password is invalid, please try Again\")   \n",
    "except ValueError:\n",
    "   print(\"Please enter number only \")\n",
    "\n",
    "\n",
    "     "
   ]
  },
  {
   "cell_type": "code",
   "execution_count": 12,
   "id": "0077c023",
   "metadata": {},
   "outputs": [
    {
     "name": "stdout",
     "output_type": "stream",
     "text": [
      "Please enter numbers and chracter only.\n"
     ]
    }
   ],
   "source": [
    "password = input(\"Enter your password: \")\n",
    "\n",
    "try:\n",
    "    password = str(int(password))\n",
    "    if password == 123456@\"g\":\n",
    "        print(\"Your password is valid.\")\n",
    "    else:\n",
    "        print(\"Invalid password. Please try again.\")\n",
    "except ValueError:\n",
    "    print(\"Please enter numbers and chracter only.\")\n"
   ]
  },
  {
   "cell_type": "code",
   "execution_count": 13,
   "id": "ff29cffd",
   "metadata": {},
   "outputs": [
    {
     "name": "stdout",
     "output_type": "stream",
     "text": [
      "Your password is valid: \n"
     ]
    }
   ],
   "source": [
    "password = input(\"Enter Your password \")\n",
    "\n",
    "try:\n",
    "    courecet_password = \"12345@g1\"\n",
    "\n",
    "    if password == courecet_password:\n",
    "        print(\"Your password is valid: \")\n",
    "    else:\n",
    "        print(\"Your password is invalid, please try Again\")\n",
    "\n",
    "except ValueError:\n",
    "    print(\"Please enter num and char value: \")\n",
    "\n"
   ]
  }
 ],
 "metadata": {
  "kernelspec": {
   "display_name": "Python 3",
   "language": "python",
   "name": "python3"
  },
  "language_info": {
   "codemirror_mode": {
    "name": "ipython",
    "version": 3
   },
   "file_extension": ".py",
   "mimetype": "text/x-python",
   "name": "python",
   "nbconvert_exporter": "python",
   "pygments_lexer": "ipython3",
   "version": "3.13.4"
  }
 },
 "nbformat": 4,
 "nbformat_minor": 5
}
